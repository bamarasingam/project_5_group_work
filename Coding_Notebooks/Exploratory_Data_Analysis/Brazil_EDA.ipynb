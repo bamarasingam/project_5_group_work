{
 "cells": [
  {
   "cell_type": "markdown",
   "metadata": {},
   "source": [
    "# Brazil EDA"
   ]
  },
  {
   "cell_type": "markdown",
   "metadata": {},
   "source": [
    "## IMPORTS"
   ]
  },
  {
   "cell_type": "code",
   "execution_count": 1,
   "metadata": {},
   "outputs": [],
   "source": [
    "import pandas as pd\n",
    "import numpy as np\n",
    "import matplotlib.pyplot as plt\n",
    "import seaborn as sns"
   ]
  },
  {
   "cell_type": "code",
   "execution_count": 2,
   "metadata": {},
   "outputs": [
    {
     "data": {
      "text/plain": [
       "['Iso3_code',\n",
       " 'Country',\n",
       " 'Region',\n",
       " 'Subregion',\n",
       " 'Indicator',\n",
       " 'Dimension',\n",
       " 'Category',\n",
       " 'Sex',\n",
       " 'Age',\n",
       " 'Year',\n",
       " 'Unit of measurement',\n",
       " 'VALUE',\n",
       " 'Source']"
      ]
     },
     "execution_count": 2,
     "metadata": {},
     "output_type": "execute_result"
    }
   ],
   "source": [
    "# Reading in the data\n",
    "UN_data = pd.read_csv('../../Datasets/Original_Data/UN_Office_Drugs_Crime_2021_Full_Dataset.csv')\n",
    "UN_data.columns.to_list()"
   ]
  },
  {
   "cell_type": "code",
   "execution_count": 3,
   "metadata": {},
   "outputs": [
    {
     "data": {
      "text/plain": [
       "array([2012, 2013, 2014, 2003, 2004, 2005, 2006, 2007, 2008, 2009, 2010,\n",
       "       2011, 2015, 2016, 2017, 2018, 2019, 2020, 2021, 2000], dtype=int64)"
      ]
     },
     "execution_count": 3,
     "metadata": {},
     "output_type": "execute_result"
    }
   ],
   "source": [
    "# Getting data for only Brazil\n",
    "brazil = UN_data[UN_data['Country'] == 'Brazil']\n",
    "brazil['Year'].unique()"
   ]
  },
  {
   "cell_type": "code",
   "execution_count": 4,
   "metadata": {},
   "outputs": [
    {
     "name": "stderr",
     "output_type": "stream",
     "text": [
      "C:\\Users\\Alex_Compu\\AppData\\Local\\Temp\\ipykernel_11944\\3438389640.py:1: SettingWithCopyWarning: \n",
      "A value is trying to be set on a copy of a slice from a DataFrame\n",
      "\n",
      "See the caveats in the documentation: https://pandas.pydata.org/pandas-docs/stable/user_guide/indexing.html#returning-a-view-versus-a-copy\n",
      "  brazil.drop(columns=['Iso3_code', 'Region', 'Source', 'Subregion'], inplace=True)\n"
     ]
    }
   ],
   "source": [
    "brazil.drop(columns=['Iso3_code', 'Region', 'Source', 'Subregion'], inplace=True)"
   ]
  },
  {
   "cell_type": "code",
   "execution_count": 5,
   "metadata": {},
   "outputs": [],
   "source": [
    "# Filtering to only the years we are interested in:\n",
    "\n",
    "brazil = brazil.loc[brazil['Year'].isin([2010,2011,2012,2013,2014,2015,\n",
    "                                            2016,2017,2018,2019,2020,2021])]\n",
    "\n",
    "brazil = brazil[brazil['Dimension'] == 'Total']"
   ]
  },
  {
   "cell_type": "code",
   "execution_count": 6,
   "metadata": {},
   "outputs": [
    {
     "data": {
      "text/plain": [
       "Country                 object\n",
       "Indicator               object\n",
       "Dimension               object\n",
       "Category                object\n",
       "Sex                     object\n",
       "Age                     object\n",
       "Year                     int64\n",
       "Unit of measurement     object\n",
       "VALUE                  float64\n",
       "dtype: object"
      ]
     },
     "execution_count": 6,
     "metadata": {},
     "output_type": "execute_result"
    }
   ],
   "source": [
    "brazil.dtypes"
   ]
  },
  {
   "cell_type": "markdown",
   "metadata": {},
   "source": [
    "# Visualizations for Male vs. Female"
   ]
  },
  {
   "cell_type": "code",
   "execution_count": 7,
   "metadata": {},
   "outputs": [],
   "source": [
    "# Separating total count vs rate per 100,000 people:\n",
    "brazil_counts = brazil[brazil['Unit of measurement'] == 'Counts']\n",
    "brazil_rates = brazil[brazil['Unit of measurement'] == 'Rate per 100,000 population']"
   ]
  },
  {
   "cell_type": "code",
   "execution_count": 8,
   "metadata": {},
   "outputs": [
    {
     "name": "stderr",
     "output_type": "stream",
     "text": [
      "C:\\Users\\Alex_Compu\\AppData\\Local\\Temp\\ipykernel_11944\\2484890357.py:6: SettingWithCopyWarning: \n",
      "A value is trying to be set on a copy of a slice from a DataFrame\n",
      "\n",
      "See the caveats in the documentation: https://pandas.pydata.org/pandas-docs/stable/user_guide/indexing.html#returning-a-view-versus-a-copy\n",
      "  brazil_male.drop(columns=['Indicator', 'Dimension', 'Category', 'Sex', 'Age', 'Unit of measurement'], inplace=True)\n"
     ]
    },
    {
     "data": {
      "text/plain": [
       "((28, 3), (28, 3))"
      ]
     },
     "execution_count": 8,
     "metadata": {},
     "output_type": "execute_result"
    }
   ],
   "source": [
    "# Separating male vs female prison populations for visualization: \n",
    "brazil_male = brazil_counts[brazil_counts['Sex'] == 'Male' ]\n",
    "brazil_female = brazil_counts[brazil_counts['Sex'] == 'Female' ]\n",
    "brazil_female = brazil_female[brazil_female['Year']!= 2020]\n",
    "brazil_female.drop(columns=['Indicator', 'Dimension', 'Category', 'Sex', 'Age', 'Unit of measurement'], inplace=True)\n",
    "brazil_male.drop(columns=['Indicator', 'Dimension', 'Category', 'Sex', 'Age', 'Unit of measurement'], inplace=True)\n",
    "brazil_female.shape, brazil_male.shape"
   ]
  },
  {
   "cell_type": "code",
   "execution_count": 9,
   "metadata": {},
   "outputs": [
    {
     "name": "stderr",
     "output_type": "stream",
     "text": [
      "C:\\Users\\Alex_Compu\\AppData\\Local\\Temp\\ipykernel_11944\\2775742304.py:3: SettingWithCopyWarning: \n",
      "A value is trying to be set on a copy of a slice from a DataFrame.\n",
      "Try using .loc[row_indexer,col_indexer] = value instead\n",
      "\n",
      "See the caveats in the documentation: https://pandas.pydata.org/pandas-docs/stable/user_guide/indexing.html#returning-a-view-versus-a-copy\n",
      "  brazil_male['Males'] = brazil_male['VALUE']\n"
     ]
    }
   ],
   "source": [
    "# Creating a new column to concatenate male and female totals: \n",
    "brazil_female['Females'] = brazil_female['VALUE']\n",
    "brazil_male['Males'] = brazil_male['VALUE']"
   ]
  },
  {
   "cell_type": "code",
   "execution_count": 10,
   "metadata": {},
   "outputs": [
    {
     "name": "stderr",
     "output_type": "stream",
     "text": [
      "C:\\Users\\Alex_Compu\\AppData\\Local\\Temp\\ipykernel_11944\\1720152489.py:2: SettingWithCopyWarning: \n",
      "A value is trying to be set on a copy of a slice from a DataFrame\n",
      "\n",
      "See the caveats in the documentation: https://pandas.pydata.org/pandas-docs/stable/user_guide/indexing.html#returning-a-view-versus-a-copy\n",
      "  brazil_male.drop(columns='VALUE', inplace=True)\n"
     ]
    }
   ],
   "source": [
    "# Dropping the unnecessary VALUE column and resetting the index: \n",
    "brazil_male.drop(columns='VALUE', inplace=True)\n",
    "brazil_female.drop(columns='VALUE', inplace=True)\n",
    "brazil_male.set_index('Country', inplace=True)\n",
    "brazil_female.set_index('Country', inplace=True)"
   ]
  },
  {
   "cell_type": "code",
   "execution_count": 11,
   "metadata": {},
   "outputs": [
    {
     "data": {
      "text/html": [
       "<div>\n",
       "<style scoped>\n",
       "    .dataframe tbody tr th:only-of-type {\n",
       "        vertical-align: middle;\n",
       "    }\n",
       "\n",
       "    .dataframe tbody tr th {\n",
       "        vertical-align: top;\n",
       "    }\n",
       "\n",
       "    .dataframe thead th {\n",
       "        text-align: right;\n",
       "    }\n",
       "</style>\n",
       "<table border=\"1\" class=\"dataframe\">\n",
       "  <thead>\n",
       "    <tr style=\"text-align: right;\">\n",
       "      <th></th>\n",
       "      <th>Year</th>\n",
       "      <th>Females</th>\n",
       "    </tr>\n",
       "    <tr>\n",
       "      <th>Country</th>\n",
       "      <th></th>\n",
       "      <th></th>\n",
       "    </tr>\n",
       "  </thead>\n",
       "  <tbody>\n",
       "    <tr>\n",
       "      <th>Brazil</th>\n",
       "      <td>2010</td>\n",
       "      <td>34807.0</td>\n",
       "    </tr>\n",
       "    <tr>\n",
       "      <th>Brazil</th>\n",
       "      <td>2011</td>\n",
       "      <td>34058.0</td>\n",
       "    </tr>\n",
       "    <tr>\n",
       "      <th>Brazil</th>\n",
       "      <td>2012</td>\n",
       "      <td>35223.0</td>\n",
       "    </tr>\n",
       "    <tr>\n",
       "      <th>Brazil</th>\n",
       "      <td>2013</td>\n",
       "      <td>35100.0</td>\n",
       "    </tr>\n",
       "    <tr>\n",
       "      <th>Brazil</th>\n",
       "      <td>2014</td>\n",
       "      <td>37380.0</td>\n",
       "    </tr>\n",
       "  </tbody>\n",
       "</table>\n",
       "</div>"
      ],
      "text/plain": [
       "         Year  Females\n",
       "Country               \n",
       "Brazil   2010  34807.0\n",
       "Brazil   2011  34058.0\n",
       "Brazil   2012  35223.0\n",
       "Brazil   2013  35100.0\n",
       "Brazil   2014  37380.0"
      ]
     },
     "execution_count": 11,
     "metadata": {},
     "output_type": "execute_result"
    }
   ],
   "source": [
    "\n",
    "brazil_female.head()"
   ]
  },
  {
   "cell_type": "code",
   "execution_count": 12,
   "metadata": {},
   "outputs": [],
   "source": [
    "brazil_gender_totals = brazil_female.merge(brazil_male, on='Year')"
   ]
  },
  {
   "cell_type": "code",
   "execution_count": 13,
   "metadata": {},
   "outputs": [
    {
     "data": {
      "text/html": [
       "<div>\n",
       "<style scoped>\n",
       "    .dataframe tbody tr th:only-of-type {\n",
       "        vertical-align: middle;\n",
       "    }\n",
       "\n",
       "    .dataframe tbody tr th {\n",
       "        vertical-align: top;\n",
       "    }\n",
       "\n",
       "    .dataframe thead th {\n",
       "        text-align: right;\n",
       "    }\n",
       "</style>\n",
       "<table border=\"1\" class=\"dataframe\">\n",
       "  <thead>\n",
       "    <tr style=\"text-align: right;\">\n",
       "      <th></th>\n",
       "      <th>Year</th>\n",
       "      <th>Females</th>\n",
       "      <th>Males</th>\n",
       "    </tr>\n",
       "  </thead>\n",
       "  <tbody>\n",
       "    <tr>\n",
       "      <th>0</th>\n",
       "      <td>2010</td>\n",
       "      <td>34807.0</td>\n",
       "      <td>461444.0</td>\n",
       "    </tr>\n",
       "    <tr>\n",
       "      <th>1</th>\n",
       "      <td>2010</td>\n",
       "      <td>34807.0</td>\n",
       "      <td>16815.0</td>\n",
       "    </tr>\n",
       "    <tr>\n",
       "      <th>2</th>\n",
       "      <td>2010</td>\n",
       "      <td>34807.0</td>\n",
       "      <td>478259.0</td>\n",
       "    </tr>\n",
       "    <tr>\n",
       "      <th>3</th>\n",
       "      <td>2010</td>\n",
       "      <td>888.0</td>\n",
       "      <td>461444.0</td>\n",
       "    </tr>\n",
       "    <tr>\n",
       "      <th>4</th>\n",
       "      <td>2010</td>\n",
       "      <td>888.0</td>\n",
       "      <td>16815.0</td>\n",
       "    </tr>\n",
       "    <tr>\n",
       "      <th>...</th>\n",
       "      <td>...</td>\n",
       "      <td>...</td>\n",
       "      <td>...</td>\n",
       "    </tr>\n",
       "    <tr>\n",
       "      <th>75</th>\n",
       "      <td>2019</td>\n",
       "      <td>191.0</td>\n",
       "      <td>4168.0</td>\n",
       "    </tr>\n",
       "    <tr>\n",
       "      <th>76</th>\n",
       "      <td>2019</td>\n",
       "      <td>191.0</td>\n",
       "      <td>718007.0</td>\n",
       "    </tr>\n",
       "    <tr>\n",
       "      <th>77</th>\n",
       "      <td>2019</td>\n",
       "      <td>37197.0</td>\n",
       "      <td>718007.0</td>\n",
       "    </tr>\n",
       "    <tr>\n",
       "      <th>78</th>\n",
       "      <td>2019</td>\n",
       "      <td>37197.0</td>\n",
       "      <td>4168.0</td>\n",
       "    </tr>\n",
       "    <tr>\n",
       "      <th>79</th>\n",
       "      <td>2019</td>\n",
       "      <td>37197.0</td>\n",
       "      <td>718007.0</td>\n",
       "    </tr>\n",
       "  </tbody>\n",
       "</table>\n",
       "<p>80 rows × 3 columns</p>\n",
       "</div>"
      ],
      "text/plain": [
       "    Year  Females     Males\n",
       "0   2010  34807.0  461444.0\n",
       "1   2010  34807.0   16815.0\n",
       "2   2010  34807.0  478259.0\n",
       "3   2010    888.0  461444.0\n",
       "4   2010    888.0   16815.0\n",
       "..   ...      ...       ...\n",
       "75  2019    191.0    4168.0\n",
       "76  2019    191.0  718007.0\n",
       "77  2019  37197.0  718007.0\n",
       "78  2019  37197.0    4168.0\n",
       "79  2019  37197.0  718007.0\n",
       "\n",
       "[80 rows x 3 columns]"
      ]
     },
     "execution_count": 13,
     "metadata": {},
     "output_type": "execute_result"
    }
   ],
   "source": [
    "brazil_gender_totals"
   ]
  },
  {
   "cell_type": "code",
   "execution_count": 105,
   "metadata": {},
   "outputs": [
    {
     "data": {
      "image/png": "[encoded data removed]",
      "text/plain": [
       "<Figure size 1000x600 with 1 Axes>"
      ]
     },
     "metadata": {},
     "output_type": "display_data"
    }
   ],
   "source": [
    "plt.figure(figsize=(10,6))\n",
    "sns.set_context(font_scale=3)\n",
    "sns.lineplot(data=brazil_gender_totals, x='Year', y='Males', color='#B29700'),\n",
    "sns.lineplot(data=brazil_gender_totals, x='Year', y='Females', color='#A8122A')\n",
    "plt.ylabel('Counts')\n",
    "plt.xticks([2010,2011,2012,2013,2014,2015,2016,2017,2018,2019])\n",
    "plt.title('BRAZIL: Total Male(Green) vs. Female(Orange) Prison Population')\n",
    "plt.savefig('../../Images/Brazil_male_female.png');"
   ]
  },
  {
   "cell_type": "markdown",
   "metadata": {},
   "source": [
    "# Visualizaitons for Youth Vs. Adults"
   ]
  },
  {
   "cell_type": "code",
   "execution_count": 75,
   "metadata": {},
   "outputs": [
    {
     "data": {
      "text/plain": [
       "array(['Total', 'Adult', 'Juveniles'], dtype=object)"
      ]
     },
     "execution_count": 75,
     "metadata": {},
     "output_type": "execute_result"
    }
   ],
   "source": [
    "brazil_counts['Age'].unique()"
   ]
  },
  {
   "cell_type": "code",
   "execution_count": 78,
   "metadata": {},
   "outputs": [],
   "source": [
    "# Separating adults vs juveniles prison populations for visualization: \n",
    "brazil_adults = brazil_counts[brazil_counts['Age'] == 'Adult' ]\n",
    "brazil_youth = brazil_counts[brazil_counts['Age'] == 'Juveniles' ]"
   ]
  },
  {
   "cell_type": "code",
   "execution_count": 84,
   "metadata": {},
   "outputs": [
    {
     "data": {
      "text/plain": [
       "392041"
      ]
     },
     "execution_count": 84,
     "metadata": {},
     "output_type": "execute_result"
    }
   ],
   "source": [
    "round(brazil_adults['VALUE'].mean())"
   ]
  },
  {
   "cell_type": "code",
   "execution_count": 86,
   "metadata": {},
   "outputs": [
    {
     "data": {
      "text/plain": [
       "12613"
      ]
     },
     "execution_count": 86,
     "metadata": {},
     "output_type": "execute_result"
    }
   ],
   "source": [
    "round(brazil_youth['VALUE'].mean())"
   ]
  },
  {
   "cell_type": "code",
   "execution_count": 106,
   "metadata": {},
   "outputs": [
    {
     "data": {
      "image/png": "[encoded data removed]",
      "text/plain": [
       "<Figure size 640x480 with 1 Axes>"
      ]
     },
     "metadata": {},
     "output_type": "display_data"
    }
   ],
   "source": [
    "totals = [392_041, 12_613]\n",
    "keys = ['Adults', 'Youth']\n",
    "colors = ['#B29700', '#A8122A']\n",
    "plt.pie(totals, labels=keys,autopct='%.0f%%', colors=colors)\n",
    "plt.title('Brazil: Percent of Youth vs. Adults in Prison Population')\n",
    "plt.savefig('../../Images/Brazil_Youth_Adults.png');\n",
    "\n",
    "# Code Source: https://www.geeksforgeeks.org/how-to-create-a-pie-chart-in-seaborn/"
   ]
  },
  {
   "cell_type": "code",
   "execution_count": null,
   "metadata": {},
   "outputs": [],
   "source": []
  }
 ],
 "metadata": {
  "kernelspec": {
   "display_name": "base",
   "language": "python",
   "name": "python3"
  },
  "language_info": {
   "codemirror_mode": {
    "name": "ipython",
    "version": 3
   },
   "file_extension": ".py",
   "mimetype": "text/x-python",
   "name": "python",
   "nbconvert_exporter": "python",
   "pygments_lexer": "ipython3",
   "version": "3.11.5"
  }
 },
 "nbformat": 4,
 "nbformat_minor": 2
}
