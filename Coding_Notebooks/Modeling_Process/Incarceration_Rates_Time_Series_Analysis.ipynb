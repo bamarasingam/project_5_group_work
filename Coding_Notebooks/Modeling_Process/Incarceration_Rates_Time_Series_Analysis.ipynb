{
 "cells": [
  {
   "cell_type": "markdown",
   "metadata": {},
   "source": [
    "# Incarceration Rates Time Series Analysis\n",
    "Author: Lorena Robles\n",
    "----"
   ]
  },
  {
   "cell_type": "markdown",
   "metadata": {},
   "source": [
    "## IMPORTS"
   ]
  },
  {
   "cell_type": "code",
   "execution_count": 1,
   "metadata": {},
   "outputs": [],
   "source": [
    "import pandas as pd\n",
    "import numpy as np\n",
    "import matplotlib.pyplot as plt\n",
    "from datetime import datetime\n",
    "from sklearn.model_selection import train_test_split\n",
    "import statsmodels.api as sm\n",
    "from statsmodels.graphics.tsaplots import plot_acf, plot_pacf\n",
    "from statsmodels.tsa.stattools import adfuller\n",
    "from statsmodels.tsa.arima.model import ARIMA"
   ]
  },
  {
   "cell_type": "markdown",
   "metadata": {},
   "source": [
    "## Preparing the UN Incarceration Rates dataset for modeling"
   ]
  },
  {
   "cell_type": "code",
   "execution_count": 2,
   "metadata": {},
   "outputs": [],
   "source": [
    "incarceration_rates = pd.read_csv('../../Datasets/Processed_Data/UN_Incarceration_Rates_Modeling.csv')"
   ]
  },
  {
   "cell_type": "code",
   "execution_count": 3,
   "metadata": {},
   "outputs": [],
   "source": [
    "# Narrowing down the dataset to only the metrics needed for modeling\n",
    "incarceration_rates = incarceration_rates[incarceration_rates['Unit of measurement'] == 'Rate per 100,000 population']\n",
    "incarceration_rates = incarceration_rates[incarceration_rates['Age'] == 'Total']\n",
    "incarceration_rates = incarceration_rates[incarceration_rates['Sex'] == 'Total']\n",
    "incarceration_rates = incarceration_rates[incarceration_rates['Indicator'] == 'Persons held']\n",
    "incarceration_rates = incarceration_rates[incarceration_rates['Dimension'] == 'Total']\n"
   ]
  },
  {
   "cell_type": "code",
   "execution_count": 4,
   "metadata": {},
   "outputs": [],
   "source": [
    "# Dropping the last of unnecessary columns\n",
    "incarceration_rates.drop(columns=['Age', 'Sex', 'Dimension', 'Indicator','Category','Unit of measurement'],inplace=True)\n",
    "\n",
    "# Renaming the VALUE Column\n",
    "incarceration_rates.rename(columns= {'VALUE':'Incarceration_Rate_Per_100_000'},inplace=True)"
   ]
  },
  {
   "cell_type": "code",
   "execution_count": 5,
   "metadata": {},
   "outputs": [],
   "source": [
    "# Setting the Year as a datetime variable\n",
    "incarceration_rates['Year'] = pd.to_datetime(incarceration_rates['Year'], format='%Y')"
   ]
  },
  {
   "cell_type": "code",
   "execution_count": 6,
   "metadata": {},
   "outputs": [
    {
     "data": {
      "text/plain": [
       "Country                                   object\n",
       "Year                              datetime64[ns]\n",
       "Incarceration_Rate_Per_100_000           float64\n",
       "dtype: object"
      ]
     },
     "execution_count": 6,
     "metadata": {},
     "output_type": "execute_result"
    }
   ],
   "source": [
    "incarceration_rates.dtypes"
   ]
  },
  {
   "cell_type": "code",
   "execution_count": 7,
   "metadata": {},
   "outputs": [
    {
     "data": {
      "text/html": [
       "<div>\n",
       "<style scoped>\n",
       "    .dataframe tbody tr th:only-of-type {\n",
       "        vertical-align: middle;\n",
       "    }\n",
       "\n",
       "    .dataframe tbody tr th {\n",
       "        vertical-align: top;\n",
       "    }\n",
       "\n",
       "    .dataframe thead th {\n",
       "        text-align: right;\n",
       "    }\n",
       "</style>\n",
       "<table border=\"1\" class=\"dataframe\">\n",
       "  <thead>\n",
       "    <tr style=\"text-align: right;\">\n",
       "      <th></th>\n",
       "      <th>Country</th>\n",
       "      <th>Incarceration_Rate_Per_100_000</th>\n",
       "    </tr>\n",
       "    <tr>\n",
       "      <th>Year</th>\n",
       "      <th></th>\n",
       "      <th></th>\n",
       "    </tr>\n",
       "  </thead>\n",
       "  <tbody>\n",
       "    <tr>\n",
       "      <th>2000-01-01</th>\n",
       "      <td>Bangladesh</td>\n",
       "      <td>48.507923</td>\n",
       "    </tr>\n",
       "    <tr>\n",
       "      <th>2000-01-01</th>\n",
       "      <td>Nicaragua</td>\n",
       "      <td>127.634511</td>\n",
       "    </tr>\n",
       "    <tr>\n",
       "      <th>2001-01-01</th>\n",
       "      <td>Egypt</td>\n",
       "      <td>77.671504</td>\n",
       "    </tr>\n",
       "    <tr>\n",
       "      <th>2003-01-01</th>\n",
       "      <td>Angola</td>\n",
       "      <td>33.148789</td>\n",
       "    </tr>\n",
       "    <tr>\n",
       "      <th>2003-01-01</th>\n",
       "      <td>Albania</td>\n",
       "      <td>82.800112</td>\n",
       "    </tr>\n",
       "  </tbody>\n",
       "</table>\n",
       "</div>"
      ],
      "text/plain": [
       "               Country  Incarceration_Rate_Per_100_000\n",
       "Year                                                  \n",
       "2000-01-01  Bangladesh                       48.507923\n",
       "2000-01-01   Nicaragua                      127.634511\n",
       "2001-01-01       Egypt                       77.671504\n",
       "2003-01-01      Angola                       33.148789\n",
       "2003-01-01     Albania                       82.800112"
      ]
     },
     "execution_count": 7,
     "metadata": {},
     "output_type": "execute_result"
    }
   ],
   "source": [
    "# Setting the Year as index\n",
    "incarceration_rates.set_index('Year', inplace=True)\n",
    "incarceration_rates.head()"
   ]
  },
  {
   "cell_type": "markdown",
   "metadata": {},
   "source": [
    "### Separating our Country of interest into their own data frames"
   ]
  },
  {
   "cell_type": "code",
   "execution_count": 8,
   "metadata": {},
   "outputs": [],
   "source": [
    "brazil = incarceration_rates[incarceration_rates['Country']== 'Brazil']\n",
    "el_salvador =  incarceration_rates[incarceration_rates['Country']== 'El Salvador']\n",
    "honduras =  incarceration_rates[incarceration_rates['Country']== 'Honduras']\n",
    "mexico =  incarceration_rates[incarceration_rates['Country']== 'Mexico']\n",
    "usa =  incarceration_rates[incarceration_rates['Country']== 'USA']"
   ]
  },
  {
   "cell_type": "markdown",
   "metadata": {},
   "source": [
    "## Brazil ARIMA Model"
   ]
  },
  {
   "cell_type": "code",
   "execution_count": 9,
   "metadata": {},
   "outputs": [
    {
     "data": {
      "text/html": [
       "<div>\n",
       "<style scoped>\n",
       "    .dataframe tbody tr th:only-of-type {\n",
       "        vertical-align: middle;\n",
       "    }\n",
       "\n",
       "    .dataframe tbody tr th {\n",
       "        vertical-align: top;\n",
       "    }\n",
       "\n",
       "    .dataframe thead th {\n",
       "        text-align: right;\n",
       "    }\n",
       "</style>\n",
       "<table border=\"1\" class=\"dataframe\">\n",
       "  <thead>\n",
       "    <tr style=\"text-align: right;\">\n",
       "      <th></th>\n",
       "      <th>Country</th>\n",
       "      <th>Incarceration_Rate_Per_100_000</th>\n",
       "    </tr>\n",
       "    <tr>\n",
       "      <th>Year</th>\n",
       "      <th></th>\n",
       "      <th></th>\n",
       "    </tr>\n",
       "  </thead>\n",
       "  <tbody>\n",
       "    <tr>\n",
       "      <th>2017-01-01</th>\n",
       "      <td>Brazil</td>\n",
       "      <td>346.359147</td>\n",
       "    </tr>\n",
       "    <tr>\n",
       "      <th>2018-01-01</th>\n",
       "      <td>Brazil</td>\n",
       "      <td>354.064836</td>\n",
       "    </tr>\n",
       "    <tr>\n",
       "      <th>2019-01-01</th>\n",
       "      <td>Brazil</td>\n",
       "      <td>356.626564</td>\n",
       "    </tr>\n",
       "    <tr>\n",
       "      <th>2020-01-01</th>\n",
       "      <td>Brazil</td>\n",
       "      <td>380.732211</td>\n",
       "    </tr>\n",
       "    <tr>\n",
       "      <th>2021-01-01</th>\n",
       "      <td>Brazil</td>\n",
       "      <td>389.893028</td>\n",
       "    </tr>\n",
       "  </tbody>\n",
       "</table>\n",
       "</div>"
      ],
      "text/plain": [
       "           Country  Incarceration_Rate_Per_100_000\n",
       "Year                                              \n",
       "2017-01-01  Brazil                      346.359147\n",
       "2018-01-01  Brazil                      354.064836\n",
       "2019-01-01  Brazil                      356.626564\n",
       "2020-01-01  Brazil                      380.732211\n",
       "2021-01-01  Brazil                      389.893028"
      ]
     },
     "execution_count": 9,
     "metadata": {},
     "output_type": "execute_result"
    }
   ],
   "source": [
    "brazil.sort_index(inplace=True)\n",
    "brazil.tail()"
   ]
  },
  {
   "cell_type": "code",
   "execution_count": 10,
   "metadata": {},
   "outputs": [
    {
     "name": "stderr",
     "output_type": "stream",
     "text": [
      "C:\\Users\\Alex_Compu\\AppData\\Local\\Temp\\ipykernel_1280\\3270876084.py:2: SettingWithCopyWarning: \n",
      "A value is trying to be set on a copy of a slice from a DataFrame.\n",
      "Try using .loc[row_indexer,col_indexer] = value instead\n",
      "\n",
      "See the caveats in the documentation: https://pandas.pydata.org/pandas-docs/stable/user_guide/indexing.html#returning-a-view-versus-a-copy\n",
      "  brazil['First_Diff'] = brazil['Incarceration_Rate_Per_100_000'].diff()\n",
      "C:\\Users\\Alex_Compu\\AppData\\Local\\Temp\\ipykernel_1280\\3270876084.py:3: SettingWithCopyWarning: \n",
      "A value is trying to be set on a copy of a slice from a DataFrame.\n",
      "Try using .loc[row_indexer,col_indexer] = value instead\n",
      "\n",
      "See the caveats in the documentation: https://pandas.pydata.org/pandas-docs/stable/user_guide/indexing.html#returning-a-view-versus-a-copy\n",
      "  brazil['Second_Diff'] = brazil['Incarceration_Rate_Per_100_000'].diff().diff()\n",
      "C:\\Users\\Alex_Compu\\AppData\\Local\\Temp\\ipykernel_1280\\3270876084.py:4: SettingWithCopyWarning: \n",
      "A value is trying to be set on a copy of a slice from a DataFrame.\n",
      "Try using .loc[row_indexer,col_indexer] = value instead\n",
      "\n",
      "See the caveats in the documentation: https://pandas.pydata.org/pandas-docs/stable/user_guide/indexing.html#returning-a-view-versus-a-copy\n",
      "  brazil['Third_Diff'] = brazil['Incarceration_Rate_Per_100_000'].diff().diff().diff()\n"
     ]
    }
   ],
   "source": [
    "# Create first_diff_ridership and second_diff_ridership\n",
    "brazil['First_Diff'] = brazil['Incarceration_Rate_Per_100_000'].diff()\n",
    "brazil['Second_Diff'] = brazil['Incarceration_Rate_Per_100_000'].diff().diff()\n",
    "brazil['Third_Diff'] = brazil['Incarceration_Rate_Per_100_000'].diff().diff().diff()  "
   ]
  },
  {
   "cell_type": "code",
   "execution_count": 11,
   "metadata": {},
   "outputs": [
    {
     "data": {
      "text/plain": [
       "Test Statistic    0.27711\n",
       "p-value           0.97627\n",
       "dtype: float64"
      ]
     },
     "execution_count": 11,
     "metadata": {},
     "output_type": "execute_result"
    }
   ],
   "source": [
    "# Testing stationairty\n",
    "def interpret_dftest(dftest):\n",
    "    dfoutput = pd.Series(dftest[0:2], index=['Test Statistic','p-value']) # function from Summit's 3.03 Lesson, written by Joseph Nelson\n",
    "    return dfoutput\n",
    "\n",
    "interpret_dftest((adfuller(brazil['Incarceration_Rate_Per_100_000'])))"
   ]
  },
  {
   "cell_type": "code",
   "execution_count": 12,
   "metadata": {},
   "outputs": [
    {
     "data": {
      "text/plain": [
       "Test Statistic   -5.251799\n",
       "p-value           0.000007\n",
       "dtype: float64"
      ]
     },
     "execution_count": 12,
     "metadata": {},
     "output_type": "execute_result"
    }
   ],
   "source": [
    "interpret_dftest((adfuller(brazil['First_Diff'].dropna())))"
   ]
  },
  {
   "cell_type": "code",
   "execution_count": 13,
   "metadata": {},
   "outputs": [
    {
     "data": {
      "text/plain": [
       "Test Statistic   -2.117446\n",
       "p-value           0.237558\n",
       "dtype: float64"
      ]
     },
     "execution_count": 13,
     "metadata": {},
     "output_type": "execute_result"
    }
   ],
   "source": [
    "interpret_dftest((adfuller(brazil['Second_Diff'].dropna())))"
   ]
  },
  {
   "cell_type": "code",
   "execution_count": 14,
   "metadata": {},
   "outputs": [
    {
     "data": {
      "text/plain": [
       "Test Statistic   -4.678545\n",
       "p-value           0.000092\n",
       "dtype: float64"
      ]
     },
     "execution_count": 14,
     "metadata": {},
     "output_type": "execute_result"
    }
   ],
   "source": [
    "interpret_dftest((adfuller(brazil['Third_Diff'].dropna())))"
   ]
  },
  {
   "cell_type": "code",
   "execution_count": 15,
   "metadata": {},
   "outputs": [
    {
     "data": {
      "image/png": "[encoded data removed]",
      "text/plain": [
       "<Figure size 640x480 with 1 Axes>"
      ]
     },
     "metadata": {},
     "output_type": "display_data"
    }
   ],
   "source": [
    "plot_acf(brazil['First_Diff'].dropna(), lags = 16);"
   ]
  },
  {
   "cell_type": "code",
   "execution_count": 16,
   "metadata": {},
   "outputs": [
    {
     "data": {
      "image/png": "[encoded data removed]",
      "text/plain": [
       "<Figure size 640x480 with 1 Axes>"
      ]
     },
     "metadata": {},
     "output_type": "display_data"
    }
   ],
   "source": [
    "plot_pacf(brazil['First_Diff'].dropna(), lags = 8);"
   ]
  },
  {
   "cell_type": "code",
   "execution_count": 17,
   "metadata": {},
   "outputs": [],
   "source": [
    "# Create train-test split.\n",
    "train, test = train_test_split(brazil['Incarceration_Rate_Per_100_000'],\n",
    "                                                    test_size = 0.15,\n",
    "                                                    shuffle = False) "
   ]
  },
  {
   "cell_type": "code",
   "execution_count": 18,
   "metadata": {},
   "outputs": [
    {
     "data": {
      "text/plain": [
       "Year\n",
       "2003-01-01    156.047816\n",
       "2004-01-01    182.088718\n",
       "2005-01-01    193.472783\n",
       "2006-01-01    212.495790\n",
       "2007-01-01    221.507083\n",
       "2008-01-01    234.189845\n",
       "2009-01-01    252.667178\n",
       "2010-01-01    261.749356\n",
       "2011-01-01    269.750075\n",
       "2012-01-01    285.190789\n",
       "2013-01-01    300.516900\n",
       "2014-01-01    298.698537\n",
       "2015-01-01    340.476686\n",
       "2016-01-01    349.087051\n",
       "2017-01-01    346.359147\n",
       "2018-01-01    354.064836\n",
       "Name: Incarceration_Rate_Per_100_000, dtype: float64"
      ]
     },
     "execution_count": 18,
     "metadata": {},
     "output_type": "execute_result"
    }
   ],
   "source": [
    "train"
   ]
  },
  {
   "cell_type": "code",
   "execution_count": 19,
   "metadata": {},
   "outputs": [
    {
     "name": "stderr",
     "output_type": "stream",
     "text": [
      "c:\\Users\\Alex_Compu\\AppData\\Local\\anaconda3\\Lib\\site-packages\\statsmodels\\tsa\\base\\tsa_model.py:473: ValueWarning: No frequency information was provided, so inferred frequency AS-JAN will be used.\n",
      "  self._init_dates(dates, freq)\n",
      "c:\\Users\\Alex_Compu\\AppData\\Local\\anaconda3\\Lib\\site-packages\\statsmodels\\tsa\\base\\tsa_model.py:473: ValueWarning: No frequency information was provided, so inferred frequency AS-JAN will be used.\n",
      "  self._init_dates(dates, freq)\n",
      "c:\\Users\\Alex_Compu\\AppData\\Local\\anaconda3\\Lib\\site-packages\\statsmodels\\tsa\\base\\tsa_model.py:473: ValueWarning: No frequency information was provided, so inferred frequency AS-JAN will be used.\n",
      "  self._init_dates(dates, freq)\n"
     ]
    }
   ],
   "source": [
    "# Instantiate model.\n",
    "\n",
    "model = ARIMA(endog=train, \n",
    "             order = (0, 1, 0)) # order = (p, d, q)\n"
   ]
  },
  {
   "cell_type": "code",
   "execution_count": 20,
   "metadata": {},
   "outputs": [],
   "source": [
    "brazil_arima = model.fit()"
   ]
  },
  {
   "cell_type": "code",
   "execution_count": 21,
   "metadata": {},
   "outputs": [],
   "source": [
    "brazil_predictions = brazil_arima.predict(start=datetime(2003,1,1), end=datetime(2025,1,1))"
   ]
  },
  {
   "cell_type": "code",
   "execution_count": 22,
   "metadata": {},
   "outputs": [
    {
     "data": {
      "text/plain": [
       "2003-01-01      0.000000\n",
       "2004-01-01    156.047816\n",
       "2005-01-01    182.088718\n",
       "2006-01-01    193.472783\n",
       "2007-01-01    212.495790\n",
       "2008-01-01    221.507083\n",
       "2009-01-01    234.189845\n",
       "2010-01-01    252.667178\n",
       "2011-01-01    261.749356\n",
       "2012-01-01    269.750075\n",
       "2013-01-01    285.190789\n",
       "2014-01-01    300.516900\n",
       "2015-01-01    298.698537\n",
       "2016-01-01    340.476686\n",
       "2017-01-01    349.087051\n",
       "2018-01-01    346.359147\n",
       "2019-01-01    354.064836\n",
       "2020-01-01    354.064836\n",
       "2021-01-01    354.064836\n",
       "2022-01-01    354.064836\n",
       "2023-01-01    354.064836\n",
       "2024-01-01    354.064836\n",
       "2025-01-01    354.064836\n",
       "Freq: AS-JAN, Name: predicted_mean, dtype: float64"
      ]
     },
     "execution_count": 22,
     "metadata": {},
     "output_type": "execute_result"
    }
   ],
   "source": [
    "brazil_predictions"
   ]
  },
  {
   "cell_type": "code",
   "execution_count": 23,
   "metadata": {},
   "outputs": [
    {
     "data": {
      "image/png": "[encoded data removed]",
      "text/plain": [
       "<Figure size 640x480 with 1 Axes>"
      ]
     },
     "metadata": {},
     "output_type": "display_data"
    }
   ],
   "source": [
    "brazil_predictions.plot()\n",
    "brazil['Incarceration_Rate_Per_100_000'].plot()\n",
    "plt.title('Brazil Incarceration Rate vs Arima Model Predicted Incarceration Rate')\n",
    "plt.legend()\n",
    "plt.savefig('../../Images/Brazil_Incarceration_Rate_Predictions');"
   ]
  },
  {
   "cell_type": "markdown",
   "metadata": {},
   "source": [
    "## El Salvador ARIMA Model"
   ]
  },
  {
   "cell_type": "code",
   "execution_count": 24,
   "metadata": {},
   "outputs": [
    {
     "data": {
      "text/html": [
       "<div>\n",
       "<style scoped>\n",
       "    .dataframe tbody tr th:only-of-type {\n",
       "        vertical-align: middle;\n",
       "    }\n",
       "\n",
       "    .dataframe tbody tr th {\n",
       "        vertical-align: top;\n",
       "    }\n",
       "\n",
       "    .dataframe thead th {\n",
       "        text-align: right;\n",
       "    }\n",
       "</style>\n",
       "<table border=\"1\" class=\"dataframe\">\n",
       "  <thead>\n",
       "    <tr style=\"text-align: right;\">\n",
       "      <th></th>\n",
       "      <th>Country</th>\n",
       "      <th>Incarceration_Rate_Per_100_000</th>\n",
       "    </tr>\n",
       "    <tr>\n",
       "      <th>Year</th>\n",
       "      <th></th>\n",
       "      <th></th>\n",
       "    </tr>\n",
       "  </thead>\n",
       "  <tbody>\n",
       "    <tr>\n",
       "      <th>2015-01-01</th>\n",
       "      <td>El Salvador</td>\n",
       "      <td>533.744948</td>\n",
       "    </tr>\n",
       "    <tr>\n",
       "      <th>2016-01-01</th>\n",
       "      <td>El Salvador</td>\n",
       "      <td>589.135926</td>\n",
       "    </tr>\n",
       "    <tr>\n",
       "      <th>2017-01-01</th>\n",
       "      <td>El Salvador</td>\n",
       "      <td>633.815060</td>\n",
       "    </tr>\n",
       "    <tr>\n",
       "      <th>2018-01-01</th>\n",
       "      <td>El Salvador</td>\n",
       "      <td>631.609891</td>\n",
       "    </tr>\n",
       "    <tr>\n",
       "      <th>2019-01-01</th>\n",
       "      <td>El Salvador</td>\n",
       "      <td>636.299669</td>\n",
       "    </tr>\n",
       "  </tbody>\n",
       "</table>\n",
       "</div>"
      ],
      "text/plain": [
       "                Country  Incarceration_Rate_Per_100_000\n",
       "Year                                                   \n",
       "2015-01-01  El Salvador                      533.744948\n",
       "2016-01-01  El Salvador                      589.135926\n",
       "2017-01-01  El Salvador                      633.815060\n",
       "2018-01-01  El Salvador                      631.609891\n",
       "2019-01-01  El Salvador                      636.299669"
      ]
     },
     "execution_count": 24,
     "metadata": {},
     "output_type": "execute_result"
    }
   ],
   "source": [
    "el_salvador.sort_index(inplace=True)\n",
    "el_salvador.tail()"
   ]
  },
  {
   "cell_type": "code",
   "execution_count": 25,
   "metadata": {},
   "outputs": [
    {
     "name": "stderr",
     "output_type": "stream",
     "text": [
      "C:\\Users\\Alex_Compu\\AppData\\Local\\Temp\\ipykernel_1280\\3939596298.py:2: SettingWithCopyWarning: \n",
      "A value is trying to be set on a copy of a slice from a DataFrame.\n",
      "Try using .loc[row_indexer,col_indexer] = value instead\n",
      "\n",
      "See the caveats in the documentation: https://pandas.pydata.org/pandas-docs/stable/user_guide/indexing.html#returning-a-view-versus-a-copy\n",
      "  el_salvador['First_Diff'] = el_salvador['Incarceration_Rate_Per_100_000'].diff()\n",
      "C:\\Users\\Alex_Compu\\AppData\\Local\\Temp\\ipykernel_1280\\3939596298.py:3: SettingWithCopyWarning: \n",
      "A value is trying to be set on a copy of a slice from a DataFrame.\n",
      "Try using .loc[row_indexer,col_indexer] = value instead\n",
      "\n",
      "See the caveats in the documentation: https://pandas.pydata.org/pandas-docs/stable/user_guide/indexing.html#returning-a-view-versus-a-copy\n",
      "  el_salvador['Second_Diff'] = el_salvador['Incarceration_Rate_Per_100_000'].diff().diff()\n",
      "C:\\Users\\Alex_Compu\\AppData\\Local\\Temp\\ipykernel_1280\\3939596298.py:4: SettingWithCopyWarning: \n",
      "A value is trying to be set on a copy of a slice from a DataFrame.\n",
      "Try using .loc[row_indexer,col_indexer] = value instead\n",
      "\n",
      "See the caveats in the documentation: https://pandas.pydata.org/pandas-docs/stable/user_guide/indexing.html#returning-a-view-versus-a-copy\n",
      "  el_salvador['Third_Diff'] = el_salvador['Incarceration_Rate_Per_100_000'].diff().diff().diff()\n",
      "C:\\Users\\Alex_Compu\\AppData\\Local\\Temp\\ipykernel_1280\\3939596298.py:5: SettingWithCopyWarning: \n",
      "A value is trying to be set on a copy of a slice from a DataFrame.\n",
      "Try using .loc[row_indexer,col_indexer] = value instead\n",
      "\n",
      "See the caveats in the documentation: https://pandas.pydata.org/pandas-docs/stable/user_guide/indexing.html#returning-a-view-versus-a-copy\n",
      "  el_salvador['Fourth_Diff'] = el_salvador['Incarceration_Rate_Per_100_000'].diff().diff().diff().diff()\n",
      "C:\\Users\\Alex_Compu\\AppData\\Local\\Temp\\ipykernel_1280\\3939596298.py:6: SettingWithCopyWarning: \n",
      "A value is trying to be set on a copy of a slice from a DataFrame.\n",
      "Try using .loc[row_indexer,col_indexer] = value instead\n",
      "\n",
      "See the caveats in the documentation: https://pandas.pydata.org/pandas-docs/stable/user_guide/indexing.html#returning-a-view-versus-a-copy\n",
      "  el_salvador['Fifth_Diff'] = el_salvador['Incarceration_Rate_Per_100_000'].diff().diff().diff().diff().diff()\n"
     ]
    }
   ],
   "source": [
    "# Create first_diff_ridership and second_diff_ridership\n",
    "el_salvador['First_Diff'] = el_salvador['Incarceration_Rate_Per_100_000'].diff()\n",
    "el_salvador['Second_Diff'] = el_salvador['Incarceration_Rate_Per_100_000'].diff().diff()\n",
    "el_salvador['Third_Diff'] = el_salvador['Incarceration_Rate_Per_100_000'].diff().diff().diff()\n",
    "el_salvador['Fourth_Diff'] = el_salvador['Incarceration_Rate_Per_100_000'].diff().diff().diff().diff() \n",
    "el_salvador['Fifth_Diff'] = el_salvador['Incarceration_Rate_Per_100_000'].diff().diff().diff().diff().diff()   "
   ]
  },
  {
   "cell_type": "code",
   "execution_count": 26,
   "metadata": {},
   "outputs": [
    {
     "data": {
      "text/plain": [
       "Test Statistic   -1.458550\n",
       "p-value           0.553907\n",
       "dtype: float64"
      ]
     },
     "execution_count": 26,
     "metadata": {},
     "output_type": "execute_result"
    }
   ],
   "source": [
    "interpret_dftest((adfuller(el_salvador['Incarceration_Rate_Per_100_000'])))"
   ]
  },
  {
   "cell_type": "code",
   "execution_count": 27,
   "metadata": {},
   "outputs": [
    {
     "data": {
      "text/plain": [
       "Test Statistic   -2.697338\n",
       "p-value           0.074500\n",
       "dtype: float64"
      ]
     },
     "execution_count": 27,
     "metadata": {},
     "output_type": "execute_result"
    }
   ],
   "source": [
    "interpret_dftest((adfuller(el_salvador['First_Diff'].dropna())))"
   ]
  },
  {
   "cell_type": "code",
   "execution_count": 28,
   "metadata": {},
   "outputs": [
    {
     "data": {
      "text/plain": [
       "Test Statistic   -2.056317\n",
       "p-value           0.262439\n",
       "dtype: float64"
      ]
     },
     "execution_count": 28,
     "metadata": {},
     "output_type": "execute_result"
    }
   ],
   "source": [
    "interpret_dftest((adfuller(el_salvador['Second_Diff'].dropna())))"
   ]
  },
  {
   "cell_type": "code",
   "execution_count": 29,
   "metadata": {},
   "outputs": [
    {
     "data": {
      "text/plain": [
       "Test Statistic   -2.615064\n",
       "p-value           0.089924\n",
       "dtype: float64"
      ]
     },
     "execution_count": 29,
     "metadata": {},
     "output_type": "execute_result"
    }
   ],
   "source": [
    "interpret_dftest((adfuller(el_salvador['Third_Diff'].dropna())))"
   ]
  },
  {
   "cell_type": "code",
   "execution_count": 30,
   "metadata": {},
   "outputs": [
    {
     "data": {
      "text/plain": [
       "Test Statistic   -7.565124e+00\n",
       "p-value           2.939542e-11\n",
       "dtype: float64"
      ]
     },
     "execution_count": 30,
     "metadata": {},
     "output_type": "execute_result"
    }
   ],
   "source": [
    "interpret_dftest((adfuller(el_salvador['Fourth_Diff'].dropna())))"
   ]
  },
  {
   "cell_type": "code",
   "execution_count": 31,
   "metadata": {},
   "outputs": [
    {
     "data": {
      "text/plain": [
       "Test Statistic   -8.547145e+00\n",
       "p-value           9.435965e-14\n",
       "dtype: float64"
      ]
     },
     "execution_count": 31,
     "metadata": {},
     "output_type": "execute_result"
    }
   ],
   "source": [
    "interpret_dftest((adfuller(el_salvador['Fifth_Diff'].dropna())))"
   ]
  },
  {
   "cell_type": "code",
   "execution_count": 32,
   "metadata": {},
   "outputs": [
    {
     "data": {
      "text/plain": [
       "Year\n",
       "2004-01-01    200.027984\n",
       "2005-01-01    213.669941\n",
       "2006-01-01    253.180248\n",
       "2007-01-01    305.618789\n",
       "2008-01-01    336.761150\n",
       "2009-01-01    387.953909\n",
       "2010-01-01    428.751261\n",
       "2011-01-01    413.321812\n",
       "2012-01-01    460.666591\n",
       "2013-01-01    434.037370\n",
       "2014-01-01    478.200713\n",
       "2015-01-01    533.744948\n",
       "2016-01-01    589.135926\n",
       "Name: Incarceration_Rate_Per_100_000, dtype: float64"
      ]
     },
     "execution_count": 32,
     "metadata": {},
     "output_type": "execute_result"
    }
   ],
   "source": [
    "# Create train-test split.\n",
    "train, test = train_test_split(el_salvador['Incarceration_Rate_Per_100_000'],\n",
    "                                                    test_size = 0.15,\n",
    "                                                    shuffle = False) \n",
    "train"
   ]
  },
  {
   "cell_type": "code",
   "execution_count": 33,
   "metadata": {},
   "outputs": [
    {
     "name": "stderr",
     "output_type": "stream",
     "text": [
      "c:\\Users\\Alex_Compu\\AppData\\Local\\anaconda3\\Lib\\site-packages\\statsmodels\\tsa\\base\\tsa_model.py:473: ValueWarning: No frequency information was provided, so inferred frequency AS-JAN will be used.\n",
      "  self._init_dates(dates, freq)\n",
      "c:\\Users\\Alex_Compu\\AppData\\Local\\anaconda3\\Lib\\site-packages\\statsmodels\\tsa\\base\\tsa_model.py:473: ValueWarning: No frequency information was provided, so inferred frequency AS-JAN will be used.\n",
      "  self._init_dates(dates, freq)\n",
      "c:\\Users\\Alex_Compu\\AppData\\Local\\anaconda3\\Lib\\site-packages\\statsmodels\\tsa\\base\\tsa_model.py:473: ValueWarning: No frequency information was provided, so inferred frequency AS-JAN will be used.\n",
      "  self._init_dates(dates, freq)\n"
     ]
    }
   ],
   "source": [
    "\n",
    "model_2 = ARIMA(endog=train, \n",
    "             order = (0, 1, 0)) # order = (p, d, q)\n",
    "\n",
    "el_salvador_arima = model_2.fit()\n",
    "\n",
    "el_salvador_predictions = el_salvador_arima.predict(start=datetime(2005,1,1), end=datetime(2025,1,1))"
   ]
  },
  {
   "cell_type": "code",
   "execution_count": 34,
   "metadata": {},
   "outputs": [
    {
     "data": {
      "image/png": "[encoded data removed]",
      "text/plain": [
       "<Figure size 640x480 with 1 Axes>"
      ]
     },
     "metadata": {},
     "output_type": "display_data"
    }
   ],
   "source": [
    "el_salvador_predictions.plot()\n",
    "el_salvador['Incarceration_Rate_Per_100_000'].plot()\n",
    "plt.title('El Salvador Incarceration Rate vs Arima Model Predicted Incarceration Rate')\n",
    "plt.legend()\n",
    "plt.savefig('../../Images/El_Salvador_Incarceration_Rate_Predictions');"
   ]
  },
  {
   "cell_type": "markdown",
   "metadata": {},
   "source": [
    "## Hoduras ARIMA Model"
   ]
  },
  {
   "cell_type": "code",
   "execution_count": 35,
   "metadata": {},
   "outputs": [
    {
     "data": {
      "text/html": [
       "<div>\n",
       "<style scoped>\n",
       "    .dataframe tbody tr th:only-of-type {\n",
       "        vertical-align: middle;\n",
       "    }\n",
       "\n",
       "    .dataframe tbody tr th {\n",
       "        vertical-align: top;\n",
       "    }\n",
       "\n",
       "    .dataframe thead th {\n",
       "        text-align: right;\n",
       "    }\n",
       "</style>\n",
       "<table border=\"1\" class=\"dataframe\">\n",
       "  <thead>\n",
       "    <tr style=\"text-align: right;\">\n",
       "      <th></th>\n",
       "      <th>Country</th>\n",
       "      <th>Incarceration_Rate_Per_100_000</th>\n",
       "    </tr>\n",
       "    <tr>\n",
       "      <th>Year</th>\n",
       "      <th></th>\n",
       "      <th></th>\n",
       "    </tr>\n",
       "  </thead>\n",
       "  <tbody>\n",
       "    <tr>\n",
       "      <th>2017-01-01</th>\n",
       "      <td>Honduras</td>\n",
       "      <td>200.844680</td>\n",
       "    </tr>\n",
       "    <tr>\n",
       "      <th>2018-01-01</th>\n",
       "      <td>Honduras</td>\n",
       "      <td>211.664633</td>\n",
       "    </tr>\n",
       "    <tr>\n",
       "      <th>2019-01-01</th>\n",
       "      <td>Honduras</td>\n",
       "      <td>217.144004</td>\n",
       "    </tr>\n",
       "    <tr>\n",
       "      <th>2020-01-01</th>\n",
       "      <td>Honduras</td>\n",
       "      <td>214.468566</td>\n",
       "    </tr>\n",
       "    <tr>\n",
       "      <th>2021-01-01</th>\n",
       "      <td>Honduras</td>\n",
       "      <td>196.432393</td>\n",
       "    </tr>\n",
       "  </tbody>\n",
       "</table>\n",
       "</div>"
      ],
      "text/plain": [
       "             Country  Incarceration_Rate_Per_100_000\n",
       "Year                                                \n",
       "2017-01-01  Honduras                      200.844680\n",
       "2018-01-01  Honduras                      211.664633\n",
       "2019-01-01  Honduras                      217.144004\n",
       "2020-01-01  Honduras                      214.468566\n",
       "2021-01-01  Honduras                      196.432393"
      ]
     },
     "execution_count": 35,
     "metadata": {},
     "output_type": "execute_result"
    }
   ],
   "source": [
    "honduras.sort_index(inplace=True)\n",
    "honduras.tail()"
   ]
  },
  {
   "cell_type": "code",
   "execution_count": 36,
   "metadata": {},
   "outputs": [
    {
     "name": "stderr",
     "output_type": "stream",
     "text": [
      "C:\\Users\\Alex_Compu\\AppData\\Local\\Temp\\ipykernel_1280\\668033468.py:1: SettingWithCopyWarning: \n",
      "A value is trying to be set on a copy of a slice from a DataFrame.\n",
      "Try using .loc[row_indexer,col_indexer] = value instead\n",
      "\n",
      "See the caveats in the documentation: https://pandas.pydata.org/pandas-docs/stable/user_guide/indexing.html#returning-a-view-versus-a-copy\n",
      "  honduras['First_Diff'] = honduras['Incarceration_Rate_Per_100_000'].diff()\n",
      "C:\\Users\\Alex_Compu\\AppData\\Local\\Temp\\ipykernel_1280\\668033468.py:2: SettingWithCopyWarning: \n",
      "A value is trying to be set on a copy of a slice from a DataFrame.\n",
      "Try using .loc[row_indexer,col_indexer] = value instead\n",
      "\n",
      "See the caveats in the documentation: https://pandas.pydata.org/pandas-docs/stable/user_guide/indexing.html#returning-a-view-versus-a-copy\n",
      "  honduras['Second_Diff'] = honduras['Incarceration_Rate_Per_100_000'].diff().diff()\n",
      "C:\\Users\\Alex_Compu\\AppData\\Local\\Temp\\ipykernel_1280\\668033468.py:3: SettingWithCopyWarning: \n",
      "A value is trying to be set on a copy of a slice from a DataFrame.\n",
      "Try using .loc[row_indexer,col_indexer] = value instead\n",
      "\n",
      "See the caveats in the documentation: https://pandas.pydata.org/pandas-docs/stable/user_guide/indexing.html#returning-a-view-versus-a-copy\n",
      "  honduras['Third_Diff'] = honduras['Incarceration_Rate_Per_100_000'].diff().diff().diff()\n",
      "C:\\Users\\Alex_Compu\\AppData\\Local\\Temp\\ipykernel_1280\\668033468.py:4: SettingWithCopyWarning: \n",
      "A value is trying to be set on a copy of a slice from a DataFrame.\n",
      "Try using .loc[row_indexer,col_indexer] = value instead\n",
      "\n",
      "See the caveats in the documentation: https://pandas.pydata.org/pandas-docs/stable/user_guide/indexing.html#returning-a-view-versus-a-copy\n",
      "  honduras['Fourth_Diff'] = honduras['Incarceration_Rate_Per_100_000'].diff().diff().diff().diff()\n",
      "C:\\Users\\Alex_Compu\\AppData\\Local\\Temp\\ipykernel_1280\\668033468.py:5: SettingWithCopyWarning: \n",
      "A value is trying to be set on a copy of a slice from a DataFrame.\n",
      "Try using .loc[row_indexer,col_indexer] = value instead\n",
      "\n",
      "See the caveats in the documentation: https://pandas.pydata.org/pandas-docs/stable/user_guide/indexing.html#returning-a-view-versus-a-copy\n",
      "  honduras['Fifth_Diff'] = honduras['Incarceration_Rate_Per_100_000'].diff().diff().diff().diff().diff()\n"
     ]
    }
   ],
   "source": [
    "honduras['First_Diff'] = honduras['Incarceration_Rate_Per_100_000'].diff()\n",
    "honduras['Second_Diff'] = honduras['Incarceration_Rate_Per_100_000'].diff().diff()\n",
    "honduras['Third_Diff'] = honduras['Incarceration_Rate_Per_100_000'].diff().diff().diff()\n",
    "honduras['Fourth_Diff'] = honduras['Incarceration_Rate_Per_100_000'].diff().diff().diff().diff() \n",
    "honduras['Fifth_Diff'] = honduras['Incarceration_Rate_Per_100_000'].diff().diff().diff().diff().diff()   \n",
    "\n"
   ]
  },
  {
   "cell_type": "code",
   "execution_count": 37,
   "metadata": {},
   "outputs": [
    {
     "data": {
      "text/plain": [
       "Test Statistic   -39.072247\n",
       "p-value            0.000000\n",
       "dtype: float64"
      ]
     },
     "execution_count": 37,
     "metadata": {},
     "output_type": "execute_result"
    }
   ],
   "source": [
    "interpret_dftest((adfuller(honduras['Incarceration_Rate_Per_100_000'])))"
   ]
  },
  {
   "cell_type": "code",
   "execution_count": 38,
   "metadata": {},
   "outputs": [
    {
     "data": {
      "text/plain": [
       "Test Statistic   -1.691005\n",
       "p-value           0.435753\n",
       "dtype: float64"
      ]
     },
     "execution_count": 38,
     "metadata": {},
     "output_type": "execute_result"
    }
   ],
   "source": [
    "interpret_dftest((adfuller(honduras['First_Diff'].dropna())))"
   ]
  },
  {
   "cell_type": "code",
   "execution_count": 39,
   "metadata": {},
   "outputs": [
    {
     "data": {
      "text/plain": [
       "Test Statistic    1.940972\n",
       "p-value           0.998591\n",
       "dtype: float64"
      ]
     },
     "execution_count": 39,
     "metadata": {},
     "output_type": "execute_result"
    }
   ],
   "source": [
    "interpret_dftest((adfuller(honduras['Second_Diff'].dropna())))"
   ]
  },
  {
   "cell_type": "code",
   "execution_count": 40,
   "metadata": {},
   "outputs": [
    {
     "data": {
      "text/plain": [
       "Test Statistic   -3.966469\n",
       "p-value           0.001597\n",
       "dtype: float64"
      ]
     },
     "execution_count": 40,
     "metadata": {},
     "output_type": "execute_result"
    }
   ],
   "source": [
    "interpret_dftest((adfuller(honduras['Third_Diff'].dropna())))"
   ]
  },
  {
   "cell_type": "code",
   "execution_count": 41,
   "metadata": {},
   "outputs": [
    {
     "data": {
      "text/plain": [
       "Test Statistic   -29.583104\n",
       "p-value            0.000000\n",
       "dtype: float64"
      ]
     },
     "execution_count": 41,
     "metadata": {},
     "output_type": "execute_result"
    }
   ],
   "source": [
    "\n",
    "interpret_dftest((adfuller(honduras['Fourth_Diff'].dropna())))\n"
   ]
  },
  {
   "cell_type": "code",
   "execution_count": 42,
   "metadata": {},
   "outputs": [
    {
     "data": {
      "text/plain": [
       "Test Statistic   -1.015366e+01\n",
       "p-value           7.831482e-18\n",
       "dtype: float64"
      ]
     },
     "execution_count": 42,
     "metadata": {},
     "output_type": "execute_result"
    }
   ],
   "source": [
    "interpret_dftest((adfuller(honduras['Fifth_Diff'].dropna())))"
   ]
  },
  {
   "cell_type": "code",
   "execution_count": 43,
   "metadata": {},
   "outputs": [
    {
     "data": {
      "text/plain": [
       "Year\n",
       "2004-01-01    148.048194\n",
       "2005-01-01    153.200170\n",
       "2006-01-01    144.321644\n",
       "2008-01-01    140.586442\n",
       "2010-01-01    139.274571\n",
       "2011-01-01    142.418018\n",
       "2012-01-01    137.562510\n",
       "2013-01-01    147.132069\n",
       "2014-01-01    163.039552\n",
       "2015-01-01    173.844644\n",
       "2016-01-01    184.910416\n",
       "2017-01-01    200.844680\n",
       "2018-01-01    211.664633\n",
       "Name: Incarceration_Rate_Per_100_000, dtype: float64"
      ]
     },
     "execution_count": 43,
     "metadata": {},
     "output_type": "execute_result"
    }
   ],
   "source": [
    "train, test = train_test_split(honduras['Incarceration_Rate_Per_100_000'],\n",
    "                                                    test_size = 0.15,\n",
    "                                                    shuffle = False) \n",
    "train\n"
   ]
  },
  {
   "cell_type": "code",
   "execution_count": 44,
   "metadata": {},
   "outputs": [
    {
     "data": {
      "text/plain": [
       "Year\n",
       "2019-01-01    217.144004\n",
       "2020-01-01    214.468566\n",
       "2021-01-01    196.432393\n",
       "Name: Incarceration_Rate_Per_100_000, dtype: float64"
      ]
     },
     "execution_count": 44,
     "metadata": {},
     "output_type": "execute_result"
    }
   ],
   "source": [
    "test"
   ]
  },
  {
   "cell_type": "code",
   "execution_count": 45,
   "metadata": {},
   "outputs": [
    {
     "name": "stderr",
     "output_type": "stream",
     "text": [
      "c:\\Users\\Alex_Compu\\AppData\\Local\\anaconda3\\Lib\\site-packages\\statsmodels\\tsa\\base\\tsa_model.py:473: ValueWarning: A date index has been provided, but it has no associated frequency information and so will be ignored when e.g. forecasting.\n",
      "  self._init_dates(dates, freq)\n",
      "c:\\Users\\Alex_Compu\\AppData\\Local\\anaconda3\\Lib\\site-packages\\statsmodels\\tsa\\base\\tsa_model.py:473: ValueWarning: A date index has been provided, but it has no associated frequency information and so will be ignored when e.g. forecasting.\n",
      "  self._init_dates(dates, freq)\n",
      "c:\\Users\\Alex_Compu\\AppData\\Local\\anaconda3\\Lib\\site-packages\\statsmodels\\tsa\\base\\tsa_model.py:473: ValueWarning: A date index has been provided, but it has no associated frequency information and so will be ignored when e.g. forecasting.\n",
      "  self._init_dates(dates, freq)\n"
     ]
    }
   ],
   "source": [
    "model_3 = ARIMA(endog=train, \n",
    "             order = (0, 1, 0)) # order = (p, d, q)"
   ]
  },
  {
   "cell_type": "code",
   "execution_count": 52,
   "metadata": {},
   "outputs": [
    {
     "ename": "KeyError",
     "evalue": "'The `end` argument could not be matched to a location related to the index of the data.'",
     "output_type": "error",
     "traceback": [
      "\u001b[1;31m---------------------------------------------------------------------------\u001b[0m",
      "\u001b[1;31mKeyError\u001b[0m                                  Traceback (most recent call last)",
      "File \u001b[1;32mc:\\Users\\Alex_Compu\\AppData\\Local\\anaconda3\\Lib\\site-packages\\pandas\\_libs\\index.pyx:581\u001b[0m, in \u001b[0;36mpandas._libs.index.DatetimeEngine.get_loc\u001b[1;34m()\u001b[0m\n",
      "File \u001b[1;32mpandas\\_libs\\hashtable_class_helper.pxi:2606\u001b[0m, in \u001b[0;36mpandas._libs.hashtable.Int64HashTable.get_item\u001b[1;34m()\u001b[0m\n",
      "File \u001b[1;32mpandas\\_libs\\hashtable_class_helper.pxi:2630\u001b[0m, in \u001b[0;36mpandas._libs.hashtable.Int64HashTable.get_item\u001b[1;34m()\u001b[0m\n",
      "\u001b[1;31mKeyError\u001b[0m: 1735689600000000000",
      "\nDuring handling of the above exception, another exception occurred:\n",
      "\u001b[1;31mKeyError\u001b[0m                                  Traceback (most recent call last)",
      "File \u001b[1;32mc:\\Users\\Alex_Compu\\AppData\\Local\\anaconda3\\Lib\\site-packages\\pandas\\core\\indexes\\base.py:3653\u001b[0m, in \u001b[0;36mIndex.get_loc\u001b[1;34m(self, key)\u001b[0m\n\u001b[0;32m   3652\u001b[0m \u001b[39mtry\u001b[39;00m:\n\u001b[1;32m-> 3653\u001b[0m     \u001b[39mreturn\u001b[39;00m \u001b[39mself\u001b[39m\u001b[39m.\u001b[39m_engine\u001b[39m.\u001b[39mget_loc(casted_key)\n\u001b[0;32m   3654\u001b[0m \u001b[39mexcept\u001b[39;00m \u001b[39mKeyError\u001b[39;00m \u001b[39mas\u001b[39;00m err:\n",
      "File \u001b[1;32mc:\\Users\\Alex_Compu\\AppData\\Local\\anaconda3\\Lib\\site-packages\\pandas\\_libs\\index.pyx:549\u001b[0m, in \u001b[0;36mpandas._libs.index.DatetimeEngine.get_loc\u001b[1;34m()\u001b[0m\n",
      "File \u001b[1;32mc:\\Users\\Alex_Compu\\AppData\\Local\\anaconda3\\Lib\\site-packages\\pandas\\_libs\\index.pyx:583\u001b[0m, in \u001b[0;36mpandas._libs.index.DatetimeEngine.get_loc\u001b[1;34m()\u001b[0m\n",
      "\u001b[1;31mKeyError\u001b[0m: Timestamp('2025-01-01 00:00:00')",
      "\nThe above exception was the direct cause of the following exception:\n",
      "\u001b[1;31mKeyError\u001b[0m                                  Traceback (most recent call last)",
      "File \u001b[1;32mc:\\Users\\Alex_Compu\\AppData\\Local\\anaconda3\\Lib\\site-packages\\pandas\\core\\indexes\\datetimes.py:584\u001b[0m, in \u001b[0;36mDatetimeIndex.get_loc\u001b[1;34m(self, key)\u001b[0m\n\u001b[0;32m    583\u001b[0m \u001b[39mtry\u001b[39;00m:\n\u001b[1;32m--> 584\u001b[0m     \u001b[39mreturn\u001b[39;00m Index\u001b[39m.\u001b[39mget_loc(\u001b[39mself\u001b[39m, key)\n\u001b[0;32m    585\u001b[0m \u001b[39mexcept\u001b[39;00m \u001b[39mKeyError\u001b[39;00m \u001b[39mas\u001b[39;00m err:\n",
      "File \u001b[1;32mc:\\Users\\Alex_Compu\\AppData\\Local\\anaconda3\\Lib\\site-packages\\pandas\\core\\indexes\\base.py:3655\u001b[0m, in \u001b[0;36mIndex.get_loc\u001b[1;34m(self, key)\u001b[0m\n\u001b[0;32m   3654\u001b[0m \u001b[39mexcept\u001b[39;00m \u001b[39mKeyError\u001b[39;00m \u001b[39mas\u001b[39;00m err:\n\u001b[1;32m-> 3655\u001b[0m     \u001b[39mraise\u001b[39;00m \u001b[39mKeyError\u001b[39;00m(key) \u001b[39mfrom\u001b[39;00m \u001b[39merr\u001b[39;00m\n\u001b[0;32m   3656\u001b[0m \u001b[39mexcept\u001b[39;00m \u001b[39mTypeError\u001b[39;00m:\n\u001b[0;32m   3657\u001b[0m     \u001b[39m# If we have a listlike key, _check_indexing_error will raise\u001b[39;00m\n\u001b[0;32m   3658\u001b[0m     \u001b[39m#  InvalidIndexError. Otherwise we fall through and re-raise\u001b[39;00m\n\u001b[0;32m   3659\u001b[0m     \u001b[39m#  the TypeError.\u001b[39;00m\n",
      "\u001b[1;31mKeyError\u001b[0m: Timestamp('2025-01-01 00:00:00')",
      "\nThe above exception was the direct cause of the following exception:\n",
      "\u001b[1;31mKeyError\u001b[0m                                  Traceback (most recent call last)",
      "File \u001b[1;32mc:\\Users\\Alex_Compu\\AppData\\Local\\anaconda3\\Lib\\site-packages\\statsmodels\\tsa\\base\\tsa_model.py:249\u001b[0m, in \u001b[0;36mget_index_label_loc\u001b[1;34m(key, index, row_labels)\u001b[0m\n\u001b[0;32m    248\u001b[0m \u001b[39mif\u001b[39;00m \u001b[39mnot\u001b[39;00m \u001b[39misinstance\u001b[39m(key, (\u001b[39mint\u001b[39m, np\u001b[39m.\u001b[39minteger)):\n\u001b[1;32m--> 249\u001b[0m     loc \u001b[39m=\u001b[39m row_labels\u001b[39m.\u001b[39mget_loc(key)\n\u001b[0;32m    250\u001b[0m \u001b[39melse\u001b[39;00m:\n",
      "File \u001b[1;32mc:\\Users\\Alex_Compu\\AppData\\Local\\anaconda3\\Lib\\site-packages\\pandas\\core\\indexes\\datetimes.py:586\u001b[0m, in \u001b[0;36mDatetimeIndex.get_loc\u001b[1;34m(self, key)\u001b[0m\n\u001b[0;32m    585\u001b[0m \u001b[39mexcept\u001b[39;00m \u001b[39mKeyError\u001b[39;00m \u001b[39mas\u001b[39;00m err:\n\u001b[1;32m--> 586\u001b[0m     \u001b[39mraise\u001b[39;00m \u001b[39mKeyError\u001b[39;00m(orig_key) \u001b[39mfrom\u001b[39;00m \u001b[39merr\u001b[39;00m\n",
      "\u001b[1;31mKeyError\u001b[0m: datetime.datetime(2025, 1, 1, 0, 0)",
      "\nDuring handling of the above exception, another exception occurred:\n",
      "\u001b[1;31mKeyError\u001b[0m                                  Traceback (most recent call last)",
      "File \u001b[1;32mc:\\Users\\Alex_Compu\\AppData\\Local\\anaconda3\\Lib\\site-packages\\statsmodels\\tsa\\base\\tsa_model.py:369\u001b[0m, in \u001b[0;36mget_prediction_index\u001b[1;34m(start, end, nobs, base_index, index, silent, index_none, index_generated, data)\u001b[0m\n\u001b[0;32m    368\u001b[0m \u001b[39mtry\u001b[39;00m:\n\u001b[1;32m--> 369\u001b[0m     end, end_index, end_oos \u001b[39m=\u001b[39m get_index_label_loc(\n\u001b[0;32m    370\u001b[0m         end, base_index, data\u001b[39m.\u001b[39mrow_labels\n\u001b[0;32m    371\u001b[0m     )\n\u001b[0;32m    372\u001b[0m \u001b[39mexcept\u001b[39;00m \u001b[39mKeyError\u001b[39;00m:\n",
      "File \u001b[1;32mc:\\Users\\Alex_Compu\\AppData\\Local\\anaconda3\\Lib\\site-packages\\statsmodels\\tsa\\base\\tsa_model.py:281\u001b[0m, in \u001b[0;36mget_index_label_loc\u001b[1;34m(key, index, row_labels)\u001b[0m\n\u001b[0;32m    280\u001b[0m     \u001b[39mexcept\u001b[39;00m:\n\u001b[1;32m--> 281\u001b[0m         \u001b[39mraise\u001b[39;00m e\n\u001b[0;32m    282\u001b[0m \u001b[39mreturn\u001b[39;00m loc, index, index_was_expanded\n",
      "File \u001b[1;32mc:\\Users\\Alex_Compu\\AppData\\Local\\anaconda3\\Lib\\site-packages\\statsmodels\\tsa\\base\\tsa_model.py:245\u001b[0m, in \u001b[0;36mget_index_label_loc\u001b[1;34m(key, index, row_labels)\u001b[0m\n\u001b[0;32m    244\u001b[0m \u001b[39mtry\u001b[39;00m:\n\u001b[1;32m--> 245\u001b[0m     loc, index, index_was_expanded \u001b[39m=\u001b[39m get_index_loc(key, index)\n\u001b[0;32m    246\u001b[0m \u001b[39mexcept\u001b[39;00m \u001b[39mKeyError\u001b[39;00m \u001b[39mas\u001b[39;00m e:\n",
      "File \u001b[1;32mc:\\Users\\Alex_Compu\\AppData\\Local\\anaconda3\\Lib\\site-packages\\statsmodels\\tsa\\base\\tsa_model.py:195\u001b[0m, in \u001b[0;36mget_index_loc\u001b[1;34m(key, index)\u001b[0m\n\u001b[0;32m    194\u001b[0m \u001b[39mexcept\u001b[39;00m (\u001b[39mIndexError\u001b[39;00m, \u001b[39mValueError\u001b[39;00m) \u001b[39mas\u001b[39;00m e:\n\u001b[1;32m--> 195\u001b[0m     \u001b[39mraise\u001b[39;00m \u001b[39mKeyError\u001b[39;00m(\u001b[39mstr\u001b[39m(e))\n\u001b[0;32m    196\u001b[0m loc \u001b[39m=\u001b[39m key\n",
      "\u001b[1;31mKeyError\u001b[0m: 'only integers, slices (`:`), ellipsis (`...`), numpy.newaxis (`None`) and integer or boolean arrays are valid indices'",
      "\nDuring handling of the above exception, another exception occurred:\n",
      "\u001b[1;31mKeyError\u001b[0m                                  Traceback (most recent call last)",
      "\u001b[1;32mc:\\Users\\Alex_Compu\\ML\\Projects\\project_5_group_work\\Coding_Notebooks\\Modeling_Process\\Incarceration_Rates_Time_Series_Analysis.ipynb Cell 53\u001b[0m line \u001b[0;36m3\n\u001b[0;32m      <a href='vscode-notebook-cell:/c%3A/Users/Alex_Compu/ML/Projects/project_5_group_work/Coding_Notebooks/Modeling_Process/Incarceration_Rates_Time_Series_Analysis.ipynb#Y103sZmlsZQ%3D%3D?line=0'>1</a>\u001b[0m honduras_arima \u001b[39m=\u001b[39m model_3\u001b[39m.\u001b[39mfit()\n\u001b[1;32m----> <a href='vscode-notebook-cell:/c%3A/Users/Alex_Compu/ML/Projects/project_5_group_work/Coding_Notebooks/Modeling_Process/Incarceration_Rates_Time_Series_Analysis.ipynb#Y103sZmlsZQ%3D%3D?line=2'>3</a>\u001b[0m honduras_predictions \u001b[39m=\u001b[39m honduras_arima\u001b[39m.\u001b[39mpredict(start\u001b[39m=\u001b[39mdatetime(\u001b[39m2005\u001b[39m,\u001b[39m1\u001b[39m,\u001b[39m1\u001b[39m), end\u001b[39m=\u001b[39mdatetime(\u001b[39m2025\u001b[39m,\u001b[39m1\u001b[39m,\u001b[39m1\u001b[39m))\n",
      "File \u001b[1;32mc:\\Users\\Alex_Compu\\AppData\\Local\\anaconda3\\Lib\\site-packages\\statsmodels\\base\\wrapper.py:113\u001b[0m, in \u001b[0;36mmake_wrapper.<locals>.wrapper\u001b[1;34m(self, *args, **kwargs)\u001b[0m\n\u001b[0;32m    111\u001b[0m     obj \u001b[39m=\u001b[39m data\u001b[39m.\u001b[39mwrap_output(func(results, \u001b[39m*\u001b[39margs, \u001b[39m*\u001b[39m\u001b[39m*\u001b[39mkwargs), how[\u001b[39m0\u001b[39m], how[\u001b[39m1\u001b[39m:])\n\u001b[0;32m    112\u001b[0m \u001b[39melif\u001b[39;00m how:\n\u001b[1;32m--> 113\u001b[0m     obj \u001b[39m=\u001b[39m data\u001b[39m.\u001b[39mwrap_output(func(results, \u001b[39m*\u001b[39margs, \u001b[39m*\u001b[39m\u001b[39m*\u001b[39mkwargs), how)\n\u001b[0;32m    114\u001b[0m \u001b[39mreturn\u001b[39;00m obj\n",
      "File \u001b[1;32mc:\\Users\\Alex_Compu\\AppData\\Local\\anaconda3\\Lib\\site-packages\\statsmodels\\tsa\\statespace\\mlemodel.py:3487\u001b[0m, in \u001b[0;36mMLEResults.predict\u001b[1;34m(self, start, end, dynamic, information_set, signal_only, **kwargs)\u001b[0m\n\u001b[0;32m   3422\u001b[0m \u001b[39m\u001b[39m\u001b[39mr\u001b[39m\u001b[39m\"\"\"\u001b[39;00m\n\u001b[0;32m   3423\u001b[0m \u001b[39mIn-sample prediction and out-of-sample forecasting\u001b[39;00m\n\u001b[0;32m   3424\u001b[0m \n\u001b[1;32m   (...)\u001b[0m\n\u001b[0;32m   3484\u001b[0m \u001b[39m    including confidence intervals.\u001b[39;00m\n\u001b[0;32m   3485\u001b[0m \u001b[39m\"\"\"\u001b[39;00m\n\u001b[0;32m   3486\u001b[0m \u001b[39m# Perform the prediction\u001b[39;00m\n\u001b[1;32m-> 3487\u001b[0m prediction_results \u001b[39m=\u001b[39m \u001b[39mself\u001b[39m\u001b[39m.\u001b[39mget_prediction(\n\u001b[0;32m   3488\u001b[0m     start, end, dynamic, information_set\u001b[39m=\u001b[39minformation_set,\n\u001b[0;32m   3489\u001b[0m     signal_only\u001b[39m=\u001b[39msignal_only, \u001b[39m*\u001b[39m\u001b[39m*\u001b[39mkwargs)\n\u001b[0;32m   3490\u001b[0m \u001b[39mreturn\u001b[39;00m prediction_results\u001b[39m.\u001b[39mpredicted_mean\n",
      "File \u001b[1;32mc:\\Users\\Alex_Compu\\AppData\\Local\\anaconda3\\Lib\\site-packages\\statsmodels\\tsa\\statespace\\mlemodel.py:3340\u001b[0m, in \u001b[0;36mMLEResults.get_prediction\u001b[1;34m(self, start, end, dynamic, information_set, signal_only, index, exog, extend_model, extend_kwargs, **kwargs)\u001b[0m\n\u001b[0;32m   3336\u001b[0m     start \u001b[39m=\u001b[39m \u001b[39m0\u001b[39m\n\u001b[0;32m   3338\u001b[0m \u001b[39m# Handle start, end, dynamic\u001b[39;00m\n\u001b[0;32m   3339\u001b[0m start, end, out_of_sample, prediction_index \u001b[39m=\u001b[39m (\n\u001b[1;32m-> 3340\u001b[0m     \u001b[39mself\u001b[39m\u001b[39m.\u001b[39mmodel\u001b[39m.\u001b[39m_get_prediction_index(start, end, index))\n\u001b[0;32m   3342\u001b[0m \u001b[39m# Handle `dynamic`\u001b[39;00m\n\u001b[0;32m   3343\u001b[0m \u001b[39mif\u001b[39;00m \u001b[39misinstance\u001b[39m(dynamic, (\u001b[39mstr\u001b[39m, dt\u001b[39m.\u001b[39mdatetime, pd\u001b[39m.\u001b[39mTimestamp)):\n",
      "File \u001b[1;32mc:\\Users\\Alex_Compu\\AppData\\Local\\anaconda3\\Lib\\site-packages\\statsmodels\\tsa\\base\\tsa_model.py:836\u001b[0m, in \u001b[0;36mTimeSeriesModel._get_prediction_index\u001b[1;34m(self, start, end, index, silent)\u001b[0m\n\u001b[0;32m    780\u001b[0m \u001b[39m\u001b[39m\u001b[39m\"\"\"\u001b[39;00m\n\u001b[0;32m    781\u001b[0m \u001b[39mGet the location of a specific key in an index or model row labels\u001b[39;00m\n\u001b[0;32m    782\u001b[0m \n\u001b[1;32m   (...)\u001b[0m\n\u001b[0;32m    833\u001b[0m \u001b[39msince we have required them to be full indexes, there is no ambiguity).\u001b[39;00m\n\u001b[0;32m    834\u001b[0m \u001b[39m\"\"\"\u001b[39;00m\n\u001b[0;32m    835\u001b[0m nobs \u001b[39m=\u001b[39m \u001b[39mlen\u001b[39m(\u001b[39mself\u001b[39m\u001b[39m.\u001b[39mendog)\n\u001b[1;32m--> 836\u001b[0m \u001b[39mreturn\u001b[39;00m get_prediction_index(\n\u001b[0;32m    837\u001b[0m     start,\n\u001b[0;32m    838\u001b[0m     end,\n\u001b[0;32m    839\u001b[0m     nobs,\n\u001b[0;32m    840\u001b[0m     base_index\u001b[39m=\u001b[39m\u001b[39mself\u001b[39m\u001b[39m.\u001b[39m_index,\n\u001b[0;32m    841\u001b[0m     index\u001b[39m=\u001b[39mindex,\n\u001b[0;32m    842\u001b[0m     silent\u001b[39m=\u001b[39msilent,\n\u001b[0;32m    843\u001b[0m     index_none\u001b[39m=\u001b[39m\u001b[39mself\u001b[39m\u001b[39m.\u001b[39m_index_none,\n\u001b[0;32m    844\u001b[0m     index_generated\u001b[39m=\u001b[39m\u001b[39mself\u001b[39m\u001b[39m.\u001b[39m_index_generated,\n\u001b[0;32m    845\u001b[0m     data\u001b[39m=\u001b[39m\u001b[39mself\u001b[39m\u001b[39m.\u001b[39mdata,\n\u001b[0;32m    846\u001b[0m )\n",
      "File \u001b[1;32mc:\\Users\\Alex_Compu\\AppData\\Local\\anaconda3\\Lib\\site-packages\\statsmodels\\tsa\\base\\tsa_model.py:373\u001b[0m, in \u001b[0;36mget_prediction_index\u001b[1;34m(start, end, nobs, base_index, index, silent, index_none, index_generated, data)\u001b[0m\n\u001b[0;32m    369\u001b[0m     end, end_index, end_oos \u001b[39m=\u001b[39m get_index_label_loc(\n\u001b[0;32m    370\u001b[0m         end, base_index, data\u001b[39m.\u001b[39mrow_labels\n\u001b[0;32m    371\u001b[0m     )\n\u001b[0;32m    372\u001b[0m \u001b[39mexcept\u001b[39;00m \u001b[39mKeyError\u001b[39;00m:\n\u001b[1;32m--> 373\u001b[0m     \u001b[39mraise\u001b[39;00m \u001b[39mKeyError\u001b[39;00m(\n\u001b[0;32m    374\u001b[0m         \u001b[39m\"\u001b[39m\u001b[39mThe `end` argument could not be matched to a\u001b[39m\u001b[39m\"\u001b[39m\n\u001b[0;32m    375\u001b[0m         \u001b[39m\"\u001b[39m\u001b[39m location related to the index of the data.\u001b[39m\u001b[39m\"\u001b[39m\n\u001b[0;32m    376\u001b[0m     )\n\u001b[0;32m    378\u001b[0m \u001b[39m# Handle slices (if the given index keys cover more than one date)\u001b[39;00m\n\u001b[0;32m    379\u001b[0m \u001b[39mif\u001b[39;00m \u001b[39misinstance\u001b[39m(start, \u001b[39mslice\u001b[39m):\n",
      "\u001b[1;31mKeyError\u001b[0m: 'The `end` argument could not be matched to a location related to the index of the data.'"
     ]
    }
   ],
   "source": [
    "honduras_arima = model_3.fit()\n",
    "\n",
    "honduras_predictions = honduras_arima.predict(start=datetime(2005,1,1), end=datetime(2025,1,1))"
   ]
  },
  {
   "cell_type": "code",
   "execution_count": 53,
   "metadata": {},
   "outputs": [
    {
     "ename": "NameError",
     "evalue": "name 'honduras_predictions' is not defined",
     "output_type": "error",
     "traceback": [
      "\u001b[1;31m---------------------------------------------------------------------------\u001b[0m",
      "\u001b[1;31mNameError\u001b[0m                                 Traceback (most recent call last)",
      "\u001b[1;32mc:\\Users\\Alex_Compu\\ML\\Projects\\project_5_group_work\\Coding_Notebooks\\Modeling_Process\\Incarceration_Rates_Time_Series_Analysis.ipynb Cell 54\u001b[0m line \u001b[0;36m1\n\u001b[1;32m----> <a href='vscode-notebook-cell:/c%3A/Users/Alex_Compu/ML/Projects/project_5_group_work/Coding_Notebooks/Modeling_Process/Incarceration_Rates_Time_Series_Analysis.ipynb#Y104sZmlsZQ%3D%3D?line=0'>1</a>\u001b[0m honduras_predictions\u001b[39m.\u001b[39mplot()\n\u001b[0;32m      <a href='vscode-notebook-cell:/c%3A/Users/Alex_Compu/ML/Projects/project_5_group_work/Coding_Notebooks/Modeling_Process/Incarceration_Rates_Time_Series_Analysis.ipynb#Y104sZmlsZQ%3D%3D?line=1'>2</a>\u001b[0m honduras[\u001b[39m'\u001b[39m\u001b[39mIncarceration_Rate_Per_100_000\u001b[39m\u001b[39m'\u001b[39m]\u001b[39m.\u001b[39mplot()\n\u001b[0;32m      <a href='vscode-notebook-cell:/c%3A/Users/Alex_Compu/ML/Projects/project_5_group_work/Coding_Notebooks/Modeling_Process/Incarceration_Rates_Time_Series_Analysis.ipynb#Y104sZmlsZQ%3D%3D?line=2'>3</a>\u001b[0m plt\u001b[39m.\u001b[39mtitle(\u001b[39m'\u001b[39m\u001b[39mHonduras Incarceration Rate vs Arima Model Predicted Incarceration Rate\u001b[39m\u001b[39m'\u001b[39m)\n",
      "\u001b[1;31mNameError\u001b[0m: name 'honduras_predictions' is not defined"
     ]
    }
   ],
   "source": [
    "honduras_predictions.plot()\n",
    "honduras['Incarceration_Rate_Per_100_000'].plot()\n",
    "plt.title('Honduras Incarceration Rate vs Arima Model Predicted Incarceration Rate')\n",
    "plt.legend()\n",
    "plt.savefig('../../Images/Honduras_Incarceration_Rate_Predictions');"
   ]
  },
  {
   "cell_type": "markdown",
   "metadata": {},
   "source": [
    "## Mexico ARIMA Model"
   ]
  },
  {
   "cell_type": "code",
   "execution_count": 54,
   "metadata": {},
   "outputs": [
    {
     "data": {
      "text/html": [
       "<div>\n",
       "<style scoped>\n",
       "    .dataframe tbody tr th:only-of-type {\n",
       "        vertical-align: middle;\n",
       "    }\n",
       "\n",
       "    .dataframe tbody tr th {\n",
       "        vertical-align: top;\n",
       "    }\n",
       "\n",
       "    .dataframe thead th {\n",
       "        text-align: right;\n",
       "    }\n",
       "</style>\n",
       "<table border=\"1\" class=\"dataframe\">\n",
       "  <thead>\n",
       "    <tr style=\"text-align: right;\">\n",
       "      <th></th>\n",
       "      <th>Country</th>\n",
       "      <th>Incarceration_Rate_Per_100_000</th>\n",
       "    </tr>\n",
       "    <tr>\n",
       "      <th>Year</th>\n",
       "      <th></th>\n",
       "      <th></th>\n",
       "    </tr>\n",
       "  </thead>\n",
       "  <tbody>\n",
       "    <tr>\n",
       "      <th>2017-01-01</th>\n",
       "      <td>Mexico</td>\n",
       "      <td>164.363579</td>\n",
       "    </tr>\n",
       "    <tr>\n",
       "      <th>2018-01-01</th>\n",
       "      <td>Mexico</td>\n",
       "      <td>158.306497</td>\n",
       "    </tr>\n",
       "    <tr>\n",
       "      <th>2019-01-01</th>\n",
       "      <td>Mexico</td>\n",
       "      <td>158.935529</td>\n",
       "    </tr>\n",
       "    <tr>\n",
       "      <th>2020-01-01</th>\n",
       "      <td>Mexico</td>\n",
       "      <td>167.584799</td>\n",
       "    </tr>\n",
       "    <tr>\n",
       "      <th>2021-01-01</th>\n",
       "      <td>Mexico</td>\n",
       "      <td>173.962164</td>\n",
       "    </tr>\n",
       "  </tbody>\n",
       "</table>\n",
       "</div>"
      ],
      "text/plain": [
       "           Country  Incarceration_Rate_Per_100_000\n",
       "Year                                              \n",
       "2017-01-01  Mexico                      164.363579\n",
       "2018-01-01  Mexico                      158.306497\n",
       "2019-01-01  Mexico                      158.935529\n",
       "2020-01-01  Mexico                      167.584799\n",
       "2021-01-01  Mexico                      173.962164"
      ]
     },
     "execution_count": 54,
     "metadata": {},
     "output_type": "execute_result"
    }
   ],
   "source": [
    "mexico.sort_index(inplace=True)\n",
    "mexico.tail()"
   ]
  },
  {
   "cell_type": "code",
   "execution_count": 55,
   "metadata": {},
   "outputs": [
    {
     "name": "stderr",
     "output_type": "stream",
     "text": [
      "C:\\Users\\Alex_Compu\\AppData\\Local\\Temp\\ipykernel_1280\\3334693585.py:1: SettingWithCopyWarning: \n",
      "A value is trying to be set on a copy of a slice from a DataFrame.\n",
      "Try using .loc[row_indexer,col_indexer] = value instead\n",
      "\n",
      "See the caveats in the documentation: https://pandas.pydata.org/pandas-docs/stable/user_guide/indexing.html#returning-a-view-versus-a-copy\n",
      "  mexico['First_Diff'] = mexico['Incarceration_Rate_Per_100_000'].diff()\n",
      "C:\\Users\\Alex_Compu\\AppData\\Local\\Temp\\ipykernel_1280\\3334693585.py:2: SettingWithCopyWarning: \n",
      "A value is trying to be set on a copy of a slice from a DataFrame.\n",
      "Try using .loc[row_indexer,col_indexer] = value instead\n",
      "\n",
      "See the caveats in the documentation: https://pandas.pydata.org/pandas-docs/stable/user_guide/indexing.html#returning-a-view-versus-a-copy\n",
      "  mexico['Second_Diff'] = mexico['Incarceration_Rate_Per_100_000'].diff().diff()\n",
      "C:\\Users\\Alex_Compu\\AppData\\Local\\Temp\\ipykernel_1280\\3334693585.py:3: SettingWithCopyWarning: \n",
      "A value is trying to be set on a copy of a slice from a DataFrame.\n",
      "Try using .loc[row_indexer,col_indexer] = value instead\n",
      "\n",
      "See the caveats in the documentation: https://pandas.pydata.org/pandas-docs/stable/user_guide/indexing.html#returning-a-view-versus-a-copy\n",
      "  mexico['Third_Diff'] = mexico['Incarceration_Rate_Per_100_000'].diff().diff().diff()\n",
      "C:\\Users\\Alex_Compu\\AppData\\Local\\Temp\\ipykernel_1280\\3334693585.py:4: SettingWithCopyWarning: \n",
      "A value is trying to be set on a copy of a slice from a DataFrame.\n",
      "Try using .loc[row_indexer,col_indexer] = value instead\n",
      "\n",
      "See the caveats in the documentation: https://pandas.pydata.org/pandas-docs/stable/user_guide/indexing.html#returning-a-view-versus-a-copy\n",
      "  mexico['Fourth_Diff'] = mexico['Incarceration_Rate_Per_100_000'].diff().diff().diff().diff()\n",
      "C:\\Users\\Alex_Compu\\AppData\\Local\\Temp\\ipykernel_1280\\3334693585.py:5: SettingWithCopyWarning: \n",
      "A value is trying to be set on a copy of a slice from a DataFrame.\n",
      "Try using .loc[row_indexer,col_indexer] = value instead\n",
      "\n",
      "See the caveats in the documentation: https://pandas.pydata.org/pandas-docs/stable/user_guide/indexing.html#returning-a-view-versus-a-copy\n",
      "  mexico['Fifth_Diff'] = mexico['Incarceration_Rate_Per_100_000'].diff().diff().diff().diff().diff()\n"
     ]
    }
   ],
   "source": [
    "mexico['First_Diff'] = mexico['Incarceration_Rate_Per_100_000'].diff()\n",
    "mexico['Second_Diff'] = mexico['Incarceration_Rate_Per_100_000'].diff().diff()\n",
    "mexico['Third_Diff'] = mexico['Incarceration_Rate_Per_100_000'].diff().diff().diff()\n",
    "mexico['Fourth_Diff'] = mexico['Incarceration_Rate_Per_100_000'].diff().diff().diff().diff() \n",
    "mexico['Fifth_Diff'] = mexico['Incarceration_Rate_Per_100_000'].diff().diff().diff().diff().diff()   "
   ]
  },
  {
   "cell_type": "code",
   "execution_count": 56,
   "metadata": {},
   "outputs": [
    {
     "data": {
      "text/plain": [
       "Test Statistic    2.776339\n",
       "p-value           1.000000\n",
       "dtype: float64"
      ]
     },
     "execution_count": 56,
     "metadata": {},
     "output_type": "execute_result"
    }
   ],
   "source": [
    "interpret_dftest((adfuller(mexico['Incarceration_Rate_Per_100_000'])))"
   ]
  },
  {
   "cell_type": "code",
   "execution_count": 57,
   "metadata": {},
   "outputs": [
    {
     "data": {
      "text/plain": [
       "Test Statistic   -1.501080\n",
       "p-value           0.532977\n",
       "dtype: float64"
      ]
     },
     "execution_count": 57,
     "metadata": {},
     "output_type": "execute_result"
    }
   ],
   "source": [
    "interpret_dftest((adfuller(mexico['First_Diff'].dropna())))"
   ]
  },
  {
   "cell_type": "code",
   "execution_count": 58,
   "metadata": {},
   "outputs": [
    {
     "data": {
      "text/plain": [
       "Test Statistic   -5.009068\n",
       "p-value           0.000021\n",
       "dtype: float64"
      ]
     },
     "execution_count": 58,
     "metadata": {},
     "output_type": "execute_result"
    }
   ],
   "source": [
    "interpret_dftest((adfuller(mexico['Second_Diff'].dropna())))"
   ]
  },
  {
   "cell_type": "code",
   "execution_count": 59,
   "metadata": {},
   "outputs": [
    {
     "data": {
      "text/plain": [
       "Test Statistic   -4.076527\n",
       "p-value           0.001059\n",
       "dtype: float64"
      ]
     },
     "execution_count": 59,
     "metadata": {},
     "output_type": "execute_result"
    }
   ],
   "source": [
    "interpret_dftest((adfuller(mexico['Third_Diff'].dropna())))"
   ]
  },
  {
   "cell_type": "code",
   "execution_count": 60,
   "metadata": {},
   "outputs": [
    {
     "data": {
      "text/plain": [
       "Test Statistic   -2.422293\n",
       "p-value           0.135543\n",
       "dtype: float64"
      ]
     },
     "execution_count": 60,
     "metadata": {},
     "output_type": "execute_result"
    }
   ],
   "source": [
    "interpret_dftest((adfuller(mexico['Fourth_Diff'].dropna())))"
   ]
  },
  {
   "cell_type": "code",
   "execution_count": 61,
   "metadata": {},
   "outputs": [
    {
     "data": {
      "text/plain": [
       "Test Statistic   -1.134560\n",
       "p-value           0.701095\n",
       "dtype: float64"
      ]
     },
     "execution_count": 61,
     "metadata": {},
     "output_type": "execute_result"
    }
   ],
   "source": [
    "interpret_dftest((adfuller(mexico['Fifth_Diff'].dropna())))"
   ]
  },
  {
   "cell_type": "code",
   "execution_count": 62,
   "metadata": {},
   "outputs": [
    {
     "data": {
      "text/plain": [
       "Year\n",
       "2003-01-01    181.203938\n",
       "2004-01-01    189.114880\n",
       "2005-01-01    197.522057\n",
       "2006-01-01    197.693279\n",
       "2007-01-01    198.223552\n",
       "2008-01-01    200.351028\n",
       "2009-01-01    168.045890\n",
       "2010-01-01    167.074548\n",
       "2011-01-01    187.259833\n",
       "2012-01-01    179.064725\n",
       "2013-01-01    186.181025\n",
       "2014-01-01    192.008165\n",
       "2015-01-01    184.302280\n",
       "2016-01-01    156.497875\n",
       "2017-01-01    164.363579\n",
       "2018-01-01    158.306497\n",
       "Name: Incarceration_Rate_Per_100_000, dtype: float64"
      ]
     },
     "execution_count": 62,
     "metadata": {},
     "output_type": "execute_result"
    }
   ],
   "source": [
    "train, test = train_test_split(mexico['Incarceration_Rate_Per_100_000'],\n",
    "                                                    test_size = 0.15,\n",
    "                                                    shuffle = False) \n",
    "train"
   ]
  },
  {
   "cell_type": "code",
   "execution_count": 63,
   "metadata": {},
   "outputs": [
    {
     "name": "stderr",
     "output_type": "stream",
     "text": [
      "c:\\Users\\Alex_Compu\\AppData\\Local\\anaconda3\\Lib\\site-packages\\statsmodels\\tsa\\base\\tsa_model.py:473: ValueWarning: No frequency information was provided, so inferred frequency AS-JAN will be used.\n",
      "  self._init_dates(dates, freq)\n",
      "c:\\Users\\Alex_Compu\\AppData\\Local\\anaconda3\\Lib\\site-packages\\statsmodels\\tsa\\base\\tsa_model.py:473: ValueWarning: No frequency information was provided, so inferred frequency AS-JAN will be used.\n",
      "  self._init_dates(dates, freq)\n",
      "c:\\Users\\Alex_Compu\\AppData\\Local\\anaconda3\\Lib\\site-packages\\statsmodels\\tsa\\base\\tsa_model.py:473: ValueWarning: No frequency information was provided, so inferred frequency AS-JAN will be used.\n",
      "  self._init_dates(dates, freq)\n"
     ]
    }
   ],
   "source": [
    "model_4 = ARIMA(endog=train, \n",
    "             order = (0, 1, 0)) # order = (p, d, q)\n",
    "\n",
    "mexico_arima = model_4.fit()\n",
    "\n",
    "mexico_predictions = mexico_arima.predict(start=datetime(2005,1,1), end=datetime(2025,1,1))\n"
   ]
  },
  {
   "cell_type": "code",
   "execution_count": 64,
   "metadata": {},
   "outputs": [
    {
     "data": {
      "image/png": "[encoded data removed]",
      "text/plain": [
       "<Figure size 640x480 with 1 Axes>"
      ]
     },
     "metadata": {},
     "output_type": "display_data"
    }
   ],
   "source": [
    "mexico_predictions.plot()\n",
    "mexico['Incarceration_Rate_Per_100_000'].plot()\n",
    "plt.title('Mexico Incarceration Rate vs Arima Model Predicted Incarceration Rate')\n",
    "plt.legend()\n",
    "plt.savefig('../../Images/Mexico_Incarceration_Rate_Predictions');"
   ]
  },
  {
   "cell_type": "markdown",
   "metadata": {},
   "source": [
    "## USA ARIMA Model"
   ]
  },
  {
   "cell_type": "code",
   "execution_count": 65,
   "metadata": {},
   "outputs": [
    {
     "data": {
      "text/html": [
       "<div>\n",
       "<style scoped>\n",
       "    .dataframe tbody tr th:only-of-type {\n",
       "        vertical-align: middle;\n",
       "    }\n",
       "\n",
       "    .dataframe tbody tr th {\n",
       "        vertical-align: top;\n",
       "    }\n",
       "\n",
       "    .dataframe thead th {\n",
       "        text-align: right;\n",
       "    }\n",
       "</style>\n",
       "<table border=\"1\" class=\"dataframe\">\n",
       "  <thead>\n",
       "    <tr style=\"text-align: right;\">\n",
       "      <th></th>\n",
       "      <th>Country</th>\n",
       "      <th>Incarceration_Rate_Per_100_000</th>\n",
       "    </tr>\n",
       "    <tr>\n",
       "      <th>Year</th>\n",
       "      <th></th>\n",
       "      <th></th>\n",
       "    </tr>\n",
       "  </thead>\n",
       "  <tbody>\n",
       "    <tr>\n",
       "      <th>2017-01-01</th>\n",
       "      <td>USA</td>\n",
       "      <td>653.019183</td>\n",
       "    </tr>\n",
       "    <tr>\n",
       "      <th>2018-01-01</th>\n",
       "      <td>USA</td>\n",
       "      <td>639.218330</td>\n",
       "    </tr>\n",
       "    <tr>\n",
       "      <th>2019-01-01</th>\n",
       "      <td>USA</td>\n",
       "      <td>620.244689</td>\n",
       "    </tr>\n",
       "    <tr>\n",
       "      <th>2020-01-01</th>\n",
       "      <td>USA</td>\n",
       "      <td>498.359831</td>\n",
       "    </tr>\n",
       "    <tr>\n",
       "      <th>2021-01-01</th>\n",
       "      <td>USA</td>\n",
       "      <td>524.425062</td>\n",
       "    </tr>\n",
       "  </tbody>\n",
       "</table>\n",
       "</div>"
      ],
      "text/plain": [
       "           Country  Incarceration_Rate_Per_100_000\n",
       "Year                                              \n",
       "2017-01-01     USA                      653.019183\n",
       "2018-01-01     USA                      639.218330\n",
       "2019-01-01     USA                      620.244689\n",
       "2020-01-01     USA                      498.359831\n",
       "2021-01-01     USA                      524.425062"
      ]
     },
     "execution_count": 65,
     "metadata": {},
     "output_type": "execute_result"
    }
   ],
   "source": [
    "usa.sort_index(inplace=True)\n",
    "usa.tail()"
   ]
  },
  {
   "cell_type": "code",
   "execution_count": 66,
   "metadata": {},
   "outputs": [
    {
     "name": "stderr",
     "output_type": "stream",
     "text": [
      "C:\\Users\\Alex_Compu\\AppData\\Local\\Temp\\ipykernel_1280\\1913774518.py:1: SettingWithCopyWarning: \n",
      "A value is trying to be set on a copy of a slice from a DataFrame.\n",
      "Try using .loc[row_indexer,col_indexer] = value instead\n",
      "\n",
      "See the caveats in the documentation: https://pandas.pydata.org/pandas-docs/stable/user_guide/indexing.html#returning-a-view-versus-a-copy\n",
      "  usa['First_Diff'] = usa['Incarceration_Rate_Per_100_000'].diff()\n",
      "C:\\Users\\Alex_Compu\\AppData\\Local\\Temp\\ipykernel_1280\\1913774518.py:2: SettingWithCopyWarning: \n",
      "A value is trying to be set on a copy of a slice from a DataFrame.\n",
      "Try using .loc[row_indexer,col_indexer] = value instead\n",
      "\n",
      "See the caveats in the documentation: https://pandas.pydata.org/pandas-docs/stable/user_guide/indexing.html#returning-a-view-versus-a-copy\n",
      "  usa['Second_Diff'] = usa['Incarceration_Rate_Per_100_000'].diff().diff()\n",
      "C:\\Users\\Alex_Compu\\AppData\\Local\\Temp\\ipykernel_1280\\1913774518.py:3: SettingWithCopyWarning: \n",
      "A value is trying to be set on a copy of a slice from a DataFrame.\n",
      "Try using .loc[row_indexer,col_indexer] = value instead\n",
      "\n",
      "See the caveats in the documentation: https://pandas.pydata.org/pandas-docs/stable/user_guide/indexing.html#returning-a-view-versus-a-copy\n",
      "  usa['Third_Diff'] = usa['Incarceration_Rate_Per_100_000'].diff().diff().diff()\n",
      "C:\\Users\\Alex_Compu\\AppData\\Local\\Temp\\ipykernel_1280\\1913774518.py:4: SettingWithCopyWarning: \n",
      "A value is trying to be set on a copy of a slice from a DataFrame.\n",
      "Try using .loc[row_indexer,col_indexer] = value instead\n",
      "\n",
      "See the caveats in the documentation: https://pandas.pydata.org/pandas-docs/stable/user_guide/indexing.html#returning-a-view-versus-a-copy\n",
      "  usa['Fourth_Diff'] = usa['Incarceration_Rate_Per_100_000'].diff().diff().diff().diff()\n",
      "C:\\Users\\Alex_Compu\\AppData\\Local\\Temp\\ipykernel_1280\\1913774518.py:5: SettingWithCopyWarning: \n",
      "A value is trying to be set on a copy of a slice from a DataFrame.\n",
      "Try using .loc[row_indexer,col_indexer] = value instead\n",
      "\n",
      "See the caveats in the documentation: https://pandas.pydata.org/pandas-docs/stable/user_guide/indexing.html#returning-a-view-versus-a-copy\n",
      "  usa['Fifth_Diff'] = usa['Incarceration_Rate_Per_100_000'].diff().diff().diff().diff().diff()\n"
     ]
    }
   ],
   "source": [
    "usa['First_Diff'] = usa['Incarceration_Rate_Per_100_000'].diff()\n",
    "usa['Second_Diff'] = usa['Incarceration_Rate_Per_100_000'].diff().diff()\n",
    "usa['Third_Diff'] = usa['Incarceration_Rate_Per_100_000'].diff().diff().diff()\n",
    "usa['Fourth_Diff'] = usa['Incarceration_Rate_Per_100_000'].diff().diff().diff().diff() \n",
    "usa['Fifth_Diff'] = usa['Incarceration_Rate_Per_100_000'].diff().diff().diff().diff().diff()   "
   ]
  },
  {
   "cell_type": "code",
   "execution_count": 67,
   "metadata": {},
   "outputs": [
    {
     "data": {
      "text/plain": [
       "Test Statistic    43.259902\n",
       "p-value            1.000000\n",
       "dtype: float64"
      ]
     },
     "execution_count": 67,
     "metadata": {},
     "output_type": "execute_result"
    }
   ],
   "source": [
    "interpret_dftest((adfuller(usa['Incarceration_Rate_Per_100_000'])))"
   ]
  },
  {
   "cell_type": "code",
   "execution_count": 68,
   "metadata": {},
   "outputs": [
    {
     "data": {
      "text/plain": [
       "Test Statistic    4.602071\n",
       "p-value           1.000000\n",
       "dtype: float64"
      ]
     },
     "execution_count": 68,
     "metadata": {},
     "output_type": "execute_result"
    }
   ],
   "source": [
    "interpret_dftest((adfuller(usa['First_Diff'].dropna())))"
   ]
  },
  {
   "cell_type": "code",
   "execution_count": 69,
   "metadata": {},
   "outputs": [
    {
     "data": {
      "text/plain": [
       "Test Statistic   -6.600863e+00\n",
       "p-value           6.741418e-09\n",
       "dtype: float64"
      ]
     },
     "execution_count": 69,
     "metadata": {},
     "output_type": "execute_result"
    }
   ],
   "source": [
    "interpret_dftest((adfuller(usa['Second_Diff'].dropna())))"
   ]
  },
  {
   "cell_type": "code",
   "execution_count": 70,
   "metadata": {},
   "outputs": [
    {
     "data": {
      "text/plain": [
       "Test Statistic   -1.149478e+01\n",
       "p-value           4.642671e-21\n",
       "dtype: float64"
      ]
     },
     "execution_count": 70,
     "metadata": {},
     "output_type": "execute_result"
    }
   ],
   "source": [
    "interpret_dftest((adfuller(usa['Third_Diff'].dropna())))"
   ]
  },
  {
   "cell_type": "code",
   "execution_count": 71,
   "metadata": {},
   "outputs": [
    {
     "data": {
      "text/plain": [
       "Test Statistic   -5.027644\n",
       "p-value           0.000020\n",
       "dtype: float64"
      ]
     },
     "execution_count": 71,
     "metadata": {},
     "output_type": "execute_result"
    }
   ],
   "source": [
    "interpret_dftest((adfuller(usa['Fourth_Diff'].dropna())))"
   ]
  },
  {
   "cell_type": "code",
   "execution_count": 72,
   "metadata": {},
   "outputs": [
    {
     "data": {
      "text/plain": [
       "Test Statistic   -6.333700e+00\n",
       "p-value           2.864831e-08\n",
       "dtype: float64"
      ]
     },
     "execution_count": 72,
     "metadata": {},
     "output_type": "execute_result"
    }
   ],
   "source": [
    "interpret_dftest((adfuller(usa['Fifth_Diff'].dropna())))"
   ]
  },
  {
   "cell_type": "code",
   "execution_count": 73,
   "metadata": {},
   "outputs": [
    {
     "data": {
      "text/plain": [
       "Year\n",
       "2003-01-01    739.583431\n",
       "2004-01-01    733.429328\n",
       "2005-01-01    741.268093\n",
       "2006-01-01    752.819576\n",
       "2007-01-01    758.530165\n",
       "2008-01-01    755.753506\n",
       "2009-01-01    744.768351\n",
       "2010-01-01    732.398986\n",
       "2011-01-01    717.638696\n",
       "2012-01-01    704.686781\n",
       "2013-01-01    695.890049\n",
       "2014-01-01    690.951965\n",
       "2015-01-01    669.361660\n",
       "2016-01-01    661.684756\n",
       "2017-01-01    653.019183\n",
       "2018-01-01    639.218330\n",
       "Name: Incarceration_Rate_Per_100_000, dtype: float64"
      ]
     },
     "execution_count": 73,
     "metadata": {},
     "output_type": "execute_result"
    }
   ],
   "source": [
    "train, test = train_test_split(usa['Incarceration_Rate_Per_100_000'],\n",
    "                                                    test_size = 0.15,\n",
    "                                                    shuffle = False) \n",
    "train\n"
   ]
  },
  {
   "cell_type": "code",
   "execution_count": 74,
   "metadata": {},
   "outputs": [
    {
     "name": "stderr",
     "output_type": "stream",
     "text": [
      "c:\\Users\\Alex_Compu\\AppData\\Local\\anaconda3\\Lib\\site-packages\\statsmodels\\tsa\\base\\tsa_model.py:473: ValueWarning: No frequency information was provided, so inferred frequency AS-JAN will be used.\n",
      "  self._init_dates(dates, freq)\n",
      "c:\\Users\\Alex_Compu\\AppData\\Local\\anaconda3\\Lib\\site-packages\\statsmodels\\tsa\\base\\tsa_model.py:473: ValueWarning: No frequency information was provided, so inferred frequency AS-JAN will be used.\n",
      "  self._init_dates(dates, freq)\n",
      "c:\\Users\\Alex_Compu\\AppData\\Local\\anaconda3\\Lib\\site-packages\\statsmodels\\tsa\\base\\tsa_model.py:473: ValueWarning: No frequency information was provided, so inferred frequency AS-JAN will be used.\n",
      "  self._init_dates(dates, freq)\n"
     ]
    }
   ],
   "source": [
    "model_5 = ARIMA(endog=train, \n",
    "             order = (0, 4, 0)) # order = (p, d, q)\n",
    "\n",
    "usa_arima = model_5.fit()\n",
    "\n",
    "usa_predictions = usa_arima.predict(start=datetime(2007,1,1), end=datetime(2025,1,1))\n"
   ]
  },
  {
   "cell_type": "code",
   "execution_count": 75,
   "metadata": {},
   "outputs": [
    {
     "data": {
      "image/png": "[encoded data removed]",
      "text/plain": [
       "<Figure size 640x480 with 1 Axes>"
      ]
     },
     "metadata": {},
     "output_type": "display_data"
    }
   ],
   "source": [
    "usa_predictions.plot()\n",
    "usa['Incarceration_Rate_Per_100_000'].plot()\n",
    "plt.title('USA Incarceration Rate vs Arima Model Predicted Incarceration Rate')\n",
    "plt.legend()\n",
    "plt.savefig('../../Images/USA_Incarceration_Rate_Predictions');"
   ]
  },
  {
   "cell_type": "markdown",
   "metadata": {},
   "source": [
    "Summary\n",
    "\n",
    "This was the beginning of a time series analysis I wanted to try for practice and, at this point it does not add value to our project analysis. This is also the reason why at this point I am not looking int the runtime error for model_3. \n",
    "\n",
    "In the future I want to use some of the indicators I found in the other datasets which were highly correlated to incarceration rate to include in a time Series analysis and compare the results. "
   ]
  }
 ],
 "metadata": {
  "kernelspec": {
   "display_name": "base",
   "language": "python",
   "name": "python3"
  },
  "language_info": {
   "codemirror_mode": {
    "name": "ipython",
    "version": 3
   },
   "file_extension": ".py",
   "mimetype": "text/x-python",
   "name": "python",
   "nbconvert_exporter": "python",
   "pygments_lexer": "ipython3",
   "version": "3.11.5"
  }
 },
 "nbformat": 4,
 "nbformat_minor": 2
}
