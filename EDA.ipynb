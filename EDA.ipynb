{
 "cells": [
  {
   "cell_type": "code",
   "execution_count": 1,
   "metadata": {},
   "outputs": [],
   "source": [
    "import pandas as pd\n",
    "import numpy as np\n",
    "import matplotlib.pyplot as plt\n",
    "import seaborn as sns"
   ]
  },
  {
   "cell_type": "code",
   "execution_count": 2,
   "metadata": {},
   "outputs": [
    {
     "data": {
      "text/html": [
       "<div>\n",
       "<style scoped>\n",
       "    .dataframe tbody tr th:only-of-type {\n",
       "        vertical-align: middle;\n",
       "    }\n",
       "\n",
       "    .dataframe tbody tr th {\n",
       "        vertical-align: top;\n",
       "    }\n",
       "\n",
       "    .dataframe thead th {\n",
       "        text-align: right;\n",
       "    }\n",
       "</style>\n",
       "<table border=\"1\" class=\"dataframe\">\n",
       "  <thead>\n",
       "    <tr style=\"text-align: right;\">\n",
       "      <th></th>\n",
       "      <th>State</th>\n",
       "      <th>Total state prison population</th>\n",
       "      <th>Male</th>\n",
       "      <th>Female</th>\n",
       "      <th>Under 18</th>\n",
       "      <th>White (non-Hispanic)</th>\n",
       "      <th>Black (non-Hispanic)</th>\n",
       "      <th>Hispanic</th>\n",
       "      <th>American Indian/ Alaska Native (non-Hispanic)</th>\n",
       "      <th>Asian (non-Hispanic)</th>\n",
       "      <th>Native Hawaiian/ Pacific Islander (non-Hispanic)</th>\n",
       "      <th>2 or more races (non-Hispanic)</th>\n",
       "      <th>Some other race (non-Hispanic)</th>\n",
       "      <th>Unknown or not reported</th>\n",
       "    </tr>\n",
       "  </thead>\n",
       "  <tbody>\n",
       "    <tr>\n",
       "      <th>0</th>\n",
       "      <td>Alabama</td>\n",
       "      <td>25032</td>\n",
       "      <td>22915</td>\n",
       "      <td>2117</td>\n",
       "      <td>0</td>\n",
       "      <td>11470</td>\n",
       "      <td>13353</td>\n",
       "      <td>0</td>\n",
       "      <td>3</td>\n",
       "      <td>4</td>\n",
       "      <td>0</td>\n",
       "      <td>0</td>\n",
       "      <td>202</td>\n",
       "      <td>0</td>\n",
       "    </tr>\n",
       "    <tr>\n",
       "      <th>1</th>\n",
       "      <td>Alaska</td>\n",
       "      <td>4639</td>\n",
       "      <td>4197</td>\n",
       "      <td>442</td>\n",
       "      <td>0</td>\n",
       "      <td>1895</td>\n",
       "      <td>465</td>\n",
       "      <td>125</td>\n",
       "      <td>1855</td>\n",
       "      <td>158</td>\n",
       "      <td>95</td>\n",
       "      <td>0</td>\n",
       "      <td>0</td>\n",
       "      <td>46</td>\n",
       "    </tr>\n",
       "    <tr>\n",
       "      <th>2</th>\n",
       "      <td>Arizona</td>\n",
       "      <td>33914</td>\n",
       "      <td>30794</td>\n",
       "      <td>3120</td>\n",
       "      <td>17</td>\n",
       "      <td>12960</td>\n",
       "      <td>5087</td>\n",
       "      <td>13131</td>\n",
       "      <td>1880</td>\n",
       "      <td>157</td>\n",
       "      <td>0</td>\n",
       "      <td>0</td>\n",
       "      <td>612</td>\n",
       "      <td>87</td>\n",
       "    </tr>\n",
       "    <tr>\n",
       "      <th>3</th>\n",
       "      <td>Arkansas</td>\n",
       "      <td>17022</td>\n",
       "      <td>15592</td>\n",
       "      <td>1430</td>\n",
       "      <td>5</td>\n",
       "      <td>9547</td>\n",
       "      <td>6771</td>\n",
       "      <td>563</td>\n",
       "      <td>49</td>\n",
       "      <td>48</td>\n",
       "      <td>19</td>\n",
       "      <td>0</td>\n",
       "      <td>23</td>\n",
       "      <td>2</td>\n",
       "    </tr>\n",
       "    <tr>\n",
       "      <th>4</th>\n",
       "      <td>California</td>\n",
       "      <td>101441</td>\n",
       "      <td>97525</td>\n",
       "      <td>3916</td>\n",
       "      <td>0</td>\n",
       "      <td>20137</td>\n",
       "      <td>28710</td>\n",
       "      <td>45999</td>\n",
       "      <td>1161</td>\n",
       "      <td>1162</td>\n",
       "      <td>321</td>\n",
       "      <td>0</td>\n",
       "      <td>3951</td>\n",
       "      <td>0</td>\n",
       "    </tr>\n",
       "  </tbody>\n",
       "</table>\n",
       "</div>"
      ],
      "text/plain": [
       "        State  Total state prison population   Male  Female  Under 18  \\\n",
       "0     Alabama                          25032  22915    2117         0   \n",
       "1      Alaska                           4639   4197     442         0   \n",
       "2     Arizona                          33914  30794    3120        17   \n",
       "3    Arkansas                          17022  15592    1430         5   \n",
       "4  California                         101441  97525    3916         0   \n",
       "\n",
       "   White (non-Hispanic)  Black (non-Hispanic)  Hispanic  \\\n",
       "0                 11470                 13353         0   \n",
       "1                  1895                   465       125   \n",
       "2                 12960                  5087     13131   \n",
       "3                  9547                  6771       563   \n",
       "4                 20137                 28710     45999   \n",
       "\n",
       "   American Indian/ Alaska Native (non-Hispanic)  Asian (non-Hispanic)  \\\n",
       "0                                              3                     4   \n",
       "1                                           1855                   158   \n",
       "2                                           1880                   157   \n",
       "3                                             49                    48   \n",
       "4                                           1161                  1162   \n",
       "\n",
       "   Native Hawaiian/ Pacific Islander (non-Hispanic)  \\\n",
       "0                                                 0   \n",
       "1                                                95   \n",
       "2                                                 0   \n",
       "3                                                19   \n",
       "4                                               321   \n",
       "\n",
       "   2 or more races (non-Hispanic)  Some other race (non-Hispanic)  \\\n",
       "0                               0                             202   \n",
       "1                               0                               0   \n",
       "2                               0                             612   \n",
       "3                               0                              23   \n",
       "4                               0                            3951   \n",
       "\n",
       "   Unknown or not reported  \n",
       "0                        0  \n",
       "1                       46  \n",
       "2                       87  \n",
       "3                        2  \n",
       "4                        0  "
      ]
     },
     "execution_count": 2,
     "metadata": {},
     "output_type": "execute_result"
    }
   ],
   "source": [
    "prison = pd.read_csv('state_prison_cleaned.csv')\n",
    "\n",
    "prison.head()"
   ]
  },
  {
   "cell_type": "code",
   "execution_count": 3,
   "metadata": {},
   "outputs": [
    {
     "data": {
      "text/html": [
       "<div>\n",
       "<style scoped>\n",
       "    .dataframe tbody tr th:only-of-type {\n",
       "        vertical-align: middle;\n",
       "    }\n",
       "\n",
       "    .dataframe tbody tr th {\n",
       "        vertical-align: top;\n",
       "    }\n",
       "\n",
       "    .dataframe thead th {\n",
       "        text-align: right;\n",
       "    }\n",
       "</style>\n",
       "<table border=\"1\" class=\"dataframe\">\n",
       "  <thead>\n",
       "    <tr style=\"text-align: right;\">\n",
       "      <th></th>\n",
       "      <th>State</th>\n",
       "      <th>Total state prison population</th>\n",
       "      <th>Male</th>\n",
       "      <th>Female</th>\n",
       "      <th>Under 18</th>\n",
       "      <th>White (non-Hispanic)</th>\n",
       "      <th>Black (non-Hispanic)</th>\n",
       "      <th>Hispanic</th>\n",
       "      <th>American Indian/ Alaska Native (non-Hispanic)</th>\n",
       "      <th>Asian (non-Hispanic)</th>\n",
       "      <th>Native Hawaiian/ Pacific Islander (non-Hispanic)</th>\n",
       "      <th>2 or more races (non-Hispanic)</th>\n",
       "      <th>Some other race (non-Hispanic)</th>\n",
       "      <th>Unknown or not reported</th>\n",
       "    </tr>\n",
       "  </thead>\n",
       "  <tbody>\n",
       "    <tr>\n",
       "      <th>0</th>\n",
       "      <td>Alabama</td>\n",
       "      <td>25032</td>\n",
       "      <td>22915</td>\n",
       "      <td>2117</td>\n",
       "      <td>0</td>\n",
       "      <td>11470</td>\n",
       "      <td>13353</td>\n",
       "      <td>0</td>\n",
       "      <td>3</td>\n",
       "      <td>4</td>\n",
       "      <td>0</td>\n",
       "      <td>0</td>\n",
       "      <td>202</td>\n",
       "      <td>0</td>\n",
       "    </tr>\n",
       "    <tr>\n",
       "      <th>1</th>\n",
       "      <td>Alaska</td>\n",
       "      <td>4639</td>\n",
       "      <td>4197</td>\n",
       "      <td>442</td>\n",
       "      <td>0</td>\n",
       "      <td>1895</td>\n",
       "      <td>465</td>\n",
       "      <td>125</td>\n",
       "      <td>1855</td>\n",
       "      <td>158</td>\n",
       "      <td>95</td>\n",
       "      <td>0</td>\n",
       "      <td>0</td>\n",
       "      <td>46</td>\n",
       "    </tr>\n",
       "    <tr>\n",
       "      <th>2</th>\n",
       "      <td>Arizona</td>\n",
       "      <td>33914</td>\n",
       "      <td>30794</td>\n",
       "      <td>3120</td>\n",
       "      <td>17</td>\n",
       "      <td>12960</td>\n",
       "      <td>5087</td>\n",
       "      <td>13131</td>\n",
       "      <td>1880</td>\n",
       "      <td>157</td>\n",
       "      <td>0</td>\n",
       "      <td>0</td>\n",
       "      <td>612</td>\n",
       "      <td>87</td>\n",
       "    </tr>\n",
       "    <tr>\n",
       "      <th>3</th>\n",
       "      <td>Arkansas</td>\n",
       "      <td>17022</td>\n",
       "      <td>15592</td>\n",
       "      <td>1430</td>\n",
       "      <td>5</td>\n",
       "      <td>9547</td>\n",
       "      <td>6771</td>\n",
       "      <td>563</td>\n",
       "      <td>49</td>\n",
       "      <td>48</td>\n",
       "      <td>19</td>\n",
       "      <td>0</td>\n",
       "      <td>23</td>\n",
       "      <td>2</td>\n",
       "    </tr>\n",
       "    <tr>\n",
       "      <th>4</th>\n",
       "      <td>California</td>\n",
       "      <td>101441</td>\n",
       "      <td>97525</td>\n",
       "      <td>3916</td>\n",
       "      <td>0</td>\n",
       "      <td>20137</td>\n",
       "      <td>28710</td>\n",
       "      <td>45999</td>\n",
       "      <td>1161</td>\n",
       "      <td>1162</td>\n",
       "      <td>321</td>\n",
       "      <td>0</td>\n",
       "      <td>3951</td>\n",
       "      <td>0</td>\n",
       "    </tr>\n",
       "    <tr>\n",
       "      <th>5</th>\n",
       "      <td>Colorado</td>\n",
       "      <td>15865</td>\n",
       "      <td>14599</td>\n",
       "      <td>1266</td>\n",
       "      <td>0</td>\n",
       "      <td>6520</td>\n",
       "      <td>2769</td>\n",
       "      <td>4722</td>\n",
       "      <td>542</td>\n",
       "      <td>184</td>\n",
       "      <td>10</td>\n",
       "      <td>0</td>\n",
       "      <td>1025</td>\n",
       "      <td>93</td>\n",
       "    </tr>\n",
       "    <tr>\n",
       "      <th>6</th>\n",
       "      <td>Connecticut</td>\n",
       "      <td>9889</td>\n",
       "      <td>9254</td>\n",
       "      <td>635</td>\n",
       "      <td>41</td>\n",
       "      <td>2778</td>\n",
       "      <td>4208</td>\n",
       "      <td>2824</td>\n",
       "      <td>34</td>\n",
       "      <td>43</td>\n",
       "      <td>0</td>\n",
       "      <td>0</td>\n",
       "      <td>0</td>\n",
       "      <td>2</td>\n",
       "    </tr>\n",
       "    <tr>\n",
       "      <th>7</th>\n",
       "      <td>Delaware</td>\n",
       "      <td>4810</td>\n",
       "      <td>4568</td>\n",
       "      <td>242</td>\n",
       "      <td>0</td>\n",
       "      <td>1551</td>\n",
       "      <td>2952</td>\n",
       "      <td>299</td>\n",
       "      <td>1</td>\n",
       "      <td>6</td>\n",
       "      <td>0</td>\n",
       "      <td>0</td>\n",
       "      <td>0</td>\n",
       "      <td>1</td>\n",
       "    </tr>\n",
       "    <tr>\n",
       "      <th>8</th>\n",
       "      <td>Florida</td>\n",
       "      <td>80417</td>\n",
       "      <td>75404</td>\n",
       "      <td>5013</td>\n",
       "      <td>48</td>\n",
       "      <td>31599</td>\n",
       "      <td>38266</td>\n",
       "      <td>10174</td>\n",
       "      <td>88</td>\n",
       "      <td>18</td>\n",
       "      <td>7</td>\n",
       "      <td>0</td>\n",
       "      <td>262</td>\n",
       "      <td>3</td>\n",
       "    </tr>\n",
       "    <tr>\n",
       "      <th>9</th>\n",
       "      <td>Georgia</td>\n",
       "      <td>47010</td>\n",
       "      <td>43942</td>\n",
       "      <td>3068</td>\n",
       "      <td>0</td>\n",
       "      <td>17159</td>\n",
       "      <td>27715</td>\n",
       "      <td>1945</td>\n",
       "      <td>22</td>\n",
       "      <td>157</td>\n",
       "      <td>0</td>\n",
       "      <td>0</td>\n",
       "      <td>0</td>\n",
       "      <td>12</td>\n",
       "    </tr>\n",
       "  </tbody>\n",
       "</table>\n",
       "</div>"
      ],
      "text/plain": [
       "         State  Total state prison population   Male  Female  Under 18  \\\n",
       "0      Alabama                          25032  22915    2117         0   \n",
       "1       Alaska                           4639   4197     442         0   \n",
       "2      Arizona                          33914  30794    3120        17   \n",
       "3     Arkansas                          17022  15592    1430         5   \n",
       "4   California                         101441  97525    3916         0   \n",
       "5     Colorado                          15865  14599    1266         0   \n",
       "6  Connecticut                           9889   9254     635        41   \n",
       "7     Delaware                           4810   4568     242         0   \n",
       "8      Florida                          80417  75404    5013        48   \n",
       "9      Georgia                          47010  43942    3068         0   \n",
       "\n",
       "   White (non-Hispanic)  Black (non-Hispanic)  Hispanic  \\\n",
       "0                 11470                 13353         0   \n",
       "1                  1895                   465       125   \n",
       "2                 12960                  5087     13131   \n",
       "3                  9547                  6771       563   \n",
       "4                 20137                 28710     45999   \n",
       "5                  6520                  2769      4722   \n",
       "6                  2778                  4208      2824   \n",
       "7                  1551                  2952       299   \n",
       "8                 31599                 38266     10174   \n",
       "9                 17159                 27715      1945   \n",
       "\n",
       "   American Indian/ Alaska Native (non-Hispanic)  Asian (non-Hispanic)  \\\n",
       "0                                              3                     4   \n",
       "1                                           1855                   158   \n",
       "2                                           1880                   157   \n",
       "3                                             49                    48   \n",
       "4                                           1161                  1162   \n",
       "5                                            542                   184   \n",
       "6                                             34                    43   \n",
       "7                                              1                     6   \n",
       "8                                             88                    18   \n",
       "9                                             22                   157   \n",
       "\n",
       "   Native Hawaiian/ Pacific Islander (non-Hispanic)  \\\n",
       "0                                                 0   \n",
       "1                                                95   \n",
       "2                                                 0   \n",
       "3                                                19   \n",
       "4                                               321   \n",
       "5                                                10   \n",
       "6                                                 0   \n",
       "7                                                 0   \n",
       "8                                                 7   \n",
       "9                                                 0   \n",
       "\n",
       "   2 or more races (non-Hispanic)  Some other race (non-Hispanic)  \\\n",
       "0                               0                             202   \n",
       "1                               0                               0   \n",
       "2                               0                             612   \n",
       "3                               0                              23   \n",
       "4                               0                            3951   \n",
       "5                               0                            1025   \n",
       "6                               0                               0   \n",
       "7                               0                               0   \n",
       "8                               0                             262   \n",
       "9                               0                               0   \n",
       "\n",
       "   Unknown or not reported  \n",
       "0                        0  \n",
       "1                       46  \n",
       "2                       87  \n",
       "3                        2  \n",
       "4                        0  \n",
       "5                       93  \n",
       "6                        2  \n",
       "7                        1  \n",
       "8                        3  \n",
       "9                       12  "
      ]
     },
     "execution_count": 3,
     "metadata": {},
     "output_type": "execute_result"
    }
   ],
   "source": [
    "prison[:10]"
   ]
  },
  {
   "cell_type": "code",
   "execution_count": 4,
   "metadata": {},
   "outputs": [
    {
     "data": {
      "text/plain": [
       "State                                               0\n",
       "Total state prison population                       0\n",
       "Male                                                0\n",
       "Female                                              0\n",
       "Under 18                                            0\n",
       "White (non-Hispanic)                                0\n",
       "Black (non-Hispanic)                                0\n",
       "Hispanic                                            0\n",
       "American Indian/ Alaska Native (non-Hispanic)       0\n",
       "Asian (non-Hispanic)                                0\n",
       "Native Hawaiian/ Pacific Islander (non-Hispanic)    0\n",
       "2 or more races (non-Hispanic)                      0\n",
       "Some other race (non-Hispanic)                      0\n",
       "Unknown or not reported                             0\n",
       "dtype: int64"
      ]
     },
     "execution_count": 4,
     "metadata": {},
     "output_type": "execute_result"
    }
   ],
   "source": [
    "prison.isin(['No data']).sum()\n"
   ]
  },
  {
   "cell_type": "code",
   "execution_count": 5,
   "metadata": {},
   "outputs": [
    {
     "data": {
      "text/plain": [
       "State                                               object\n",
       "Total state prison population                        int64\n",
       "Male                                                 int64\n",
       "Female                                               int64\n",
       "Under 18                                             int64\n",
       "White (non-Hispanic)                                 int64\n",
       "Black (non-Hispanic)                                 int64\n",
       "Hispanic                                             int64\n",
       "American Indian/ Alaska Native (non-Hispanic)        int64\n",
       "Asian (non-Hispanic)                                 int64\n",
       "Native Hawaiian/ Pacific Islander (non-Hispanic)     int64\n",
       "2 or more races (non-Hispanic)                       int64\n",
       "Some other race (non-Hispanic)                       int64\n",
       "Unknown or not reported                              int64\n",
       "dtype: object"
      ]
     },
     "execution_count": 5,
     "metadata": {},
     "output_type": "execute_result"
    }
   ],
   "source": [
    "prison.dtypes"
   ]
  },
  {
   "cell_type": "code",
   "execution_count": 6,
   "metadata": {},
   "outputs": [
    {
     "data": {
      "image/png": "[encoded data removed]",
      "text/plain": [
       "<Figure size 640x480 with 1 Axes>"
      ]
     },
     "metadata": {},
     "output_type": "display_data"
    }
   ],
   "source": [
    "sns.histplot(prison['Total state prison population']);"
   ]
  },
  {
   "cell_type": "code",
   "execution_count": 7,
   "metadata": {},
   "outputs": [
    {
     "data": {
      "image/png": "[encoded data removed]",
      "text/plain": [
       "<Figure size 640x480 with 1 Axes>"
      ]
     },
     "metadata": {},
     "output_type": "display_data"
    }
   ],
   "source": [
    "sns.scatterplot(prison['Total state prison population']);"
   ]
  },
  {
   "cell_type": "code",
   "execution_count": 8,
   "metadata": {},
   "outputs": [
    {
     "data": {
      "text/html": [
       "<div>\n",
       "<style scoped>\n",
       "    .dataframe tbody tr th:only-of-type {\n",
       "        vertical-align: middle;\n",
       "    }\n",
       "\n",
       "    .dataframe tbody tr th {\n",
       "        vertical-align: top;\n",
       "    }\n",
       "\n",
       "    .dataframe thead th {\n",
       "        text-align: right;\n",
       "    }\n",
       "</style>\n",
       "<table border=\"1\" class=\"dataframe\">\n",
       "  <thead>\n",
       "    <tr style=\"text-align: right;\">\n",
       "      <th></th>\n",
       "      <th>State</th>\n",
       "      <th>Total state prison population</th>\n",
       "      <th>Male</th>\n",
       "      <th>Female</th>\n",
       "      <th>Under 18</th>\n",
       "      <th>White (non-Hispanic)</th>\n",
       "      <th>Black (non-Hispanic)</th>\n",
       "      <th>Hispanic</th>\n",
       "      <th>American Indian/ Alaska Native (non-Hispanic)</th>\n",
       "      <th>Asian (non-Hispanic)</th>\n",
       "      <th>Native Hawaiian/ Pacific Islander (non-Hispanic)</th>\n",
       "      <th>2 or more races (non-Hispanic)</th>\n",
       "      <th>Some other race (non-Hispanic)</th>\n",
       "      <th>Unknown or not reported</th>\n",
       "    </tr>\n",
       "  </thead>\n",
       "  <tbody>\n",
       "    <tr>\n",
       "      <th>0</th>\n",
       "      <td>Alabama</td>\n",
       "      <td>25032</td>\n",
       "      <td>22915</td>\n",
       "      <td>2117</td>\n",
       "      <td>0</td>\n",
       "      <td>11470</td>\n",
       "      <td>13353</td>\n",
       "      <td>0</td>\n",
       "      <td>3</td>\n",
       "      <td>4</td>\n",
       "      <td>0</td>\n",
       "      <td>0</td>\n",
       "      <td>202</td>\n",
       "      <td>0</td>\n",
       "    </tr>\n",
       "    <tr>\n",
       "      <th>1</th>\n",
       "      <td>Alaska</td>\n",
       "      <td>4639</td>\n",
       "      <td>4197</td>\n",
       "      <td>442</td>\n",
       "      <td>0</td>\n",
       "      <td>1895</td>\n",
       "      <td>465</td>\n",
       "      <td>125</td>\n",
       "      <td>1855</td>\n",
       "      <td>158</td>\n",
       "      <td>95</td>\n",
       "      <td>0</td>\n",
       "      <td>0</td>\n",
       "      <td>46</td>\n",
       "    </tr>\n",
       "    <tr>\n",
       "      <th>2</th>\n",
       "      <td>Arizona</td>\n",
       "      <td>33914</td>\n",
       "      <td>30794</td>\n",
       "      <td>3120</td>\n",
       "      <td>17</td>\n",
       "      <td>12960</td>\n",
       "      <td>5087</td>\n",
       "      <td>13131</td>\n",
       "      <td>1880</td>\n",
       "      <td>157</td>\n",
       "      <td>0</td>\n",
       "      <td>0</td>\n",
       "      <td>612</td>\n",
       "      <td>87</td>\n",
       "    </tr>\n",
       "    <tr>\n",
       "      <th>3</th>\n",
       "      <td>Arkansas</td>\n",
       "      <td>17022</td>\n",
       "      <td>15592</td>\n",
       "      <td>1430</td>\n",
       "      <td>5</td>\n",
       "      <td>9547</td>\n",
       "      <td>6771</td>\n",
       "      <td>563</td>\n",
       "      <td>49</td>\n",
       "      <td>48</td>\n",
       "      <td>19</td>\n",
       "      <td>0</td>\n",
       "      <td>23</td>\n",
       "      <td>2</td>\n",
       "    </tr>\n",
       "    <tr>\n",
       "      <th>4</th>\n",
       "      <td>California</td>\n",
       "      <td>101441</td>\n",
       "      <td>97525</td>\n",
       "      <td>3916</td>\n",
       "      <td>0</td>\n",
       "      <td>20137</td>\n",
       "      <td>28710</td>\n",
       "      <td>45999</td>\n",
       "      <td>1161</td>\n",
       "      <td>1162</td>\n",
       "      <td>321</td>\n",
       "      <td>0</td>\n",
       "      <td>3951</td>\n",
       "      <td>0</td>\n",
       "    </tr>\n",
       "    <tr>\n",
       "      <th>5</th>\n",
       "      <td>Colorado</td>\n",
       "      <td>15865</td>\n",
       "      <td>14599</td>\n",
       "      <td>1266</td>\n",
       "      <td>0</td>\n",
       "      <td>6520</td>\n",
       "      <td>2769</td>\n",
       "      <td>4722</td>\n",
       "      <td>542</td>\n",
       "      <td>184</td>\n",
       "      <td>10</td>\n",
       "      <td>0</td>\n",
       "      <td>1025</td>\n",
       "      <td>93</td>\n",
       "    </tr>\n",
       "    <tr>\n",
       "      <th>6</th>\n",
       "      <td>Connecticut</td>\n",
       "      <td>9889</td>\n",
       "      <td>9254</td>\n",
       "      <td>635</td>\n",
       "      <td>41</td>\n",
       "      <td>2778</td>\n",
       "      <td>4208</td>\n",
       "      <td>2824</td>\n",
       "      <td>34</td>\n",
       "      <td>43</td>\n",
       "      <td>0</td>\n",
       "      <td>0</td>\n",
       "      <td>0</td>\n",
       "      <td>2</td>\n",
       "    </tr>\n",
       "    <tr>\n",
       "      <th>7</th>\n",
       "      <td>Delaware</td>\n",
       "      <td>4810</td>\n",
       "      <td>4568</td>\n",
       "      <td>242</td>\n",
       "      <td>0</td>\n",
       "      <td>1551</td>\n",
       "      <td>2952</td>\n",
       "      <td>299</td>\n",
       "      <td>1</td>\n",
       "      <td>6</td>\n",
       "      <td>0</td>\n",
       "      <td>0</td>\n",
       "      <td>0</td>\n",
       "      <td>1</td>\n",
       "    </tr>\n",
       "    <tr>\n",
       "      <th>8</th>\n",
       "      <td>Florida</td>\n",
       "      <td>80417</td>\n",
       "      <td>75404</td>\n",
       "      <td>5013</td>\n",
       "      <td>48</td>\n",
       "      <td>31599</td>\n",
       "      <td>38266</td>\n",
       "      <td>10174</td>\n",
       "      <td>88</td>\n",
       "      <td>18</td>\n",
       "      <td>7</td>\n",
       "      <td>0</td>\n",
       "      <td>262</td>\n",
       "      <td>3</td>\n",
       "    </tr>\n",
       "    <tr>\n",
       "      <th>9</th>\n",
       "      <td>Georgia</td>\n",
       "      <td>47010</td>\n",
       "      <td>43942</td>\n",
       "      <td>3068</td>\n",
       "      <td>0</td>\n",
       "      <td>17159</td>\n",
       "      <td>27715</td>\n",
       "      <td>1945</td>\n",
       "      <td>22</td>\n",
       "      <td>157</td>\n",
       "      <td>0</td>\n",
       "      <td>0</td>\n",
       "      <td>0</td>\n",
       "      <td>12</td>\n",
       "    </tr>\n",
       "    <tr>\n",
       "      <th>10</th>\n",
       "      <td>Hawaii</td>\n",
       "      <td>4102</td>\n",
       "      <td>3669</td>\n",
       "      <td>433</td>\n",
       "      <td>0</td>\n",
       "      <td>915</td>\n",
       "      <td>185</td>\n",
       "      <td>98</td>\n",
       "      <td>21</td>\n",
       "      <td>699</td>\n",
       "      <td>1800</td>\n",
       "      <td>145</td>\n",
       "      <td>0</td>\n",
       "      <td>239</td>\n",
       "    </tr>\n",
       "    <tr>\n",
       "      <th>11</th>\n",
       "      <td>Idaho</td>\n",
       "      <td>8907</td>\n",
       "      <td>7668</td>\n",
       "      <td>1239</td>\n",
       "      <td>0</td>\n",
       "      <td>6419</td>\n",
       "      <td>258</td>\n",
       "      <td>1288</td>\n",
       "      <td>329</td>\n",
       "      <td>43</td>\n",
       "      <td>0</td>\n",
       "      <td>0</td>\n",
       "      <td>107</td>\n",
       "      <td>463</td>\n",
       "    </tr>\n",
       "    <tr>\n",
       "      <th>12</th>\n",
       "      <td>Illinois</td>\n",
       "      <td>28475</td>\n",
       "      <td>27165</td>\n",
       "      <td>1310</td>\n",
       "      <td>0</td>\n",
       "      <td>8849</td>\n",
       "      <td>15204</td>\n",
       "      <td>3671</td>\n",
       "      <td>42</td>\n",
       "      <td>104</td>\n",
       "      <td>0</td>\n",
       "      <td>55</td>\n",
       "      <td>0</td>\n",
       "      <td>550</td>\n",
       "    </tr>\n",
       "    <tr>\n",
       "      <th>13</th>\n",
       "      <td>Indiana</td>\n",
       "      <td>24716</td>\n",
       "      <td>22397</td>\n",
       "      <td>2319</td>\n",
       "      <td>11</td>\n",
       "      <td>14292</td>\n",
       "      <td>7547</td>\n",
       "      <td>992</td>\n",
       "      <td>50</td>\n",
       "      <td>55</td>\n",
       "      <td>9</td>\n",
       "      <td>153</td>\n",
       "      <td>0</td>\n",
       "      <td>1618</td>\n",
       "    </tr>\n",
       "    <tr>\n",
       "      <th>14</th>\n",
       "      <td>Iowa</td>\n",
       "      <td>8562</td>\n",
       "      <td>7859</td>\n",
       "      <td>703</td>\n",
       "      <td>9</td>\n",
       "      <td>5492</td>\n",
       "      <td>2173</td>\n",
       "      <td>605</td>\n",
       "      <td>195</td>\n",
       "      <td>0</td>\n",
       "      <td>0</td>\n",
       "      <td>0</td>\n",
       "      <td>96</td>\n",
       "      <td>1</td>\n",
       "    </tr>\n",
       "    <tr>\n",
       "      <th>15</th>\n",
       "      <td>Kansas</td>\n",
       "      <td>8521</td>\n",
       "      <td>7793</td>\n",
       "      <td>728</td>\n",
       "      <td>0</td>\n",
       "      <td>4781</td>\n",
       "      <td>2335</td>\n",
       "      <td>1118</td>\n",
       "      <td>201</td>\n",
       "      <td>75</td>\n",
       "      <td>0</td>\n",
       "      <td>0</td>\n",
       "      <td>5</td>\n",
       "      <td>6</td>\n",
       "    </tr>\n",
       "    <tr>\n",
       "      <th>16</th>\n",
       "      <td>Kentucky</td>\n",
       "      <td>18560</td>\n",
       "      <td>16493</td>\n",
       "      <td>2067</td>\n",
       "      <td>0</td>\n",
       "      <td>14102</td>\n",
       "      <td>3879</td>\n",
       "      <td>296</td>\n",
       "      <td>18</td>\n",
       "      <td>0</td>\n",
       "      <td>0</td>\n",
       "      <td>220</td>\n",
       "      <td>30</td>\n",
       "      <td>15</td>\n",
       "    </tr>\n",
       "    <tr>\n",
       "      <th>17</th>\n",
       "      <td>Louisiana</td>\n",
       "      <td>26074</td>\n",
       "      <td>24849</td>\n",
       "      <td>1225</td>\n",
       "      <td>7</td>\n",
       "      <td>8863</td>\n",
       "      <td>17097</td>\n",
       "      <td>66</td>\n",
       "      <td>21</td>\n",
       "      <td>25</td>\n",
       "      <td>0</td>\n",
       "      <td>0</td>\n",
       "      <td>2</td>\n",
       "      <td>0</td>\n",
       "    </tr>\n",
       "    <tr>\n",
       "      <th>18</th>\n",
       "      <td>Maine</td>\n",
       "      <td>1577</td>\n",
       "      <td>1466</td>\n",
       "      <td>111</td>\n",
       "      <td>0</td>\n",
       "      <td>1261</td>\n",
       "      <td>175</td>\n",
       "      <td>0</td>\n",
       "      <td>43</td>\n",
       "      <td>7</td>\n",
       "      <td>1</td>\n",
       "      <td>29</td>\n",
       "      <td>0</td>\n",
       "      <td>61</td>\n",
       "    </tr>\n",
       "    <tr>\n",
       "      <th>19</th>\n",
       "      <td>Maryland</td>\n",
       "      <td>15134</td>\n",
       "      <td>14616</td>\n",
       "      <td>518</td>\n",
       "      <td>3</td>\n",
       "      <td>3414</td>\n",
       "      <td>10730</td>\n",
       "      <td>713</td>\n",
       "      <td>76</td>\n",
       "      <td>49</td>\n",
       "      <td>16</td>\n",
       "      <td>0</td>\n",
       "      <td>114</td>\n",
       "      <td>22</td>\n",
       "    </tr>\n",
       "    <tr>\n",
       "      <th>20</th>\n",
       "      <td>Massachusetts</td>\n",
       "      <td>6148</td>\n",
       "      <td>5949</td>\n",
       "      <td>199</td>\n",
       "      <td>0</td>\n",
       "      <td>2561</td>\n",
       "      <td>1792</td>\n",
       "      <td>1567</td>\n",
       "      <td>36</td>\n",
       "      <td>102</td>\n",
       "      <td>0</td>\n",
       "      <td>0</td>\n",
       "      <td>0</td>\n",
       "      <td>90</td>\n",
       "    </tr>\n",
       "    <tr>\n",
       "      <th>21</th>\n",
       "      <td>Michigan</td>\n",
       "      <td>32186</td>\n",
       "      <td>30621</td>\n",
       "      <td>1565</td>\n",
       "      <td>5</td>\n",
       "      <td>13746</td>\n",
       "      <td>16278</td>\n",
       "      <td>632</td>\n",
       "      <td>287</td>\n",
       "      <td>94</td>\n",
       "      <td>7</td>\n",
       "      <td>1104</td>\n",
       "      <td>0</td>\n",
       "      <td>38</td>\n",
       "    </tr>\n",
       "    <tr>\n",
       "      <th>22</th>\n",
       "      <td>Minnesota</td>\n",
       "      <td>8003</td>\n",
       "      <td>7546</td>\n",
       "      <td>457</td>\n",
       "      <td>3</td>\n",
       "      <td>3732</td>\n",
       "      <td>2834</td>\n",
       "      <td>471</td>\n",
       "      <td>756</td>\n",
       "      <td>197</td>\n",
       "      <td>0</td>\n",
       "      <td>0</td>\n",
       "      <td>0</td>\n",
       "      <td>13</td>\n",
       "    </tr>\n",
       "    <tr>\n",
       "      <th>23</th>\n",
       "      <td>Mississippi</td>\n",
       "      <td>17332</td>\n",
       "      <td>16116</td>\n",
       "      <td>1216</td>\n",
       "      <td>20</td>\n",
       "      <td>6419</td>\n",
       "      <td>10649</td>\n",
       "      <td>181</td>\n",
       "      <td>35</td>\n",
       "      <td>39</td>\n",
       "      <td>0</td>\n",
       "      <td>0</td>\n",
       "      <td>0</td>\n",
       "      <td>9</td>\n",
       "    </tr>\n",
       "    <tr>\n",
       "      <th>24</th>\n",
       "      <td>Missouri</td>\n",
       "      <td>23422</td>\n",
       "      <td>21370</td>\n",
       "      <td>2052</td>\n",
       "      <td>2</td>\n",
       "      <td>14606</td>\n",
       "      <td>7843</td>\n",
       "      <td>494</td>\n",
       "      <td>97</td>\n",
       "      <td>61</td>\n",
       "      <td>0</td>\n",
       "      <td>0</td>\n",
       "      <td>0</td>\n",
       "      <td>321</td>\n",
       "    </tr>\n",
       "    <tr>\n",
       "      <th>25</th>\n",
       "      <td>Montana</td>\n",
       "      <td>4313</td>\n",
       "      <td>3702</td>\n",
       "      <td>611</td>\n",
       "      <td>0</td>\n",
       "      <td>3000</td>\n",
       "      <td>116</td>\n",
       "      <td>133</td>\n",
       "      <td>1049</td>\n",
       "      <td>0</td>\n",
       "      <td>0</td>\n",
       "      <td>0</td>\n",
       "      <td>15</td>\n",
       "      <td>0</td>\n",
       "    </tr>\n",
       "    <tr>\n",
       "      <th>26</th>\n",
       "      <td>Nebraska</td>\n",
       "      <td>5600</td>\n",
       "      <td>5200</td>\n",
       "      <td>400</td>\n",
       "      <td>8</td>\n",
       "      <td>2829</td>\n",
       "      <td>1551</td>\n",
       "      <td>824</td>\n",
       "      <td>287</td>\n",
       "      <td>44</td>\n",
       "      <td>4</td>\n",
       "      <td>0</td>\n",
       "      <td>58</td>\n",
       "      <td>3</td>\n",
       "    </tr>\n",
       "    <tr>\n",
       "      <th>27</th>\n",
       "      <td>Nevada</td>\n",
       "      <td>10202</td>\n",
       "      <td>9418</td>\n",
       "      <td>784</td>\n",
       "      <td>0</td>\n",
       "      <td>3730</td>\n",
       "      <td>3100</td>\n",
       "      <td>2764</td>\n",
       "      <td>233</td>\n",
       "      <td>206</td>\n",
       "      <td>113</td>\n",
       "      <td>0</td>\n",
       "      <td>0</td>\n",
       "      <td>56</td>\n",
       "    </tr>\n",
       "    <tr>\n",
       "      <th>28</th>\n",
       "      <td>New Hampshire</td>\n",
       "      <td>2127</td>\n",
       "      <td>1979</td>\n",
       "      <td>148</td>\n",
       "      <td>0</td>\n",
       "      <td>1752</td>\n",
       "      <td>152</td>\n",
       "      <td>125</td>\n",
       "      <td>11</td>\n",
       "      <td>6</td>\n",
       "      <td>1</td>\n",
       "      <td>0</td>\n",
       "      <td>45</td>\n",
       "      <td>35</td>\n",
       "    </tr>\n",
       "    <tr>\n",
       "      <th>29</th>\n",
       "      <td>New Jersey</td>\n",
       "      <td>12506</td>\n",
       "      <td>12052</td>\n",
       "      <td>454</td>\n",
       "      <td>0</td>\n",
       "      <td>2771</td>\n",
       "      <td>7662</td>\n",
       "      <td>1941</td>\n",
       "      <td>13</td>\n",
       "      <td>97</td>\n",
       "      <td>0</td>\n",
       "      <td>0</td>\n",
       "      <td>0</td>\n",
       "      <td>22</td>\n",
       "    </tr>\n",
       "    <tr>\n",
       "      <th>30</th>\n",
       "      <td>New Mexico</td>\n",
       "      <td>5154</td>\n",
       "      <td>4635</td>\n",
       "      <td>519</td>\n",
       "      <td>0</td>\n",
       "      <td>1385</td>\n",
       "      <td>380</td>\n",
       "      <td>3194</td>\n",
       "      <td>455</td>\n",
       "      <td>12</td>\n",
       "      <td>22</td>\n",
       "      <td>0</td>\n",
       "      <td>0</td>\n",
       "      <td>49</td>\n",
       "    </tr>\n",
       "    <tr>\n",
       "      <th>31</th>\n",
       "      <td>New York</td>\n",
       "      <td>30338</td>\n",
       "      <td>29233</td>\n",
       "      <td>1105</td>\n",
       "      <td>0</td>\n",
       "      <td>7056</td>\n",
       "      <td>14930</td>\n",
       "      <td>7290</td>\n",
       "      <td>289</td>\n",
       "      <td>190</td>\n",
       "      <td>0</td>\n",
       "      <td>0</td>\n",
       "      <td>435</td>\n",
       "      <td>148</td>\n",
       "    </tr>\n",
       "    <tr>\n",
       "      <th>32</th>\n",
       "      <td>North Carolina</td>\n",
       "      <td>28995</td>\n",
       "      <td>26871</td>\n",
       "      <td>2124</td>\n",
       "      <td>16</td>\n",
       "      <td>11776</td>\n",
       "      <td>14620</td>\n",
       "      <td>1725</td>\n",
       "      <td>576</td>\n",
       "      <td>94</td>\n",
       "      <td>0</td>\n",
       "      <td>0</td>\n",
       "      <td>0</td>\n",
       "      <td>204</td>\n",
       "    </tr>\n",
       "    <tr>\n",
       "      <th>33</th>\n",
       "      <td>North Dakota</td>\n",
       "      <td>1689</td>\n",
       "      <td>1489</td>\n",
       "      <td>200</td>\n",
       "      <td>0</td>\n",
       "      <td>982</td>\n",
       "      <td>181</td>\n",
       "      <td>99</td>\n",
       "      <td>418</td>\n",
       "      <td>6</td>\n",
       "      <td>3</td>\n",
       "      <td>0</td>\n",
       "      <td>0</td>\n",
       "      <td>0</td>\n",
       "    </tr>\n",
       "    <tr>\n",
       "      <th>34</th>\n",
       "      <td>Ohio</td>\n",
       "      <td>45029</td>\n",
       "      <td>41443</td>\n",
       "      <td>3586</td>\n",
       "      <td>27</td>\n",
       "      <td>22368</td>\n",
       "      <td>19305</td>\n",
       "      <td>1156</td>\n",
       "      <td>83</td>\n",
       "      <td>72</td>\n",
       "      <td>0</td>\n",
       "      <td>0</td>\n",
       "      <td>446</td>\n",
       "      <td>1599</td>\n",
       "    </tr>\n",
       "    <tr>\n",
       "      <th>35</th>\n",
       "      <td>Oklahoma</td>\n",
       "      <td>22391</td>\n",
       "      <td>20216</td>\n",
       "      <td>2175</td>\n",
       "      <td>8</td>\n",
       "      <td>11109</td>\n",
       "      <td>6087</td>\n",
       "      <td>1871</td>\n",
       "      <td>2099</td>\n",
       "      <td>88</td>\n",
       "      <td>31</td>\n",
       "      <td>0</td>\n",
       "      <td>50</td>\n",
       "      <td>1056</td>\n",
       "    </tr>\n",
       "    <tr>\n",
       "      <th>36</th>\n",
       "      <td>Oregon</td>\n",
       "      <td>13198</td>\n",
       "      <td>12252</td>\n",
       "      <td>946</td>\n",
       "      <td>0</td>\n",
       "      <td>9566</td>\n",
       "      <td>1236</td>\n",
       "      <td>1757</td>\n",
       "      <td>411</td>\n",
       "      <td>183</td>\n",
       "      <td>36</td>\n",
       "      <td>0</td>\n",
       "      <td>0</td>\n",
       "      <td>9</td>\n",
       "    </tr>\n",
       "    <tr>\n",
       "      <th>37</th>\n",
       "      <td>Pennsylvania</td>\n",
       "      <td>37194</td>\n",
       "      <td>35182</td>\n",
       "      <td>2012</td>\n",
       "      <td>14</td>\n",
       "      <td>16427</td>\n",
       "      <td>17125</td>\n",
       "      <td>3333</td>\n",
       "      <td>37</td>\n",
       "      <td>114</td>\n",
       "      <td>0</td>\n",
       "      <td>0</td>\n",
       "      <td>0</td>\n",
       "      <td>158</td>\n",
       "    </tr>\n",
       "    <tr>\n",
       "      <th>38</th>\n",
       "      <td>Rhode Island</td>\n",
       "      <td>2238</td>\n",
       "      <td>2115</td>\n",
       "      <td>123</td>\n",
       "      <td>0</td>\n",
       "      <td>887</td>\n",
       "      <td>643</td>\n",
       "      <td>614</td>\n",
       "      <td>21</td>\n",
       "      <td>30</td>\n",
       "      <td>0</td>\n",
       "      <td>0</td>\n",
       "      <td>39</td>\n",
       "      <td>4</td>\n",
       "    </tr>\n",
       "    <tr>\n",
       "      <th>39</th>\n",
       "      <td>South Carolina</td>\n",
       "      <td>15759</td>\n",
       "      <td>14721</td>\n",
       "      <td>1038</td>\n",
       "      <td>1</td>\n",
       "      <td>5894</td>\n",
       "      <td>9285</td>\n",
       "      <td>427</td>\n",
       "      <td>25</td>\n",
       "      <td>22</td>\n",
       "      <td>0</td>\n",
       "      <td>0</td>\n",
       "      <td>104</td>\n",
       "      <td>2</td>\n",
       "    </tr>\n",
       "    <tr>\n",
       "      <th>40</th>\n",
       "      <td>South Dakota</td>\n",
       "      <td>3353</td>\n",
       "      <td>2892</td>\n",
       "      <td>461</td>\n",
       "      <td>0</td>\n",
       "      <td>1730</td>\n",
       "      <td>262</td>\n",
       "      <td>134</td>\n",
       "      <td>1189</td>\n",
       "      <td>26</td>\n",
       "      <td>2</td>\n",
       "      <td>0</td>\n",
       "      <td>10</td>\n",
       "      <td>0</td>\n",
       "    </tr>\n",
       "    <tr>\n",
       "      <th>41</th>\n",
       "      <td>Tennessee</td>\n",
       "      <td>21995</td>\n",
       "      <td>19903</td>\n",
       "      <td>2092</td>\n",
       "      <td>4</td>\n",
       "      <td>12047</td>\n",
       "      <td>9295</td>\n",
       "      <td>560</td>\n",
       "      <td>36</td>\n",
       "      <td>57</td>\n",
       "      <td>0</td>\n",
       "      <td>0</td>\n",
       "      <td>0</td>\n",
       "      <td>0</td>\n",
       "    </tr>\n",
       "    <tr>\n",
       "      <th>42</th>\n",
       "      <td>Texas</td>\n",
       "      <td>133772</td>\n",
       "      <td>123263</td>\n",
       "      <td>10509</td>\n",
       "      <td>15</td>\n",
       "      <td>45229</td>\n",
       "      <td>43485</td>\n",
       "      <td>44284</td>\n",
       "      <td>63</td>\n",
       "      <td>522</td>\n",
       "      <td>0</td>\n",
       "      <td>0</td>\n",
       "      <td>189</td>\n",
       "      <td>0</td>\n",
       "    </tr>\n",
       "    <tr>\n",
       "      <th>43</th>\n",
       "      <td>Utah</td>\n",
       "      <td>5907</td>\n",
       "      <td>5426</td>\n",
       "      <td>481</td>\n",
       "      <td>0</td>\n",
       "      <td>3487</td>\n",
       "      <td>450</td>\n",
       "      <td>1219</td>\n",
       "      <td>333</td>\n",
       "      <td>58</td>\n",
       "      <td>136</td>\n",
       "      <td>0</td>\n",
       "      <td>0</td>\n",
       "      <td>224</td>\n",
       "    </tr>\n",
       "    <tr>\n",
       "      <th>44</th>\n",
       "      <td>Vermont</td>\n",
       "      <td>1287</td>\n",
       "      <td>1204</td>\n",
       "      <td>83</td>\n",
       "      <td>1</td>\n",
       "      <td>1104</td>\n",
       "      <td>124</td>\n",
       "      <td>0</td>\n",
       "      <td>25</td>\n",
       "      <td>8</td>\n",
       "      <td>2</td>\n",
       "      <td>0</td>\n",
       "      <td>9</td>\n",
       "      <td>15</td>\n",
       "    </tr>\n",
       "    <tr>\n",
       "      <th>45</th>\n",
       "      <td>Virginia</td>\n",
       "      <td>30357</td>\n",
       "      <td>28119</td>\n",
       "      <td>2238</td>\n",
       "      <td>1</td>\n",
       "      <td>12863</td>\n",
       "      <td>16326</td>\n",
       "      <td>988</td>\n",
       "      <td>32</td>\n",
       "      <td>124</td>\n",
       "      <td>0</td>\n",
       "      <td>0</td>\n",
       "      <td>0</td>\n",
       "      <td>24</td>\n",
       "    </tr>\n",
       "    <tr>\n",
       "      <th>46</th>\n",
       "      <td>Washington</td>\n",
       "      <td>13674</td>\n",
       "      <td>12888</td>\n",
       "      <td>786</td>\n",
       "      <td>4</td>\n",
       "      <td>7555</td>\n",
       "      <td>2419</td>\n",
       "      <td>2286</td>\n",
       "      <td>682</td>\n",
       "      <td>590</td>\n",
       "      <td>0</td>\n",
       "      <td>0</td>\n",
       "      <td>56</td>\n",
       "      <td>86</td>\n",
       "    </tr>\n",
       "    <tr>\n",
       "      <th>47</th>\n",
       "      <td>West Virginia</td>\n",
       "      <td>5847</td>\n",
       "      <td>5227</td>\n",
       "      <td>620</td>\n",
       "      <td>0</td>\n",
       "      <td>4956</td>\n",
       "      <td>797</td>\n",
       "      <td>43</td>\n",
       "      <td>5</td>\n",
       "      <td>4</td>\n",
       "      <td>1</td>\n",
       "      <td>41</td>\n",
       "      <td>0</td>\n",
       "      <td>0</td>\n",
       "    </tr>\n",
       "    <tr>\n",
       "      <th>48</th>\n",
       "      <td>Wisconsin</td>\n",
       "      <td>20202</td>\n",
       "      <td>18953</td>\n",
       "      <td>1249</td>\n",
       "      <td>0</td>\n",
       "      <td>8947</td>\n",
       "      <td>8200</td>\n",
       "      <td>1918</td>\n",
       "      <td>886</td>\n",
       "      <td>244</td>\n",
       "      <td>0</td>\n",
       "      <td>0</td>\n",
       "      <td>0</td>\n",
       "      <td>7</td>\n",
       "    </tr>\n",
       "    <tr>\n",
       "      <th>49</th>\n",
       "      <td>Wyoming</td>\n",
       "      <td>2123</td>\n",
       "      <td>1858</td>\n",
       "      <td>265</td>\n",
       "      <td>0</td>\n",
       "      <td>1593</td>\n",
       "      <td>101</td>\n",
       "      <td>248</td>\n",
       "      <td>159</td>\n",
       "      <td>9</td>\n",
       "      <td>5</td>\n",
       "      <td>0</td>\n",
       "      <td>3</td>\n",
       "      <td>5</td>\n",
       "    </tr>\n",
       "  </tbody>\n",
       "</table>\n",
       "</div>"
      ],
      "text/plain": [
       "             State  Total state prison population    Male  Female  Under 18  \\\n",
       "0          Alabama                          25032   22915    2117         0   \n",
       "1           Alaska                           4639    4197     442         0   \n",
       "2          Arizona                          33914   30794    3120        17   \n",
       "3         Arkansas                          17022   15592    1430         5   \n",
       "4       California                         101441   97525    3916         0   \n",
       "5         Colorado                          15865   14599    1266         0   \n",
       "6      Connecticut                           9889    9254     635        41   \n",
       "7         Delaware                           4810    4568     242         0   \n",
       "8          Florida                          80417   75404    5013        48   \n",
       "9          Georgia                          47010   43942    3068         0   \n",
       "10          Hawaii                           4102    3669     433         0   \n",
       "11           Idaho                           8907    7668    1239         0   \n",
       "12        Illinois                          28475   27165    1310         0   \n",
       "13         Indiana                          24716   22397    2319        11   \n",
       "14            Iowa                           8562    7859     703         9   \n",
       "15          Kansas                           8521    7793     728         0   \n",
       "16        Kentucky                          18560   16493    2067         0   \n",
       "17       Louisiana                          26074   24849    1225         7   \n",
       "18           Maine                           1577    1466     111         0   \n",
       "19        Maryland                          15134   14616     518         3   \n",
       "20   Massachusetts                           6148    5949     199         0   \n",
       "21        Michigan                          32186   30621    1565         5   \n",
       "22       Minnesota                           8003    7546     457         3   \n",
       "23     Mississippi                          17332   16116    1216        20   \n",
       "24        Missouri                          23422   21370    2052         2   \n",
       "25         Montana                           4313    3702     611         0   \n",
       "26        Nebraska                           5600    5200     400         8   \n",
       "27          Nevada                          10202    9418     784         0   \n",
       "28   New Hampshire                           2127    1979     148         0   \n",
       "29      New Jersey                          12506   12052     454         0   \n",
       "30      New Mexico                           5154    4635     519         0   \n",
       "31        New York                          30338   29233    1105         0   \n",
       "32  North Carolina                          28995   26871    2124        16   \n",
       "33    North Dakota                           1689    1489     200         0   \n",
       "34            Ohio                          45029   41443    3586        27   \n",
       "35        Oklahoma                          22391   20216    2175         8   \n",
       "36          Oregon                          13198   12252     946         0   \n",
       "37    Pennsylvania                          37194   35182    2012        14   \n",
       "38    Rhode Island                           2238    2115     123         0   \n",
       "39  South Carolina                          15759   14721    1038         1   \n",
       "40    South Dakota                           3353    2892     461         0   \n",
       "41       Tennessee                          21995   19903    2092         4   \n",
       "42           Texas                         133772  123263   10509        15   \n",
       "43            Utah                           5907    5426     481         0   \n",
       "44         Vermont                           1287    1204      83         1   \n",
       "45        Virginia                          30357   28119    2238         1   \n",
       "46      Washington                          13674   12888     786         4   \n",
       "47   West Virginia                           5847    5227     620         0   \n",
       "48       Wisconsin                          20202   18953    1249         0   \n",
       "49         Wyoming                           2123    1858     265         0   \n",
       "\n",
       "    White (non-Hispanic)  Black (non-Hispanic)  Hispanic  \\\n",
       "0                  11470                 13353         0   \n",
       "1                   1895                   465       125   \n",
       "2                  12960                  5087     13131   \n",
       "3                   9547                  6771       563   \n",
       "4                  20137                 28710     45999   \n",
       "5                   6520                  2769      4722   \n",
       "6                   2778                  4208      2824   \n",
       "7                   1551                  2952       299   \n",
       "8                  31599                 38266     10174   \n",
       "9                  17159                 27715      1945   \n",
       "10                   915                   185        98   \n",
       "11                  6419                   258      1288   \n",
       "12                  8849                 15204      3671   \n",
       "13                 14292                  7547       992   \n",
       "14                  5492                  2173       605   \n",
       "15                  4781                  2335      1118   \n",
       "16                 14102                  3879       296   \n",
       "17                  8863                 17097        66   \n",
       "18                  1261                   175         0   \n",
       "19                  3414                 10730       713   \n",
       "20                  2561                  1792      1567   \n",
       "21                 13746                 16278       632   \n",
       "22                  3732                  2834       471   \n",
       "23                  6419                 10649       181   \n",
       "24                 14606                  7843       494   \n",
       "25                  3000                   116       133   \n",
       "26                  2829                  1551       824   \n",
       "27                  3730                  3100      2764   \n",
       "28                  1752                   152       125   \n",
       "29                  2771                  7662      1941   \n",
       "30                  1385                   380      3194   \n",
       "31                  7056                 14930      7290   \n",
       "32                 11776                 14620      1725   \n",
       "33                   982                   181        99   \n",
       "34                 22368                 19305      1156   \n",
       "35                 11109                  6087      1871   \n",
       "36                  9566                  1236      1757   \n",
       "37                 16427                 17125      3333   \n",
       "38                   887                   643       614   \n",
       "39                  5894                  9285       427   \n",
       "40                  1730                   262       134   \n",
       "41                 12047                  9295       560   \n",
       "42                 45229                 43485     44284   \n",
       "43                  3487                   450      1219   \n",
       "44                  1104                   124         0   \n",
       "45                 12863                 16326       988   \n",
       "46                  7555                  2419      2286   \n",
       "47                  4956                   797        43   \n",
       "48                  8947                  8200      1918   \n",
       "49                  1593                   101       248   \n",
       "\n",
       "    American Indian/ Alaska Native (non-Hispanic)  Asian (non-Hispanic)  \\\n",
       "0                                               3                     4   \n",
       "1                                            1855                   158   \n",
       "2                                            1880                   157   \n",
       "3                                              49                    48   \n",
       "4                                            1161                  1162   \n",
       "5                                             542                   184   \n",
       "6                                              34                    43   \n",
       "7                                               1                     6   \n",
       "8                                              88                    18   \n",
       "9                                              22                   157   \n",
       "10                                             21                   699   \n",
       "11                                            329                    43   \n",
       "12                                             42                   104   \n",
       "13                                             50                    55   \n",
       "14                                            195                     0   \n",
       "15                                            201                    75   \n",
       "16                                             18                     0   \n",
       "17                                             21                    25   \n",
       "18                                             43                     7   \n",
       "19                                             76                    49   \n",
       "20                                             36                   102   \n",
       "21                                            287                    94   \n",
       "22                                            756                   197   \n",
       "23                                             35                    39   \n",
       "24                                             97                    61   \n",
       "25                                           1049                     0   \n",
       "26                                            287                    44   \n",
       "27                                            233                   206   \n",
       "28                                             11                     6   \n",
       "29                                             13                    97   \n",
       "30                                            455                    12   \n",
       "31                                            289                   190   \n",
       "32                                            576                    94   \n",
       "33                                            418                     6   \n",
       "34                                             83                    72   \n",
       "35                                           2099                    88   \n",
       "36                                            411                   183   \n",
       "37                                             37                   114   \n",
       "38                                             21                    30   \n",
       "39                                             25                    22   \n",
       "40                                           1189                    26   \n",
       "41                                             36                    57   \n",
       "42                                             63                   522   \n",
       "43                                            333                    58   \n",
       "44                                             25                     8   \n",
       "45                                             32                   124   \n",
       "46                                            682                   590   \n",
       "47                                              5                     4   \n",
       "48                                            886                   244   \n",
       "49                                            159                     9   \n",
       "\n",
       "    Native Hawaiian/ Pacific Islander (non-Hispanic)  \\\n",
       "0                                                  0   \n",
       "1                                                 95   \n",
       "2                                                  0   \n",
       "3                                                 19   \n",
       "4                                                321   \n",
       "5                                                 10   \n",
       "6                                                  0   \n",
       "7                                                  0   \n",
       "8                                                  7   \n",
       "9                                                  0   \n",
       "10                                              1800   \n",
       "11                                                 0   \n",
       "12                                                 0   \n",
       "13                                                 9   \n",
       "14                                                 0   \n",
       "15                                                 0   \n",
       "16                                                 0   \n",
       "17                                                 0   \n",
       "18                                                 1   \n",
       "19                                                16   \n",
       "20                                                 0   \n",
       "21                                                 7   \n",
       "22                                                 0   \n",
       "23                                                 0   \n",
       "24                                                 0   \n",
       "25                                                 0   \n",
       "26                                                 4   \n",
       "27                                               113   \n",
       "28                                                 1   \n",
       "29                                                 0   \n",
       "30                                                22   \n",
       "31                                                 0   \n",
       "32                                                 0   \n",
       "33                                                 3   \n",
       "34                                                 0   \n",
       "35                                                31   \n",
       "36                                                36   \n",
       "37                                                 0   \n",
       "38                                                 0   \n",
       "39                                                 0   \n",
       "40                                                 2   \n",
       "41                                                 0   \n",
       "42                                                 0   \n",
       "43                                               136   \n",
       "44                                                 2   \n",
       "45                                                 0   \n",
       "46                                                 0   \n",
       "47                                                 1   \n",
       "48                                                 0   \n",
       "49                                                 5   \n",
       "\n",
       "    2 or more races (non-Hispanic)  Some other race (non-Hispanic)  \\\n",
       "0                                0                             202   \n",
       "1                                0                               0   \n",
       "2                                0                             612   \n",
       "3                                0                              23   \n",
       "4                                0                            3951   \n",
       "5                                0                            1025   \n",
       "6                                0                               0   \n",
       "7                                0                               0   \n",
       "8                                0                             262   \n",
       "9                                0                               0   \n",
       "10                             145                               0   \n",
       "11                               0                             107   \n",
       "12                              55                               0   \n",
       "13                             153                               0   \n",
       "14                               0                              96   \n",
       "15                               0                               5   \n",
       "16                             220                              30   \n",
       "17                               0                               2   \n",
       "18                              29                               0   \n",
       "19                               0                             114   \n",
       "20                               0                               0   \n",
       "21                            1104                               0   \n",
       "22                               0                               0   \n",
       "23                               0                               0   \n",
       "24                               0                               0   \n",
       "25                               0                              15   \n",
       "26                               0                              58   \n",
       "27                               0                               0   \n",
       "28                               0                              45   \n",
       "29                               0                               0   \n",
       "30                               0                               0   \n",
       "31                               0                             435   \n",
       "32                               0                               0   \n",
       "33                               0                               0   \n",
       "34                               0                             446   \n",
       "35                               0                              50   \n",
       "36                               0                               0   \n",
       "37                               0                               0   \n",
       "38                               0                              39   \n",
       "39                               0                             104   \n",
       "40                               0                              10   \n",
       "41                               0                               0   \n",
       "42                               0                             189   \n",
       "43                               0                               0   \n",
       "44                               0                               9   \n",
       "45                               0                               0   \n",
       "46                               0                              56   \n",
       "47                              41                               0   \n",
       "48                               0                               0   \n",
       "49                               0                               3   \n",
       "\n",
       "    Unknown or not reported  \n",
       "0                         0  \n",
       "1                        46  \n",
       "2                        87  \n",
       "3                         2  \n",
       "4                         0  \n",
       "5                        93  \n",
       "6                         2  \n",
       "7                         1  \n",
       "8                         3  \n",
       "9                        12  \n",
       "10                      239  \n",
       "11                      463  \n",
       "12                      550  \n",
       "13                     1618  \n",
       "14                        1  \n",
       "15                        6  \n",
       "16                       15  \n",
       "17                        0  \n",
       "18                       61  \n",
       "19                       22  \n",
       "20                       90  \n",
       "21                       38  \n",
       "22                       13  \n",
       "23                        9  \n",
       "24                      321  \n",
       "25                        0  \n",
       "26                        3  \n",
       "27                       56  \n",
       "28                       35  \n",
       "29                       22  \n",
       "30                       49  \n",
       "31                      148  \n",
       "32                      204  \n",
       "33                        0  \n",
       "34                     1599  \n",
       "35                     1056  \n",
       "36                        9  \n",
       "37                      158  \n",
       "38                        4  \n",
       "39                        2  \n",
       "40                        0  \n",
       "41                        0  \n",
       "42                        0  \n",
       "43                      224  \n",
       "44                       15  \n",
       "45                       24  \n",
       "46                       86  \n",
       "47                        0  \n",
       "48                        7  \n",
       "49                        5  "
      ]
     },
     "execution_count": 8,
     "metadata": {},
     "output_type": "execute_result"
    }
   ],
   "source": [
    "prisonsorted = prison.sort_values('State')\n",
    "prisonsorted\n"
   ]
  },
  {
   "cell_type": "code",
   "execution_count": 9,
   "metadata": {},
   "outputs": [],
   "source": [
    "prisonsorted['state_code'] = ['AL', 'AK', 'AZ' , 'AR', 'CA', 'CO', 'CT', 'DE', 'FL', \n",
    "                        'GA', 'HI', 'ID', 'IL', 'IN', 'IA', 'KS', 'KY', 'LA', 'ME', \n",
    "                        'MD', 'MA', 'MI', 'MN',  'MP', 'MO', 'MT', 'NE', 'NV', 'NH', \n",
    "                        'NJ', 'NM',  'NY', 'NC', 'ND', 'OH', 'OK', 'OR', 'PA', 'RI', \n",
    "                        'SC', 'SD', 'TN', 'TX',  'UT', 'VT',  'VA', 'WA', 'WV', \n",
    "                        'WI', 'WY']"
   ]
  },
  {
   "cell_type": "code",
   "execution_count": 10,
   "metadata": {},
   "outputs": [
    {
     "data": {
      "text/html": [
       "<div>\n",
       "<style scoped>\n",
       "    .dataframe tbody tr th:only-of-type {\n",
       "        vertical-align: middle;\n",
       "    }\n",
       "\n",
       "    .dataframe tbody tr th {\n",
       "        vertical-align: top;\n",
       "    }\n",
       "\n",
       "    .dataframe thead th {\n",
       "        text-align: right;\n",
       "    }\n",
       "</style>\n",
       "<table border=\"1\" class=\"dataframe\">\n",
       "  <thead>\n",
       "    <tr style=\"text-align: right;\">\n",
       "      <th></th>\n",
       "      <th>State</th>\n",
       "      <th>Total state prison population</th>\n",
       "      <th>Male</th>\n",
       "      <th>Female</th>\n",
       "      <th>Under 18</th>\n",
       "      <th>White (non-Hispanic)</th>\n",
       "      <th>Black (non-Hispanic)</th>\n",
       "      <th>Hispanic</th>\n",
       "      <th>American Indian/ Alaska Native (non-Hispanic)</th>\n",
       "      <th>Asian (non-Hispanic)</th>\n",
       "      <th>Native Hawaiian/ Pacific Islander (non-Hispanic)</th>\n",
       "      <th>2 or more races (non-Hispanic)</th>\n",
       "      <th>Some other race (non-Hispanic)</th>\n",
       "      <th>Unknown or not reported</th>\n",
       "      <th>state_code</th>\n",
       "    </tr>\n",
       "  </thead>\n",
       "  <tbody>\n",
       "    <tr>\n",
       "      <th>0</th>\n",
       "      <td>Alabama</td>\n",
       "      <td>25032</td>\n",
       "      <td>22915</td>\n",
       "      <td>2117</td>\n",
       "      <td>0</td>\n",
       "      <td>11470</td>\n",
       "      <td>13353</td>\n",
       "      <td>0</td>\n",
       "      <td>3</td>\n",
       "      <td>4</td>\n",
       "      <td>0</td>\n",
       "      <td>0</td>\n",
       "      <td>202</td>\n",
       "      <td>0</td>\n",
       "      <td>AL</td>\n",
       "    </tr>\n",
       "    <tr>\n",
       "      <th>1</th>\n",
       "      <td>Alaska</td>\n",
       "      <td>4639</td>\n",
       "      <td>4197</td>\n",
       "      <td>442</td>\n",
       "      <td>0</td>\n",
       "      <td>1895</td>\n",
       "      <td>465</td>\n",
       "      <td>125</td>\n",
       "      <td>1855</td>\n",
       "      <td>158</td>\n",
       "      <td>95</td>\n",
       "      <td>0</td>\n",
       "      <td>0</td>\n",
       "      <td>46</td>\n",
       "      <td>AK</td>\n",
       "    </tr>\n",
       "    <tr>\n",
       "      <th>2</th>\n",
       "      <td>Arizona</td>\n",
       "      <td>33914</td>\n",
       "      <td>30794</td>\n",
       "      <td>3120</td>\n",
       "      <td>17</td>\n",
       "      <td>12960</td>\n",
       "      <td>5087</td>\n",
       "      <td>13131</td>\n",
       "      <td>1880</td>\n",
       "      <td>157</td>\n",
       "      <td>0</td>\n",
       "      <td>0</td>\n",
       "      <td>612</td>\n",
       "      <td>87</td>\n",
       "      <td>AZ</td>\n",
       "    </tr>\n",
       "    <tr>\n",
       "      <th>3</th>\n",
       "      <td>Arkansas</td>\n",
       "      <td>17022</td>\n",
       "      <td>15592</td>\n",
       "      <td>1430</td>\n",
       "      <td>5</td>\n",
       "      <td>9547</td>\n",
       "      <td>6771</td>\n",
       "      <td>563</td>\n",
       "      <td>49</td>\n",
       "      <td>48</td>\n",
       "      <td>19</td>\n",
       "      <td>0</td>\n",
       "      <td>23</td>\n",
       "      <td>2</td>\n",
       "      <td>AR</td>\n",
       "    </tr>\n",
       "    <tr>\n",
       "      <th>4</th>\n",
       "      <td>California</td>\n",
       "      <td>101441</td>\n",
       "      <td>97525</td>\n",
       "      <td>3916</td>\n",
       "      <td>0</td>\n",
       "      <td>20137</td>\n",
       "      <td>28710</td>\n",
       "      <td>45999</td>\n",
       "      <td>1161</td>\n",
       "      <td>1162</td>\n",
       "      <td>321</td>\n",
       "      <td>0</td>\n",
       "      <td>3951</td>\n",
       "      <td>0</td>\n",
       "      <td>CA</td>\n",
       "    </tr>\n",
       "    <tr>\n",
       "      <th>5</th>\n",
       "      <td>Colorado</td>\n",
       "      <td>15865</td>\n",
       "      <td>14599</td>\n",
       "      <td>1266</td>\n",
       "      <td>0</td>\n",
       "      <td>6520</td>\n",
       "      <td>2769</td>\n",
       "      <td>4722</td>\n",
       "      <td>542</td>\n",
       "      <td>184</td>\n",
       "      <td>10</td>\n",
       "      <td>0</td>\n",
       "      <td>1025</td>\n",
       "      <td>93</td>\n",
       "      <td>CO</td>\n",
       "    </tr>\n",
       "    <tr>\n",
       "      <th>6</th>\n",
       "      <td>Connecticut</td>\n",
       "      <td>9889</td>\n",
       "      <td>9254</td>\n",
       "      <td>635</td>\n",
       "      <td>41</td>\n",
       "      <td>2778</td>\n",
       "      <td>4208</td>\n",
       "      <td>2824</td>\n",
       "      <td>34</td>\n",
       "      <td>43</td>\n",
       "      <td>0</td>\n",
       "      <td>0</td>\n",
       "      <td>0</td>\n",
       "      <td>2</td>\n",
       "      <td>CT</td>\n",
       "    </tr>\n",
       "    <tr>\n",
       "      <th>7</th>\n",
       "      <td>Delaware</td>\n",
       "      <td>4810</td>\n",
       "      <td>4568</td>\n",
       "      <td>242</td>\n",
       "      <td>0</td>\n",
       "      <td>1551</td>\n",
       "      <td>2952</td>\n",
       "      <td>299</td>\n",
       "      <td>1</td>\n",
       "      <td>6</td>\n",
       "      <td>0</td>\n",
       "      <td>0</td>\n",
       "      <td>0</td>\n",
       "      <td>1</td>\n",
       "      <td>DE</td>\n",
       "    </tr>\n",
       "    <tr>\n",
       "      <th>8</th>\n",
       "      <td>Florida</td>\n",
       "      <td>80417</td>\n",
       "      <td>75404</td>\n",
       "      <td>5013</td>\n",
       "      <td>48</td>\n",
       "      <td>31599</td>\n",
       "      <td>38266</td>\n",
       "      <td>10174</td>\n",
       "      <td>88</td>\n",
       "      <td>18</td>\n",
       "      <td>7</td>\n",
       "      <td>0</td>\n",
       "      <td>262</td>\n",
       "      <td>3</td>\n",
       "      <td>FL</td>\n",
       "    </tr>\n",
       "    <tr>\n",
       "      <th>9</th>\n",
       "      <td>Georgia</td>\n",
       "      <td>47010</td>\n",
       "      <td>43942</td>\n",
       "      <td>3068</td>\n",
       "      <td>0</td>\n",
       "      <td>17159</td>\n",
       "      <td>27715</td>\n",
       "      <td>1945</td>\n",
       "      <td>22</td>\n",
       "      <td>157</td>\n",
       "      <td>0</td>\n",
       "      <td>0</td>\n",
       "      <td>0</td>\n",
       "      <td>12</td>\n",
       "      <td>GA</td>\n",
       "    </tr>\n",
       "    <tr>\n",
       "      <th>10</th>\n",
       "      <td>Hawaii</td>\n",
       "      <td>4102</td>\n",
       "      <td>3669</td>\n",
       "      <td>433</td>\n",
       "      <td>0</td>\n",
       "      <td>915</td>\n",
       "      <td>185</td>\n",
       "      <td>98</td>\n",
       "      <td>21</td>\n",
       "      <td>699</td>\n",
       "      <td>1800</td>\n",
       "      <td>145</td>\n",
       "      <td>0</td>\n",
       "      <td>239</td>\n",
       "      <td>HI</td>\n",
       "    </tr>\n",
       "    <tr>\n",
       "      <th>11</th>\n",
       "      <td>Idaho</td>\n",
       "      <td>8907</td>\n",
       "      <td>7668</td>\n",
       "      <td>1239</td>\n",
       "      <td>0</td>\n",
       "      <td>6419</td>\n",
       "      <td>258</td>\n",
       "      <td>1288</td>\n",
       "      <td>329</td>\n",
       "      <td>43</td>\n",
       "      <td>0</td>\n",
       "      <td>0</td>\n",
       "      <td>107</td>\n",
       "      <td>463</td>\n",
       "      <td>ID</td>\n",
       "    </tr>\n",
       "    <tr>\n",
       "      <th>12</th>\n",
       "      <td>Illinois</td>\n",
       "      <td>28475</td>\n",
       "      <td>27165</td>\n",
       "      <td>1310</td>\n",
       "      <td>0</td>\n",
       "      <td>8849</td>\n",
       "      <td>15204</td>\n",
       "      <td>3671</td>\n",
       "      <td>42</td>\n",
       "      <td>104</td>\n",
       "      <td>0</td>\n",
       "      <td>55</td>\n",
       "      <td>0</td>\n",
       "      <td>550</td>\n",
       "      <td>IL</td>\n",
       "    </tr>\n",
       "    <tr>\n",
       "      <th>13</th>\n",
       "      <td>Indiana</td>\n",
       "      <td>24716</td>\n",
       "      <td>22397</td>\n",
       "      <td>2319</td>\n",
       "      <td>11</td>\n",
       "      <td>14292</td>\n",
       "      <td>7547</td>\n",
       "      <td>992</td>\n",
       "      <td>50</td>\n",
       "      <td>55</td>\n",
       "      <td>9</td>\n",
       "      <td>153</td>\n",
       "      <td>0</td>\n",
       "      <td>1618</td>\n",
       "      <td>IN</td>\n",
       "    </tr>\n",
       "    <tr>\n",
       "      <th>14</th>\n",
       "      <td>Iowa</td>\n",
       "      <td>8562</td>\n",
       "      <td>7859</td>\n",
       "      <td>703</td>\n",
       "      <td>9</td>\n",
       "      <td>5492</td>\n",
       "      <td>2173</td>\n",
       "      <td>605</td>\n",
       "      <td>195</td>\n",
       "      <td>0</td>\n",
       "      <td>0</td>\n",
       "      <td>0</td>\n",
       "      <td>96</td>\n",
       "      <td>1</td>\n",
       "      <td>IA</td>\n",
       "    </tr>\n",
       "    <tr>\n",
       "      <th>15</th>\n",
       "      <td>Kansas</td>\n",
       "      <td>8521</td>\n",
       "      <td>7793</td>\n",
       "      <td>728</td>\n",
       "      <td>0</td>\n",
       "      <td>4781</td>\n",
       "      <td>2335</td>\n",
       "      <td>1118</td>\n",
       "      <td>201</td>\n",
       "      <td>75</td>\n",
       "      <td>0</td>\n",
       "      <td>0</td>\n",
       "      <td>5</td>\n",
       "      <td>6</td>\n",
       "      <td>KS</td>\n",
       "    </tr>\n",
       "    <tr>\n",
       "      <th>16</th>\n",
       "      <td>Kentucky</td>\n",
       "      <td>18560</td>\n",
       "      <td>16493</td>\n",
       "      <td>2067</td>\n",
       "      <td>0</td>\n",
       "      <td>14102</td>\n",
       "      <td>3879</td>\n",
       "      <td>296</td>\n",
       "      <td>18</td>\n",
       "      <td>0</td>\n",
       "      <td>0</td>\n",
       "      <td>220</td>\n",
       "      <td>30</td>\n",
       "      <td>15</td>\n",
       "      <td>KY</td>\n",
       "    </tr>\n",
       "    <tr>\n",
       "      <th>17</th>\n",
       "      <td>Louisiana</td>\n",
       "      <td>26074</td>\n",
       "      <td>24849</td>\n",
       "      <td>1225</td>\n",
       "      <td>7</td>\n",
       "      <td>8863</td>\n",
       "      <td>17097</td>\n",
       "      <td>66</td>\n",
       "      <td>21</td>\n",
       "      <td>25</td>\n",
       "      <td>0</td>\n",
       "      <td>0</td>\n",
       "      <td>2</td>\n",
       "      <td>0</td>\n",
       "      <td>LA</td>\n",
       "    </tr>\n",
       "    <tr>\n",
       "      <th>18</th>\n",
       "      <td>Maine</td>\n",
       "      <td>1577</td>\n",
       "      <td>1466</td>\n",
       "      <td>111</td>\n",
       "      <td>0</td>\n",
       "      <td>1261</td>\n",
       "      <td>175</td>\n",
       "      <td>0</td>\n",
       "      <td>43</td>\n",
       "      <td>7</td>\n",
       "      <td>1</td>\n",
       "      <td>29</td>\n",
       "      <td>0</td>\n",
       "      <td>61</td>\n",
       "      <td>ME</td>\n",
       "    </tr>\n",
       "    <tr>\n",
       "      <th>19</th>\n",
       "      <td>Maryland</td>\n",
       "      <td>15134</td>\n",
       "      <td>14616</td>\n",
       "      <td>518</td>\n",
       "      <td>3</td>\n",
       "      <td>3414</td>\n",
       "      <td>10730</td>\n",
       "      <td>713</td>\n",
       "      <td>76</td>\n",
       "      <td>49</td>\n",
       "      <td>16</td>\n",
       "      <td>0</td>\n",
       "      <td>114</td>\n",
       "      <td>22</td>\n",
       "      <td>MD</td>\n",
       "    </tr>\n",
       "    <tr>\n",
       "      <th>20</th>\n",
       "      <td>Massachusetts</td>\n",
       "      <td>6148</td>\n",
       "      <td>5949</td>\n",
       "      <td>199</td>\n",
       "      <td>0</td>\n",
       "      <td>2561</td>\n",
       "      <td>1792</td>\n",
       "      <td>1567</td>\n",
       "      <td>36</td>\n",
       "      <td>102</td>\n",
       "      <td>0</td>\n",
       "      <td>0</td>\n",
       "      <td>0</td>\n",
       "      <td>90</td>\n",
       "      <td>MA</td>\n",
       "    </tr>\n",
       "    <tr>\n",
       "      <th>21</th>\n",
       "      <td>Michigan</td>\n",
       "      <td>32186</td>\n",
       "      <td>30621</td>\n",
       "      <td>1565</td>\n",
       "      <td>5</td>\n",
       "      <td>13746</td>\n",
       "      <td>16278</td>\n",
       "      <td>632</td>\n",
       "      <td>287</td>\n",
       "      <td>94</td>\n",
       "      <td>7</td>\n",
       "      <td>1104</td>\n",
       "      <td>0</td>\n",
       "      <td>38</td>\n",
       "      <td>MI</td>\n",
       "    </tr>\n",
       "    <tr>\n",
       "      <th>22</th>\n",
       "      <td>Minnesota</td>\n",
       "      <td>8003</td>\n",
       "      <td>7546</td>\n",
       "      <td>457</td>\n",
       "      <td>3</td>\n",
       "      <td>3732</td>\n",
       "      <td>2834</td>\n",
       "      <td>471</td>\n",
       "      <td>756</td>\n",
       "      <td>197</td>\n",
       "      <td>0</td>\n",
       "      <td>0</td>\n",
       "      <td>0</td>\n",
       "      <td>13</td>\n",
       "      <td>MN</td>\n",
       "    </tr>\n",
       "    <tr>\n",
       "      <th>23</th>\n",
       "      <td>Mississippi</td>\n",
       "      <td>17332</td>\n",
       "      <td>16116</td>\n",
       "      <td>1216</td>\n",
       "      <td>20</td>\n",
       "      <td>6419</td>\n",
       "      <td>10649</td>\n",
       "      <td>181</td>\n",
       "      <td>35</td>\n",
       "      <td>39</td>\n",
       "      <td>0</td>\n",
       "      <td>0</td>\n",
       "      <td>0</td>\n",
       "      <td>9</td>\n",
       "      <td>MP</td>\n",
       "    </tr>\n",
       "    <tr>\n",
       "      <th>24</th>\n",
       "      <td>Missouri</td>\n",
       "      <td>23422</td>\n",
       "      <td>21370</td>\n",
       "      <td>2052</td>\n",
       "      <td>2</td>\n",
       "      <td>14606</td>\n",
       "      <td>7843</td>\n",
       "      <td>494</td>\n",
       "      <td>97</td>\n",
       "      <td>61</td>\n",
       "      <td>0</td>\n",
       "      <td>0</td>\n",
       "      <td>0</td>\n",
       "      <td>321</td>\n",
       "      <td>MO</td>\n",
       "    </tr>\n",
       "    <tr>\n",
       "      <th>25</th>\n",
       "      <td>Montana</td>\n",
       "      <td>4313</td>\n",
       "      <td>3702</td>\n",
       "      <td>611</td>\n",
       "      <td>0</td>\n",
       "      <td>3000</td>\n",
       "      <td>116</td>\n",
       "      <td>133</td>\n",
       "      <td>1049</td>\n",
       "      <td>0</td>\n",
       "      <td>0</td>\n",
       "      <td>0</td>\n",
       "      <td>15</td>\n",
       "      <td>0</td>\n",
       "      <td>MT</td>\n",
       "    </tr>\n",
       "    <tr>\n",
       "      <th>26</th>\n",
       "      <td>Nebraska</td>\n",
       "      <td>5600</td>\n",
       "      <td>5200</td>\n",
       "      <td>400</td>\n",
       "      <td>8</td>\n",
       "      <td>2829</td>\n",
       "      <td>1551</td>\n",
       "      <td>824</td>\n",
       "      <td>287</td>\n",
       "      <td>44</td>\n",
       "      <td>4</td>\n",
       "      <td>0</td>\n",
       "      <td>58</td>\n",
       "      <td>3</td>\n",
       "      <td>NE</td>\n",
       "    </tr>\n",
       "    <tr>\n",
       "      <th>27</th>\n",
       "      <td>Nevada</td>\n",
       "      <td>10202</td>\n",
       "      <td>9418</td>\n",
       "      <td>784</td>\n",
       "      <td>0</td>\n",
       "      <td>3730</td>\n",
       "      <td>3100</td>\n",
       "      <td>2764</td>\n",
       "      <td>233</td>\n",
       "      <td>206</td>\n",
       "      <td>113</td>\n",
       "      <td>0</td>\n",
       "      <td>0</td>\n",
       "      <td>56</td>\n",
       "      <td>NV</td>\n",
       "    </tr>\n",
       "    <tr>\n",
       "      <th>28</th>\n",
       "      <td>New Hampshire</td>\n",
       "      <td>2127</td>\n",
       "      <td>1979</td>\n",
       "      <td>148</td>\n",
       "      <td>0</td>\n",
       "      <td>1752</td>\n",
       "      <td>152</td>\n",
       "      <td>125</td>\n",
       "      <td>11</td>\n",
       "      <td>6</td>\n",
       "      <td>1</td>\n",
       "      <td>0</td>\n",
       "      <td>45</td>\n",
       "      <td>35</td>\n",
       "      <td>NH</td>\n",
       "    </tr>\n",
       "    <tr>\n",
       "      <th>29</th>\n",
       "      <td>New Jersey</td>\n",
       "      <td>12506</td>\n",
       "      <td>12052</td>\n",
       "      <td>454</td>\n",
       "      <td>0</td>\n",
       "      <td>2771</td>\n",
       "      <td>7662</td>\n",
       "      <td>1941</td>\n",
       "      <td>13</td>\n",
       "      <td>97</td>\n",
       "      <td>0</td>\n",
       "      <td>0</td>\n",
       "      <td>0</td>\n",
       "      <td>22</td>\n",
       "      <td>NJ</td>\n",
       "    </tr>\n",
       "    <tr>\n",
       "      <th>30</th>\n",
       "      <td>New Mexico</td>\n",
       "      <td>5154</td>\n",
       "      <td>4635</td>\n",
       "      <td>519</td>\n",
       "      <td>0</td>\n",
       "      <td>1385</td>\n",
       "      <td>380</td>\n",
       "      <td>3194</td>\n",
       "      <td>455</td>\n",
       "      <td>12</td>\n",
       "      <td>22</td>\n",
       "      <td>0</td>\n",
       "      <td>0</td>\n",
       "      <td>49</td>\n",
       "      <td>NM</td>\n",
       "    </tr>\n",
       "    <tr>\n",
       "      <th>31</th>\n",
       "      <td>New York</td>\n",
       "      <td>30338</td>\n",
       "      <td>29233</td>\n",
       "      <td>1105</td>\n",
       "      <td>0</td>\n",
       "      <td>7056</td>\n",
       "      <td>14930</td>\n",
       "      <td>7290</td>\n",
       "      <td>289</td>\n",
       "      <td>190</td>\n",
       "      <td>0</td>\n",
       "      <td>0</td>\n",
       "      <td>435</td>\n",
       "      <td>148</td>\n",
       "      <td>NY</td>\n",
       "    </tr>\n",
       "    <tr>\n",
       "      <th>32</th>\n",
       "      <td>North Carolina</td>\n",
       "      <td>28995</td>\n",
       "      <td>26871</td>\n",
       "      <td>2124</td>\n",
       "      <td>16</td>\n",
       "      <td>11776</td>\n",
       "      <td>14620</td>\n",
       "      <td>1725</td>\n",
       "      <td>576</td>\n",
       "      <td>94</td>\n",
       "      <td>0</td>\n",
       "      <td>0</td>\n",
       "      <td>0</td>\n",
       "      <td>204</td>\n",
       "      <td>NC</td>\n",
       "    </tr>\n",
       "    <tr>\n",
       "      <th>33</th>\n",
       "      <td>North Dakota</td>\n",
       "      <td>1689</td>\n",
       "      <td>1489</td>\n",
       "      <td>200</td>\n",
       "      <td>0</td>\n",
       "      <td>982</td>\n",
       "      <td>181</td>\n",
       "      <td>99</td>\n",
       "      <td>418</td>\n",
       "      <td>6</td>\n",
       "      <td>3</td>\n",
       "      <td>0</td>\n",
       "      <td>0</td>\n",
       "      <td>0</td>\n",
       "      <td>ND</td>\n",
       "    </tr>\n",
       "    <tr>\n",
       "      <th>34</th>\n",
       "      <td>Ohio</td>\n",
       "      <td>45029</td>\n",
       "      <td>41443</td>\n",
       "      <td>3586</td>\n",
       "      <td>27</td>\n",
       "      <td>22368</td>\n",
       "      <td>19305</td>\n",
       "      <td>1156</td>\n",
       "      <td>83</td>\n",
       "      <td>72</td>\n",
       "      <td>0</td>\n",
       "      <td>0</td>\n",
       "      <td>446</td>\n",
       "      <td>1599</td>\n",
       "      <td>OH</td>\n",
       "    </tr>\n",
       "    <tr>\n",
       "      <th>35</th>\n",
       "      <td>Oklahoma</td>\n",
       "      <td>22391</td>\n",
       "      <td>20216</td>\n",
       "      <td>2175</td>\n",
       "      <td>8</td>\n",
       "      <td>11109</td>\n",
       "      <td>6087</td>\n",
       "      <td>1871</td>\n",
       "      <td>2099</td>\n",
       "      <td>88</td>\n",
       "      <td>31</td>\n",
       "      <td>0</td>\n",
       "      <td>50</td>\n",
       "      <td>1056</td>\n",
       "      <td>OK</td>\n",
       "    </tr>\n",
       "    <tr>\n",
       "      <th>36</th>\n",
       "      <td>Oregon</td>\n",
       "      <td>13198</td>\n",
       "      <td>12252</td>\n",
       "      <td>946</td>\n",
       "      <td>0</td>\n",
       "      <td>9566</td>\n",
       "      <td>1236</td>\n",
       "      <td>1757</td>\n",
       "      <td>411</td>\n",
       "      <td>183</td>\n",
       "      <td>36</td>\n",
       "      <td>0</td>\n",
       "      <td>0</td>\n",
       "      <td>9</td>\n",
       "      <td>OR</td>\n",
       "    </tr>\n",
       "    <tr>\n",
       "      <th>37</th>\n",
       "      <td>Pennsylvania</td>\n",
       "      <td>37194</td>\n",
       "      <td>35182</td>\n",
       "      <td>2012</td>\n",
       "      <td>14</td>\n",
       "      <td>16427</td>\n",
       "      <td>17125</td>\n",
       "      <td>3333</td>\n",
       "      <td>37</td>\n",
       "      <td>114</td>\n",
       "      <td>0</td>\n",
       "      <td>0</td>\n",
       "      <td>0</td>\n",
       "      <td>158</td>\n",
       "      <td>PA</td>\n",
       "    </tr>\n",
       "    <tr>\n",
       "      <th>38</th>\n",
       "      <td>Rhode Island</td>\n",
       "      <td>2238</td>\n",
       "      <td>2115</td>\n",
       "      <td>123</td>\n",
       "      <td>0</td>\n",
       "      <td>887</td>\n",
       "      <td>643</td>\n",
       "      <td>614</td>\n",
       "      <td>21</td>\n",
       "      <td>30</td>\n",
       "      <td>0</td>\n",
       "      <td>0</td>\n",
       "      <td>39</td>\n",
       "      <td>4</td>\n",
       "      <td>RI</td>\n",
       "    </tr>\n",
       "    <tr>\n",
       "      <th>39</th>\n",
       "      <td>South Carolina</td>\n",
       "      <td>15759</td>\n",
       "      <td>14721</td>\n",
       "      <td>1038</td>\n",
       "      <td>1</td>\n",
       "      <td>5894</td>\n",
       "      <td>9285</td>\n",
       "      <td>427</td>\n",
       "      <td>25</td>\n",
       "      <td>22</td>\n",
       "      <td>0</td>\n",
       "      <td>0</td>\n",
       "      <td>104</td>\n",
       "      <td>2</td>\n",
       "      <td>SC</td>\n",
       "    </tr>\n",
       "    <tr>\n",
       "      <th>40</th>\n",
       "      <td>South Dakota</td>\n",
       "      <td>3353</td>\n",
       "      <td>2892</td>\n",
       "      <td>461</td>\n",
       "      <td>0</td>\n",
       "      <td>1730</td>\n",
       "      <td>262</td>\n",
       "      <td>134</td>\n",
       "      <td>1189</td>\n",
       "      <td>26</td>\n",
       "      <td>2</td>\n",
       "      <td>0</td>\n",
       "      <td>10</td>\n",
       "      <td>0</td>\n",
       "      <td>SD</td>\n",
       "    </tr>\n",
       "    <tr>\n",
       "      <th>41</th>\n",
       "      <td>Tennessee</td>\n",
       "      <td>21995</td>\n",
       "      <td>19903</td>\n",
       "      <td>2092</td>\n",
       "      <td>4</td>\n",
       "      <td>12047</td>\n",
       "      <td>9295</td>\n",
       "      <td>560</td>\n",
       "      <td>36</td>\n",
       "      <td>57</td>\n",
       "      <td>0</td>\n",
       "      <td>0</td>\n",
       "      <td>0</td>\n",
       "      <td>0</td>\n",
       "      <td>TN</td>\n",
       "    </tr>\n",
       "    <tr>\n",
       "      <th>42</th>\n",
       "      <td>Texas</td>\n",
       "      <td>133772</td>\n",
       "      <td>123263</td>\n",
       "      <td>10509</td>\n",
       "      <td>15</td>\n",
       "      <td>45229</td>\n",
       "      <td>43485</td>\n",
       "      <td>44284</td>\n",
       "      <td>63</td>\n",
       "      <td>522</td>\n",
       "      <td>0</td>\n",
       "      <td>0</td>\n",
       "      <td>189</td>\n",
       "      <td>0</td>\n",
       "      <td>TX</td>\n",
       "    </tr>\n",
       "    <tr>\n",
       "      <th>43</th>\n",
       "      <td>Utah</td>\n",
       "      <td>5907</td>\n",
       "      <td>5426</td>\n",
       "      <td>481</td>\n",
       "      <td>0</td>\n",
       "      <td>3487</td>\n",
       "      <td>450</td>\n",
       "      <td>1219</td>\n",
       "      <td>333</td>\n",
       "      <td>58</td>\n",
       "      <td>136</td>\n",
       "      <td>0</td>\n",
       "      <td>0</td>\n",
       "      <td>224</td>\n",
       "      <td>UT</td>\n",
       "    </tr>\n",
       "    <tr>\n",
       "      <th>44</th>\n",
       "      <td>Vermont</td>\n",
       "      <td>1287</td>\n",
       "      <td>1204</td>\n",
       "      <td>83</td>\n",
       "      <td>1</td>\n",
       "      <td>1104</td>\n",
       "      <td>124</td>\n",
       "      <td>0</td>\n",
       "      <td>25</td>\n",
       "      <td>8</td>\n",
       "      <td>2</td>\n",
       "      <td>0</td>\n",
       "      <td>9</td>\n",
       "      <td>15</td>\n",
       "      <td>VT</td>\n",
       "    </tr>\n",
       "    <tr>\n",
       "      <th>45</th>\n",
       "      <td>Virginia</td>\n",
       "      <td>30357</td>\n",
       "      <td>28119</td>\n",
       "      <td>2238</td>\n",
       "      <td>1</td>\n",
       "      <td>12863</td>\n",
       "      <td>16326</td>\n",
       "      <td>988</td>\n",
       "      <td>32</td>\n",
       "      <td>124</td>\n",
       "      <td>0</td>\n",
       "      <td>0</td>\n",
       "      <td>0</td>\n",
       "      <td>24</td>\n",
       "      <td>VA</td>\n",
       "    </tr>\n",
       "    <tr>\n",
       "      <th>46</th>\n",
       "      <td>Washington</td>\n",
       "      <td>13674</td>\n",
       "      <td>12888</td>\n",
       "      <td>786</td>\n",
       "      <td>4</td>\n",
       "      <td>7555</td>\n",
       "      <td>2419</td>\n",
       "      <td>2286</td>\n",
       "      <td>682</td>\n",
       "      <td>590</td>\n",
       "      <td>0</td>\n",
       "      <td>0</td>\n",
       "      <td>56</td>\n",
       "      <td>86</td>\n",
       "      <td>WA</td>\n",
       "    </tr>\n",
       "    <tr>\n",
       "      <th>47</th>\n",
       "      <td>West Virginia</td>\n",
       "      <td>5847</td>\n",
       "      <td>5227</td>\n",
       "      <td>620</td>\n",
       "      <td>0</td>\n",
       "      <td>4956</td>\n",
       "      <td>797</td>\n",
       "      <td>43</td>\n",
       "      <td>5</td>\n",
       "      <td>4</td>\n",
       "      <td>1</td>\n",
       "      <td>41</td>\n",
       "      <td>0</td>\n",
       "      <td>0</td>\n",
       "      <td>WV</td>\n",
       "    </tr>\n",
       "    <tr>\n",
       "      <th>48</th>\n",
       "      <td>Wisconsin</td>\n",
       "      <td>20202</td>\n",
       "      <td>18953</td>\n",
       "      <td>1249</td>\n",
       "      <td>0</td>\n",
       "      <td>8947</td>\n",
       "      <td>8200</td>\n",
       "      <td>1918</td>\n",
       "      <td>886</td>\n",
       "      <td>244</td>\n",
       "      <td>0</td>\n",
       "      <td>0</td>\n",
       "      <td>0</td>\n",
       "      <td>7</td>\n",
       "      <td>WI</td>\n",
       "    </tr>\n",
       "    <tr>\n",
       "      <th>49</th>\n",
       "      <td>Wyoming</td>\n",
       "      <td>2123</td>\n",
       "      <td>1858</td>\n",
       "      <td>265</td>\n",
       "      <td>0</td>\n",
       "      <td>1593</td>\n",
       "      <td>101</td>\n",
       "      <td>248</td>\n",
       "      <td>159</td>\n",
       "      <td>9</td>\n",
       "      <td>5</td>\n",
       "      <td>0</td>\n",
       "      <td>3</td>\n",
       "      <td>5</td>\n",
       "      <td>WY</td>\n",
       "    </tr>\n",
       "  </tbody>\n",
       "</table>\n",
       "</div>"
      ],
      "text/plain": [
       "             State  Total state prison population    Male  Female  Under 18  \\\n",
       "0          Alabama                          25032   22915    2117         0   \n",
       "1           Alaska                           4639    4197     442         0   \n",
       "2          Arizona                          33914   30794    3120        17   \n",
       "3         Arkansas                          17022   15592    1430         5   \n",
       "4       California                         101441   97525    3916         0   \n",
       "5         Colorado                          15865   14599    1266         0   \n",
       "6      Connecticut                           9889    9254     635        41   \n",
       "7         Delaware                           4810    4568     242         0   \n",
       "8          Florida                          80417   75404    5013        48   \n",
       "9          Georgia                          47010   43942    3068         0   \n",
       "10          Hawaii                           4102    3669     433         0   \n",
       "11           Idaho                           8907    7668    1239         0   \n",
       "12        Illinois                          28475   27165    1310         0   \n",
       "13         Indiana                          24716   22397    2319        11   \n",
       "14            Iowa                           8562    7859     703         9   \n",
       "15          Kansas                           8521    7793     728         0   \n",
       "16        Kentucky                          18560   16493    2067         0   \n",
       "17       Louisiana                          26074   24849    1225         7   \n",
       "18           Maine                           1577    1466     111         0   \n",
       "19        Maryland                          15134   14616     518         3   \n",
       "20   Massachusetts                           6148    5949     199         0   \n",
       "21        Michigan                          32186   30621    1565         5   \n",
       "22       Minnesota                           8003    7546     457         3   \n",
       "23     Mississippi                          17332   16116    1216        20   \n",
       "24        Missouri                          23422   21370    2052         2   \n",
       "25         Montana                           4313    3702     611         0   \n",
       "26        Nebraska                           5600    5200     400         8   \n",
       "27          Nevada                          10202    9418     784         0   \n",
       "28   New Hampshire                           2127    1979     148         0   \n",
       "29      New Jersey                          12506   12052     454         0   \n",
       "30      New Mexico                           5154    4635     519         0   \n",
       "31        New York                          30338   29233    1105         0   \n",
       "32  North Carolina                          28995   26871    2124        16   \n",
       "33    North Dakota                           1689    1489     200         0   \n",
       "34            Ohio                          45029   41443    3586        27   \n",
       "35        Oklahoma                          22391   20216    2175         8   \n",
       "36          Oregon                          13198   12252     946         0   \n",
       "37    Pennsylvania                          37194   35182    2012        14   \n",
       "38    Rhode Island                           2238    2115     123         0   \n",
       "39  South Carolina                          15759   14721    1038         1   \n",
       "40    South Dakota                           3353    2892     461         0   \n",
       "41       Tennessee                          21995   19903    2092         4   \n",
       "42           Texas                         133772  123263   10509        15   \n",
       "43            Utah                           5907    5426     481         0   \n",
       "44         Vermont                           1287    1204      83         1   \n",
       "45        Virginia                          30357   28119    2238         1   \n",
       "46      Washington                          13674   12888     786         4   \n",
       "47   West Virginia                           5847    5227     620         0   \n",
       "48       Wisconsin                          20202   18953    1249         0   \n",
       "49         Wyoming                           2123    1858     265         0   \n",
       "\n",
       "    White (non-Hispanic)  Black (non-Hispanic)  Hispanic  \\\n",
       "0                  11470                 13353         0   \n",
       "1                   1895                   465       125   \n",
       "2                  12960                  5087     13131   \n",
       "3                   9547                  6771       563   \n",
       "4                  20137                 28710     45999   \n",
       "5                   6520                  2769      4722   \n",
       "6                   2778                  4208      2824   \n",
       "7                   1551                  2952       299   \n",
       "8                  31599                 38266     10174   \n",
       "9                  17159                 27715      1945   \n",
       "10                   915                   185        98   \n",
       "11                  6419                   258      1288   \n",
       "12                  8849                 15204      3671   \n",
       "13                 14292                  7547       992   \n",
       "14                  5492                  2173       605   \n",
       "15                  4781                  2335      1118   \n",
       "16                 14102                  3879       296   \n",
       "17                  8863                 17097        66   \n",
       "18                  1261                   175         0   \n",
       "19                  3414                 10730       713   \n",
       "20                  2561                  1792      1567   \n",
       "21                 13746                 16278       632   \n",
       "22                  3732                  2834       471   \n",
       "23                  6419                 10649       181   \n",
       "24                 14606                  7843       494   \n",
       "25                  3000                   116       133   \n",
       "26                  2829                  1551       824   \n",
       "27                  3730                  3100      2764   \n",
       "28                  1752                   152       125   \n",
       "29                  2771                  7662      1941   \n",
       "30                  1385                   380      3194   \n",
       "31                  7056                 14930      7290   \n",
       "32                 11776                 14620      1725   \n",
       "33                   982                   181        99   \n",
       "34                 22368                 19305      1156   \n",
       "35                 11109                  6087      1871   \n",
       "36                  9566                  1236      1757   \n",
       "37                 16427                 17125      3333   \n",
       "38                   887                   643       614   \n",
       "39                  5894                  9285       427   \n",
       "40                  1730                   262       134   \n",
       "41                 12047                  9295       560   \n",
       "42                 45229                 43485     44284   \n",
       "43                  3487                   450      1219   \n",
       "44                  1104                   124         0   \n",
       "45                 12863                 16326       988   \n",
       "46                  7555                  2419      2286   \n",
       "47                  4956                   797        43   \n",
       "48                  8947                  8200      1918   \n",
       "49                  1593                   101       248   \n",
       "\n",
       "    American Indian/ Alaska Native (non-Hispanic)  Asian (non-Hispanic)  \\\n",
       "0                                               3                     4   \n",
       "1                                            1855                   158   \n",
       "2                                            1880                   157   \n",
       "3                                              49                    48   \n",
       "4                                            1161                  1162   \n",
       "5                                             542                   184   \n",
       "6                                              34                    43   \n",
       "7                                               1                     6   \n",
       "8                                              88                    18   \n",
       "9                                              22                   157   \n",
       "10                                             21                   699   \n",
       "11                                            329                    43   \n",
       "12                                             42                   104   \n",
       "13                                             50                    55   \n",
       "14                                            195                     0   \n",
       "15                                            201                    75   \n",
       "16                                             18                     0   \n",
       "17                                             21                    25   \n",
       "18                                             43                     7   \n",
       "19                                             76                    49   \n",
       "20                                             36                   102   \n",
       "21                                            287                    94   \n",
       "22                                            756                   197   \n",
       "23                                             35                    39   \n",
       "24                                             97                    61   \n",
       "25                                           1049                     0   \n",
       "26                                            287                    44   \n",
       "27                                            233                   206   \n",
       "28                                             11                     6   \n",
       "29                                             13                    97   \n",
       "30                                            455                    12   \n",
       "31                                            289                   190   \n",
       "32                                            576                    94   \n",
       "33                                            418                     6   \n",
       "34                                             83                    72   \n",
       "35                                           2099                    88   \n",
       "36                                            411                   183   \n",
       "37                                             37                   114   \n",
       "38                                             21                    30   \n",
       "39                                             25                    22   \n",
       "40                                           1189                    26   \n",
       "41                                             36                    57   \n",
       "42                                             63                   522   \n",
       "43                                            333                    58   \n",
       "44                                             25                     8   \n",
       "45                                             32                   124   \n",
       "46                                            682                   590   \n",
       "47                                              5                     4   \n",
       "48                                            886                   244   \n",
       "49                                            159                     9   \n",
       "\n",
       "    Native Hawaiian/ Pacific Islander (non-Hispanic)  \\\n",
       "0                                                  0   \n",
       "1                                                 95   \n",
       "2                                                  0   \n",
       "3                                                 19   \n",
       "4                                                321   \n",
       "5                                                 10   \n",
       "6                                                  0   \n",
       "7                                                  0   \n",
       "8                                                  7   \n",
       "9                                                  0   \n",
       "10                                              1800   \n",
       "11                                                 0   \n",
       "12                                                 0   \n",
       "13                                                 9   \n",
       "14                                                 0   \n",
       "15                                                 0   \n",
       "16                                                 0   \n",
       "17                                                 0   \n",
       "18                                                 1   \n",
       "19                                                16   \n",
       "20                                                 0   \n",
       "21                                                 7   \n",
       "22                                                 0   \n",
       "23                                                 0   \n",
       "24                                                 0   \n",
       "25                                                 0   \n",
       "26                                                 4   \n",
       "27                                               113   \n",
       "28                                                 1   \n",
       "29                                                 0   \n",
       "30                                                22   \n",
       "31                                                 0   \n",
       "32                                                 0   \n",
       "33                                                 3   \n",
       "34                                                 0   \n",
       "35                                                31   \n",
       "36                                                36   \n",
       "37                                                 0   \n",
       "38                                                 0   \n",
       "39                                                 0   \n",
       "40                                                 2   \n",
       "41                                                 0   \n",
       "42                                                 0   \n",
       "43                                               136   \n",
       "44                                                 2   \n",
       "45                                                 0   \n",
       "46                                                 0   \n",
       "47                                                 1   \n",
       "48                                                 0   \n",
       "49                                                 5   \n",
       "\n",
       "    2 or more races (non-Hispanic)  Some other race (non-Hispanic)  \\\n",
       "0                                0                             202   \n",
       "1                                0                               0   \n",
       "2                                0                             612   \n",
       "3                                0                              23   \n",
       "4                                0                            3951   \n",
       "5                                0                            1025   \n",
       "6                                0                               0   \n",
       "7                                0                               0   \n",
       "8                                0                             262   \n",
       "9                                0                               0   \n",
       "10                             145                               0   \n",
       "11                               0                             107   \n",
       "12                              55                               0   \n",
       "13                             153                               0   \n",
       "14                               0                              96   \n",
       "15                               0                               5   \n",
       "16                             220                              30   \n",
       "17                               0                               2   \n",
       "18                              29                               0   \n",
       "19                               0                             114   \n",
       "20                               0                               0   \n",
       "21                            1104                               0   \n",
       "22                               0                               0   \n",
       "23                               0                               0   \n",
       "24                               0                               0   \n",
       "25                               0                              15   \n",
       "26                               0                              58   \n",
       "27                               0                               0   \n",
       "28                               0                              45   \n",
       "29                               0                               0   \n",
       "30                               0                               0   \n",
       "31                               0                             435   \n",
       "32                               0                               0   \n",
       "33                               0                               0   \n",
       "34                               0                             446   \n",
       "35                               0                              50   \n",
       "36                               0                               0   \n",
       "37                               0                               0   \n",
       "38                               0                              39   \n",
       "39                               0                             104   \n",
       "40                               0                              10   \n",
       "41                               0                               0   \n",
       "42                               0                             189   \n",
       "43                               0                               0   \n",
       "44                               0                               9   \n",
       "45                               0                               0   \n",
       "46                               0                              56   \n",
       "47                              41                               0   \n",
       "48                               0                               0   \n",
       "49                               0                               3   \n",
       "\n",
       "    Unknown or not reported state_code  \n",
       "0                         0         AL  \n",
       "1                        46         AK  \n",
       "2                        87         AZ  \n",
       "3                         2         AR  \n",
       "4                         0         CA  \n",
       "5                        93         CO  \n",
       "6                         2         CT  \n",
       "7                         1         DE  \n",
       "8                         3         FL  \n",
       "9                        12         GA  \n",
       "10                      239         HI  \n",
       "11                      463         ID  \n",
       "12                      550         IL  \n",
       "13                     1618         IN  \n",
       "14                        1         IA  \n",
       "15                        6         KS  \n",
       "16                       15         KY  \n",
       "17                        0         LA  \n",
       "18                       61         ME  \n",
       "19                       22         MD  \n",
       "20                       90         MA  \n",
       "21                       38         MI  \n",
       "22                       13         MN  \n",
       "23                        9         MP  \n",
       "24                      321         MO  \n",
       "25                        0         MT  \n",
       "26                        3         NE  \n",
       "27                       56         NV  \n",
       "28                       35         NH  \n",
       "29                       22         NJ  \n",
       "30                       49         NM  \n",
       "31                      148         NY  \n",
       "32                      204         NC  \n",
       "33                        0         ND  \n",
       "34                     1599         OH  \n",
       "35                     1056         OK  \n",
       "36                        9         OR  \n",
       "37                      158         PA  \n",
       "38                        4         RI  \n",
       "39                        2         SC  \n",
       "40                        0         SD  \n",
       "41                        0         TN  \n",
       "42                        0         TX  \n",
       "43                      224         UT  \n",
       "44                       15         VT  \n",
       "45                       24         VA  \n",
       "46                       86         WA  \n",
       "47                        0         WV  \n",
       "48                        7         WI  \n",
       "49                        5         WY  "
      ]
     },
     "execution_count": 10,
     "metadata": {},
     "output_type": "execute_result"
    }
   ],
   "source": [
    "prisonsorted"
   ]
  },
  {
   "cell_type": "code",
   "execution_count": 11,
   "metadata": {},
   "outputs": [
    {
     "data": {
      "application/vnd.plotly.v1+json": {
       "config": {
        "plotlyServerURL": "https://plot.ly"
       },
       "data": [
        {
         "colorscale": [
          [
           0,
           "rgb(247,252,245)"
          ],
          [
           0.125,
           "rgb(229,245,224)"
          ],
          [
           0.25,
           "rgb(199,233,192)"
          ],
          [
           0.375,
           "rgb(161,217,155)"
          ],
          [
           0.5,
           "rgb(116,196,118)"
          ],
          [
           0.625,
           "rgb(65,171,93)"
          ],
          [
           0.75,
           "rgb(35,139,69)"
          ],
          [
           0.875,
           "rgb(0,109,44)"
          ],
          [
           1,
           "rgb(0,68,27)"
          ]
         ],
         "locationmode": "USA-states",
         "locations": [
          "AL",
          "AK",
          "AZ",
          "AR",
          "CA",
          "CO",
          "CT",
          "DE",
          "FL",
          "GA",
          "HI",
          "ID",
          "IL",
          "IN",
          "IA",
          "KS",
          "KY",
          "LA",
          "ME",
          "MD",
          "MA",
          "MI",
          "MN",
          "MP",
          "MO",
          "MT",
          "NE",
          "NV",
          "NH",
          "NJ",
          "NM",
          "NY",
          "NC",
          "ND",
          "OH",
          "OK",
          "OR",
          "PA",
          "RI",
          "SC",
          "SD",
          "TN",
          "TX",
          "UT",
          "VT",
          "VA",
          "WA",
          "WV",
          "WI",
          "WY"
         ],
         "type": "choropleth",
         "z": [
          25032,
          4639,
          33914,
          17022,
          101441,
          15865,
          9889,
          4810,
          80417,
          47010,
          4102,
          8907,
          28475,
          24716,
          8562,
          8521,
          18560,
          26074,
          1577,
          15134,
          6148,
          32186,
          8003,
          17332,
          23422,
          4313,
          5600,
          10202,
          2127,
          12506,
          5154,
          30338,
          28995,
          1689,
          45029,
          22391,
          13198,
          37194,
          2238,
          15759,
          3353,
          21995,
          133772,
          5907,
          1287,
          30357,
          13674,
          5847,
          20202,
          2123
         ]
        }
       ],
       "layout": {
        "geo": {
         "scope": "usa"
        },
        "template": {
         "data": {
          "bar": [
           {
            "error_x": {
             "color": "#2a3f5f"
            },
            "error_y": {
             "color": "#2a3f5f"
            },
            "marker": {
             "line": {
              "color": "#E5ECF6",
              "width": 0.5
             },
             "pattern": {
              "fillmode": "overlay",
              "size": 10,
              "solidity": 0.2
             }
            },
            "type": "bar"
           }
          ],
          "barpolar": [
           {
            "marker": {
             "line": {
              "color": "#E5ECF6",
              "width": 0.5
             },
             "pattern": {
              "fillmode": "overlay",
              "size": 10,
              "solidity": 0.2
             }
            },
            "type": "barpolar"
           }
          ],
          "carpet": [
           {
            "aaxis": {
             "endlinecolor": "#2a3f5f",
             "gridcolor": "white",
             "linecolor": "white",
             "minorgridcolor": "white",
             "startlinecolor": "#2a3f5f"
            },
            "baxis": {
             "endlinecolor": "#2a3f5f",
             "gridcolor": "white",
             "linecolor": "white",
             "minorgridcolor": "white",
             "startlinecolor": "#2a3f5f"
            },
            "type": "carpet"
           }
          ],
          "choropleth": [
           {
            "colorbar": {
             "outlinewidth": 0,
             "ticks": ""
            },
            "type": "choropleth"
           }
          ],
          "contour": [
           {
            "colorbar": {
             "outlinewidth": 0,
             "ticks": ""
            },
            "colorscale": [
             [
              0,
              "#0d0887"
             ],
             [
              0.1111111111111111,
              "#46039f"
             ],
             [
              0.2222222222222222,
              "#7201a8"
             ],
             [
              0.3333333333333333,
              "#9c179e"
             ],
             [
              0.4444444444444444,
              "#bd3786"
             ],
             [
              0.5555555555555556,
              "#d8576b"
             ],
             [
              0.6666666666666666,
              "#ed7953"
             ],
             [
              0.7777777777777778,
              "#fb9f3a"
             ],
             [
              0.8888888888888888,
              "#fdca26"
             ],
             [
              1,
              "#f0f921"
             ]
            ],
            "type": "contour"
           }
          ],
          "contourcarpet": [
           {
            "colorbar": {
             "outlinewidth": 0,
             "ticks": ""
            },
            "type": "contourcarpet"
           }
          ],
          "heatmap": [
           {
            "colorbar": {
             "outlinewidth": 0,
             "ticks": ""
            },
            "colorscale": [
             [
              0,
              "#0d0887"
             ],
             [
              0.1111111111111111,
              "#46039f"
             ],
             [
              0.2222222222222222,
              "#7201a8"
             ],
             [
              0.3333333333333333,
              "#9c179e"
             ],
             [
              0.4444444444444444,
              "#bd3786"
             ],
             [
              0.5555555555555556,
              "#d8576b"
             ],
             [
              0.6666666666666666,
              "#ed7953"
             ],
             [
              0.7777777777777778,
              "#fb9f3a"
             ],
             [
              0.8888888888888888,
              "#fdca26"
             ],
             [
              1,
              "#f0f921"
             ]
            ],
            "type": "heatmap"
           }
          ],
          "heatmapgl": [
           {
            "colorbar": {
             "outlinewidth": 0,
             "ticks": ""
            },
            "colorscale": [
             [
              0,
              "#0d0887"
             ],
             [
              0.1111111111111111,
              "#46039f"
             ],
             [
              0.2222222222222222,
              "#7201a8"
             ],
             [
              0.3333333333333333,
              "#9c179e"
             ],
             [
              0.4444444444444444,
              "#bd3786"
             ],
             [
              0.5555555555555556,
              "#d8576b"
             ],
             [
              0.6666666666666666,
              "#ed7953"
             ],
             [
              0.7777777777777778,
              "#fb9f3a"
             ],
             [
              0.8888888888888888,
              "#fdca26"
             ],
             [
              1,
              "#f0f921"
             ]
            ],
            "type": "heatmapgl"
           }
          ],
          "histogram": [
           {
            "marker": {
             "pattern": {
              "fillmode": "overlay",
              "size": 10,
              "solidity": 0.2
             }
            },
            "type": "histogram"
           }
          ],
          "histogram2d": [
           {
            "colorbar": {
             "outlinewidth": 0,
             "ticks": ""
            },
            "colorscale": [
             [
              0,
              "#0d0887"
             ],
             [
              0.1111111111111111,
              "#46039f"
             ],
             [
              0.2222222222222222,
              "#7201a8"
             ],
             [
              0.3333333333333333,
              "#9c179e"
             ],
             [
              0.4444444444444444,
              "#bd3786"
             ],
             [
              0.5555555555555556,
              "#d8576b"
             ],
             [
              0.6666666666666666,
              "#ed7953"
             ],
             [
              0.7777777777777778,
              "#fb9f3a"
             ],
             [
              0.8888888888888888,
              "#fdca26"
             ],
             [
              1,
              "#f0f921"
             ]
            ],
            "type": "histogram2d"
           }
          ],
          "histogram2dcontour": [
           {
            "colorbar": {
             "outlinewidth": 0,
             "ticks": ""
            },
            "colorscale": [
             [
              0,
              "#0d0887"
             ],
             [
              0.1111111111111111,
              "#46039f"
             ],
             [
              0.2222222222222222,
              "#7201a8"
             ],
             [
              0.3333333333333333,
              "#9c179e"
             ],
             [
              0.4444444444444444,
              "#bd3786"
             ],
             [
              0.5555555555555556,
              "#d8576b"
             ],
             [
              0.6666666666666666,
              "#ed7953"
             ],
             [
              0.7777777777777778,
              "#fb9f3a"
             ],
             [
              0.8888888888888888,
              "#fdca26"
             ],
             [
              1,
              "#f0f921"
             ]
            ],
            "type": "histogram2dcontour"
           }
          ],
          "mesh3d": [
           {
            "colorbar": {
             "outlinewidth": 0,
             "ticks": ""
            },
            "type": "mesh3d"
           }
          ],
          "parcoords": [
           {
            "line": {
             "colorbar": {
              "outlinewidth": 0,
              "ticks": ""
             }
            },
            "type": "parcoords"
           }
          ],
          "pie": [
           {
            "automargin": true,
            "type": "pie"
           }
          ],
          "scatter": [
           {
            "fillpattern": {
             "fillmode": "overlay",
             "size": 10,
             "solidity": 0.2
            },
            "type": "scatter"
           }
          ],
          "scatter3d": [
           {
            "line": {
             "colorbar": {
              "outlinewidth": 0,
              "ticks": ""
             }
            },
            "marker": {
             "colorbar": {
              "outlinewidth": 0,
              "ticks": ""
             }
            },
            "type": "scatter3d"
           }
          ],
          "scattercarpet": [
           {
            "marker": {
             "colorbar": {
              "outlinewidth": 0,
              "ticks": ""
             }
            },
            "type": "scattercarpet"
           }
          ],
          "scattergeo": [
           {
            "marker": {
             "colorbar": {
              "outlinewidth": 0,
              "ticks": ""
             }
            },
            "type": "scattergeo"
           }
          ],
          "scattergl": [
           {
            "marker": {
             "colorbar": {
              "outlinewidth": 0,
              "ticks": ""
             }
            },
            "type": "scattergl"
           }
          ],
          "scattermapbox": [
           {
            "marker": {
             "colorbar": {
              "outlinewidth": 0,
              "ticks": ""
             }
            },
            "type": "scattermapbox"
           }
          ],
          "scatterpolar": [
           {
            "marker": {
             "colorbar": {
              "outlinewidth": 0,
              "ticks": ""
             }
            },
            "type": "scatterpolar"
           }
          ],
          "scatterpolargl": [
           {
            "marker": {
             "colorbar": {
              "outlinewidth": 0,
              "ticks": ""
             }
            },
            "type": "scatterpolargl"
           }
          ],
          "scatterternary": [
           {
            "marker": {
             "colorbar": {
              "outlinewidth": 0,
              "ticks": ""
             }
            },
            "type": "scatterternary"
           }
          ],
          "surface": [
           {
            "colorbar": {
             "outlinewidth": 0,
             "ticks": ""
            },
            "colorscale": [
             [
              0,
              "#0d0887"
             ],
             [
              0.1111111111111111,
              "#46039f"
             ],
             [
              0.2222222222222222,
              "#7201a8"
             ],
             [
              0.3333333333333333,
              "#9c179e"
             ],
             [
              0.4444444444444444,
              "#bd3786"
             ],
             [
              0.5555555555555556,
              "#d8576b"
             ],
             [
              0.6666666666666666,
              "#ed7953"
             ],
             [
              0.7777777777777778,
              "#fb9f3a"
             ],
             [
              0.8888888888888888,
              "#fdca26"
             ],
             [
              1,
              "#f0f921"
             ]
            ],
            "type": "surface"
           }
          ],
          "table": [
           {
            "cells": {
             "fill": {
              "color": "#EBF0F8"
             },
             "line": {
              "color": "white"
             }
            },
            "header": {
             "fill": {
              "color": "#C8D4E3"
             },
             "line": {
              "color": "white"
             }
            },
            "type": "table"
           }
          ]
         },
         "layout": {
          "annotationdefaults": {
           "arrowcolor": "#2a3f5f",
           "arrowhead": 0,
           "arrowwidth": 1
          },
          "autotypenumbers": "strict",
          "coloraxis": {
           "colorbar": {
            "outlinewidth": 0,
            "ticks": ""
           }
          },
          "colorscale": {
           "diverging": [
            [
             0,
             "#8e0152"
            ],
            [
             0.1,
             "#c51b7d"
            ],
            [
             0.2,
             "#de77ae"
            ],
            [
             0.3,
             "#f1b6da"
            ],
            [
             0.4,
             "#fde0ef"
            ],
            [
             0.5,
             "#f7f7f7"
            ],
            [
             0.6,
             "#e6f5d0"
            ],
            [
             0.7,
             "#b8e186"
            ],
            [
             0.8,
             "#7fbc41"
            ],
            [
             0.9,
             "#4d9221"
            ],
            [
             1,
             "#276419"
            ]
           ],
           "sequential": [
            [
             0,
             "#0d0887"
            ],
            [
             0.1111111111111111,
             "#46039f"
            ],
            [
             0.2222222222222222,
             "#7201a8"
            ],
            [
             0.3333333333333333,
             "#9c179e"
            ],
            [
             0.4444444444444444,
             "#bd3786"
            ],
            [
             0.5555555555555556,
             "#d8576b"
            ],
            [
             0.6666666666666666,
             "#ed7953"
            ],
            [
             0.7777777777777778,
             "#fb9f3a"
            ],
            [
             0.8888888888888888,
             "#fdca26"
            ],
            [
             1,
             "#f0f921"
            ]
           ],
           "sequentialminus": [
            [
             0,
             "#0d0887"
            ],
            [
             0.1111111111111111,
             "#46039f"
            ],
            [
             0.2222222222222222,
             "#7201a8"
            ],
            [
             0.3333333333333333,
             "#9c179e"
            ],
            [
             0.4444444444444444,
             "#bd3786"
            ],
            [
             0.5555555555555556,
             "#d8576b"
            ],
            [
             0.6666666666666666,
             "#ed7953"
            ],
            [
             0.7777777777777778,
             "#fb9f3a"
            ],
            [
             0.8888888888888888,
             "#fdca26"
            ],
            [
             1,
             "#f0f921"
            ]
           ]
          },
          "colorway": [
           "#636efa",
           "#EF553B",
           "#00cc96",
           "#ab63fa",
           "#FFA15A",
           "#19d3f3",
           "#FF6692",
           "#B6E880",
           "#FF97FF",
           "#FECB52"
          ],
          "font": {
           "color": "#2a3f5f"
          },
          "geo": {
           "bgcolor": "white",
           "lakecolor": "white",
           "landcolor": "#E5ECF6",
           "showlakes": true,
           "showland": true,
           "subunitcolor": "white"
          },
          "hoverlabel": {
           "align": "left"
          },
          "hovermode": "closest",
          "mapbox": {
           "style": "light"
          },
          "paper_bgcolor": "white",
          "plot_bgcolor": "#E5ECF6",
          "polar": {
           "angularaxis": {
            "gridcolor": "white",
            "linecolor": "white",
            "ticks": ""
           },
           "bgcolor": "#E5ECF6",
           "radialaxis": {
            "gridcolor": "white",
            "linecolor": "white",
            "ticks": ""
           }
          },
          "scene": {
           "xaxis": {
            "backgroundcolor": "#E5ECF6",
            "gridcolor": "white",
            "gridwidth": 2,
            "linecolor": "white",
            "showbackground": true,
            "ticks": "",
            "zerolinecolor": "white"
           },
           "yaxis": {
            "backgroundcolor": "#E5ECF6",
            "gridcolor": "white",
            "gridwidth": 2,
            "linecolor": "white",
            "showbackground": true,
            "ticks": "",
            "zerolinecolor": "white"
           },
           "zaxis": {
            "backgroundcolor": "#E5ECF6",
            "gridcolor": "white",
            "gridwidth": 2,
            "linecolor": "white",
            "showbackground": true,
            "ticks": "",
            "zerolinecolor": "white"
           }
          },
          "shapedefaults": {
           "line": {
            "color": "#2a3f5f"
           }
          },
          "ternary": {
           "aaxis": {
            "gridcolor": "white",
            "linecolor": "white",
            "ticks": ""
           },
           "baxis": {
            "gridcolor": "white",
            "linecolor": "white",
            "ticks": ""
           },
           "bgcolor": "#E5ECF6",
           "caxis": {
            "gridcolor": "white",
            "linecolor": "white",
            "ticks": ""
           }
          },
          "title": {
           "x": 0.05
          },
          "xaxis": {
           "automargin": true,
           "gridcolor": "white",
           "linecolor": "white",
           "ticks": "",
           "title": {
            "standoff": 15
           },
           "zerolinecolor": "white",
           "zerolinewidth": 2
          },
          "yaxis": {
           "automargin": true,
           "gridcolor": "white",
           "linecolor": "white",
           "ticks": "",
           "title": {
            "standoff": 15
           },
           "zerolinecolor": "white",
           "zerolinewidth": 2
          }
         }
        },
        "title": {
         "text": "2021 prison population"
        }
       }
      }
     },
     "metadata": {},
     "output_type": "display_data"
    }
   ],
   "source": [
    "import plotly.graph_objects as go  # https://plotly.com/python/choropleth-maps/\n",
    "\n",
    "fig = go.Figure(data=go.Choropleth(\n",
    "    locations=prisonsorted['state_code'], # Spatial coordinates\n",
    "    z = prison['Total state prison population'], # Data to be color-coded\n",
    "    locationmode = 'USA-states', # set of locations match entries in `locations`\n",
    "    colorscale = 'Greens',\n",
    "\n",
    "))\n",
    "\n",
    "fig.update_layout(\n",
    "    title_text = '2021 prison population',\n",
    "    geo_scope='usa', # limite map scope to USA\n",
    ")\n",
    "fig.show()"
   ]
  },
  {
   "cell_type": "code",
   "execution_count": 12,
   "metadata": {},
   "outputs": [
    {
     "data": {
      "application/vnd.plotly.v1+json": {
       "config": {
        "plotlyServerURL": "https://plot.ly"
       },
       "data": [
        {
         "colorscale": [
          [
           0,
           "rgb(255,245,240)"
          ],
          [
           0.125,
           "rgb(254,224,210)"
          ],
          [
           0.25,
           "rgb(252,187,161)"
          ],
          [
           0.375,
           "rgb(252,146,114)"
          ],
          [
           0.5,
           "rgb(251,106,74)"
          ],
          [
           0.625,
           "rgb(239,59,44)"
          ],
          [
           0.75,
           "rgb(203,24,29)"
          ],
          [
           0.875,
           "rgb(165,15,21)"
          ],
          [
           1,
           "rgb(103,0,13)"
          ]
         ],
         "locationmode": "USA-states",
         "locations": [
          "AL",
          "AK",
          "AZ",
          "AR",
          "CA",
          "CO",
          "CT",
          "DE",
          "FL",
          "GA",
          "HI",
          "ID",
          "IL",
          "IN",
          "IA",
          "KS",
          "KY",
          "LA",
          "ME",
          "MD",
          "MA",
          "MI",
          "MN",
          "MP",
          "MO",
          "MT",
          "NE",
          "NV",
          "NH",
          "NJ",
          "NM",
          "NY",
          "NC",
          "ND",
          "OH",
          "OK",
          "OR",
          "PA",
          "RI",
          "SC",
          "SD",
          "TN",
          "TX",
          "UT",
          "VT",
          "VA",
          "WA",
          "WV",
          "WI",
          "WY"
         ],
         "type": "choropleth",
         "z": [
          22915,
          4197,
          30794,
          15592,
          97525,
          14599,
          9254,
          4568,
          75404,
          43942,
          3669,
          7668,
          27165,
          22397,
          7859,
          7793,
          16493,
          24849,
          1466,
          14616,
          5949,
          30621,
          7546,
          16116,
          21370,
          3702,
          5200,
          9418,
          1979,
          12052,
          4635,
          29233,
          26871,
          1489,
          41443,
          20216,
          12252,
          35182,
          2115,
          14721,
          2892,
          19903,
          123263,
          5426,
          1204,
          28119,
          12888,
          5227,
          18953,
          1858
         ]
        }
       ],
       "layout": {
        "geo": {
         "scope": "usa"
        },
        "template": {
         "data": {
          "bar": [
           {
            "error_x": {
             "color": "#2a3f5f"
            },
            "error_y": {
             "color": "#2a3f5f"
            },
            "marker": {
             "line": {
              "color": "#E5ECF6",
              "width": 0.5
             },
             "pattern": {
              "fillmode": "overlay",
              "size": 10,
              "solidity": 0.2
             }
            },
            "type": "bar"
           }
          ],
          "barpolar": [
           {
            "marker": {
             "line": {
              "color": "#E5ECF6",
              "width": 0.5
             },
             "pattern": {
              "fillmode": "overlay",
              "size": 10,
              "solidity": 0.2
             }
            },
            "type": "barpolar"
           }
          ],
          "carpet": [
           {
            "aaxis": {
             "endlinecolor": "#2a3f5f",
             "gridcolor": "white",
             "linecolor": "white",
             "minorgridcolor": "white",
             "startlinecolor": "#2a3f5f"
            },
            "baxis": {
             "endlinecolor": "#2a3f5f",
             "gridcolor": "white",
             "linecolor": "white",
             "minorgridcolor": "white",
             "startlinecolor": "#2a3f5f"
            },
            "type": "carpet"
           }
          ],
          "choropleth": [
           {
            "colorbar": {
             "outlinewidth": 0,
             "ticks": ""
            },
            "type": "choropleth"
           }
          ],
          "contour": [
           {
            "colorbar": {
             "outlinewidth": 0,
             "ticks": ""
            },
            "colorscale": [
             [
              0,
              "#0d0887"
             ],
             [
              0.1111111111111111,
              "#46039f"
             ],
             [
              0.2222222222222222,
              "#7201a8"
             ],
             [
              0.3333333333333333,
              "#9c179e"
             ],
             [
              0.4444444444444444,
              "#bd3786"
             ],
             [
              0.5555555555555556,
              "#d8576b"
             ],
             [
              0.6666666666666666,
              "#ed7953"
             ],
             [
              0.7777777777777778,
              "#fb9f3a"
             ],
             [
              0.8888888888888888,
              "#fdca26"
             ],
             [
              1,
              "#f0f921"
             ]
            ],
            "type": "contour"
           }
          ],
          "contourcarpet": [
           {
            "colorbar": {
             "outlinewidth": 0,
             "ticks": ""
            },
            "type": "contourcarpet"
           }
          ],
          "heatmap": [
           {
            "colorbar": {
             "outlinewidth": 0,
             "ticks": ""
            },
            "colorscale": [
             [
              0,
              "#0d0887"
             ],
             [
              0.1111111111111111,
              "#46039f"
             ],
             [
              0.2222222222222222,
              "#7201a8"
             ],
             [
              0.3333333333333333,
              "#9c179e"
             ],
             [
              0.4444444444444444,
              "#bd3786"
             ],
             [
              0.5555555555555556,
              "#d8576b"
             ],
             [
              0.6666666666666666,
              "#ed7953"
             ],
             [
              0.7777777777777778,
              "#fb9f3a"
             ],
             [
              0.8888888888888888,
              "#fdca26"
             ],
             [
              1,
              "#f0f921"
             ]
            ],
            "type": "heatmap"
           }
          ],
          "heatmapgl": [
           {
            "colorbar": {
             "outlinewidth": 0,
             "ticks": ""
            },
            "colorscale": [
             [
              0,
              "#0d0887"
             ],
             [
              0.1111111111111111,
              "#46039f"
             ],
             [
              0.2222222222222222,
              "#7201a8"
             ],
             [
              0.3333333333333333,
              "#9c179e"
             ],
             [
              0.4444444444444444,
              "#bd3786"
             ],
             [
              0.5555555555555556,
              "#d8576b"
             ],
             [
              0.6666666666666666,
              "#ed7953"
             ],
             [
              0.7777777777777778,
              "#fb9f3a"
             ],
             [
              0.8888888888888888,
              "#fdca26"
             ],
             [
              1,
              "#f0f921"
             ]
            ],
            "type": "heatmapgl"
           }
          ],
          "histogram": [
           {
            "marker": {
             "pattern": {
              "fillmode": "overlay",
              "size": 10,
              "solidity": 0.2
             }
            },
            "type": "histogram"
           }
          ],
          "histogram2d": [
           {
            "colorbar": {
             "outlinewidth": 0,
             "ticks": ""
            },
            "colorscale": [
             [
              0,
              "#0d0887"
             ],
             [
              0.1111111111111111,
              "#46039f"
             ],
             [
              0.2222222222222222,
              "#7201a8"
             ],
             [
              0.3333333333333333,
              "#9c179e"
             ],
             [
              0.4444444444444444,
              "#bd3786"
             ],
             [
              0.5555555555555556,
              "#d8576b"
             ],
             [
              0.6666666666666666,
              "#ed7953"
             ],
             [
              0.7777777777777778,
              "#fb9f3a"
             ],
             [
              0.8888888888888888,
              "#fdca26"
             ],
             [
              1,
              "#f0f921"
             ]
            ],
            "type": "histogram2d"
           }
          ],
          "histogram2dcontour": [
           {
            "colorbar": {
             "outlinewidth": 0,
             "ticks": ""
            },
            "colorscale": [
             [
              0,
              "#0d0887"
             ],
             [
              0.1111111111111111,
              "#46039f"
             ],
             [
              0.2222222222222222,
              "#7201a8"
             ],
             [
              0.3333333333333333,
              "#9c179e"
             ],
             [
              0.4444444444444444,
              "#bd3786"
             ],
             [
              0.5555555555555556,
              "#d8576b"
             ],
             [
              0.6666666666666666,
              "#ed7953"
             ],
             [
              0.7777777777777778,
              "#fb9f3a"
             ],
             [
              0.8888888888888888,
              "#fdca26"
             ],
             [
              1,
              "#f0f921"
             ]
            ],
            "type": "histogram2dcontour"
           }
          ],
          "mesh3d": [
           {
            "colorbar": {
             "outlinewidth": 0,
             "ticks": ""
            },
            "type": "mesh3d"
           }
          ],
          "parcoords": [
           {
            "line": {
             "colorbar": {
              "outlinewidth": 0,
              "ticks": ""
             }
            },
            "type": "parcoords"
           }
          ],
          "pie": [
           {
            "automargin": true,
            "type": "pie"
           }
          ],
          "scatter": [
           {
            "fillpattern": {
             "fillmode": "overlay",
             "size": 10,
             "solidity": 0.2
            },
            "type": "scatter"
           }
          ],
          "scatter3d": [
           {
            "line": {
             "colorbar": {
              "outlinewidth": 0,
              "ticks": ""
             }
            },
            "marker": {
             "colorbar": {
              "outlinewidth": 0,
              "ticks": ""
             }
            },
            "type": "scatter3d"
           }
          ],
          "scattercarpet": [
           {
            "marker": {
             "colorbar": {
              "outlinewidth": 0,
              "ticks": ""
             }
            },
            "type": "scattercarpet"
           }
          ],
          "scattergeo": [
           {
            "marker": {
             "colorbar": {
              "outlinewidth": 0,
              "ticks": ""
             }
            },
            "type": "scattergeo"
           }
          ],
          "scattergl": [
           {
            "marker": {
             "colorbar": {
              "outlinewidth": 0,
              "ticks": ""
             }
            },
            "type": "scattergl"
           }
          ],
          "scattermapbox": [
           {
            "marker": {
             "colorbar": {
              "outlinewidth": 0,
              "ticks": ""
             }
            },
            "type": "scattermapbox"
           }
          ],
          "scatterpolar": [
           {
            "marker": {
             "colorbar": {
              "outlinewidth": 0,
              "ticks": ""
             }
            },
            "type": "scatterpolar"
           }
          ],
          "scatterpolargl": [
           {
            "marker": {
             "colorbar": {
              "outlinewidth": 0,
              "ticks": ""
             }
            },
            "type": "scatterpolargl"
           }
          ],
          "scatterternary": [
           {
            "marker": {
             "colorbar": {
              "outlinewidth": 0,
              "ticks": ""
             }
            },
            "type": "scatterternary"
           }
          ],
          "surface": [
           {
            "colorbar": {
             "outlinewidth": 0,
             "ticks": ""
            },
            "colorscale": [
             [
              0,
              "#0d0887"
             ],
             [
              0.1111111111111111,
              "#46039f"
             ],
             [
              0.2222222222222222,
              "#7201a8"
             ],
             [
              0.3333333333333333,
              "#9c179e"
             ],
             [
              0.4444444444444444,
              "#bd3786"
             ],
             [
              0.5555555555555556,
              "#d8576b"
             ],
             [
              0.6666666666666666,
              "#ed7953"
             ],
             [
              0.7777777777777778,
              "#fb9f3a"
             ],
             [
              0.8888888888888888,
              "#fdca26"
             ],
             [
              1,
              "#f0f921"
             ]
            ],
            "type": "surface"
           }
          ],
          "table": [
           {
            "cells": {
             "fill": {
              "color": "#EBF0F8"
             },
             "line": {
              "color": "white"
             }
            },
            "header": {
             "fill": {
              "color": "#C8D4E3"
             },
             "line": {
              "color": "white"
             }
            },
            "type": "table"
           }
          ]
         },
         "layout": {
          "annotationdefaults": {
           "arrowcolor": "#2a3f5f",
           "arrowhead": 0,
           "arrowwidth": 1
          },
          "autotypenumbers": "strict",
          "coloraxis": {
           "colorbar": {
            "outlinewidth": 0,
            "ticks": ""
           }
          },
          "colorscale": {
           "diverging": [
            [
             0,
             "#8e0152"
            ],
            [
             0.1,
             "#c51b7d"
            ],
            [
             0.2,
             "#de77ae"
            ],
            [
             0.3,
             "#f1b6da"
            ],
            [
             0.4,
             "#fde0ef"
            ],
            [
             0.5,
             "#f7f7f7"
            ],
            [
             0.6,
             "#e6f5d0"
            ],
            [
             0.7,
             "#b8e186"
            ],
            [
             0.8,
             "#7fbc41"
            ],
            [
             0.9,
             "#4d9221"
            ],
            [
             1,
             "#276419"
            ]
           ],
           "sequential": [
            [
             0,
             "#0d0887"
            ],
            [
             0.1111111111111111,
             "#46039f"
            ],
            [
             0.2222222222222222,
             "#7201a8"
            ],
            [
             0.3333333333333333,
             "#9c179e"
            ],
            [
             0.4444444444444444,
             "#bd3786"
            ],
            [
             0.5555555555555556,
             "#d8576b"
            ],
            [
             0.6666666666666666,
             "#ed7953"
            ],
            [
             0.7777777777777778,
             "#fb9f3a"
            ],
            [
             0.8888888888888888,
             "#fdca26"
            ],
            [
             1,
             "#f0f921"
            ]
           ],
           "sequentialminus": [
            [
             0,
             "#0d0887"
            ],
            [
             0.1111111111111111,
             "#46039f"
            ],
            [
             0.2222222222222222,
             "#7201a8"
            ],
            [
             0.3333333333333333,
             "#9c179e"
            ],
            [
             0.4444444444444444,
             "#bd3786"
            ],
            [
             0.5555555555555556,
             "#d8576b"
            ],
            [
             0.6666666666666666,
             "#ed7953"
            ],
            [
             0.7777777777777778,
             "#fb9f3a"
            ],
            [
             0.8888888888888888,
             "#fdca26"
            ],
            [
             1,
             "#f0f921"
            ]
           ]
          },
          "colorway": [
           "#636efa",
           "#EF553B",
           "#00cc96",
           "#ab63fa",
           "#FFA15A",
           "#19d3f3",
           "#FF6692",
           "#B6E880",
           "#FF97FF",
           "#FECB52"
          ],
          "font": {
           "color": "#2a3f5f"
          },
          "geo": {
           "bgcolor": "white",
           "lakecolor": "white",
           "landcolor": "#E5ECF6",
           "showlakes": true,
           "showland": true,
           "subunitcolor": "white"
          },
          "hoverlabel": {
           "align": "left"
          },
          "hovermode": "closest",
          "mapbox": {
           "style": "light"
          },
          "paper_bgcolor": "white",
          "plot_bgcolor": "#E5ECF6",
          "polar": {
           "angularaxis": {
            "gridcolor": "white",
            "linecolor": "white",
            "ticks": ""
           },
           "bgcolor": "#E5ECF6",
           "radialaxis": {
            "gridcolor": "white",
            "linecolor": "white",
            "ticks": ""
           }
          },
          "scene": {
           "xaxis": {
            "backgroundcolor": "#E5ECF6",
            "gridcolor": "white",
            "gridwidth": 2,
            "linecolor": "white",
            "showbackground": true,
            "ticks": "",
            "zerolinecolor": "white"
           },
           "yaxis": {
            "backgroundcolor": "#E5ECF6",
            "gridcolor": "white",
            "gridwidth": 2,
            "linecolor": "white",
            "showbackground": true,
            "ticks": "",
            "zerolinecolor": "white"
           },
           "zaxis": {
            "backgroundcolor": "#E5ECF6",
            "gridcolor": "white",
            "gridwidth": 2,
            "linecolor": "white",
            "showbackground": true,
            "ticks": "",
            "zerolinecolor": "white"
           }
          },
          "shapedefaults": {
           "line": {
            "color": "#2a3f5f"
           }
          },
          "ternary": {
           "aaxis": {
            "gridcolor": "white",
            "linecolor": "white",
            "ticks": ""
           },
           "baxis": {
            "gridcolor": "white",
            "linecolor": "white",
            "ticks": ""
           },
           "bgcolor": "#E5ECF6",
           "caxis": {
            "gridcolor": "white",
            "linecolor": "white",
            "ticks": ""
           }
          },
          "title": {
           "x": 0.05
          },
          "xaxis": {
           "automargin": true,
           "gridcolor": "white",
           "linecolor": "white",
           "ticks": "",
           "title": {
            "standoff": 15
           },
           "zerolinecolor": "white",
           "zerolinewidth": 2
          },
          "yaxis": {
           "automargin": true,
           "gridcolor": "white",
           "linecolor": "white",
           "ticks": "",
           "title": {
            "standoff": 15
           },
           "zerolinecolor": "white",
           "zerolinewidth": 2
          }
         }
        },
        "title": {
         "text": "2021 male prison population"
        }
       }
      }
     },
     "metadata": {},
     "output_type": "display_data"
    }
   ],
   "source": [
    "fig = go.Figure(data=go.Choropleth(\n",
    "    locations=prisonsorted['state_code'], # Spatial coordinates\n",
    "    z = (prison['Male']), # Data to be color-coded\n",
    "    locationmode = 'USA-states', # set of locations match entries in `locations`\n",
    "    colorscale = 'Reds',\n",
    "\n",
    "))\n",
    "\n",
    "fig.update_layout(\n",
    "    title_text = '2021 male prison population',\n",
    "    geo_scope='usa', # limite map scope to USA\n",
    ")\n",
    "fig.show()"
   ]
  },
  {
   "cell_type": "code",
   "execution_count": 13,
   "metadata": {},
   "outputs": [
    {
     "data": {
      "application/vnd.plotly.v1+json": {
       "config": {
        "plotlyServerURL": "https://plot.ly"
       },
       "data": [
        {
         "colorscale": [
          [
           0,
           "rgb(255,245,240)"
          ],
          [
           0.125,
           "rgb(254,224,210)"
          ],
          [
           0.25,
           "rgb(252,187,161)"
          ],
          [
           0.375,
           "rgb(252,146,114)"
          ],
          [
           0.5,
           "rgb(251,106,74)"
          ],
          [
           0.625,
           "rgb(239,59,44)"
          ],
          [
           0.75,
           "rgb(203,24,29)"
          ],
          [
           0.875,
           "rgb(165,15,21)"
          ],
          [
           1,
           "rgb(103,0,13)"
          ]
         ],
         "locationmode": "USA-states",
         "locations": [
          "AL",
          "AK",
          "AZ",
          "AR",
          "CA",
          "CO",
          "CT",
          "DE",
          "FL",
          "GA",
          "HI",
          "ID",
          "IL",
          "IN",
          "IA",
          "KS",
          "KY",
          "LA",
          "ME",
          "MD",
          "MA",
          "MI",
          "MN",
          "MP",
          "MO",
          "MT",
          "NE",
          "NV",
          "NH",
          "NJ",
          "NM",
          "NY",
          "NC",
          "ND",
          "OH",
          "OK",
          "OR",
          "PA",
          "RI",
          "SC",
          "SD",
          "TN",
          "TX",
          "UT",
          "VT",
          "VA",
          "WA",
          "WV",
          "WI",
          "WY"
         ],
         "type": "choropleth",
         "z": [
          0.9154282518376479,
          0.9047208450097004,
          0.9080025947986082,
          0.9159910703795089,
          0.9613962796108082,
          0.9202017018594391,
          0.9357872383456366,
          0.9496881496881497,
          0.9376624345598568,
          0.934737289938311,
          0.894441735738664,
          0.8608959245537218,
          0.9539947322212468,
          0.9061741382100663,
          0.9178930156505489,
          0.9145640183077104,
          0.8886314655172414,
          0.9530183324384445,
          0.9296131896005073,
          0.96577243293247,
          0.9676317501626546,
          0.9513763748213508,
          0.9428964138448082,
          0.9298407569813063,
          0.9123900606267612,
          0.8583352654764665,
          0.9285714285714286,
          0.923152323073907,
          0.9304184297132111,
          0.9636974252358868,
          0.8993015133876601,
          0.9635770321049509,
          0.9267459906880496,
          0.881586737714624,
          0.9203624330986697,
          0.902862757357867,
          0.9283224731019851,
          0.9459052535355165,
          0.9450402144772118,
          0.9341328764515515,
          0.8625111840143156,
          0.9048874744260059,
          0.921440959244087,
          0.9185711867276113,
          0.9355089355089355,
          0.9262773001284712,
          0.9425186485300571,
          0.8939627159226954,
          0.9381744381744381,
          0.875176636834668
         ]
        }
       ],
       "layout": {
        "geo": {
         "scope": "usa"
        },
        "template": {
         "data": {
          "bar": [
           {
            "error_x": {
             "color": "#2a3f5f"
            },
            "error_y": {
             "color": "#2a3f5f"
            },
            "marker": {
             "line": {
              "color": "#E5ECF6",
              "width": 0.5
             },
             "pattern": {
              "fillmode": "overlay",
              "size": 10,
              "solidity": 0.2
             }
            },
            "type": "bar"
           }
          ],
          "barpolar": [
           {
            "marker": {
             "line": {
              "color": "#E5ECF6",
              "width": 0.5
             },
             "pattern": {
              "fillmode": "overlay",
              "size": 10,
              "solidity": 0.2
             }
            },
            "type": "barpolar"
           }
          ],
          "carpet": [
           {
            "aaxis": {
             "endlinecolor": "#2a3f5f",
             "gridcolor": "white",
             "linecolor": "white",
             "minorgridcolor": "white",
             "startlinecolor": "#2a3f5f"
            },
            "baxis": {
             "endlinecolor": "#2a3f5f",
             "gridcolor": "white",
             "linecolor": "white",
             "minorgridcolor": "white",
             "startlinecolor": "#2a3f5f"
            },
            "type": "carpet"
           }
          ],
          "choropleth": [
           {
            "colorbar": {
             "outlinewidth": 0,
             "ticks": ""
            },
            "type": "choropleth"
           }
          ],
          "contour": [
           {
            "colorbar": {
             "outlinewidth": 0,
             "ticks": ""
            },
            "colorscale": [
             [
              0,
              "#0d0887"
             ],
             [
              0.1111111111111111,
              "#46039f"
             ],
             [
              0.2222222222222222,
              "#7201a8"
             ],
             [
              0.3333333333333333,
              "#9c179e"
             ],
             [
              0.4444444444444444,
              "#bd3786"
             ],
             [
              0.5555555555555556,
              "#d8576b"
             ],
             [
              0.6666666666666666,
              "#ed7953"
             ],
             [
              0.7777777777777778,
              "#fb9f3a"
             ],
             [
              0.8888888888888888,
              "#fdca26"
             ],
             [
              1,
              "#f0f921"
             ]
            ],
            "type": "contour"
           }
          ],
          "contourcarpet": [
           {
            "colorbar": {
             "outlinewidth": 0,
             "ticks": ""
            },
            "type": "contourcarpet"
           }
          ],
          "heatmap": [
           {
            "colorbar": {
             "outlinewidth": 0,
             "ticks": ""
            },
            "colorscale": [
             [
              0,
              "#0d0887"
             ],
             [
              0.1111111111111111,
              "#46039f"
             ],
             [
              0.2222222222222222,
              "#7201a8"
             ],
             [
              0.3333333333333333,
              "#9c179e"
             ],
             [
              0.4444444444444444,
              "#bd3786"
             ],
             [
              0.5555555555555556,
              "#d8576b"
             ],
             [
              0.6666666666666666,
              "#ed7953"
             ],
             [
              0.7777777777777778,
              "#fb9f3a"
             ],
             [
              0.8888888888888888,
              "#fdca26"
             ],
             [
              1,
              "#f0f921"
             ]
            ],
            "type": "heatmap"
           }
          ],
          "heatmapgl": [
           {
            "colorbar": {
             "outlinewidth": 0,
             "ticks": ""
            },
            "colorscale": [
             [
              0,
              "#0d0887"
             ],
             [
              0.1111111111111111,
              "#46039f"
             ],
             [
              0.2222222222222222,
              "#7201a8"
             ],
             [
              0.3333333333333333,
              "#9c179e"
             ],
             [
              0.4444444444444444,
              "#bd3786"
             ],
             [
              0.5555555555555556,
              "#d8576b"
             ],
             [
              0.6666666666666666,
              "#ed7953"
             ],
             [
              0.7777777777777778,
              "#fb9f3a"
             ],
             [
              0.8888888888888888,
              "#fdca26"
             ],
             [
              1,
              "#f0f921"
             ]
            ],
            "type": "heatmapgl"
           }
          ],
          "histogram": [
           {
            "marker": {
             "pattern": {
              "fillmode": "overlay",
              "size": 10,
              "solidity": 0.2
             }
            },
            "type": "histogram"
           }
          ],
          "histogram2d": [
           {
            "colorbar": {
             "outlinewidth": 0,
             "ticks": ""
            },
            "colorscale": [
             [
              0,
              "#0d0887"
             ],
             [
              0.1111111111111111,
              "#46039f"
             ],
             [
              0.2222222222222222,
              "#7201a8"
             ],
             [
              0.3333333333333333,
              "#9c179e"
             ],
             [
              0.4444444444444444,
              "#bd3786"
             ],
             [
              0.5555555555555556,
              "#d8576b"
             ],
             [
              0.6666666666666666,
              "#ed7953"
             ],
             [
              0.7777777777777778,
              "#fb9f3a"
             ],
             [
              0.8888888888888888,
              "#fdca26"
             ],
             [
              1,
              "#f0f921"
             ]
            ],
            "type": "histogram2d"
           }
          ],
          "histogram2dcontour": [
           {
            "colorbar": {
             "outlinewidth": 0,
             "ticks": ""
            },
            "colorscale": [
             [
              0,
              "#0d0887"
             ],
             [
              0.1111111111111111,
              "#46039f"
             ],
             [
              0.2222222222222222,
              "#7201a8"
             ],
             [
              0.3333333333333333,
              "#9c179e"
             ],
             [
              0.4444444444444444,
              "#bd3786"
             ],
             [
              0.5555555555555556,
              "#d8576b"
             ],
             [
              0.6666666666666666,
              "#ed7953"
             ],
             [
              0.7777777777777778,
              "#fb9f3a"
             ],
             [
              0.8888888888888888,
              "#fdca26"
             ],
             [
              1,
              "#f0f921"
             ]
            ],
            "type": "histogram2dcontour"
           }
          ],
          "mesh3d": [
           {
            "colorbar": {
             "outlinewidth": 0,
             "ticks": ""
            },
            "type": "mesh3d"
           }
          ],
          "parcoords": [
           {
            "line": {
             "colorbar": {
              "outlinewidth": 0,
              "ticks": ""
             }
            },
            "type": "parcoords"
           }
          ],
          "pie": [
           {
            "automargin": true,
            "type": "pie"
           }
          ],
          "scatter": [
           {
            "fillpattern": {
             "fillmode": "overlay",
             "size": 10,
             "solidity": 0.2
            },
            "type": "scatter"
           }
          ],
          "scatter3d": [
           {
            "line": {
             "colorbar": {
              "outlinewidth": 0,
              "ticks": ""
             }
            },
            "marker": {
             "colorbar": {
              "outlinewidth": 0,
              "ticks": ""
             }
            },
            "type": "scatter3d"
           }
          ],
          "scattercarpet": [
           {
            "marker": {
             "colorbar": {
              "outlinewidth": 0,
              "ticks": ""
             }
            },
            "type": "scattercarpet"
           }
          ],
          "scattergeo": [
           {
            "marker": {
             "colorbar": {
              "outlinewidth": 0,
              "ticks": ""
             }
            },
            "type": "scattergeo"
           }
          ],
          "scattergl": [
           {
            "marker": {
             "colorbar": {
              "outlinewidth": 0,
              "ticks": ""
             }
            },
            "type": "scattergl"
           }
          ],
          "scattermapbox": [
           {
            "marker": {
             "colorbar": {
              "outlinewidth": 0,
              "ticks": ""
             }
            },
            "type": "scattermapbox"
           }
          ],
          "scatterpolar": [
           {
            "marker": {
             "colorbar": {
              "outlinewidth": 0,
              "ticks": ""
             }
            },
            "type": "scatterpolar"
           }
          ],
          "scatterpolargl": [
           {
            "marker": {
             "colorbar": {
              "outlinewidth": 0,
              "ticks": ""
             }
            },
            "type": "scatterpolargl"
           }
          ],
          "scatterternary": [
           {
            "marker": {
             "colorbar": {
              "outlinewidth": 0,
              "ticks": ""
             }
            },
            "type": "scatterternary"
           }
          ],
          "surface": [
           {
            "colorbar": {
             "outlinewidth": 0,
             "ticks": ""
            },
            "colorscale": [
             [
              0,
              "#0d0887"
             ],
             [
              0.1111111111111111,
              "#46039f"
             ],
             [
              0.2222222222222222,
              "#7201a8"
             ],
             [
              0.3333333333333333,
              "#9c179e"
             ],
             [
              0.4444444444444444,
              "#bd3786"
             ],
             [
              0.5555555555555556,
              "#d8576b"
             ],
             [
              0.6666666666666666,
              "#ed7953"
             ],
             [
              0.7777777777777778,
              "#fb9f3a"
             ],
             [
              0.8888888888888888,
              "#fdca26"
             ],
             [
              1,
              "#f0f921"
             ]
            ],
            "type": "surface"
           }
          ],
          "table": [
           {
            "cells": {
             "fill": {
              "color": "#EBF0F8"
             },
             "line": {
              "color": "white"
             }
            },
            "header": {
             "fill": {
              "color": "#C8D4E3"
             },
             "line": {
              "color": "white"
             }
            },
            "type": "table"
           }
          ]
         },
         "layout": {
          "annotationdefaults": {
           "arrowcolor": "#2a3f5f",
           "arrowhead": 0,
           "arrowwidth": 1
          },
          "autotypenumbers": "strict",
          "coloraxis": {
           "colorbar": {
            "outlinewidth": 0,
            "ticks": ""
           }
          },
          "colorscale": {
           "diverging": [
            [
             0,
             "#8e0152"
            ],
            [
             0.1,
             "#c51b7d"
            ],
            [
             0.2,
             "#de77ae"
            ],
            [
             0.3,
             "#f1b6da"
            ],
            [
             0.4,
             "#fde0ef"
            ],
            [
             0.5,
             "#f7f7f7"
            ],
            [
             0.6,
             "#e6f5d0"
            ],
            [
             0.7,
             "#b8e186"
            ],
            [
             0.8,
             "#7fbc41"
            ],
            [
             0.9,
             "#4d9221"
            ],
            [
             1,
             "#276419"
            ]
           ],
           "sequential": [
            [
             0,
             "#0d0887"
            ],
            [
             0.1111111111111111,
             "#46039f"
            ],
            [
             0.2222222222222222,
             "#7201a8"
            ],
            [
             0.3333333333333333,
             "#9c179e"
            ],
            [
             0.4444444444444444,
             "#bd3786"
            ],
            [
             0.5555555555555556,
             "#d8576b"
            ],
            [
             0.6666666666666666,
             "#ed7953"
            ],
            [
             0.7777777777777778,
             "#fb9f3a"
            ],
            [
             0.8888888888888888,
             "#fdca26"
            ],
            [
             1,
             "#f0f921"
            ]
           ],
           "sequentialminus": [
            [
             0,
             "#0d0887"
            ],
            [
             0.1111111111111111,
             "#46039f"
            ],
            [
             0.2222222222222222,
             "#7201a8"
            ],
            [
             0.3333333333333333,
             "#9c179e"
            ],
            [
             0.4444444444444444,
             "#bd3786"
            ],
            [
             0.5555555555555556,
             "#d8576b"
            ],
            [
             0.6666666666666666,
             "#ed7953"
            ],
            [
             0.7777777777777778,
             "#fb9f3a"
            ],
            [
             0.8888888888888888,
             "#fdca26"
            ],
            [
             1,
             "#f0f921"
            ]
           ]
          },
          "colorway": [
           "#636efa",
           "#EF553B",
           "#00cc96",
           "#ab63fa",
           "#FFA15A",
           "#19d3f3",
           "#FF6692",
           "#B6E880",
           "#FF97FF",
           "#FECB52"
          ],
          "font": {
           "color": "#2a3f5f"
          },
          "geo": {
           "bgcolor": "white",
           "lakecolor": "white",
           "landcolor": "#E5ECF6",
           "showlakes": true,
           "showland": true,
           "subunitcolor": "white"
          },
          "hoverlabel": {
           "align": "left"
          },
          "hovermode": "closest",
          "mapbox": {
           "style": "light"
          },
          "paper_bgcolor": "white",
          "plot_bgcolor": "#E5ECF6",
          "polar": {
           "angularaxis": {
            "gridcolor": "white",
            "linecolor": "white",
            "ticks": ""
           },
           "bgcolor": "#E5ECF6",
           "radialaxis": {
            "gridcolor": "white",
            "linecolor": "white",
            "ticks": ""
           }
          },
          "scene": {
           "xaxis": {
            "backgroundcolor": "#E5ECF6",
            "gridcolor": "white",
            "gridwidth": 2,
            "linecolor": "white",
            "showbackground": true,
            "ticks": "",
            "zerolinecolor": "white"
           },
           "yaxis": {
            "backgroundcolor": "#E5ECF6",
            "gridcolor": "white",
            "gridwidth": 2,
            "linecolor": "white",
            "showbackground": true,
            "ticks": "",
            "zerolinecolor": "white"
           },
           "zaxis": {
            "backgroundcolor": "#E5ECF6",
            "gridcolor": "white",
            "gridwidth": 2,
            "linecolor": "white",
            "showbackground": true,
            "ticks": "",
            "zerolinecolor": "white"
           }
          },
          "shapedefaults": {
           "line": {
            "color": "#2a3f5f"
           }
          },
          "ternary": {
           "aaxis": {
            "gridcolor": "white",
            "linecolor": "white",
            "ticks": ""
           },
           "baxis": {
            "gridcolor": "white",
            "linecolor": "white",
            "ticks": ""
           },
           "bgcolor": "#E5ECF6",
           "caxis": {
            "gridcolor": "white",
            "linecolor": "white",
            "ticks": ""
           }
          },
          "title": {
           "x": 0.05
          },
          "xaxis": {
           "automargin": true,
           "gridcolor": "white",
           "linecolor": "white",
           "ticks": "",
           "title": {
            "standoff": 15
           },
           "zerolinecolor": "white",
           "zerolinewidth": 2
          },
          "yaxis": {
           "automargin": true,
           "gridcolor": "white",
           "linecolor": "white",
           "ticks": "",
           "title": {
            "standoff": 15
           },
           "zerolinecolor": "white",
           "zerolinewidth": 2
          }
         }
        },
        "title": {
         "text": "2021 male prison population %"
        }
       }
      }
     },
     "metadata": {},
     "output_type": "display_data"
    }
   ],
   "source": [
    "fig = go.Figure(data=go.Choropleth(\n",
    "    locations=prisonsorted['state_code'], # Spatial coordinates\n",
    "    z = (prison['Male']/prison['Total state prison population']), # Data to be color-coded\n",
    "    locationmode = 'USA-states', # set of locations match entries in `locations`\n",
    "    colorscale = 'Reds',\n",
    "\n",
    "))\n",
    "\n",
    "fig.update_layout(\n",
    "    title_text = '2021 male prison population %',\n",
    "    geo_scope='usa', # limite map scope to USA\n",
    ")\n",
    "fig.show()"
   ]
  },
  {
   "cell_type": "code",
   "execution_count": 14,
   "metadata": {},
   "outputs": [],
   "source": [
    "mexico = pd.read_csv('mexico_un.csv')\n",
    "mexico= mexico[(mexico['Iso3_code'] == 'MEX')]"
   ]
  },
  {
   "cell_type": "code",
   "execution_count": 15,
   "metadata": {},
   "outputs": [
    {
     "data": {
      "text/html": [
       "<div>\n",
       "<style scoped>\n",
       "    .dataframe tbody tr th:only-of-type {\n",
       "        vertical-align: middle;\n",
       "    }\n",
       "\n",
       "    .dataframe tbody tr th {\n",
       "        vertical-align: top;\n",
       "    }\n",
       "\n",
       "    .dataframe thead th {\n",
       "        text-align: right;\n",
       "    }\n",
       "</style>\n",
       "<table border=\"1\" class=\"dataframe\">\n",
       "  <thead>\n",
       "    <tr style=\"text-align: right;\">\n",
       "      <th></th>\n",
       "      <th>Iso3_code</th>\n",
       "      <th>Country</th>\n",
       "      <th>Region</th>\n",
       "      <th>Subregion</th>\n",
       "      <th>Indicator</th>\n",
       "      <th>Dimension</th>\n",
       "      <th>Category</th>\n",
       "      <th>Sex</th>\n",
       "      <th>Age</th>\n",
       "      <th>Year</th>\n",
       "      <th>Unit of measurement</th>\n",
       "      <th>VALUE</th>\n",
       "      <th>Source</th>\n",
       "    </tr>\n",
       "  </thead>\n",
       "  <tbody>\n",
       "    <tr>\n",
       "      <th>7</th>\n",
       "      <td>MEX</td>\n",
       "      <td>Mexico</td>\n",
       "      <td>Americas</td>\n",
       "      <td>Latin America and the Caribbean</td>\n",
       "      <td>Persons entering prison</td>\n",
       "      <td>by selected crime</td>\n",
       "      <td>Intentional Homicide</td>\n",
       "      <td>Total</td>\n",
       "      <td>Total</td>\n",
       "      <td>2016</td>\n",
       "      <td>Counts</td>\n",
       "      <td>9869.0</td>\n",
       "      <td>CTS</td>\n",
       "    </tr>\n",
       "    <tr>\n",
       "      <th>29</th>\n",
       "      <td>MEX</td>\n",
       "      <td>Mexico</td>\n",
       "      <td>Americas</td>\n",
       "      <td>Latin America and the Caribbean</td>\n",
       "      <td>Persons entering prison</td>\n",
       "      <td>by selected crime</td>\n",
       "      <td>Intentional Homicide</td>\n",
       "      <td>Total</td>\n",
       "      <td>Total</td>\n",
       "      <td>2017</td>\n",
       "      <td>Counts</td>\n",
       "      <td>11835.0</td>\n",
       "      <td>CTS</td>\n",
       "    </tr>\n",
       "    <tr>\n",
       "      <th>57</th>\n",
       "      <td>MEX</td>\n",
       "      <td>Mexico</td>\n",
       "      <td>Americas</td>\n",
       "      <td>Latin America and the Caribbean</td>\n",
       "      <td>Persons entering prison</td>\n",
       "      <td>by selected crime</td>\n",
       "      <td>Intentional Homicide</td>\n",
       "      <td>Total</td>\n",
       "      <td>Total</td>\n",
       "      <td>2018</td>\n",
       "      <td>Counts</td>\n",
       "      <td>11118.0</td>\n",
       "      <td>CTS</td>\n",
       "    </tr>\n",
       "    <tr>\n",
       "      <th>89</th>\n",
       "      <td>MEX</td>\n",
       "      <td>Mexico</td>\n",
       "      <td>Americas</td>\n",
       "      <td>Latin America and the Caribbean</td>\n",
       "      <td>Persons entering prison</td>\n",
       "      <td>by selected crime</td>\n",
       "      <td>Intentional Homicide</td>\n",
       "      <td>Total</td>\n",
       "      <td>Total</td>\n",
       "      <td>2019</td>\n",
       "      <td>Counts</td>\n",
       "      <td>12730.0</td>\n",
       "      <td>CTS</td>\n",
       "    </tr>\n",
       "    <tr>\n",
       "      <th>124</th>\n",
       "      <td>MEX</td>\n",
       "      <td>Mexico</td>\n",
       "      <td>Americas</td>\n",
       "      <td>Latin America and the Caribbean</td>\n",
       "      <td>Persons entering prison</td>\n",
       "      <td>by selected crime</td>\n",
       "      <td>Intentional Homicide</td>\n",
       "      <td>Total</td>\n",
       "      <td>Total</td>\n",
       "      <td>2020</td>\n",
       "      <td>Counts</td>\n",
       "      <td>11310.0</td>\n",
       "      <td>CTS</td>\n",
       "    </tr>\n",
       "  </tbody>\n",
       "</table>\n",
       "</div>"
      ],
      "text/plain": [
       "    Iso3_code Country    Region                        Subregion  \\\n",
       "7         MEX  Mexico  Americas  Latin America and the Caribbean   \n",
       "29        MEX  Mexico  Americas  Latin America and the Caribbean   \n",
       "57        MEX  Mexico  Americas  Latin America and the Caribbean   \n",
       "89        MEX  Mexico  Americas  Latin America and the Caribbean   \n",
       "124       MEX  Mexico  Americas  Latin America and the Caribbean   \n",
       "\n",
       "                   Indicator          Dimension              Category    Sex  \\\n",
       "7    Persons entering prison  by selected crime  Intentional Homicide  Total   \n",
       "29   Persons entering prison  by selected crime  Intentional Homicide  Total   \n",
       "57   Persons entering prison  by selected crime  Intentional Homicide  Total   \n",
       "89   Persons entering prison  by selected crime  Intentional Homicide  Total   \n",
       "124  Persons entering prison  by selected crime  Intentional Homicide  Total   \n",
       "\n",
       "       Age  Year Unit of measurement    VALUE Source  \n",
       "7    Total  2016              Counts   9869.0    CTS  \n",
       "29   Total  2017              Counts  11835.0    CTS  \n",
       "57   Total  2018              Counts  11118.0    CTS  \n",
       "89   Total  2019              Counts  12730.0    CTS  \n",
       "124  Total  2020              Counts  11310.0    CTS  "
      ]
     },
     "execution_count": 15,
     "metadata": {},
     "output_type": "execute_result"
    }
   ],
   "source": [
    "mexico.head()"
   ]
  },
  {
   "cell_type": "code",
   "execution_count": 16,
   "metadata": {},
   "outputs": [
    {
     "data": {
      "text/plain": [
       "Year\n",
       "2018    118\n",
       "2020    118\n",
       "2021    112\n",
       "2017    110\n",
       "2016     99\n",
       "2019     74\n",
       "2015     37\n",
       "2014     36\n",
       "2012     28\n",
       "2011     27\n",
       "2010     27\n",
       "2009     24\n",
       "2013     24\n",
       "2004     19\n",
       "2005     19\n",
       "2006     19\n",
       "2007     19\n",
       "2008     17\n",
       "2003     15\n",
       "2022      4\n",
       "2000      4\n",
       "Name: count, dtype: int64"
      ]
     },
     "execution_count": 16,
     "metadata": {},
     "output_type": "execute_result"
    }
   ],
   "source": [
    "mexico['Year'].value_counts()"
   ]
  },
  {
   "cell_type": "code",
   "execution_count": 17,
   "metadata": {},
   "outputs": [
    {
     "data": {
      "text/plain": [
       "Dimension\n",
       "Total                       365\n",
       "by type of criminal acts    216\n",
       "by selected crime           132\n",
       "by status                   111\n",
       "by length of detention       71\n",
       "by type of death             28\n",
       "by citizenship               27\n",
       "Name: count, dtype: int64"
      ]
     },
     "execution_count": 17,
     "metadata": {},
     "output_type": "execute_result"
    }
   ],
   "source": [
    "mexico['Dimension'].value_counts()"
   ]
  },
  {
   "cell_type": "code",
   "execution_count": 18,
   "metadata": {},
   "outputs": [
    {
     "data": {
      "text/plain": [
       "Iso3_code              0\n",
       "Country                0\n",
       "Region                 0\n",
       "Subregion              0\n",
       "Indicator              0\n",
       "Dimension              0\n",
       "Category               0\n",
       "Sex                    0\n",
       "Age                    0\n",
       "Year                   0\n",
       "Unit of measurement    0\n",
       "VALUE                  0\n",
       "Source                 0\n",
       "dtype: int64"
      ]
     },
     "execution_count": 18,
     "metadata": {},
     "output_type": "execute_result"
    }
   ],
   "source": [
    "mexico.isna().sum()"
   ]
  },
  {
   "cell_type": "code",
   "execution_count": 19,
   "metadata": {},
   "outputs": [
    {
     "data": {
      "text/plain": [
       "Sex\n",
       "Total     732\n",
       "Female    111\n",
       "Male      107\n",
       "Name: count, dtype: int64"
      ]
     },
     "execution_count": 19,
     "metadata": {},
     "output_type": "execute_result"
    }
   ],
   "source": [
    "mexico['Sex'].value_counts()"
   ]
  },
  {
   "cell_type": "code",
   "execution_count": 20,
   "metadata": {},
   "outputs": [
    {
     "data": {
      "text/html": [
       "<div>\n",
       "<style scoped>\n",
       "    .dataframe tbody tr th:only-of-type {\n",
       "        vertical-align: middle;\n",
       "    }\n",
       "\n",
       "    .dataframe tbody tr th {\n",
       "        vertical-align: top;\n",
       "    }\n",
       "\n",
       "    .dataframe thead th {\n",
       "        text-align: right;\n",
       "    }\n",
       "</style>\n",
       "<table border=\"1\" class=\"dataframe\">\n",
       "  <thead>\n",
       "    <tr style=\"text-align: right;\">\n",
       "      <th></th>\n",
       "      <th>Iso3_code</th>\n",
       "      <th>Country</th>\n",
       "      <th>Region</th>\n",
       "      <th>Subregion</th>\n",
       "      <th>Indicator</th>\n",
       "      <th>Dimension</th>\n",
       "      <th>Category</th>\n",
       "      <th>Sex</th>\n",
       "      <th>Age</th>\n",
       "      <th>Year</th>\n",
       "      <th>Unit of measurement</th>\n",
       "      <th>VALUE</th>\n",
       "      <th>Source</th>\n",
       "    </tr>\n",
       "  </thead>\n",
       "  <tbody>\n",
       "    <tr>\n",
       "      <th>10045</th>\n",
       "      <td>MEX</td>\n",
       "      <td>Mexico</td>\n",
       "      <td>Americas</td>\n",
       "      <td>Latin America and the Caribbean</td>\n",
       "      <td>Persons held</td>\n",
       "      <td>Total</td>\n",
       "      <td>Total</td>\n",
       "      <td>Male</td>\n",
       "      <td>Adult</td>\n",
       "      <td>2004</td>\n",
       "      <td>Counts</td>\n",
       "      <td>94129.0</td>\n",
       "      <td>CTS</td>\n",
       "    </tr>\n",
       "    <tr>\n",
       "      <th>10093</th>\n",
       "      <td>MEX</td>\n",
       "      <td>Mexico</td>\n",
       "      <td>Americas</td>\n",
       "      <td>Latin America and the Caribbean</td>\n",
       "      <td>Persons held</td>\n",
       "      <td>Total</td>\n",
       "      <td>Total</td>\n",
       "      <td>Male</td>\n",
       "      <td>Adult</td>\n",
       "      <td>2005</td>\n",
       "      <td>Counts</td>\n",
       "      <td>195248.0</td>\n",
       "      <td>CTS</td>\n",
       "    </tr>\n",
       "    <tr>\n",
       "      <th>10153</th>\n",
       "      <td>MEX</td>\n",
       "      <td>Mexico</td>\n",
       "      <td>Americas</td>\n",
       "      <td>Latin America and the Caribbean</td>\n",
       "      <td>Persons held</td>\n",
       "      <td>Total</td>\n",
       "      <td>Total</td>\n",
       "      <td>Male</td>\n",
       "      <td>Adult</td>\n",
       "      <td>2006</td>\n",
       "      <td>Counts</td>\n",
       "      <td>199455.0</td>\n",
       "      <td>CTS</td>\n",
       "    </tr>\n",
       "    <tr>\n",
       "      <th>10218</th>\n",
       "      <td>MEX</td>\n",
       "      <td>Mexico</td>\n",
       "      <td>Americas</td>\n",
       "      <td>Latin America and the Caribbean</td>\n",
       "      <td>Persons held</td>\n",
       "      <td>Total</td>\n",
       "      <td>Total</td>\n",
       "      <td>Male</td>\n",
       "      <td>Adult</td>\n",
       "      <td>2007</td>\n",
       "      <td>Counts</td>\n",
       "      <td>201953.0</td>\n",
       "      <td>CTS</td>\n",
       "    </tr>\n",
       "    <tr>\n",
       "      <th>10293</th>\n",
       "      <td>MEX</td>\n",
       "      <td>Mexico</td>\n",
       "      <td>Americas</td>\n",
       "      <td>Latin America and the Caribbean</td>\n",
       "      <td>Persons held</td>\n",
       "      <td>Total</td>\n",
       "      <td>Total</td>\n",
       "      <td>Male</td>\n",
       "      <td>Adult</td>\n",
       "      <td>2008</td>\n",
       "      <td>Counts</td>\n",
       "      <td>208784.0</td>\n",
       "      <td>CTS</td>\n",
       "    </tr>\n",
       "    <tr>\n",
       "      <th>10380</th>\n",
       "      <td>MEX</td>\n",
       "      <td>Mexico</td>\n",
       "      <td>Americas</td>\n",
       "      <td>Latin America and the Caribbean</td>\n",
       "      <td>Persons held</td>\n",
       "      <td>Total</td>\n",
       "      <td>Total</td>\n",
       "      <td>Male</td>\n",
       "      <td>Adult</td>\n",
       "      <td>2009</td>\n",
       "      <td>Counts</td>\n",
       "      <td>213650.0</td>\n",
       "      <td>CTS</td>\n",
       "    </tr>\n",
       "    <tr>\n",
       "      <th>10478</th>\n",
       "      <td>MEX</td>\n",
       "      <td>Mexico</td>\n",
       "      <td>Americas</td>\n",
       "      <td>Latin America and the Caribbean</td>\n",
       "      <td>Persons held</td>\n",
       "      <td>Total</td>\n",
       "      <td>Total</td>\n",
       "      <td>Male</td>\n",
       "      <td>Adult</td>\n",
       "      <td>2010</td>\n",
       "      <td>Counts</td>\n",
       "      <td>209188.0</td>\n",
       "      <td>CTS</td>\n",
       "    </tr>\n",
       "    <tr>\n",
       "      <th>10579</th>\n",
       "      <td>MEX</td>\n",
       "      <td>Mexico</td>\n",
       "      <td>Americas</td>\n",
       "      <td>Latin America and the Caribbean</td>\n",
       "      <td>Persons held</td>\n",
       "      <td>Total</td>\n",
       "      <td>Total</td>\n",
       "      <td>Male</td>\n",
       "      <td>Adult</td>\n",
       "      <td>2011</td>\n",
       "      <td>Counts</td>\n",
       "      <td>220324.0</td>\n",
       "      <td>CTS</td>\n",
       "    </tr>\n",
       "    <tr>\n",
       "      <th>10680</th>\n",
       "      <td>MEX</td>\n",
       "      <td>Mexico</td>\n",
       "      <td>Americas</td>\n",
       "      <td>Latin America and the Caribbean</td>\n",
       "      <td>Persons held</td>\n",
       "      <td>Total</td>\n",
       "      <td>Total</td>\n",
       "      <td>Male</td>\n",
       "      <td>Adult</td>\n",
       "      <td>2012</td>\n",
       "      <td>Counts</td>\n",
       "      <td>214449.0</td>\n",
       "      <td>CTS</td>\n",
       "    </tr>\n",
       "    <tr>\n",
       "      <th>10779</th>\n",
       "      <td>MEX</td>\n",
       "      <td>Mexico</td>\n",
       "      <td>Americas</td>\n",
       "      <td>Latin America and the Caribbean</td>\n",
       "      <td>Persons held</td>\n",
       "      <td>Total</td>\n",
       "      <td>Total</td>\n",
       "      <td>Male</td>\n",
       "      <td>Adult</td>\n",
       "      <td>2013</td>\n",
       "      <td>Counts</td>\n",
       "      <td>202617.0</td>\n",
       "      <td>CTS</td>\n",
       "    </tr>\n",
       "    <tr>\n",
       "      <th>10871</th>\n",
       "      <td>MEX</td>\n",
       "      <td>Mexico</td>\n",
       "      <td>Americas</td>\n",
       "      <td>Latin America and the Caribbean</td>\n",
       "      <td>Persons held</td>\n",
       "      <td>Total</td>\n",
       "      <td>Total</td>\n",
       "      <td>Male</td>\n",
       "      <td>Adult</td>\n",
       "      <td>2014</td>\n",
       "      <td>Counts</td>\n",
       "      <td>211731.0</td>\n",
       "      <td>CTS</td>\n",
       "    </tr>\n",
       "    <tr>\n",
       "      <th>11047</th>\n",
       "      <td>MEX</td>\n",
       "      <td>Mexico</td>\n",
       "      <td>Americas</td>\n",
       "      <td>Latin America and the Caribbean</td>\n",
       "      <td>Persons held</td>\n",
       "      <td>Total</td>\n",
       "      <td>Total</td>\n",
       "      <td>Male</td>\n",
       "      <td>Adult</td>\n",
       "      <td>2016</td>\n",
       "      <td>Counts</td>\n",
       "      <td>178635.0</td>\n",
       "      <td>CTS</td>\n",
       "    </tr>\n",
       "    <tr>\n",
       "      <th>11141</th>\n",
       "      <td>MEX</td>\n",
       "      <td>Mexico</td>\n",
       "      <td>Americas</td>\n",
       "      <td>Latin America and the Caribbean</td>\n",
       "      <td>Persons held</td>\n",
       "      <td>Total</td>\n",
       "      <td>Total</td>\n",
       "      <td>Male</td>\n",
       "      <td>Adult</td>\n",
       "      <td>2017</td>\n",
       "      <td>Counts</td>\n",
       "      <td>190093.0</td>\n",
       "      <td>CTS</td>\n",
       "    </tr>\n",
       "    <tr>\n",
       "      <th>11235</th>\n",
       "      <td>MEX</td>\n",
       "      <td>Mexico</td>\n",
       "      <td>Americas</td>\n",
       "      <td>Latin America and the Caribbean</td>\n",
       "      <td>Persons held</td>\n",
       "      <td>Total</td>\n",
       "      <td>Total</td>\n",
       "      <td>Male</td>\n",
       "      <td>Adult</td>\n",
       "      <td>2018</td>\n",
       "      <td>Counts</td>\n",
       "      <td>184688.0</td>\n",
       "      <td>CTS</td>\n",
       "    </tr>\n",
       "    <tr>\n",
       "      <th>11322</th>\n",
       "      <td>MEX</td>\n",
       "      <td>Mexico</td>\n",
       "      <td>Americas</td>\n",
       "      <td>Latin America and the Caribbean</td>\n",
       "      <td>Persons held</td>\n",
       "      <td>Total</td>\n",
       "      <td>Total</td>\n",
       "      <td>Male</td>\n",
       "      <td>Adult</td>\n",
       "      <td>2019</td>\n",
       "      <td>Counts</td>\n",
       "      <td>187108.0</td>\n",
       "      <td>CTS</td>\n",
       "    </tr>\n",
       "    <tr>\n",
       "      <th>11412</th>\n",
       "      <td>MEX</td>\n",
       "      <td>Mexico</td>\n",
       "      <td>Americas</td>\n",
       "      <td>Latin America and the Caribbean</td>\n",
       "      <td>Persons held</td>\n",
       "      <td>Total</td>\n",
       "      <td>Total</td>\n",
       "      <td>Male</td>\n",
       "      <td>Adult</td>\n",
       "      <td>2020</td>\n",
       "      <td>Counts</td>\n",
       "      <td>198148.0</td>\n",
       "      <td>CTS</td>\n",
       "    </tr>\n",
       "    <tr>\n",
       "      <th>11487</th>\n",
       "      <td>MEX</td>\n",
       "      <td>Mexico</td>\n",
       "      <td>Americas</td>\n",
       "      <td>Latin America and the Caribbean</td>\n",
       "      <td>Persons held</td>\n",
       "      <td>Total</td>\n",
       "      <td>Total</td>\n",
       "      <td>Male</td>\n",
       "      <td>Adult</td>\n",
       "      <td>2021</td>\n",
       "      <td>Counts</td>\n",
       "      <td>206703.0</td>\n",
       "      <td>CTS</td>\n",
       "    </tr>\n",
       "    <tr>\n",
       "      <th>14864</th>\n",
       "      <td>MEX</td>\n",
       "      <td>Mexico</td>\n",
       "      <td>Americas</td>\n",
       "      <td>Latin America and the Caribbean</td>\n",
       "      <td>Persons held</td>\n",
       "      <td>Total</td>\n",
       "      <td>Total</td>\n",
       "      <td>Male</td>\n",
       "      <td>Juveniles</td>\n",
       "      <td>2004</td>\n",
       "      <td>Counts</td>\n",
       "      <td>2541.0</td>\n",
       "      <td>CTS</td>\n",
       "    </tr>\n",
       "    <tr>\n",
       "      <th>14902</th>\n",
       "      <td>MEX</td>\n",
       "      <td>Mexico</td>\n",
       "      <td>Americas</td>\n",
       "      <td>Latin America and the Caribbean</td>\n",
       "      <td>Persons held</td>\n",
       "      <td>Total</td>\n",
       "      <td>Total</td>\n",
       "      <td>Male</td>\n",
       "      <td>Juveniles</td>\n",
       "      <td>2005</td>\n",
       "      <td>Counts</td>\n",
       "      <td>2339.0</td>\n",
       "      <td>CTS</td>\n",
       "    </tr>\n",
       "    <tr>\n",
       "      <th>14947</th>\n",
       "      <td>MEX</td>\n",
       "      <td>Mexico</td>\n",
       "      <td>Americas</td>\n",
       "      <td>Latin America and the Caribbean</td>\n",
       "      <td>Persons held</td>\n",
       "      <td>Total</td>\n",
       "      <td>Total</td>\n",
       "      <td>Male</td>\n",
       "      <td>Juveniles</td>\n",
       "      <td>2006</td>\n",
       "      <td>Counts</td>\n",
       "      <td>1130.0</td>\n",
       "      <td>CTS</td>\n",
       "    </tr>\n",
       "  </tbody>\n",
       "</table>\n",
       "</div>"
      ],
      "text/plain": [
       "      Iso3_code Country    Region                        Subregion  \\\n",
       "10045       MEX  Mexico  Americas  Latin America and the Caribbean   \n",
       "10093       MEX  Mexico  Americas  Latin America and the Caribbean   \n",
       "10153       MEX  Mexico  Americas  Latin America and the Caribbean   \n",
       "10218       MEX  Mexico  Americas  Latin America and the Caribbean   \n",
       "10293       MEX  Mexico  Americas  Latin America and the Caribbean   \n",
       "10380       MEX  Mexico  Americas  Latin America and the Caribbean   \n",
       "10478       MEX  Mexico  Americas  Latin America and the Caribbean   \n",
       "10579       MEX  Mexico  Americas  Latin America and the Caribbean   \n",
       "10680       MEX  Mexico  Americas  Latin America and the Caribbean   \n",
       "10779       MEX  Mexico  Americas  Latin America and the Caribbean   \n",
       "10871       MEX  Mexico  Americas  Latin America and the Caribbean   \n",
       "11047       MEX  Mexico  Americas  Latin America and the Caribbean   \n",
       "11141       MEX  Mexico  Americas  Latin America and the Caribbean   \n",
       "11235       MEX  Mexico  Americas  Latin America and the Caribbean   \n",
       "11322       MEX  Mexico  Americas  Latin America and the Caribbean   \n",
       "11412       MEX  Mexico  Americas  Latin America and the Caribbean   \n",
       "11487       MEX  Mexico  Americas  Latin America and the Caribbean   \n",
       "14864       MEX  Mexico  Americas  Latin America and the Caribbean   \n",
       "14902       MEX  Mexico  Americas  Latin America and the Caribbean   \n",
       "14947       MEX  Mexico  Americas  Latin America and the Caribbean   \n",
       "\n",
       "          Indicator Dimension Category   Sex        Age  Year  \\\n",
       "10045  Persons held     Total    Total  Male      Adult  2004   \n",
       "10093  Persons held     Total    Total  Male      Adult  2005   \n",
       "10153  Persons held     Total    Total  Male      Adult  2006   \n",
       "10218  Persons held     Total    Total  Male      Adult  2007   \n",
       "10293  Persons held     Total    Total  Male      Adult  2008   \n",
       "10380  Persons held     Total    Total  Male      Adult  2009   \n",
       "10478  Persons held     Total    Total  Male      Adult  2010   \n",
       "10579  Persons held     Total    Total  Male      Adult  2011   \n",
       "10680  Persons held     Total    Total  Male      Adult  2012   \n",
       "10779  Persons held     Total    Total  Male      Adult  2013   \n",
       "10871  Persons held     Total    Total  Male      Adult  2014   \n",
       "11047  Persons held     Total    Total  Male      Adult  2016   \n",
       "11141  Persons held     Total    Total  Male      Adult  2017   \n",
       "11235  Persons held     Total    Total  Male      Adult  2018   \n",
       "11322  Persons held     Total    Total  Male      Adult  2019   \n",
       "11412  Persons held     Total    Total  Male      Adult  2020   \n",
       "11487  Persons held     Total    Total  Male      Adult  2021   \n",
       "14864  Persons held     Total    Total  Male  Juveniles  2004   \n",
       "14902  Persons held     Total    Total  Male  Juveniles  2005   \n",
       "14947  Persons held     Total    Total  Male  Juveniles  2006   \n",
       "\n",
       "      Unit of measurement     VALUE Source  \n",
       "10045              Counts   94129.0    CTS  \n",
       "10093              Counts  195248.0    CTS  \n",
       "10153              Counts  199455.0    CTS  \n",
       "10218              Counts  201953.0    CTS  \n",
       "10293              Counts  208784.0    CTS  \n",
       "10380              Counts  213650.0    CTS  \n",
       "10478              Counts  209188.0    CTS  \n",
       "10579              Counts  220324.0    CTS  \n",
       "10680              Counts  214449.0    CTS  \n",
       "10779              Counts  202617.0    CTS  \n",
       "10871              Counts  211731.0    CTS  \n",
       "11047              Counts  178635.0    CTS  \n",
       "11141              Counts  190093.0    CTS  \n",
       "11235              Counts  184688.0    CTS  \n",
       "11322              Counts  187108.0    CTS  \n",
       "11412              Counts  198148.0    CTS  \n",
       "11487              Counts  206703.0    CTS  \n",
       "14864              Counts    2541.0    CTS  \n",
       "14902              Counts    2339.0    CTS  \n",
       "14947              Counts    1130.0    CTS  "
      ]
     },
     "execution_count": 20,
     "metadata": {},
     "output_type": "execute_result"
    }
   ],
   "source": [
    "males = mexico[(mexico['Sex'] == 'Male')]\n",
    "males.head(20)"
   ]
  },
  {
   "cell_type": "code",
   "execution_count": 21,
   "metadata": {},
   "outputs": [
    {
     "data": {
      "image/png": "[encoded data removed]",
      "text/plain": [
       "<Figure size 500x500 with 6 Axes>"
      ]
     },
     "metadata": {},
     "output_type": "display_data"
    }
   ],
   "source": [
    "sns.pairplot(males);"
   ]
  },
  {
   "cell_type": "code",
   "execution_count": 22,
   "metadata": {},
   "outputs": [
    {
     "data": {
      "text/html": [
       "<div>\n",
       "<style scoped>\n",
       "    .dataframe tbody tr th:only-of-type {\n",
       "        vertical-align: middle;\n",
       "    }\n",
       "\n",
       "    .dataframe tbody tr th {\n",
       "        vertical-align: top;\n",
       "    }\n",
       "\n",
       "    .dataframe thead th {\n",
       "        text-align: right;\n",
       "    }\n",
       "</style>\n",
       "<table border=\"1\" class=\"dataframe\">\n",
       "  <thead>\n",
       "    <tr style=\"text-align: right;\">\n",
       "      <th></th>\n",
       "      <th>Iso3_code</th>\n",
       "      <th>Country</th>\n",
       "      <th>Region</th>\n",
       "      <th>Subregion</th>\n",
       "      <th>Indicator</th>\n",
       "      <th>Dimension</th>\n",
       "      <th>Category</th>\n",
       "      <th>Sex</th>\n",
       "      <th>Age</th>\n",
       "      <th>Year</th>\n",
       "      <th>Unit of measurement</th>\n",
       "      <th>VALUE</th>\n",
       "      <th>Source</th>\n",
       "    </tr>\n",
       "  </thead>\n",
       "  <tbody>\n",
       "    <tr>\n",
       "      <th>10045</th>\n",
       "      <td>MEX</td>\n",
       "      <td>Mexico</td>\n",
       "      <td>Americas</td>\n",
       "      <td>Latin America and the Caribbean</td>\n",
       "      <td>Persons held</td>\n",
       "      <td>Total</td>\n",
       "      <td>Total</td>\n",
       "      <td>Male</td>\n",
       "      <td>Adult</td>\n",
       "      <td>2004</td>\n",
       "      <td>Counts</td>\n",
       "      <td>94129.0</td>\n",
       "      <td>CTS</td>\n",
       "    </tr>\n",
       "    <tr>\n",
       "      <th>10093</th>\n",
       "      <td>MEX</td>\n",
       "      <td>Mexico</td>\n",
       "      <td>Americas</td>\n",
       "      <td>Latin America and the Caribbean</td>\n",
       "      <td>Persons held</td>\n",
       "      <td>Total</td>\n",
       "      <td>Total</td>\n",
       "      <td>Male</td>\n",
       "      <td>Adult</td>\n",
       "      <td>2005</td>\n",
       "      <td>Counts</td>\n",
       "      <td>195248.0</td>\n",
       "      <td>CTS</td>\n",
       "    </tr>\n",
       "    <tr>\n",
       "      <th>10153</th>\n",
       "      <td>MEX</td>\n",
       "      <td>Mexico</td>\n",
       "      <td>Americas</td>\n",
       "      <td>Latin America and the Caribbean</td>\n",
       "      <td>Persons held</td>\n",
       "      <td>Total</td>\n",
       "      <td>Total</td>\n",
       "      <td>Male</td>\n",
       "      <td>Adult</td>\n",
       "      <td>2006</td>\n",
       "      <td>Counts</td>\n",
       "      <td>199455.0</td>\n",
       "      <td>CTS</td>\n",
       "    </tr>\n",
       "    <tr>\n",
       "      <th>10218</th>\n",
       "      <td>MEX</td>\n",
       "      <td>Mexico</td>\n",
       "      <td>Americas</td>\n",
       "      <td>Latin America and the Caribbean</td>\n",
       "      <td>Persons held</td>\n",
       "      <td>Total</td>\n",
       "      <td>Total</td>\n",
       "      <td>Male</td>\n",
       "      <td>Adult</td>\n",
       "      <td>2007</td>\n",
       "      <td>Counts</td>\n",
       "      <td>201953.0</td>\n",
       "      <td>CTS</td>\n",
       "    </tr>\n",
       "    <tr>\n",
       "      <th>10293</th>\n",
       "      <td>MEX</td>\n",
       "      <td>Mexico</td>\n",
       "      <td>Americas</td>\n",
       "      <td>Latin America and the Caribbean</td>\n",
       "      <td>Persons held</td>\n",
       "      <td>Total</td>\n",
       "      <td>Total</td>\n",
       "      <td>Male</td>\n",
       "      <td>Adult</td>\n",
       "      <td>2008</td>\n",
       "      <td>Counts</td>\n",
       "      <td>208784.0</td>\n",
       "      <td>CTS</td>\n",
       "    </tr>\n",
       "    <tr>\n",
       "      <th>10380</th>\n",
       "      <td>MEX</td>\n",
       "      <td>Mexico</td>\n",
       "      <td>Americas</td>\n",
       "      <td>Latin America and the Caribbean</td>\n",
       "      <td>Persons held</td>\n",
       "      <td>Total</td>\n",
       "      <td>Total</td>\n",
       "      <td>Male</td>\n",
       "      <td>Adult</td>\n",
       "      <td>2009</td>\n",
       "      <td>Counts</td>\n",
       "      <td>213650.0</td>\n",
       "      <td>CTS</td>\n",
       "    </tr>\n",
       "    <tr>\n",
       "      <th>10478</th>\n",
       "      <td>MEX</td>\n",
       "      <td>Mexico</td>\n",
       "      <td>Americas</td>\n",
       "      <td>Latin America and the Caribbean</td>\n",
       "      <td>Persons held</td>\n",
       "      <td>Total</td>\n",
       "      <td>Total</td>\n",
       "      <td>Male</td>\n",
       "      <td>Adult</td>\n",
       "      <td>2010</td>\n",
       "      <td>Counts</td>\n",
       "      <td>209188.0</td>\n",
       "      <td>CTS</td>\n",
       "    </tr>\n",
       "    <tr>\n",
       "      <th>10579</th>\n",
       "      <td>MEX</td>\n",
       "      <td>Mexico</td>\n",
       "      <td>Americas</td>\n",
       "      <td>Latin America and the Caribbean</td>\n",
       "      <td>Persons held</td>\n",
       "      <td>Total</td>\n",
       "      <td>Total</td>\n",
       "      <td>Male</td>\n",
       "      <td>Adult</td>\n",
       "      <td>2011</td>\n",
       "      <td>Counts</td>\n",
       "      <td>220324.0</td>\n",
       "      <td>CTS</td>\n",
       "    </tr>\n",
       "    <tr>\n",
       "      <th>10680</th>\n",
       "      <td>MEX</td>\n",
       "      <td>Mexico</td>\n",
       "      <td>Americas</td>\n",
       "      <td>Latin America and the Caribbean</td>\n",
       "      <td>Persons held</td>\n",
       "      <td>Total</td>\n",
       "      <td>Total</td>\n",
       "      <td>Male</td>\n",
       "      <td>Adult</td>\n",
       "      <td>2012</td>\n",
       "      <td>Counts</td>\n",
       "      <td>214449.0</td>\n",
       "      <td>CTS</td>\n",
       "    </tr>\n",
       "    <tr>\n",
       "      <th>10779</th>\n",
       "      <td>MEX</td>\n",
       "      <td>Mexico</td>\n",
       "      <td>Americas</td>\n",
       "      <td>Latin America and the Caribbean</td>\n",
       "      <td>Persons held</td>\n",
       "      <td>Total</td>\n",
       "      <td>Total</td>\n",
       "      <td>Male</td>\n",
       "      <td>Adult</td>\n",
       "      <td>2013</td>\n",
       "      <td>Counts</td>\n",
       "      <td>202617.0</td>\n",
       "      <td>CTS</td>\n",
       "    </tr>\n",
       "    <tr>\n",
       "      <th>10871</th>\n",
       "      <td>MEX</td>\n",
       "      <td>Mexico</td>\n",
       "      <td>Americas</td>\n",
       "      <td>Latin America and the Caribbean</td>\n",
       "      <td>Persons held</td>\n",
       "      <td>Total</td>\n",
       "      <td>Total</td>\n",
       "      <td>Male</td>\n",
       "      <td>Adult</td>\n",
       "      <td>2014</td>\n",
       "      <td>Counts</td>\n",
       "      <td>211731.0</td>\n",
       "      <td>CTS</td>\n",
       "    </tr>\n",
       "    <tr>\n",
       "      <th>11047</th>\n",
       "      <td>MEX</td>\n",
       "      <td>Mexico</td>\n",
       "      <td>Americas</td>\n",
       "      <td>Latin America and the Caribbean</td>\n",
       "      <td>Persons held</td>\n",
       "      <td>Total</td>\n",
       "      <td>Total</td>\n",
       "      <td>Male</td>\n",
       "      <td>Adult</td>\n",
       "      <td>2016</td>\n",
       "      <td>Counts</td>\n",
       "      <td>178635.0</td>\n",
       "      <td>CTS</td>\n",
       "    </tr>\n",
       "    <tr>\n",
       "      <th>11141</th>\n",
       "      <td>MEX</td>\n",
       "      <td>Mexico</td>\n",
       "      <td>Americas</td>\n",
       "      <td>Latin America and the Caribbean</td>\n",
       "      <td>Persons held</td>\n",
       "      <td>Total</td>\n",
       "      <td>Total</td>\n",
       "      <td>Male</td>\n",
       "      <td>Adult</td>\n",
       "      <td>2017</td>\n",
       "      <td>Counts</td>\n",
       "      <td>190093.0</td>\n",
       "      <td>CTS</td>\n",
       "    </tr>\n",
       "    <tr>\n",
       "      <th>11235</th>\n",
       "      <td>MEX</td>\n",
       "      <td>Mexico</td>\n",
       "      <td>Americas</td>\n",
       "      <td>Latin America and the Caribbean</td>\n",
       "      <td>Persons held</td>\n",
       "      <td>Total</td>\n",
       "      <td>Total</td>\n",
       "      <td>Male</td>\n",
       "      <td>Adult</td>\n",
       "      <td>2018</td>\n",
       "      <td>Counts</td>\n",
       "      <td>184688.0</td>\n",
       "      <td>CTS</td>\n",
       "    </tr>\n",
       "    <tr>\n",
       "      <th>11322</th>\n",
       "      <td>MEX</td>\n",
       "      <td>Mexico</td>\n",
       "      <td>Americas</td>\n",
       "      <td>Latin America and the Caribbean</td>\n",
       "      <td>Persons held</td>\n",
       "      <td>Total</td>\n",
       "      <td>Total</td>\n",
       "      <td>Male</td>\n",
       "      <td>Adult</td>\n",
       "      <td>2019</td>\n",
       "      <td>Counts</td>\n",
       "      <td>187108.0</td>\n",
       "      <td>CTS</td>\n",
       "    </tr>\n",
       "    <tr>\n",
       "      <th>11412</th>\n",
       "      <td>MEX</td>\n",
       "      <td>Mexico</td>\n",
       "      <td>Americas</td>\n",
       "      <td>Latin America and the Caribbean</td>\n",
       "      <td>Persons held</td>\n",
       "      <td>Total</td>\n",
       "      <td>Total</td>\n",
       "      <td>Male</td>\n",
       "      <td>Adult</td>\n",
       "      <td>2020</td>\n",
       "      <td>Counts</td>\n",
       "      <td>198148.0</td>\n",
       "      <td>CTS</td>\n",
       "    </tr>\n",
       "    <tr>\n",
       "      <th>11487</th>\n",
       "      <td>MEX</td>\n",
       "      <td>Mexico</td>\n",
       "      <td>Americas</td>\n",
       "      <td>Latin America and the Caribbean</td>\n",
       "      <td>Persons held</td>\n",
       "      <td>Total</td>\n",
       "      <td>Total</td>\n",
       "      <td>Male</td>\n",
       "      <td>Adult</td>\n",
       "      <td>2021</td>\n",
       "      <td>Counts</td>\n",
       "      <td>206703.0</td>\n",
       "      <td>CTS</td>\n",
       "    </tr>\n",
       "  </tbody>\n",
       "</table>\n",
       "</div>"
      ],
      "text/plain": [
       "      Iso3_code Country    Region                        Subregion  \\\n",
       "10045       MEX  Mexico  Americas  Latin America and the Caribbean   \n",
       "10093       MEX  Mexico  Americas  Latin America and the Caribbean   \n",
       "10153       MEX  Mexico  Americas  Latin America and the Caribbean   \n",
       "10218       MEX  Mexico  Americas  Latin America and the Caribbean   \n",
       "10293       MEX  Mexico  Americas  Latin America and the Caribbean   \n",
       "10380       MEX  Mexico  Americas  Latin America and the Caribbean   \n",
       "10478       MEX  Mexico  Americas  Latin America and the Caribbean   \n",
       "10579       MEX  Mexico  Americas  Latin America and the Caribbean   \n",
       "10680       MEX  Mexico  Americas  Latin America and the Caribbean   \n",
       "10779       MEX  Mexico  Americas  Latin America and the Caribbean   \n",
       "10871       MEX  Mexico  Americas  Latin America and the Caribbean   \n",
       "11047       MEX  Mexico  Americas  Latin America and the Caribbean   \n",
       "11141       MEX  Mexico  Americas  Latin America and the Caribbean   \n",
       "11235       MEX  Mexico  Americas  Latin America and the Caribbean   \n",
       "11322       MEX  Mexico  Americas  Latin America and the Caribbean   \n",
       "11412       MEX  Mexico  Americas  Latin America and the Caribbean   \n",
       "11487       MEX  Mexico  Americas  Latin America and the Caribbean   \n",
       "\n",
       "          Indicator Dimension Category   Sex    Age  Year Unit of measurement  \\\n",
       "10045  Persons held     Total    Total  Male  Adult  2004              Counts   \n",
       "10093  Persons held     Total    Total  Male  Adult  2005              Counts   \n",
       "10153  Persons held     Total    Total  Male  Adult  2006              Counts   \n",
       "10218  Persons held     Total    Total  Male  Adult  2007              Counts   \n",
       "10293  Persons held     Total    Total  Male  Adult  2008              Counts   \n",
       "10380  Persons held     Total    Total  Male  Adult  2009              Counts   \n",
       "10478  Persons held     Total    Total  Male  Adult  2010              Counts   \n",
       "10579  Persons held     Total    Total  Male  Adult  2011              Counts   \n",
       "10680  Persons held     Total    Total  Male  Adult  2012              Counts   \n",
       "10779  Persons held     Total    Total  Male  Adult  2013              Counts   \n",
       "10871  Persons held     Total    Total  Male  Adult  2014              Counts   \n",
       "11047  Persons held     Total    Total  Male  Adult  2016              Counts   \n",
       "11141  Persons held     Total    Total  Male  Adult  2017              Counts   \n",
       "11235  Persons held     Total    Total  Male  Adult  2018              Counts   \n",
       "11322  Persons held     Total    Total  Male  Adult  2019              Counts   \n",
       "11412  Persons held     Total    Total  Male  Adult  2020              Counts   \n",
       "11487  Persons held     Total    Total  Male  Adult  2021              Counts   \n",
       "\n",
       "          VALUE Source  \n",
       "10045   94129.0    CTS  \n",
       "10093  195248.0    CTS  \n",
       "10153  199455.0    CTS  \n",
       "10218  201953.0    CTS  \n",
       "10293  208784.0    CTS  \n",
       "10380  213650.0    CTS  \n",
       "10478  209188.0    CTS  \n",
       "10579  220324.0    CTS  \n",
       "10680  214449.0    CTS  \n",
       "10779  202617.0    CTS  \n",
       "10871  211731.0    CTS  \n",
       "11047  178635.0    CTS  \n",
       "11141  190093.0    CTS  \n",
       "11235  184688.0    CTS  \n",
       "11322  187108.0    CTS  \n",
       "11412  198148.0    CTS  \n",
       "11487  206703.0    CTS  "
      ]
     },
     "execution_count": 22,
     "metadata": {},
     "output_type": "execute_result"
    }
   ],
   "source": [
    "totals = males.head(17)\n",
    "totals"
   ]
  },
  {
   "cell_type": "code",
   "execution_count": 23,
   "metadata": {},
   "outputs": [
    {
     "data": {
      "text/plain": [
       "Text(0.5, 1.0, 'Male imprisonment by year')"
      ]
     },
     "execution_count": 23,
     "metadata": {},
     "output_type": "execute_result"
    },
    {
     "data": {
      "image/png": "[encoded data removed]",
      "text/plain": [
       "<Figure size 640x480 with 1 Axes>"
      ]
     },
     "metadata": {},
     "output_type": "display_data"
    }
   ],
   "source": [
    "plt.plot(totals['Year'], totals['VALUE']);\n",
    "plt.title(\"Male imprisonment by year\")"
   ]
  },
  {
   "cell_type": "code",
   "execution_count": null,
   "metadata": {},
   "outputs": [],
   "source": []
  },
  {
   "cell_type": "markdown",
   "metadata": {},
   "source": [
    "## Modeling Democracy index ##"
   ]
  },
  {
   "cell_type": "code",
   "execution_count": 24,
   "metadata": {},
   "outputs": [
    {
     "data": {
      "text/html": [
       "<div>\n",
       "<style scoped>\n",
       "    .dataframe tbody tr th:only-of-type {\n",
       "        vertical-align: middle;\n",
       "    }\n",
       "\n",
       "    .dataframe tbody tr th {\n",
       "        vertical-align: top;\n",
       "    }\n",
       "\n",
       "    .dataframe thead th {\n",
       "        text-align: right;\n",
       "    }\n",
       "</style>\n",
       "<table border=\"1\" class=\"dataframe\">\n",
       "  <thead>\n",
       "    <tr style=\"text-align: right;\">\n",
       "      <th></th>\n",
       "      <th>Entity</th>\n",
       "      <th>Code</th>\n",
       "      <th>Year</th>\n",
       "      <th>democracy_eiu</th>\n",
       "    </tr>\n",
       "  </thead>\n",
       "  <tbody>\n",
       "    <tr>\n",
       "      <th>0</th>\n",
       "      <td>Afghanistan</td>\n",
       "      <td>AFG</td>\n",
       "      <td>2006</td>\n",
       "      <td>3.06</td>\n",
       "    </tr>\n",
       "    <tr>\n",
       "      <th>1</th>\n",
       "      <td>Afghanistan</td>\n",
       "      <td>AFG</td>\n",
       "      <td>2008</td>\n",
       "      <td>3.02</td>\n",
       "    </tr>\n",
       "    <tr>\n",
       "      <th>2</th>\n",
       "      <td>Afghanistan</td>\n",
       "      <td>AFG</td>\n",
       "      <td>2010</td>\n",
       "      <td>2.48</td>\n",
       "    </tr>\n",
       "    <tr>\n",
       "      <th>3</th>\n",
       "      <td>Afghanistan</td>\n",
       "      <td>AFG</td>\n",
       "      <td>2011</td>\n",
       "      <td>2.48</td>\n",
       "    </tr>\n",
       "    <tr>\n",
       "      <th>4</th>\n",
       "      <td>Afghanistan</td>\n",
       "      <td>AFG</td>\n",
       "      <td>2012</td>\n",
       "      <td>2.48</td>\n",
       "    </tr>\n",
       "  </tbody>\n",
       "</table>\n",
       "</div>"
      ],
      "text/plain": [
       "        Entity Code  Year  democracy_eiu\n",
       "0  Afghanistan  AFG  2006           3.06\n",
       "1  Afghanistan  AFG  2008           3.02\n",
       "2  Afghanistan  AFG  2010           2.48\n",
       "3  Afghanistan  AFG  2011           2.48\n",
       "4  Afghanistan  AFG  2012           2.48"
      ]
     },
     "execution_count": 24,
     "metadata": {},
     "output_type": "execute_result"
    }
   ],
   "source": [
    "index = pd.read_csv('democracy-index-eiu.csv')\n",
    "index.head()"
   ]
  },
  {
   "cell_type": "code",
   "execution_count": 25,
   "metadata": {},
   "outputs": [
    {
     "data": {
      "text/plain": [
       "Entity            0\n",
       "Code             90\n",
       "Year              0\n",
       "democracy_eiu     0\n",
       "dtype: int64"
      ]
     },
     "execution_count": 25,
     "metadata": {},
     "output_type": "execute_result"
    }
   ],
   "source": [
    "index.isna().sum()"
   ]
  },
  {
   "cell_type": "code",
   "execution_count": 26,
   "metadata": {},
   "outputs": [
    {
     "data": {
      "text/plain": [
       "country                                        0\n",
       "incarcerationRatesByCountry_ratePer100k        0\n",
       "incarcerationRatesByCountry_totIncarcerated    0\n",
       "incarcerationRatesByCountry_percMale           2\n",
       "incarcerationRatesByCountry_percFemale         2\n",
       "dtype: int64"
      ]
     },
     "execution_count": 26,
     "metadata": {},
     "output_type": "execute_result"
    }
   ],
   "source": [
    "incar = pd.read_csv('incarceration-rates-by-country-2023.csv')\n",
    "incar.isna().sum()"
   ]
  },
  {
   "cell_type": "code",
   "execution_count": 27,
   "metadata": {},
   "outputs": [
    {
     "data": {
      "text/html": [
       "<div>\n",
       "<style scoped>\n",
       "    .dataframe tbody tr th:only-of-type {\n",
       "        vertical-align: middle;\n",
       "    }\n",
       "\n",
       "    .dataframe tbody tr th {\n",
       "        vertical-align: top;\n",
       "    }\n",
       "\n",
       "    .dataframe thead th {\n",
       "        text-align: right;\n",
       "    }\n",
       "</style>\n",
       "<table border=\"1\" class=\"dataframe\">\n",
       "  <thead>\n",
       "    <tr style=\"text-align: right;\">\n",
       "      <th></th>\n",
       "      <th>country</th>\n",
       "      <th>incarcerationRatesByCountry_ratePer100k</th>\n",
       "      <th>incarcerationRatesByCountry_totIncarcerated</th>\n",
       "      <th>incarcerationRatesByCountry_percMale</th>\n",
       "      <th>incarcerationRatesByCountry_percFemale</th>\n",
       "    </tr>\n",
       "  </thead>\n",
       "  <tbody>\n",
       "    <tr>\n",
       "      <th>0</th>\n",
       "      <td>United States</td>\n",
       "      <td>629</td>\n",
       "      <td>2068800</td>\n",
       "      <td>0.90</td>\n",
       "      <td>0.10</td>\n",
       "    </tr>\n",
       "    <tr>\n",
       "      <th>1</th>\n",
       "      <td>Rwanda</td>\n",
       "      <td>580</td>\n",
       "      <td>76099</td>\n",
       "      <td>0.95</td>\n",
       "      <td>0.05</td>\n",
       "    </tr>\n",
       "    <tr>\n",
       "      <th>2</th>\n",
       "      <td>Turkmenistan</td>\n",
       "      <td>576</td>\n",
       "      <td>35000</td>\n",
       "      <td>0.94</td>\n",
       "      <td>0.07</td>\n",
       "    </tr>\n",
       "    <tr>\n",
       "      <th>3</th>\n",
       "      <td>El Salvador</td>\n",
       "      <td>564</td>\n",
       "      <td>36663</td>\n",
       "      <td>0.93</td>\n",
       "      <td>0.07</td>\n",
       "    </tr>\n",
       "    <tr>\n",
       "      <th>4</th>\n",
       "      <td>Cuba</td>\n",
       "      <td>510</td>\n",
       "      <td>57337</td>\n",
       "      <td>NaN</td>\n",
       "      <td>NaN</td>\n",
       "    </tr>\n",
       "  </tbody>\n",
       "</table>\n",
       "</div>"
      ],
      "text/plain": [
       "         country  incarcerationRatesByCountry_ratePer100k  \\\n",
       "0  United States                                      629   \n",
       "1         Rwanda                                      580   \n",
       "2   Turkmenistan                                      576   \n",
       "3    El Salvador                                      564   \n",
       "4           Cuba                                      510   \n",
       "\n",
       "   incarcerationRatesByCountry_totIncarcerated  \\\n",
       "0                                      2068800   \n",
       "1                                        76099   \n",
       "2                                        35000   \n",
       "3                                        36663   \n",
       "4                                        57337   \n",
       "\n",
       "   incarcerationRatesByCountry_percMale  \\\n",
       "0                                  0.90   \n",
       "1                                  0.95   \n",
       "2                                  0.94   \n",
       "3                                  0.93   \n",
       "4                                   NaN   \n",
       "\n",
       "   incarcerationRatesByCountry_percFemale  \n",
       "0                                    0.10  \n",
       "1                                    0.05  \n",
       "2                                    0.07  \n",
       "3                                    0.07  \n",
       "4                                     NaN  "
      ]
     },
     "execution_count": 27,
     "metadata": {},
     "output_type": "execute_result"
    }
   ],
   "source": [
    "incar.head()"
   ]
  },
  {
   "cell_type": "code",
   "execution_count": 28,
   "metadata": {},
   "outputs": [
    {
     "data": {
      "text/plain": [
       "country\n",
       "United States    1\n",
       "Austria          1\n",
       "Haiti            1\n",
       "Ethiopia         1\n",
       "Madagascar       1\n",
       "                ..\n",
       "Suriname         1\n",
       "Lithuania        1\n",
       "Mongolia         1\n",
       "Moldova          1\n",
       "San Marino       1\n",
       "Name: count, Length: 217, dtype: int64"
      ]
     },
     "execution_count": 28,
     "metadata": {},
     "output_type": "execute_result"
    }
   ],
   "source": [
    "incar.country.value_counts()"
   ]
  },
  {
   "cell_type": "code",
   "execution_count": 29,
   "metadata": {},
   "outputs": [],
   "source": [
    "incar.set_index('country', inplace=True)"
   ]
  },
  {
   "cell_type": "code",
   "execution_count": 30,
   "metadata": {},
   "outputs": [
    {
     "data": {
      "text/plain": [
       "Year\n",
       "2006    174\n",
       "2008    174\n",
       "2010    174\n",
       "2011    174\n",
       "2012    174\n",
       "2013    174\n",
       "2014    174\n",
       "2015    174\n",
       "2016    174\n",
       "2017    174\n",
       "2018    174\n",
       "2019    174\n",
       "2020    174\n",
       "2021    174\n",
       "2022    174\n",
       "Name: count, dtype: int64"
      ]
     },
     "execution_count": 30,
     "metadata": {},
     "output_type": "execute_result"
    }
   ],
   "source": [
    "index['Year'].value_counts()"
   ]
  },
  {
   "cell_type": "code",
   "execution_count": 31,
   "metadata": {},
   "outputs": [
    {
     "data": {
      "text/html": [
       "<div>\n",
       "<style scoped>\n",
       "    .dataframe tbody tr th:only-of-type {\n",
       "        vertical-align: middle;\n",
       "    }\n",
       "\n",
       "    .dataframe tbody tr th {\n",
       "        vertical-align: top;\n",
       "    }\n",
       "\n",
       "    .dataframe thead th {\n",
       "        text-align: right;\n",
       "    }\n",
       "</style>\n",
       "<table border=\"1\" class=\"dataframe\">\n",
       "  <thead>\n",
       "    <tr style=\"text-align: right;\">\n",
       "      <th></th>\n",
       "      <th>Code</th>\n",
       "      <th>Year</th>\n",
       "      <th>democracy_eiu</th>\n",
       "    </tr>\n",
       "    <tr>\n",
       "      <th>Entity</th>\n",
       "      <th></th>\n",
       "      <th></th>\n",
       "      <th></th>\n",
       "    </tr>\n",
       "  </thead>\n",
       "  <tbody>\n",
       "    <tr>\n",
       "      <th>Afghanistan</th>\n",
       "      <td>AFG</td>\n",
       "      <td>2022</td>\n",
       "      <td>0.320000</td>\n",
       "    </tr>\n",
       "    <tr>\n",
       "      <th>Africa</th>\n",
       "      <td>NaN</td>\n",
       "      <td>2022</td>\n",
       "      <td>4.075000</td>\n",
       "    </tr>\n",
       "    <tr>\n",
       "      <th>Albania</th>\n",
       "      <td>ALB</td>\n",
       "      <td>2022</td>\n",
       "      <td>6.410000</td>\n",
       "    </tr>\n",
       "    <tr>\n",
       "      <th>Algeria</th>\n",
       "      <td>DZA</td>\n",
       "      <td>2022</td>\n",
       "      <td>3.660000</td>\n",
       "    </tr>\n",
       "    <tr>\n",
       "      <th>Angola</th>\n",
       "      <td>AGO</td>\n",
       "      <td>2022</td>\n",
       "      <td>3.960000</td>\n",
       "    </tr>\n",
       "    <tr>\n",
       "      <th>...</th>\n",
       "      <td>...</td>\n",
       "      <td>...</td>\n",
       "      <td>...</td>\n",
       "    </tr>\n",
       "    <tr>\n",
       "      <th>Vietnam</th>\n",
       "      <td>VNM</td>\n",
       "      <td>2022</td>\n",
       "      <td>2.730000</td>\n",
       "    </tr>\n",
       "    <tr>\n",
       "      <th>World</th>\n",
       "      <td>OWID_WRL</td>\n",
       "      <td>2022</td>\n",
       "      <td>5.293174</td>\n",
       "    </tr>\n",
       "    <tr>\n",
       "      <th>Yemen</th>\n",
       "      <td>YEM</td>\n",
       "      <td>2022</td>\n",
       "      <td>1.950000</td>\n",
       "    </tr>\n",
       "    <tr>\n",
       "      <th>Zambia</th>\n",
       "      <td>ZMB</td>\n",
       "      <td>2022</td>\n",
       "      <td>5.800000</td>\n",
       "    </tr>\n",
       "    <tr>\n",
       "      <th>Zimbabwe</th>\n",
       "      <td>ZWE</td>\n",
       "      <td>2022</td>\n",
       "      <td>2.920000</td>\n",
       "    </tr>\n",
       "  </tbody>\n",
       "</table>\n",
       "<p>174 rows × 3 columns</p>\n",
       "</div>"
      ],
      "text/plain": [
       "                 Code  Year  democracy_eiu\n",
       "Entity                                    \n",
       "Afghanistan       AFG  2022       0.320000\n",
       "Africa            NaN  2022       4.075000\n",
       "Albania           ALB  2022       6.410000\n",
       "Algeria           DZA  2022       3.660000\n",
       "Angola            AGO  2022       3.960000\n",
       "...               ...   ...            ...\n",
       "Vietnam           VNM  2022       2.730000\n",
       "World        OWID_WRL  2022       5.293174\n",
       "Yemen             YEM  2022       1.950000\n",
       "Zambia            ZMB  2022       5.800000\n",
       "Zimbabwe          ZWE  2022       2.920000\n",
       "\n",
       "[174 rows x 3 columns]"
      ]
     },
     "execution_count": 31,
     "metadata": {},
     "output_type": "execute_result"
    }
   ],
   "source": [
    "year_2022 = index[(index['Year'] == 2022)]\n",
    "year_2022.set_index('Entity', inplace=True)\n",
    "year_2022"
   ]
  },
  {
   "cell_type": "code",
   "execution_count": 32,
   "metadata": {},
   "outputs": [],
   "source": [
    "joined = year_2022.join(incar)"
   ]
  },
  {
   "cell_type": "code",
   "execution_count": 33,
   "metadata": {},
   "outputs": [
    {
     "data": {
      "text/plain": [
       "Code                                            6\n",
       "Year                                            0\n",
       "democracy_eiu                                   0\n",
       "incarcerationRatesByCountry_ratePer100k        16\n",
       "incarcerationRatesByCountry_totIncarcerated    16\n",
       "incarcerationRatesByCountry_percMale           18\n",
       "incarcerationRatesByCountry_percFemale         18\n",
       "dtype: int64"
      ]
     },
     "execution_count": 33,
     "metadata": {},
     "output_type": "execute_result"
    }
   ],
   "source": [
    "joined.isna().sum()"
   ]
  },
  {
   "cell_type": "code",
   "execution_count": 34,
   "metadata": {},
   "outputs": [],
   "source": [
    "targets = joined[(joined['incarcerationRatesByCountry_totIncarcerated'].isna() == False)]"
   ]
  },
  {
   "cell_type": "code",
   "execution_count": 35,
   "metadata": {},
   "outputs": [
    {
     "data": {
      "text/plain": [
       "Code                                           0\n",
       "Year                                           0\n",
       "democracy_eiu                                  0\n",
       "incarcerationRatesByCountry_ratePer100k        0\n",
       "incarcerationRatesByCountry_totIncarcerated    0\n",
       "incarcerationRatesByCountry_percMale           2\n",
       "incarcerationRatesByCountry_percFemale         2\n",
       "dtype: int64"
      ]
     },
     "execution_count": 35,
     "metadata": {},
     "output_type": "execute_result"
    }
   ],
   "source": [
    "targets.isna().sum()"
   ]
  },
  {
   "cell_type": "code",
   "execution_count": 36,
   "metadata": {},
   "outputs": [
    {
     "data": {
      "text/html": [
       "<div>\n",
       "<style scoped>\n",
       "    .dataframe tbody tr th:only-of-type {\n",
       "        vertical-align: middle;\n",
       "    }\n",
       "\n",
       "    .dataframe tbody tr th {\n",
       "        vertical-align: top;\n",
       "    }\n",
       "\n",
       "    .dataframe thead th {\n",
       "        text-align: right;\n",
       "    }\n",
       "</style>\n",
       "<table border=\"1\" class=\"dataframe\">\n",
       "  <thead>\n",
       "    <tr style=\"text-align: right;\">\n",
       "      <th></th>\n",
       "      <th>Code</th>\n",
       "      <th>Year</th>\n",
       "      <th>democracy_eiu</th>\n",
       "      <th>incarcerationRatesByCountry_ratePer100k</th>\n",
       "      <th>incarcerationRatesByCountry_totIncarcerated</th>\n",
       "      <th>incarcerationRatesByCountry_percMale</th>\n",
       "      <th>incarcerationRatesByCountry_percFemale</th>\n",
       "    </tr>\n",
       "    <tr>\n",
       "      <th>Entity</th>\n",
       "      <th></th>\n",
       "      <th></th>\n",
       "      <th></th>\n",
       "      <th></th>\n",
       "      <th></th>\n",
       "      <th></th>\n",
       "      <th></th>\n",
       "    </tr>\n",
       "  </thead>\n",
       "  <tbody>\n",
       "    <tr>\n",
       "      <th>Cuba</th>\n",
       "      <td>CUB</td>\n",
       "      <td>2022</td>\n",
       "      <td>2.65</td>\n",
       "      <td>510.0</td>\n",
       "      <td>57337.0</td>\n",
       "      <td>NaN</td>\n",
       "      <td>NaN</td>\n",
       "    </tr>\n",
       "    <tr>\n",
       "      <th>Uzbekistan</th>\n",
       "      <td>UZB</td>\n",
       "      <td>2022</td>\n",
       "      <td>2.12</td>\n",
       "      <td>68.0</td>\n",
       "      <td>22867.0</td>\n",
       "      <td>NaN</td>\n",
       "      <td>NaN</td>\n",
       "    </tr>\n",
       "  </tbody>\n",
       "</table>\n",
       "</div>"
      ],
      "text/plain": [
       "           Code  Year  democracy_eiu  incarcerationRatesByCountry_ratePer100k  \\\n",
       "Entity                                                                          \n",
       "Cuba        CUB  2022           2.65                                    510.0   \n",
       "Uzbekistan  UZB  2022           2.12                                     68.0   \n",
       "\n",
       "            incarcerationRatesByCountry_totIncarcerated  \\\n",
       "Entity                                                    \n",
       "Cuba                                            57337.0   \n",
       "Uzbekistan                                      22867.0   \n",
       "\n",
       "            incarcerationRatesByCountry_percMale  \\\n",
       "Entity                                             \n",
       "Cuba                                         NaN   \n",
       "Uzbekistan                                   NaN   \n",
       "\n",
       "            incarcerationRatesByCountry_percFemale  \n",
       "Entity                                              \n",
       "Cuba                                           NaN  \n",
       "Uzbekistan                                     NaN  "
      ]
     },
     "execution_count": 36,
     "metadata": {},
     "output_type": "execute_result"
    }
   ],
   "source": [
    "targets[(targets['incarcerationRatesByCountry_percMale']).isna() == True]"
   ]
  },
  {
   "cell_type": "code",
   "execution_count": 37,
   "metadata": {},
   "outputs": [
    {
     "data": {
      "text/html": [
       "<div>\n",
       "<style scoped>\n",
       "    .dataframe tbody tr th:only-of-type {\n",
       "        vertical-align: middle;\n",
       "    }\n",
       "\n",
       "    .dataframe tbody tr th {\n",
       "        vertical-align: top;\n",
       "    }\n",
       "\n",
       "    .dataframe thead th {\n",
       "        text-align: right;\n",
       "    }\n",
       "</style>\n",
       "<table border=\"1\" class=\"dataframe\">\n",
       "  <thead>\n",
       "    <tr style=\"text-align: right;\">\n",
       "      <th></th>\n",
       "      <th>Year</th>\n",
       "      <th>democracy_eiu</th>\n",
       "      <th>incarcerationRatesByCountry_ratePer100k</th>\n",
       "      <th>incarcerationRatesByCountry_totIncarcerated</th>\n",
       "      <th>incarcerationRatesByCountry_percMale</th>\n",
       "      <th>incarcerationRatesByCountry_percFemale</th>\n",
       "    </tr>\n",
       "  </thead>\n",
       "  <tbody>\n",
       "    <tr>\n",
       "      <th>Year</th>\n",
       "      <td>NaN</td>\n",
       "      <td>NaN</td>\n",
       "      <td>NaN</td>\n",
       "      <td>NaN</td>\n",
       "      <td>NaN</td>\n",
       "      <td>NaN</td>\n",
       "    </tr>\n",
       "    <tr>\n",
       "      <th>democracy_eiu</th>\n",
       "      <td>NaN</td>\n",
       "      <td>1.000000</td>\n",
       "      <td>0.027828</td>\n",
       "      <td>-0.009342</td>\n",
       "      <td>-0.083394</td>\n",
       "      <td>0.092809</td>\n",
       "    </tr>\n",
       "    <tr>\n",
       "      <th>incarcerationRatesByCountry_ratePer100k</th>\n",
       "      <td>NaN</td>\n",
       "      <td>0.027828</td>\n",
       "      <td>1.000000</td>\n",
       "      <td>0.326083</td>\n",
       "      <td>-0.167893</td>\n",
       "      <td>0.179948</td>\n",
       "    </tr>\n",
       "    <tr>\n",
       "      <th>incarcerationRatesByCountry_totIncarcerated</th>\n",
       "      <td>NaN</td>\n",
       "      <td>-0.009342</td>\n",
       "      <td>0.326083</td>\n",
       "      <td>1.000000</td>\n",
       "      <td>-0.205435</td>\n",
       "      <td>0.203176</td>\n",
       "    </tr>\n",
       "    <tr>\n",
       "      <th>incarcerationRatesByCountry_percMale</th>\n",
       "      <td>NaN</td>\n",
       "      <td>-0.083394</td>\n",
       "      <td>-0.167893</td>\n",
       "      <td>-0.205435</td>\n",
       "      <td>1.000000</td>\n",
       "      <td>-0.994838</td>\n",
       "    </tr>\n",
       "    <tr>\n",
       "      <th>incarcerationRatesByCountry_percFemale</th>\n",
       "      <td>NaN</td>\n",
       "      <td>0.092809</td>\n",
       "      <td>0.179948</td>\n",
       "      <td>0.203176</td>\n",
       "      <td>-0.994838</td>\n",
       "      <td>1.000000</td>\n",
       "    </tr>\n",
       "  </tbody>\n",
       "</table>\n",
       "</div>"
      ],
      "text/plain": [
       "                                             Year  democracy_eiu  \\\n",
       "Year                                          NaN            NaN   \n",
       "democracy_eiu                                 NaN       1.000000   \n",
       "incarcerationRatesByCountry_ratePer100k       NaN       0.027828   \n",
       "incarcerationRatesByCountry_totIncarcerated   NaN      -0.009342   \n",
       "incarcerationRatesByCountry_percMale          NaN      -0.083394   \n",
       "incarcerationRatesByCountry_percFemale        NaN       0.092809   \n",
       "\n",
       "                                             incarcerationRatesByCountry_ratePer100k  \\\n",
       "Year                                                                             NaN   \n",
       "democracy_eiu                                                               0.027828   \n",
       "incarcerationRatesByCountry_ratePer100k                                     1.000000   \n",
       "incarcerationRatesByCountry_totIncarcerated                                 0.326083   \n",
       "incarcerationRatesByCountry_percMale                                       -0.167893   \n",
       "incarcerationRatesByCountry_percFemale                                      0.179948   \n",
       "\n",
       "                                             incarcerationRatesByCountry_totIncarcerated  \\\n",
       "Year                                                                                 NaN   \n",
       "democracy_eiu                                                                  -0.009342   \n",
       "incarcerationRatesByCountry_ratePer100k                                         0.326083   \n",
       "incarcerationRatesByCountry_totIncarcerated                                     1.000000   \n",
       "incarcerationRatesByCountry_percMale                                           -0.205435   \n",
       "incarcerationRatesByCountry_percFemale                                          0.203176   \n",
       "\n",
       "                                             incarcerationRatesByCountry_percMale  \\\n",
       "Year                                                                          NaN   \n",
       "democracy_eiu                                                           -0.083394   \n",
       "incarcerationRatesByCountry_ratePer100k                                 -0.167893   \n",
       "incarcerationRatesByCountry_totIncarcerated                             -0.205435   \n",
       "incarcerationRatesByCountry_percMale                                     1.000000   \n",
       "incarcerationRatesByCountry_percFemale                                  -0.994838   \n",
       "\n",
       "                                             incarcerationRatesByCountry_percFemale  \n",
       "Year                                                                            NaN  \n",
       "democracy_eiu                                                              0.092809  \n",
       "incarcerationRatesByCountry_ratePer100k                                    0.179948  \n",
       "incarcerationRatesByCountry_totIncarcerated                                0.203176  \n",
       "incarcerationRatesByCountry_percMale                                      -0.994838  \n",
       "incarcerationRatesByCountry_percFemale                                     1.000000  "
      ]
     },
     "execution_count": 37,
     "metadata": {},
     "output_type": "execute_result"
    }
   ],
   "source": [
    "targets.corr(numeric_only=True)"
   ]
  },
  {
   "cell_type": "code",
   "execution_count": 38,
   "metadata": {},
   "outputs": [],
   "source": [
    "X = targets['incarcerationRatesByCountry_ratePer100k']\n",
    "y = targets['democracy_eiu']"
   ]
  },
  {
   "cell_type": "code",
   "execution_count": 68,
   "metadata": {},
   "outputs": [],
   "source": [
    "from sklearn.linear_model import LinearRegression\n",
    "from sklearn.model_selection import train_test_split\n",
    "from sklearn.metrics import mean_squared_error"
   ]
  },
  {
   "cell_type": "code",
   "execution_count": 40,
   "metadata": {},
   "outputs": [
    {
     "data": {
      "text/plain": [
       "(158, 1)"
      ]
     },
     "execution_count": 40,
     "metadata": {},
     "output_type": "execute_result"
    }
   ],
   "source": [
    "X2 = np.array(X).reshape(-1,1)\n",
    "X2.shape"
   ]
  },
  {
   "cell_type": "code",
   "execution_count": 41,
   "metadata": {},
   "outputs": [
    {
     "data": {
      "text/plain": [
       "(158, 1)"
      ]
     },
     "execution_count": 41,
     "metadata": {},
     "output_type": "execute_result"
    }
   ],
   "source": [
    "y2 = np.array(y).reshape(-1,1)\n",
    "y2.shape"
   ]
  },
  {
   "cell_type": "code",
   "execution_count": 42,
   "metadata": {},
   "outputs": [],
   "source": [
    "X_train, X_test, y_train, y_test = train_test_split(\n",
    "X2, y2, test_size=0.2, random_state=42)"
   ]
  },
  {
   "cell_type": "code",
   "execution_count": 43,
   "metadata": {},
   "outputs": [],
   "source": [
    "lr = LinearRegression()"
   ]
  },
  {
   "cell_type": "code",
   "execution_count": 44,
   "metadata": {},
   "outputs": [
    {
     "data": {
      "text/html": [
       "<style>#sk-container-id-1 {color: black;}#sk-container-id-1 pre{padding: 0;}#sk-container-id-1 div.sk-toggleable {background-color: white;}#sk-container-id-1 label.sk-toggleable__label {cursor: pointer;display: block;width: 100%;margin-bottom: 0;padding: 0.3em;box-sizing: border-box;text-align: center;}#sk-container-id-1 label.sk-toggleable__label-arrow:before {content: \"▸\";float: left;margin-right: 0.25em;color: #696969;}#sk-container-id-1 label.sk-toggleable__label-arrow:hover:before {color: black;}#sk-container-id-1 div.sk-estimator:hover label.sk-toggleable__label-arrow:before {color: black;}#sk-container-id-1 div.sk-toggleable__content {max-height: 0;max-width: 0;overflow: hidden;text-align: left;background-color: #f0f8ff;}#sk-container-id-1 div.sk-toggleable__content pre {margin: 0.2em;color: black;border-radius: 0.25em;background-color: #f0f8ff;}#sk-container-id-1 input.sk-toggleable__control:checked~div.sk-toggleable__content {max-height: 200px;max-width: 100%;overflow: auto;}#sk-container-id-1 input.sk-toggleable__control:checked~label.sk-toggleable__label-arrow:before {content: \"▾\";}#sk-container-id-1 div.sk-estimator input.sk-toggleable__control:checked~label.sk-toggleable__label {background-color: #d4ebff;}#sk-container-id-1 div.sk-label input.sk-toggleable__control:checked~label.sk-toggleable__label {background-color: #d4ebff;}#sk-container-id-1 input.sk-hidden--visually {border: 0;clip: rect(1px 1px 1px 1px);clip: rect(1px, 1px, 1px, 1px);height: 1px;margin: -1px;overflow: hidden;padding: 0;position: absolute;width: 1px;}#sk-container-id-1 div.sk-estimator {font-family: monospace;background-color: #f0f8ff;border: 1px dotted black;border-radius: 0.25em;box-sizing: border-box;margin-bottom: 0.5em;}#sk-container-id-1 div.sk-estimator:hover {background-color: #d4ebff;}#sk-container-id-1 div.sk-parallel-item::after {content: \"\";width: 100%;border-bottom: 1px solid gray;flex-grow: 1;}#sk-container-id-1 div.sk-label:hover label.sk-toggleable__label {background-color: #d4ebff;}#sk-container-id-1 div.sk-serial::before {content: \"\";position: absolute;border-left: 1px solid gray;box-sizing: border-box;top: 0;bottom: 0;left: 50%;z-index: 0;}#sk-container-id-1 div.sk-serial {display: flex;flex-direction: column;align-items: center;background-color: white;padding-right: 0.2em;padding-left: 0.2em;position: relative;}#sk-container-id-1 div.sk-item {position: relative;z-index: 1;}#sk-container-id-1 div.sk-parallel {display: flex;align-items: stretch;justify-content: center;background-color: white;position: relative;}#sk-container-id-1 div.sk-item::before, #sk-container-id-1 div.sk-parallel-item::before {content: \"\";position: absolute;border-left: 1px solid gray;box-sizing: border-box;top: 0;bottom: 0;left: 50%;z-index: -1;}#sk-container-id-1 div.sk-parallel-item {display: flex;flex-direction: column;z-index: 1;position: relative;background-color: white;}#sk-container-id-1 div.sk-parallel-item:first-child::after {align-self: flex-end;width: 50%;}#sk-container-id-1 div.sk-parallel-item:last-child::after {align-self: flex-start;width: 50%;}#sk-container-id-1 div.sk-parallel-item:only-child::after {width: 0;}#sk-container-id-1 div.sk-dashed-wrapped {border: 1px dashed gray;margin: 0 0.4em 0.5em 0.4em;box-sizing: border-box;padding-bottom: 0.4em;background-color: white;}#sk-container-id-1 div.sk-label label {font-family: monospace;font-weight: bold;display: inline-block;line-height: 1.2em;}#sk-container-id-1 div.sk-label-container {text-align: center;}#sk-container-id-1 div.sk-container {/* jupyter's `normalize.less` sets `[hidden] { display: none; }` but bootstrap.min.css set `[hidden] { display: none !important; }` so we also need the `!important` here to be able to override the default hidden behavior on the sphinx rendered scikit-learn.org. See: https://github.com/scikit-learn/scikit-learn/issues/21755 */display: inline-block !important;position: relative;}#sk-container-id-1 div.sk-text-repr-fallback {display: none;}</style><div id=\"sk-container-id-1\" class=\"sk-top-container\"><div class=\"sk-text-repr-fallback\"><pre>LinearRegression()</pre><b>In a Jupyter environment, please rerun this cell to show the HTML representation or trust the notebook. <br />On GitHub, the HTML representation is unable to render, please try loading this page with nbviewer.org.</b></div><div class=\"sk-container\" hidden><div class=\"sk-item\"><div class=\"sk-estimator sk-toggleable\"><input class=\"sk-toggleable__control sk-hidden--visually\" id=\"sk-estimator-id-1\" type=\"checkbox\" checked><label for=\"sk-estimator-id-1\" class=\"sk-toggleable__label sk-toggleable__label-arrow\">LinearRegression</label><div class=\"sk-toggleable__content\"><pre>LinearRegression()</pre></div></div></div></div></div>"
      ],
      "text/plain": [
       "LinearRegression()"
      ]
     },
     "execution_count": 44,
     "metadata": {},
     "output_type": "execute_result"
    }
   ],
   "source": [
    "lr.fit(X2,y2)"
   ]
  },
  {
   "cell_type": "code",
   "execution_count": 45,
   "metadata": {},
   "outputs": [
    {
     "data": {
      "text/plain": [
       "8.924865991266628e-05"
      ]
     },
     "execution_count": 45,
     "metadata": {},
     "output_type": "execute_result"
    }
   ],
   "source": [
    "lr.score(X_train,y_train)"
   ]
  },
  {
   "cell_type": "code",
   "execution_count": 46,
   "metadata": {},
   "outputs": [
    {
     "data": {
      "text/plain": [
       "-0.002700010845050782"
      ]
     },
     "execution_count": 46,
     "metadata": {},
     "output_type": "execute_result"
    }
   ],
   "source": [
    "lr.score(X_test,y_test)"
   ]
  },
  {
   "cell_type": "code",
   "execution_count": 47,
   "metadata": {},
   "outputs": [
    {
     "data": {
      "text/plain": [
       "2.3387699155379584"
      ]
     },
     "execution_count": 47,
     "metadata": {},
     "output_type": "execute_result"
    }
   ],
   "source": [
    "mean_squared_error(y, lr.predict(X2), squared= False) # "
   ]
  },
  {
   "cell_type": "code",
   "execution_count": 48,
   "metadata": {},
   "outputs": [
    {
     "data": {
      "text/plain": [
       "2.3396759802411156"
      ]
     },
     "execution_count": 48,
     "metadata": {},
     "output_type": "execute_result"
    }
   ],
   "source": [
    "mean_squared_error(y, [y.mean() for x in y], squared= False) #baseline"
   ]
  },
  {
   "cell_type": "code",
   "execution_count": 49,
   "metadata": {},
   "outputs": [],
   "source": [
    "from sklearn.tree import DecisionTreeRegressor"
   ]
  },
  {
   "cell_type": "code",
   "execution_count": 50,
   "metadata": {},
   "outputs": [
    {
     "data": {
      "text/html": [
       "<style>#sk-container-id-2 {color: black;}#sk-container-id-2 pre{padding: 0;}#sk-container-id-2 div.sk-toggleable {background-color: white;}#sk-container-id-2 label.sk-toggleable__label {cursor: pointer;display: block;width: 100%;margin-bottom: 0;padding: 0.3em;box-sizing: border-box;text-align: center;}#sk-container-id-2 label.sk-toggleable__label-arrow:before {content: \"▸\";float: left;margin-right: 0.25em;color: #696969;}#sk-container-id-2 label.sk-toggleable__label-arrow:hover:before {color: black;}#sk-container-id-2 div.sk-estimator:hover label.sk-toggleable__label-arrow:before {color: black;}#sk-container-id-2 div.sk-toggleable__content {max-height: 0;max-width: 0;overflow: hidden;text-align: left;background-color: #f0f8ff;}#sk-container-id-2 div.sk-toggleable__content pre {margin: 0.2em;color: black;border-radius: 0.25em;background-color: #f0f8ff;}#sk-container-id-2 input.sk-toggleable__control:checked~div.sk-toggleable__content {max-height: 200px;max-width: 100%;overflow: auto;}#sk-container-id-2 input.sk-toggleable__control:checked~label.sk-toggleable__label-arrow:before {content: \"▾\";}#sk-container-id-2 div.sk-estimator input.sk-toggleable__control:checked~label.sk-toggleable__label {background-color: #d4ebff;}#sk-container-id-2 div.sk-label input.sk-toggleable__control:checked~label.sk-toggleable__label {background-color: #d4ebff;}#sk-container-id-2 input.sk-hidden--visually {border: 0;clip: rect(1px 1px 1px 1px);clip: rect(1px, 1px, 1px, 1px);height: 1px;margin: -1px;overflow: hidden;padding: 0;position: absolute;width: 1px;}#sk-container-id-2 div.sk-estimator {font-family: monospace;background-color: #f0f8ff;border: 1px dotted black;border-radius: 0.25em;box-sizing: border-box;margin-bottom: 0.5em;}#sk-container-id-2 div.sk-estimator:hover {background-color: #d4ebff;}#sk-container-id-2 div.sk-parallel-item::after {content: \"\";width: 100%;border-bottom: 1px solid gray;flex-grow: 1;}#sk-container-id-2 div.sk-label:hover label.sk-toggleable__label {background-color: #d4ebff;}#sk-container-id-2 div.sk-serial::before {content: \"\";position: absolute;border-left: 1px solid gray;box-sizing: border-box;top: 0;bottom: 0;left: 50%;z-index: 0;}#sk-container-id-2 div.sk-serial {display: flex;flex-direction: column;align-items: center;background-color: white;padding-right: 0.2em;padding-left: 0.2em;position: relative;}#sk-container-id-2 div.sk-item {position: relative;z-index: 1;}#sk-container-id-2 div.sk-parallel {display: flex;align-items: stretch;justify-content: center;background-color: white;position: relative;}#sk-container-id-2 div.sk-item::before, #sk-container-id-2 div.sk-parallel-item::before {content: \"\";position: absolute;border-left: 1px solid gray;box-sizing: border-box;top: 0;bottom: 0;left: 50%;z-index: -1;}#sk-container-id-2 div.sk-parallel-item {display: flex;flex-direction: column;z-index: 1;position: relative;background-color: white;}#sk-container-id-2 div.sk-parallel-item:first-child::after {align-self: flex-end;width: 50%;}#sk-container-id-2 div.sk-parallel-item:last-child::after {align-self: flex-start;width: 50%;}#sk-container-id-2 div.sk-parallel-item:only-child::after {width: 0;}#sk-container-id-2 div.sk-dashed-wrapped {border: 1px dashed gray;margin: 0 0.4em 0.5em 0.4em;box-sizing: border-box;padding-bottom: 0.4em;background-color: white;}#sk-container-id-2 div.sk-label label {font-family: monospace;font-weight: bold;display: inline-block;line-height: 1.2em;}#sk-container-id-2 div.sk-label-container {text-align: center;}#sk-container-id-2 div.sk-container {/* jupyter's `normalize.less` sets `[hidden] { display: none; }` but bootstrap.min.css set `[hidden] { display: none !important; }` so we also need the `!important` here to be able to override the default hidden behavior on the sphinx rendered scikit-learn.org. See: https://github.com/scikit-learn/scikit-learn/issues/21755 */display: inline-block !important;position: relative;}#sk-container-id-2 div.sk-text-repr-fallback {display: none;}</style><div id=\"sk-container-id-2\" class=\"sk-top-container\"><div class=\"sk-text-repr-fallback\"><pre>DecisionTreeRegressor()</pre><b>In a Jupyter environment, please rerun this cell to show the HTML representation or trust the notebook. <br />On GitHub, the HTML representation is unable to render, please try loading this page with nbviewer.org.</b></div><div class=\"sk-container\" hidden><div class=\"sk-item\"><div class=\"sk-estimator sk-toggleable\"><input class=\"sk-toggleable__control sk-hidden--visually\" id=\"sk-estimator-id-2\" type=\"checkbox\" checked><label for=\"sk-estimator-id-2\" class=\"sk-toggleable__label sk-toggleable__label-arrow\">DecisionTreeRegressor</label><div class=\"sk-toggleable__content\"><pre>DecisionTreeRegressor()</pre></div></div></div></div></div>"
      ],
      "text/plain": [
       "DecisionTreeRegressor()"
      ]
     },
     "execution_count": 50,
     "metadata": {},
     "output_type": "execute_result"
    }
   ],
   "source": [
    "dtr = DecisionTreeRegressor()\n",
    "dtr.fit(X2,y2)"
   ]
  },
  {
   "cell_type": "code",
   "execution_count": 51,
   "metadata": {},
   "outputs": [
    {
     "data": {
      "text/plain": [
       "0.7019807528158661"
      ]
     },
     "execution_count": 51,
     "metadata": {},
     "output_type": "execute_result"
    }
   ],
   "source": [
    "dtr.score(X_train,y_train)"
   ]
  },
  {
   "cell_type": "code",
   "execution_count": 52,
   "metadata": {},
   "outputs": [
    {
     "data": {
      "text/plain": [
       "0.6629155144195495"
      ]
     },
     "execution_count": 52,
     "metadata": {},
     "output_type": "execute_result"
    }
   ],
   "source": [
    "dtr.score(X_test,y_test)"
   ]
  },
  {
   "cell_type": "markdown",
   "metadata": {},
   "source": [
    "from sklearn import tree\n",
    "tree.plot_tree(dtr, \n",
    "                   feature_names=tre.feature_names,  \n",
    "                   class_names=dtr.target_names,\n",
    "                   filled=True)"
   ]
  },
  {
   "cell_type": "code",
   "execution_count": 53,
   "metadata": {},
   "outputs": [
    {
     "data": {
      "text/plain": [
       "1.2898692407480101"
      ]
     },
     "execution_count": 53,
     "metadata": {},
     "output_type": "execute_result"
    }
   ],
   "source": [
    "mean_squared_error(y, dtr.predict(X2), squared=False)"
   ]
  },
  {
   "cell_type": "code",
   "execution_count": 81,
   "metadata": {},
   "outputs": [
    {
     "data": {
      "text/plain": [
       "array([0.32      , 6.41      , 3.66      , 3.96      , 6.85      ,\n",
       "       7.455     , 8.71      , 7.945     , 2.87      , 5.2       ,\n",
       "       5.99      , 1.99      , 7.085     , 7.60333333, 4.335     ,\n",
       "       4.51      , 3.47      , 7.73      , 6.78      , 7.085     ,\n",
       "       4.685     , 5.47      , 3.18      , 3.525     , 5.89      ,\n",
       "       7.65      , 1.35      , 1.67      , 7.76      , 5.005     ,\n",
       "       6.72      , 4.685     , 8.29      , 5.07      , 2.65      ,\n",
       "       7.38      , 7.455     , 4.325     , 6.365     , 5.69      ,\n",
       "       2.93      , 5.06      , 1.92      , 7.96      , 3.01      ,\n",
       "       4.435     , 5.55      , 6.14      , 5.005     , 3.4       ,\n",
       "       4.47      , 5.2       , 8.8       , 6.43      , 7.035     ,\n",
       "       4.68      , 2.32      , 2.56      , 6.365     , 2.81      ,\n",
       "       5.2       , 5.28      , 6.64      , 9.52      , 4.495     ,\n",
       "       6.71      , 1.96      , 4.335     , 9.13      , 5.2       ,\n",
       "       7.945     , 3.87666667, 4.685     , 3.17      , 3.08      ,\n",
       "       5.05      , 3.83      , 3.62      , 3.87666667, 7.37      ,\n",
       "       5.07      , 6.19      , 5.43      , 4.255     , 7.31      ,\n",
       "       5.47      , 4.435     , 4.325     , 7.76      , 3.23      ,\n",
       "       7.7       , 4.53      , 7.015     , 5.25      , 6.23      ,\n",
       "       6.35      , 4.255     , 5.04      , 3.51      , 0.74      ,\n",
       "       6.52      , 3.525     , 5.215     , 9.61      , 2.5       ,\n",
       "       3.73      , 4.23      , 7.035     , 9.81      , 3.12      ,\n",
       "       4.685     , 6.91      , 5.97      , 7.015     , 5.92      ,\n",
       "       6.73      , 7.04      , 6.08333333, 3.65      , 6.45      ,\n",
       "       2.28      , 3.1       , 2.08      , 3.92      , 6.33      ,\n",
       "       4.53      , 6.585     , 7.07      , 7.75      , 7.05      ,\n",
       "       8.03      , 6.08333333, 6.47      , 3.785     , 6.585     ,\n",
       "       7.60333333, 7.60333333, 5.215     , 8.99      , 3.47      ,\n",
       "       3.785     , 6.67      , 6.14      , 7.16      , 5.51      ,\n",
       "       4.35      , 1.66      , 4.55      , 5.42      , 5.89      ,\n",
       "       7.85      , 8.91      , 3.92      , 6.08333333, 3.87666667,\n",
       "       4.495     , 5.8       , 2.92      ])"
      ]
     },
     "execution_count": 81,
     "metadata": {},
     "output_type": "execute_result"
    }
   ],
   "source": [
    "dtr.predict(X2) # predictions by country"
   ]
  },
  {
   "cell_type": "code",
   "execution_count": 71,
   "metadata": {},
   "outputs": [
    {
     "data": {
      "text/plain": [
       "5.349303797468354"
      ]
     },
     "execution_count": 71,
     "metadata": {},
     "output_type": "execute_result"
    }
   ],
   "source": [
    "targets['democracy_eiu'].mean()"
   ]
  },
  {
   "cell_type": "code",
   "execution_count": 74,
   "metadata": {},
   "outputs": [
    {
     "data": {
      "text/plain": [
       "array([[ 25032],\n",
       "       [  4639],\n",
       "       [ 33914],\n",
       "       [ 17022],\n",
       "       [101441],\n",
       "       [ 15865],\n",
       "       [  9889],\n",
       "       [  4810],\n",
       "       [ 80417],\n",
       "       [ 47010],\n",
       "       [  4102],\n",
       "       [  8907],\n",
       "       [ 28475],\n",
       "       [ 24716],\n",
       "       [  8562],\n",
       "       [  8521],\n",
       "       [ 18560],\n",
       "       [ 26074],\n",
       "       [  1577],\n",
       "       [ 15134],\n",
       "       [  6148],\n",
       "       [ 32186],\n",
       "       [  8003],\n",
       "       [ 17332],\n",
       "       [ 23422],\n",
       "       [  4313],\n",
       "       [  5600],\n",
       "       [ 10202],\n",
       "       [  2127],\n",
       "       [ 12506],\n",
       "       [  5154],\n",
       "       [ 30338],\n",
       "       [ 28995],\n",
       "       [  1689],\n",
       "       [ 45029],\n",
       "       [ 22391],\n",
       "       [ 13198],\n",
       "       [ 37194],\n",
       "       [  2238],\n",
       "       [ 15759],\n",
       "       [  3353],\n",
       "       [ 21995],\n",
       "       [133772],\n",
       "       [  5907],\n",
       "       [  1287],\n",
       "       [ 30357],\n",
       "       [ 13674],\n",
       "       [  5847],\n",
       "       [ 20202],\n",
       "       [  2123]], dtype=int64)"
      ]
     },
     "execution_count": 74,
     "metadata": {},
     "output_type": "execute_result"
    }
   ],
   "source": [
    "np.array(prisonsorted['Total state prison population']).reshape(-1,1) # USA states"
   ]
  },
  {
   "cell_type": "code",
   "execution_count": 77,
   "metadata": {},
   "outputs": [
    {
     "data": {
      "text/plain": [
       "array([[ 94129.],\n",
       "       [195248.],\n",
       "       [199455.],\n",
       "       [201953.],\n",
       "       [208784.],\n",
       "       [213650.],\n",
       "       [209188.],\n",
       "       [220324.],\n",
       "       [214449.],\n",
       "       [202617.],\n",
       "       [211731.],\n",
       "       [178635.],\n",
       "       [190093.],\n",
       "       [184688.],\n",
       "       [187108.],\n",
       "       [198148.],\n",
       "       [206703.]])"
      ]
     },
     "execution_count": 77,
     "metadata": {},
     "output_type": "execute_result"
    }
   ],
   "source": [
    "np.array(totals['VALUE']).reshape(-1,1) # mexico numbers"
   ]
  },
  {
   "cell_type": "code",
   "execution_count": 54,
   "metadata": {},
   "outputs": [
    {
     "data": {
      "text/plain": [
       "array([7.85, 7.85, 7.85, 7.85, 7.85, 7.85, 7.85, 7.85, 7.85, 7.85, 7.85,\n",
       "       7.85, 7.85, 7.85, 7.85, 7.85, 7.85, 7.85, 7.85, 7.85, 7.85, 7.85,\n",
       "       7.85, 7.85, 7.85, 7.85, 7.85, 7.85, 7.85, 7.85, 7.85, 7.85, 7.85,\n",
       "       7.85, 7.85, 7.85, 7.85, 7.85, 7.85, 7.85, 7.85, 7.85, 7.85, 7.85,\n",
       "       7.85, 7.85, 7.85, 7.85, 7.85, 7.85])"
      ]
     },
     "execution_count": 54,
     "metadata": {},
     "output_type": "execute_result"
    }
   ],
   "source": [
    "dtr.predict(np.array(prisonsorted['Total state prison population']).reshape(-1,1)) #total 100k it's predicting all the same makes sense let's try something different, also the united states is 7.85 so it understands this is the United States, or is guesssing that all preditions are the United States"
   ]
  },
  {
   "cell_type": "code",
   "execution_count": 87,
   "metadata": {},
   "outputs": [
    {
     "data": {
      "text/plain": [
       "Text(0.5, 1.0, 'predictions based on country data')"
      ]
     },
     "execution_count": 87,
     "metadata": {},
     "output_type": "execute_result"
    },
    {
     "data": {
      "image/png": "[encoded data removed]",
      "text/plain": [
       "<Figure size 640x480 with 1 Axes>"
      ]
     },
     "metadata": {},
     "output_type": "display_data"
    }
   ],
   "source": [
    "plt.hist(dtr.predict(X2))\n",
    "plt.title('predictions based on country data')"
   ]
  },
  {
   "cell_type": "code",
   "execution_count": 88,
   "metadata": {},
   "outputs": [
    {
     "data": {
      "text/plain": [
       "Text(0.5, 1.0, '50 states democracy score predictions, based on prison')"
      ]
     },
     "execution_count": 88,
     "metadata": {},
     "output_type": "execute_result"
    },
    {
     "data": {
      "image/png": "[encoded data removed]",
      "text/plain": [
       "<Figure size 640x480 with 1 Axes>"
      ]
     },
     "metadata": {},
     "output_type": "display_data"
    }
   ],
   "source": [
    "plt.hist(dtr.predict(np.array(prisonsorted['Total state prison population']).reshape(-1,1)))\n",
    "plt.title('50 states democracy score predictions, based on prison')"
   ]
  },
  {
   "cell_type": "code",
   "execution_count": 84,
   "metadata": {},
   "outputs": [
    {
     "data": {
      "text/plain": [
       "Text(0.5, 1.0, 'total decision tree democracy predictions by mexico by year')"
      ]
     },
     "execution_count": 84,
     "metadata": {},
     "output_type": "execute_result"
    },
    {
     "data": {
      "image/png": "[encoded data removed]",
      "text/plain": [
       "<Figure size 640x480 with 1 Axes>"
      ]
     },
     "metadata": {},
     "output_type": "display_data"
    }
   ],
   "source": [
    "plt.hist(dtr.predict(np.array(totals['VALUE']).reshape(-1,1)))\n",
    "plt.title('total decision tree democracy predictions by mexico by year') # mexico predictions, allright for mexico's population"
   ]
  },
  {
   "cell_type": "code",
   "execution_count": 55,
   "metadata": {},
   "outputs": [],
   "source": [
    "X3 = np.array(targets['incarcerationRatesByCountry_totIncarcerated']).reshape(-1,1)\n",
    "y3 = np.array(targets['democracy_eiu']).reshape(-1,1)"
   ]
  },
  {
   "cell_type": "code",
   "execution_count": 56,
   "metadata": {},
   "outputs": [],
   "source": [
    "X3_train, X3_test, y3_train, y3_test = train_test_split(\n",
    "...     X3, y3, test_size=0.2, random_state=42)"
   ]
  },
  {
   "cell_type": "code",
   "execution_count": 57,
   "metadata": {},
   "outputs": [],
   "source": [
    "dtr2 = DecisionTreeRegressor()"
   ]
  },
  {
   "cell_type": "code",
   "execution_count": 58,
   "metadata": {},
   "outputs": [
    {
     "data": {
      "text/html": [
       "<style>#sk-container-id-3 {color: black;}#sk-container-id-3 pre{padding: 0;}#sk-container-id-3 div.sk-toggleable {background-color: white;}#sk-container-id-3 label.sk-toggleable__label {cursor: pointer;display: block;width: 100%;margin-bottom: 0;padding: 0.3em;box-sizing: border-box;text-align: center;}#sk-container-id-3 label.sk-toggleable__label-arrow:before {content: \"▸\";float: left;margin-right: 0.25em;color: #696969;}#sk-container-id-3 label.sk-toggleable__label-arrow:hover:before {color: black;}#sk-container-id-3 div.sk-estimator:hover label.sk-toggleable__label-arrow:before {color: black;}#sk-container-id-3 div.sk-toggleable__content {max-height: 0;max-width: 0;overflow: hidden;text-align: left;background-color: #f0f8ff;}#sk-container-id-3 div.sk-toggleable__content pre {margin: 0.2em;color: black;border-radius: 0.25em;background-color: #f0f8ff;}#sk-container-id-3 input.sk-toggleable__control:checked~div.sk-toggleable__content {max-height: 200px;max-width: 100%;overflow: auto;}#sk-container-id-3 input.sk-toggleable__control:checked~label.sk-toggleable__label-arrow:before {content: \"▾\";}#sk-container-id-3 div.sk-estimator input.sk-toggleable__control:checked~label.sk-toggleable__label {background-color: #d4ebff;}#sk-container-id-3 div.sk-label input.sk-toggleable__control:checked~label.sk-toggleable__label {background-color: #d4ebff;}#sk-container-id-3 input.sk-hidden--visually {border: 0;clip: rect(1px 1px 1px 1px);clip: rect(1px, 1px, 1px, 1px);height: 1px;margin: -1px;overflow: hidden;padding: 0;position: absolute;width: 1px;}#sk-container-id-3 div.sk-estimator {font-family: monospace;background-color: #f0f8ff;border: 1px dotted black;border-radius: 0.25em;box-sizing: border-box;margin-bottom: 0.5em;}#sk-container-id-3 div.sk-estimator:hover {background-color: #d4ebff;}#sk-container-id-3 div.sk-parallel-item::after {content: \"\";width: 100%;border-bottom: 1px solid gray;flex-grow: 1;}#sk-container-id-3 div.sk-label:hover label.sk-toggleable__label {background-color: #d4ebff;}#sk-container-id-3 div.sk-serial::before {content: \"\";position: absolute;border-left: 1px solid gray;box-sizing: border-box;top: 0;bottom: 0;left: 50%;z-index: 0;}#sk-container-id-3 div.sk-serial {display: flex;flex-direction: column;align-items: center;background-color: white;padding-right: 0.2em;padding-left: 0.2em;position: relative;}#sk-container-id-3 div.sk-item {position: relative;z-index: 1;}#sk-container-id-3 div.sk-parallel {display: flex;align-items: stretch;justify-content: center;background-color: white;position: relative;}#sk-container-id-3 div.sk-item::before, #sk-container-id-3 div.sk-parallel-item::before {content: \"\";position: absolute;border-left: 1px solid gray;box-sizing: border-box;top: 0;bottom: 0;left: 50%;z-index: -1;}#sk-container-id-3 div.sk-parallel-item {display: flex;flex-direction: column;z-index: 1;position: relative;background-color: white;}#sk-container-id-3 div.sk-parallel-item:first-child::after {align-self: flex-end;width: 50%;}#sk-container-id-3 div.sk-parallel-item:last-child::after {align-self: flex-start;width: 50%;}#sk-container-id-3 div.sk-parallel-item:only-child::after {width: 0;}#sk-container-id-3 div.sk-dashed-wrapped {border: 1px dashed gray;margin: 0 0.4em 0.5em 0.4em;box-sizing: border-box;padding-bottom: 0.4em;background-color: white;}#sk-container-id-3 div.sk-label label {font-family: monospace;font-weight: bold;display: inline-block;line-height: 1.2em;}#sk-container-id-3 div.sk-label-container {text-align: center;}#sk-container-id-3 div.sk-container {/* jupyter's `normalize.less` sets `[hidden] { display: none; }` but bootstrap.min.css set `[hidden] { display: none !important; }` so we also need the `!important` here to be able to override the default hidden behavior on the sphinx rendered scikit-learn.org. See: https://github.com/scikit-learn/scikit-learn/issues/21755 */display: inline-block !important;position: relative;}#sk-container-id-3 div.sk-text-repr-fallback {display: none;}</style><div id=\"sk-container-id-3\" class=\"sk-top-container\"><div class=\"sk-text-repr-fallback\"><pre>DecisionTreeRegressor()</pre><b>In a Jupyter environment, please rerun this cell to show the HTML representation or trust the notebook. <br />On GitHub, the HTML representation is unable to render, please try loading this page with nbviewer.org.</b></div><div class=\"sk-container\" hidden><div class=\"sk-item\"><div class=\"sk-estimator sk-toggleable\"><input class=\"sk-toggleable__control sk-hidden--visually\" id=\"sk-estimator-id-3\" type=\"checkbox\" checked><label for=\"sk-estimator-id-3\" class=\"sk-toggleable__label sk-toggleable__label-arrow\">DecisionTreeRegressor</label><div class=\"sk-toggleable__content\"><pre>DecisionTreeRegressor()</pre></div></div></div></div></div>"
      ],
      "text/plain": [
       "DecisionTreeRegressor()"
      ]
     },
     "execution_count": 58,
     "metadata": {},
     "output_type": "execute_result"
    }
   ],
   "source": [
    "dtr2.fit(X3_train,y3_train)"
   ]
  },
  {
   "cell_type": "code",
   "execution_count": 59,
   "metadata": {},
   "outputs": [
    {
     "data": {
      "text/plain": [
       "0.9924375265913172"
      ]
     },
     "execution_count": 59,
     "metadata": {},
     "output_type": "execute_result"
    }
   ],
   "source": [
    "dtr2.score(X3_train,y3_train)"
   ]
  },
  {
   "cell_type": "code",
   "execution_count": 60,
   "metadata": {},
   "outputs": [
    {
     "data": {
      "text/plain": [
       "-1.4817010440769791"
      ]
     },
     "execution_count": 60,
     "metadata": {},
     "output_type": "execute_result"
    }
   ],
   "source": [
    "dtr.score(X3_test,y3_test) #garbage"
   ]
  },
  {
   "cell_type": "markdown",
   "metadata": {},
   "source": [
    "Linear Model is worse than a horizontal line linear relationship probably incorrect"
   ]
  },
  {
   "cell_type": "code",
   "execution_count": 61,
   "metadata": {},
   "outputs": [
    {
     "data": {
      "text/plain": [
       "<matplotlib.collections.PathCollection at 0x210184ed450>"
      ]
     },
     "execution_count": 61,
     "metadata": {},
     "output_type": "execute_result"
    },
    {
     "data": {
      "image/png": "[encoded data removed]",
      "text/plain": [
       "<Figure size 640x480 with 1 Axes>"
      ]
     },
     "metadata": {},
     "output_type": "display_data"
    }
   ],
   "source": [
    "plt.scatter(targets['incarcerationRatesByCountry_percMale'], targets['democracy_eiu'])"
   ]
  },
  {
   "cell_type": "code",
   "execution_count": 62,
   "metadata": {},
   "outputs": [
    {
     "data": {
      "text/plain": [
       "(array([ 2., 15., 23., 15., 14., 20., 25., 17., 15., 12.]),\n",
       " array([0.32 , 1.269, 2.218, 3.167, 4.116, 5.065, 6.014, 6.963, 7.912,\n",
       "        8.861, 9.81 ]),\n",
       " <BarContainer object of 10 artists>)"
      ]
     },
     "execution_count": 62,
     "metadata": {},
     "output_type": "execute_result"
    },
    {
     "data": {
      "image/png": "[encoded data removed]",
      "text/plain": [
       "<Figure size 640x480 with 1 Axes>"
      ]
     },
     "metadata": {},
     "output_type": "display_data"
    }
   ],
   "source": [
    "plt.hist(targets['democracy_eiu'])"
   ]
  },
  {
   "cell_type": "code",
   "execution_count": 63,
   "metadata": {},
   "outputs": [
    {
     "data": {
      "text/plain": [
       "<matplotlib.collections.PathCollection at 0x210188d3d50>"
      ]
     },
     "execution_count": 63,
     "metadata": {},
     "output_type": "execute_result"
    },
    {
     "data": {
      "image/png": "[encoded data removed]",
      "text/plain": [
       "<Figure size 640x480 with 1 Axes>"
      ]
     },
     "metadata": {},
     "output_type": "display_data"
    }
   ],
   "source": [
    "plt.scatter(targets['incarcerationRatesByCountry_percMale'], targets['democracy_eiu'])"
   ]
  },
  {
   "cell_type": "markdown",
   "metadata": {},
   "source": [
    "So by my modeling self-reported country data on male incarceration/total incarceration and having a high democracy index are basically un-correlated, so we're going to have to dig deeper and find more parameters than this to answer our project statement."
   ]
  },
  {
   "cell_type": "code",
   "execution_count": null,
   "metadata": {},
   "outputs": [],
   "source": [
    "#let's try to fix the per 100k population model, I'm going to make a state population estimate and load it in https://www.census.gov/data/tables/time-series/demo/popest/2020s-state-total.html"
   ]
  },
  {
   "cell_type": "code",
   "execution_count": 90,
   "metadata": {},
   "outputs": [
    {
     "data": {
      "text/html": [
       "<div>\n",
       "<style scoped>\n",
       "    .dataframe tbody tr th:only-of-type {\n",
       "        vertical-align: middle;\n",
       "    }\n",
       "\n",
       "    .dataframe tbody tr th {\n",
       "        vertical-align: top;\n",
       "    }\n",
       "\n",
       "    .dataframe thead th {\n",
       "        text-align: right;\n",
       "    }\n",
       "</style>\n",
       "<table border=\"1\" class=\"dataframe\">\n",
       "  <thead>\n",
       "    <tr style=\"text-align: right;\">\n",
       "      <th></th>\n",
       "      <th>Code</th>\n",
       "      <th>Year</th>\n",
       "      <th>democracy_eiu</th>\n",
       "      <th>incarcerationRatesByCountry_ratePer100k</th>\n",
       "      <th>incarcerationRatesByCountry_totIncarcerated</th>\n",
       "      <th>incarcerationRatesByCountry_percMale</th>\n",
       "      <th>incarcerationRatesByCountry_percFemale</th>\n",
       "    </tr>\n",
       "    <tr>\n",
       "      <th>Entity</th>\n",
       "      <th></th>\n",
       "      <th></th>\n",
       "      <th></th>\n",
       "      <th></th>\n",
       "      <th></th>\n",
       "      <th></th>\n",
       "      <th></th>\n",
       "    </tr>\n",
       "  </thead>\n",
       "  <tbody>\n",
       "    <tr>\n",
       "      <th>Afghanistan</th>\n",
       "      <td>AFG</td>\n",
       "      <td>2022</td>\n",
       "      <td>0.32</td>\n",
       "      <td>77.0</td>\n",
       "      <td>28240.0</td>\n",
       "      <td>0.97</td>\n",
       "      <td>0.03</td>\n",
       "    </tr>\n",
       "    <tr>\n",
       "      <th>Albania</th>\n",
       "      <td>ALB</td>\n",
       "      <td>2022</td>\n",
       "      <td>6.41</td>\n",
       "      <td>179.0</td>\n",
       "      <td>5042.0</td>\n",
       "      <td>0.98</td>\n",
       "      <td>0.02</td>\n",
       "    </tr>\n",
       "    <tr>\n",
       "      <th>Algeria</th>\n",
       "      <td>DZA</td>\n",
       "      <td>2022</td>\n",
       "      <td>3.66</td>\n",
       "      <td>153.0</td>\n",
       "      <td>65000.0</td>\n",
       "      <td>0.99</td>\n",
       "      <td>0.02</td>\n",
       "    </tr>\n",
       "    <tr>\n",
       "      <th>Angola</th>\n",
       "      <td>AGO</td>\n",
       "      <td>2022</td>\n",
       "      <td>3.96</td>\n",
       "      <td>89.0</td>\n",
       "      <td>26000.0</td>\n",
       "      <td>0.97</td>\n",
       "      <td>0.03</td>\n",
       "    </tr>\n",
       "    <tr>\n",
       "      <th>Argentina</th>\n",
       "      <td>ARG</td>\n",
       "      <td>2022</td>\n",
       "      <td>6.85</td>\n",
       "      <td>243.0</td>\n",
       "      <td>109405.0</td>\n",
       "      <td>0.96</td>\n",
       "      <td>0.04</td>\n",
       "    </tr>\n",
       "    <tr>\n",
       "      <th>...</th>\n",
       "      <td>...</td>\n",
       "      <td>...</td>\n",
       "      <td>...</td>\n",
       "      <td>...</td>\n",
       "      <td>...</td>\n",
       "      <td>...</td>\n",
       "      <td>...</td>\n",
       "    </tr>\n",
       "    <tr>\n",
       "      <th>Venezuela</th>\n",
       "      <td>VEN</td>\n",
       "      <td>2022</td>\n",
       "      <td>2.23</td>\n",
       "      <td>113.0</td>\n",
       "      <td>37543.0</td>\n",
       "      <td>0.94</td>\n",
       "      <td>0.06</td>\n",
       "    </tr>\n",
       "    <tr>\n",
       "      <th>Vietnam</th>\n",
       "      <td>VNM</td>\n",
       "      <td>2022</td>\n",
       "      <td>2.73</td>\n",
       "      <td>130.0</td>\n",
       "      <td>125697.0</td>\n",
       "      <td>0.88</td>\n",
       "      <td>0.12</td>\n",
       "    </tr>\n",
       "    <tr>\n",
       "      <th>Yemen</th>\n",
       "      <td>YEM</td>\n",
       "      <td>2022</td>\n",
       "      <td>1.95</td>\n",
       "      <td>35.0</td>\n",
       "      <td>9719.0</td>\n",
       "      <td>0.99</td>\n",
       "      <td>0.01</td>\n",
       "    </tr>\n",
       "    <tr>\n",
       "      <th>Zambia</th>\n",
       "      <td>ZMB</td>\n",
       "      <td>2022</td>\n",
       "      <td>5.80</td>\n",
       "      <td>123.0</td>\n",
       "      <td>22823.0</td>\n",
       "      <td>0.97</td>\n",
       "      <td>0.03</td>\n",
       "    </tr>\n",
       "    <tr>\n",
       "      <th>Zimbabwe</th>\n",
       "      <td>ZWE</td>\n",
       "      <td>2022</td>\n",
       "      <td>2.92</td>\n",
       "      <td>115.0</td>\n",
       "      <td>20407.0</td>\n",
       "      <td>0.98</td>\n",
       "      <td>0.02</td>\n",
       "    </tr>\n",
       "  </tbody>\n",
       "</table>\n",
       "<p>158 rows × 7 columns</p>\n",
       "</div>"
      ],
      "text/plain": [
       "            Code  Year  democracy_eiu  \\\n",
       "Entity                                  \n",
       "Afghanistan  AFG  2022           0.32   \n",
       "Albania      ALB  2022           6.41   \n",
       "Algeria      DZA  2022           3.66   \n",
       "Angola       AGO  2022           3.96   \n",
       "Argentina    ARG  2022           6.85   \n",
       "...          ...   ...            ...   \n",
       "Venezuela    VEN  2022           2.23   \n",
       "Vietnam      VNM  2022           2.73   \n",
       "Yemen        YEM  2022           1.95   \n",
       "Zambia       ZMB  2022           5.80   \n",
       "Zimbabwe     ZWE  2022           2.92   \n",
       "\n",
       "             incarcerationRatesByCountry_ratePer100k  \\\n",
       "Entity                                                 \n",
       "Afghanistan                                     77.0   \n",
       "Albania                                        179.0   \n",
       "Algeria                                        153.0   \n",
       "Angola                                          89.0   \n",
       "Argentina                                      243.0   \n",
       "...                                              ...   \n",
       "Venezuela                                      113.0   \n",
       "Vietnam                                        130.0   \n",
       "Yemen                                           35.0   \n",
       "Zambia                                         123.0   \n",
       "Zimbabwe                                       115.0   \n",
       "\n",
       "             incarcerationRatesByCountry_totIncarcerated  \\\n",
       "Entity                                                     \n",
       "Afghanistan                                      28240.0   \n",
       "Albania                                           5042.0   \n",
       "Algeria                                          65000.0   \n",
       "Angola                                           26000.0   \n",
       "Argentina                                       109405.0   \n",
       "...                                                  ...   \n",
       "Venezuela                                        37543.0   \n",
       "Vietnam                                         125697.0   \n",
       "Yemen                                             9719.0   \n",
       "Zambia                                           22823.0   \n",
       "Zimbabwe                                         20407.0   \n",
       "\n",
       "             incarcerationRatesByCountry_percMale  \\\n",
       "Entity                                              \n",
       "Afghanistan                                  0.97   \n",
       "Albania                                      0.98   \n",
       "Algeria                                      0.99   \n",
       "Angola                                       0.97   \n",
       "Argentina                                    0.96   \n",
       "...                                           ...   \n",
       "Venezuela                                    0.94   \n",
       "Vietnam                                      0.88   \n",
       "Yemen                                        0.99   \n",
       "Zambia                                       0.97   \n",
       "Zimbabwe                                     0.98   \n",
       "\n",
       "             incarcerationRatesByCountry_percFemale  \n",
       "Entity                                               \n",
       "Afghanistan                                    0.03  \n",
       "Albania                                        0.02  \n",
       "Algeria                                        0.02  \n",
       "Angola                                         0.03  \n",
       "Argentina                                      0.04  \n",
       "...                                             ...  \n",
       "Venezuela                                      0.06  \n",
       "Vietnam                                        0.12  \n",
       "Yemen                                          0.01  \n",
       "Zambia                                         0.03  \n",
       "Zimbabwe                                       0.02  \n",
       "\n",
       "[158 rows x 7 columns]"
      ]
     },
     "execution_count": 90,
     "metadata": {},
     "output_type": "execute_result"
    }
   ],
   "source": [
    "targets"
   ]
  },
  {
   "cell_type": "code",
   "execution_count": 96,
   "metadata": {},
   "outputs": [
    {
     "data": {
      "text/html": [
       "<div>\n",
       "<style scoped>\n",
       "    .dataframe tbody tr th:only-of-type {\n",
       "        vertical-align: middle;\n",
       "    }\n",
       "\n",
       "    .dataframe tbody tr th {\n",
       "        vertical-align: top;\n",
       "    }\n",
       "\n",
       "    .dataframe thead th {\n",
       "        text-align: right;\n",
       "    }\n",
       "</style>\n",
       "<table border=\"1\" class=\"dataframe\">\n",
       "  <thead>\n",
       "    <tr style=\"text-align: right;\">\n",
       "      <th></th>\n",
       "      <th>State</th>\n",
       "      <th>Total state prison population</th>\n",
       "      <th>Male</th>\n",
       "      <th>Female</th>\n",
       "      <th>Under 18</th>\n",
       "      <th>White (non-Hispanic)</th>\n",
       "      <th>Black (non-Hispanic)</th>\n",
       "      <th>Hispanic</th>\n",
       "      <th>American Indian/ Alaska Native (non-Hispanic)</th>\n",
       "      <th>Asian (non-Hispanic)</th>\n",
       "      <th>Native Hawaiian/ Pacific Islander (non-Hispanic)</th>\n",
       "      <th>2 or more races (non-Hispanic)</th>\n",
       "      <th>Some other race (non-Hispanic)</th>\n",
       "      <th>Unknown or not reported</th>\n",
       "      <th>state_code</th>\n",
       "    </tr>\n",
       "  </thead>\n",
       "  <tbody>\n",
       "    <tr>\n",
       "      <th>0</th>\n",
       "      <td>Alabama</td>\n",
       "      <td>25032</td>\n",
       "      <td>22915</td>\n",
       "      <td>2117</td>\n",
       "      <td>0</td>\n",
       "      <td>11470</td>\n",
       "      <td>13353</td>\n",
       "      <td>0</td>\n",
       "      <td>3</td>\n",
       "      <td>4</td>\n",
       "      <td>0</td>\n",
       "      <td>0</td>\n",
       "      <td>202</td>\n",
       "      <td>0</td>\n",
       "      <td>AL</td>\n",
       "    </tr>\n",
       "    <tr>\n",
       "      <th>1</th>\n",
       "      <td>Alaska</td>\n",
       "      <td>4639</td>\n",
       "      <td>4197</td>\n",
       "      <td>442</td>\n",
       "      <td>0</td>\n",
       "      <td>1895</td>\n",
       "      <td>465</td>\n",
       "      <td>125</td>\n",
       "      <td>1855</td>\n",
       "      <td>158</td>\n",
       "      <td>95</td>\n",
       "      <td>0</td>\n",
       "      <td>0</td>\n",
       "      <td>46</td>\n",
       "      <td>AK</td>\n",
       "    </tr>\n",
       "    <tr>\n",
       "      <th>2</th>\n",
       "      <td>Arizona</td>\n",
       "      <td>33914</td>\n",
       "      <td>30794</td>\n",
       "      <td>3120</td>\n",
       "      <td>17</td>\n",
       "      <td>12960</td>\n",
       "      <td>5087</td>\n",
       "      <td>13131</td>\n",
       "      <td>1880</td>\n",
       "      <td>157</td>\n",
       "      <td>0</td>\n",
       "      <td>0</td>\n",
       "      <td>612</td>\n",
       "      <td>87</td>\n",
       "      <td>AZ</td>\n",
       "    </tr>\n",
       "    <tr>\n",
       "      <th>3</th>\n",
       "      <td>Arkansas</td>\n",
       "      <td>17022</td>\n",
       "      <td>15592</td>\n",
       "      <td>1430</td>\n",
       "      <td>5</td>\n",
       "      <td>9547</td>\n",
       "      <td>6771</td>\n",
       "      <td>563</td>\n",
       "      <td>49</td>\n",
       "      <td>48</td>\n",
       "      <td>19</td>\n",
       "      <td>0</td>\n",
       "      <td>23</td>\n",
       "      <td>2</td>\n",
       "      <td>AR</td>\n",
       "    </tr>\n",
       "    <tr>\n",
       "      <th>4</th>\n",
       "      <td>California</td>\n",
       "      <td>101441</td>\n",
       "      <td>97525</td>\n",
       "      <td>3916</td>\n",
       "      <td>0</td>\n",
       "      <td>20137</td>\n",
       "      <td>28710</td>\n",
       "      <td>45999</td>\n",
       "      <td>1161</td>\n",
       "      <td>1162</td>\n",
       "      <td>321</td>\n",
       "      <td>0</td>\n",
       "      <td>3951</td>\n",
       "      <td>0</td>\n",
       "      <td>CA</td>\n",
       "    </tr>\n",
       "    <tr>\n",
       "      <th>5</th>\n",
       "      <td>Colorado</td>\n",
       "      <td>15865</td>\n",
       "      <td>14599</td>\n",
       "      <td>1266</td>\n",
       "      <td>0</td>\n",
       "      <td>6520</td>\n",
       "      <td>2769</td>\n",
       "      <td>4722</td>\n",
       "      <td>542</td>\n",
       "      <td>184</td>\n",
       "      <td>10</td>\n",
       "      <td>0</td>\n",
       "      <td>1025</td>\n",
       "      <td>93</td>\n",
       "      <td>CO</td>\n",
       "    </tr>\n",
       "    <tr>\n",
       "      <th>6</th>\n",
       "      <td>Connecticut</td>\n",
       "      <td>9889</td>\n",
       "      <td>9254</td>\n",
       "      <td>635</td>\n",
       "      <td>41</td>\n",
       "      <td>2778</td>\n",
       "      <td>4208</td>\n",
       "      <td>2824</td>\n",
       "      <td>34</td>\n",
       "      <td>43</td>\n",
       "      <td>0</td>\n",
       "      <td>0</td>\n",
       "      <td>0</td>\n",
       "      <td>2</td>\n",
       "      <td>CT</td>\n",
       "    </tr>\n",
       "    <tr>\n",
       "      <th>7</th>\n",
       "      <td>Delaware</td>\n",
       "      <td>4810</td>\n",
       "      <td>4568</td>\n",
       "      <td>242</td>\n",
       "      <td>0</td>\n",
       "      <td>1551</td>\n",
       "      <td>2952</td>\n",
       "      <td>299</td>\n",
       "      <td>1</td>\n",
       "      <td>6</td>\n",
       "      <td>0</td>\n",
       "      <td>0</td>\n",
       "      <td>0</td>\n",
       "      <td>1</td>\n",
       "      <td>DE</td>\n",
       "    </tr>\n",
       "    <tr>\n",
       "      <th>8</th>\n",
       "      <td>Florida</td>\n",
       "      <td>80417</td>\n",
       "      <td>75404</td>\n",
       "      <td>5013</td>\n",
       "      <td>48</td>\n",
       "      <td>31599</td>\n",
       "      <td>38266</td>\n",
       "      <td>10174</td>\n",
       "      <td>88</td>\n",
       "      <td>18</td>\n",
       "      <td>7</td>\n",
       "      <td>0</td>\n",
       "      <td>262</td>\n",
       "      <td>3</td>\n",
       "      <td>FL</td>\n",
       "    </tr>\n",
       "    <tr>\n",
       "      <th>9</th>\n",
       "      <td>Georgia</td>\n",
       "      <td>47010</td>\n",
       "      <td>43942</td>\n",
       "      <td>3068</td>\n",
       "      <td>0</td>\n",
       "      <td>17159</td>\n",
       "      <td>27715</td>\n",
       "      <td>1945</td>\n",
       "      <td>22</td>\n",
       "      <td>157</td>\n",
       "      <td>0</td>\n",
       "      <td>0</td>\n",
       "      <td>0</td>\n",
       "      <td>12</td>\n",
       "      <td>GA</td>\n",
       "    </tr>\n",
       "    <tr>\n",
       "      <th>10</th>\n",
       "      <td>Hawaii</td>\n",
       "      <td>4102</td>\n",
       "      <td>3669</td>\n",
       "      <td>433</td>\n",
       "      <td>0</td>\n",
       "      <td>915</td>\n",
       "      <td>185</td>\n",
       "      <td>98</td>\n",
       "      <td>21</td>\n",
       "      <td>699</td>\n",
       "      <td>1800</td>\n",
       "      <td>145</td>\n",
       "      <td>0</td>\n",
       "      <td>239</td>\n",
       "      <td>HI</td>\n",
       "    </tr>\n",
       "    <tr>\n",
       "      <th>11</th>\n",
       "      <td>Idaho</td>\n",
       "      <td>8907</td>\n",
       "      <td>7668</td>\n",
       "      <td>1239</td>\n",
       "      <td>0</td>\n",
       "      <td>6419</td>\n",
       "      <td>258</td>\n",
       "      <td>1288</td>\n",
       "      <td>329</td>\n",
       "      <td>43</td>\n",
       "      <td>0</td>\n",
       "      <td>0</td>\n",
       "      <td>107</td>\n",
       "      <td>463</td>\n",
       "      <td>ID</td>\n",
       "    </tr>\n",
       "    <tr>\n",
       "      <th>12</th>\n",
       "      <td>Illinois</td>\n",
       "      <td>28475</td>\n",
       "      <td>27165</td>\n",
       "      <td>1310</td>\n",
       "      <td>0</td>\n",
       "      <td>8849</td>\n",
       "      <td>15204</td>\n",
       "      <td>3671</td>\n",
       "      <td>42</td>\n",
       "      <td>104</td>\n",
       "      <td>0</td>\n",
       "      <td>55</td>\n",
       "      <td>0</td>\n",
       "      <td>550</td>\n",
       "      <td>IL</td>\n",
       "    </tr>\n",
       "    <tr>\n",
       "      <th>13</th>\n",
       "      <td>Indiana</td>\n",
       "      <td>24716</td>\n",
       "      <td>22397</td>\n",
       "      <td>2319</td>\n",
       "      <td>11</td>\n",
       "      <td>14292</td>\n",
       "      <td>7547</td>\n",
       "      <td>992</td>\n",
       "      <td>50</td>\n",
       "      <td>55</td>\n",
       "      <td>9</td>\n",
       "      <td>153</td>\n",
       "      <td>0</td>\n",
       "      <td>1618</td>\n",
       "      <td>IN</td>\n",
       "    </tr>\n",
       "    <tr>\n",
       "      <th>14</th>\n",
       "      <td>Iowa</td>\n",
       "      <td>8562</td>\n",
       "      <td>7859</td>\n",
       "      <td>703</td>\n",
       "      <td>9</td>\n",
       "      <td>5492</td>\n",
       "      <td>2173</td>\n",
       "      <td>605</td>\n",
       "      <td>195</td>\n",
       "      <td>0</td>\n",
       "      <td>0</td>\n",
       "      <td>0</td>\n",
       "      <td>96</td>\n",
       "      <td>1</td>\n",
       "      <td>IA</td>\n",
       "    </tr>\n",
       "    <tr>\n",
       "      <th>15</th>\n",
       "      <td>Kansas</td>\n",
       "      <td>8521</td>\n",
       "      <td>7793</td>\n",
       "      <td>728</td>\n",
       "      <td>0</td>\n",
       "      <td>4781</td>\n",
       "      <td>2335</td>\n",
       "      <td>1118</td>\n",
       "      <td>201</td>\n",
       "      <td>75</td>\n",
       "      <td>0</td>\n",
       "      <td>0</td>\n",
       "      <td>5</td>\n",
       "      <td>6</td>\n",
       "      <td>KS</td>\n",
       "    </tr>\n",
       "    <tr>\n",
       "      <th>16</th>\n",
       "      <td>Kentucky</td>\n",
       "      <td>18560</td>\n",
       "      <td>16493</td>\n",
       "      <td>2067</td>\n",
       "      <td>0</td>\n",
       "      <td>14102</td>\n",
       "      <td>3879</td>\n",
       "      <td>296</td>\n",
       "      <td>18</td>\n",
       "      <td>0</td>\n",
       "      <td>0</td>\n",
       "      <td>220</td>\n",
       "      <td>30</td>\n",
       "      <td>15</td>\n",
       "      <td>KY</td>\n",
       "    </tr>\n",
       "    <tr>\n",
       "      <th>17</th>\n",
       "      <td>Louisiana</td>\n",
       "      <td>26074</td>\n",
       "      <td>24849</td>\n",
       "      <td>1225</td>\n",
       "      <td>7</td>\n",
       "      <td>8863</td>\n",
       "      <td>17097</td>\n",
       "      <td>66</td>\n",
       "      <td>21</td>\n",
       "      <td>25</td>\n",
       "      <td>0</td>\n",
       "      <td>0</td>\n",
       "      <td>2</td>\n",
       "      <td>0</td>\n",
       "      <td>LA</td>\n",
       "    </tr>\n",
       "    <tr>\n",
       "      <th>18</th>\n",
       "      <td>Maine</td>\n",
       "      <td>1577</td>\n",
       "      <td>1466</td>\n",
       "      <td>111</td>\n",
       "      <td>0</td>\n",
       "      <td>1261</td>\n",
       "      <td>175</td>\n",
       "      <td>0</td>\n",
       "      <td>43</td>\n",
       "      <td>7</td>\n",
       "      <td>1</td>\n",
       "      <td>29</td>\n",
       "      <td>0</td>\n",
       "      <td>61</td>\n",
       "      <td>ME</td>\n",
       "    </tr>\n",
       "    <tr>\n",
       "      <th>19</th>\n",
       "      <td>Maryland</td>\n",
       "      <td>15134</td>\n",
       "      <td>14616</td>\n",
       "      <td>518</td>\n",
       "      <td>3</td>\n",
       "      <td>3414</td>\n",
       "      <td>10730</td>\n",
       "      <td>713</td>\n",
       "      <td>76</td>\n",
       "      <td>49</td>\n",
       "      <td>16</td>\n",
       "      <td>0</td>\n",
       "      <td>114</td>\n",
       "      <td>22</td>\n",
       "      <td>MD</td>\n",
       "    </tr>\n",
       "    <tr>\n",
       "      <th>20</th>\n",
       "      <td>Massachusetts</td>\n",
       "      <td>6148</td>\n",
       "      <td>5949</td>\n",
       "      <td>199</td>\n",
       "      <td>0</td>\n",
       "      <td>2561</td>\n",
       "      <td>1792</td>\n",
       "      <td>1567</td>\n",
       "      <td>36</td>\n",
       "      <td>102</td>\n",
       "      <td>0</td>\n",
       "      <td>0</td>\n",
       "      <td>0</td>\n",
       "      <td>90</td>\n",
       "      <td>MA</td>\n",
       "    </tr>\n",
       "    <tr>\n",
       "      <th>21</th>\n",
       "      <td>Michigan</td>\n",
       "      <td>32186</td>\n",
       "      <td>30621</td>\n",
       "      <td>1565</td>\n",
       "      <td>5</td>\n",
       "      <td>13746</td>\n",
       "      <td>16278</td>\n",
       "      <td>632</td>\n",
       "      <td>287</td>\n",
       "      <td>94</td>\n",
       "      <td>7</td>\n",
       "      <td>1104</td>\n",
       "      <td>0</td>\n",
       "      <td>38</td>\n",
       "      <td>MI</td>\n",
       "    </tr>\n",
       "    <tr>\n",
       "      <th>22</th>\n",
       "      <td>Minnesota</td>\n",
       "      <td>8003</td>\n",
       "      <td>7546</td>\n",
       "      <td>457</td>\n",
       "      <td>3</td>\n",
       "      <td>3732</td>\n",
       "      <td>2834</td>\n",
       "      <td>471</td>\n",
       "      <td>756</td>\n",
       "      <td>197</td>\n",
       "      <td>0</td>\n",
       "      <td>0</td>\n",
       "      <td>0</td>\n",
       "      <td>13</td>\n",
       "      <td>MN</td>\n",
       "    </tr>\n",
       "    <tr>\n",
       "      <th>23</th>\n",
       "      <td>Mississippi</td>\n",
       "      <td>17332</td>\n",
       "      <td>16116</td>\n",
       "      <td>1216</td>\n",
       "      <td>20</td>\n",
       "      <td>6419</td>\n",
       "      <td>10649</td>\n",
       "      <td>181</td>\n",
       "      <td>35</td>\n",
       "      <td>39</td>\n",
       "      <td>0</td>\n",
       "      <td>0</td>\n",
       "      <td>0</td>\n",
       "      <td>9</td>\n",
       "      <td>MP</td>\n",
       "    </tr>\n",
       "    <tr>\n",
       "      <th>24</th>\n",
       "      <td>Missouri</td>\n",
       "      <td>23422</td>\n",
       "      <td>21370</td>\n",
       "      <td>2052</td>\n",
       "      <td>2</td>\n",
       "      <td>14606</td>\n",
       "      <td>7843</td>\n",
       "      <td>494</td>\n",
       "      <td>97</td>\n",
       "      <td>61</td>\n",
       "      <td>0</td>\n",
       "      <td>0</td>\n",
       "      <td>0</td>\n",
       "      <td>321</td>\n",
       "      <td>MO</td>\n",
       "    </tr>\n",
       "    <tr>\n",
       "      <th>25</th>\n",
       "      <td>Montana</td>\n",
       "      <td>4313</td>\n",
       "      <td>3702</td>\n",
       "      <td>611</td>\n",
       "      <td>0</td>\n",
       "      <td>3000</td>\n",
       "      <td>116</td>\n",
       "      <td>133</td>\n",
       "      <td>1049</td>\n",
       "      <td>0</td>\n",
       "      <td>0</td>\n",
       "      <td>0</td>\n",
       "      <td>15</td>\n",
       "      <td>0</td>\n",
       "      <td>MT</td>\n",
       "    </tr>\n",
       "    <tr>\n",
       "      <th>26</th>\n",
       "      <td>Nebraska</td>\n",
       "      <td>5600</td>\n",
       "      <td>5200</td>\n",
       "      <td>400</td>\n",
       "      <td>8</td>\n",
       "      <td>2829</td>\n",
       "      <td>1551</td>\n",
       "      <td>824</td>\n",
       "      <td>287</td>\n",
       "      <td>44</td>\n",
       "      <td>4</td>\n",
       "      <td>0</td>\n",
       "      <td>58</td>\n",
       "      <td>3</td>\n",
       "      <td>NE</td>\n",
       "    </tr>\n",
       "    <tr>\n",
       "      <th>27</th>\n",
       "      <td>Nevada</td>\n",
       "      <td>10202</td>\n",
       "      <td>9418</td>\n",
       "      <td>784</td>\n",
       "      <td>0</td>\n",
       "      <td>3730</td>\n",
       "      <td>3100</td>\n",
       "      <td>2764</td>\n",
       "      <td>233</td>\n",
       "      <td>206</td>\n",
       "      <td>113</td>\n",
       "      <td>0</td>\n",
       "      <td>0</td>\n",
       "      <td>56</td>\n",
       "      <td>NV</td>\n",
       "    </tr>\n",
       "    <tr>\n",
       "      <th>28</th>\n",
       "      <td>New Hampshire</td>\n",
       "      <td>2127</td>\n",
       "      <td>1979</td>\n",
       "      <td>148</td>\n",
       "      <td>0</td>\n",
       "      <td>1752</td>\n",
       "      <td>152</td>\n",
       "      <td>125</td>\n",
       "      <td>11</td>\n",
       "      <td>6</td>\n",
       "      <td>1</td>\n",
       "      <td>0</td>\n",
       "      <td>45</td>\n",
       "      <td>35</td>\n",
       "      <td>NH</td>\n",
       "    </tr>\n",
       "    <tr>\n",
       "      <th>29</th>\n",
       "      <td>New Jersey</td>\n",
       "      <td>12506</td>\n",
       "      <td>12052</td>\n",
       "      <td>454</td>\n",
       "      <td>0</td>\n",
       "      <td>2771</td>\n",
       "      <td>7662</td>\n",
       "      <td>1941</td>\n",
       "      <td>13</td>\n",
       "      <td>97</td>\n",
       "      <td>0</td>\n",
       "      <td>0</td>\n",
       "      <td>0</td>\n",
       "      <td>22</td>\n",
       "      <td>NJ</td>\n",
       "    </tr>\n",
       "    <tr>\n",
       "      <th>30</th>\n",
       "      <td>New Mexico</td>\n",
       "      <td>5154</td>\n",
       "      <td>4635</td>\n",
       "      <td>519</td>\n",
       "      <td>0</td>\n",
       "      <td>1385</td>\n",
       "      <td>380</td>\n",
       "      <td>3194</td>\n",
       "      <td>455</td>\n",
       "      <td>12</td>\n",
       "      <td>22</td>\n",
       "      <td>0</td>\n",
       "      <td>0</td>\n",
       "      <td>49</td>\n",
       "      <td>NM</td>\n",
       "    </tr>\n",
       "    <tr>\n",
       "      <th>31</th>\n",
       "      <td>New York</td>\n",
       "      <td>30338</td>\n",
       "      <td>29233</td>\n",
       "      <td>1105</td>\n",
       "      <td>0</td>\n",
       "      <td>7056</td>\n",
       "      <td>14930</td>\n",
       "      <td>7290</td>\n",
       "      <td>289</td>\n",
       "      <td>190</td>\n",
       "      <td>0</td>\n",
       "      <td>0</td>\n",
       "      <td>435</td>\n",
       "      <td>148</td>\n",
       "      <td>NY</td>\n",
       "    </tr>\n",
       "    <tr>\n",
       "      <th>32</th>\n",
       "      <td>North Carolina</td>\n",
       "      <td>28995</td>\n",
       "      <td>26871</td>\n",
       "      <td>2124</td>\n",
       "      <td>16</td>\n",
       "      <td>11776</td>\n",
       "      <td>14620</td>\n",
       "      <td>1725</td>\n",
       "      <td>576</td>\n",
       "      <td>94</td>\n",
       "      <td>0</td>\n",
       "      <td>0</td>\n",
       "      <td>0</td>\n",
       "      <td>204</td>\n",
       "      <td>NC</td>\n",
       "    </tr>\n",
       "    <tr>\n",
       "      <th>33</th>\n",
       "      <td>North Dakota</td>\n",
       "      <td>1689</td>\n",
       "      <td>1489</td>\n",
       "      <td>200</td>\n",
       "      <td>0</td>\n",
       "      <td>982</td>\n",
       "      <td>181</td>\n",
       "      <td>99</td>\n",
       "      <td>418</td>\n",
       "      <td>6</td>\n",
       "      <td>3</td>\n",
       "      <td>0</td>\n",
       "      <td>0</td>\n",
       "      <td>0</td>\n",
       "      <td>ND</td>\n",
       "    </tr>\n",
       "    <tr>\n",
       "      <th>34</th>\n",
       "      <td>Ohio</td>\n",
       "      <td>45029</td>\n",
       "      <td>41443</td>\n",
       "      <td>3586</td>\n",
       "      <td>27</td>\n",
       "      <td>22368</td>\n",
       "      <td>19305</td>\n",
       "      <td>1156</td>\n",
       "      <td>83</td>\n",
       "      <td>72</td>\n",
       "      <td>0</td>\n",
       "      <td>0</td>\n",
       "      <td>446</td>\n",
       "      <td>1599</td>\n",
       "      <td>OH</td>\n",
       "    </tr>\n",
       "    <tr>\n",
       "      <th>35</th>\n",
       "      <td>Oklahoma</td>\n",
       "      <td>22391</td>\n",
       "      <td>20216</td>\n",
       "      <td>2175</td>\n",
       "      <td>8</td>\n",
       "      <td>11109</td>\n",
       "      <td>6087</td>\n",
       "      <td>1871</td>\n",
       "      <td>2099</td>\n",
       "      <td>88</td>\n",
       "      <td>31</td>\n",
       "      <td>0</td>\n",
       "      <td>50</td>\n",
       "      <td>1056</td>\n",
       "      <td>OK</td>\n",
       "    </tr>\n",
       "    <tr>\n",
       "      <th>36</th>\n",
       "      <td>Oregon</td>\n",
       "      <td>13198</td>\n",
       "      <td>12252</td>\n",
       "      <td>946</td>\n",
       "      <td>0</td>\n",
       "      <td>9566</td>\n",
       "      <td>1236</td>\n",
       "      <td>1757</td>\n",
       "      <td>411</td>\n",
       "      <td>183</td>\n",
       "      <td>36</td>\n",
       "      <td>0</td>\n",
       "      <td>0</td>\n",
       "      <td>9</td>\n",
       "      <td>OR</td>\n",
       "    </tr>\n",
       "    <tr>\n",
       "      <th>37</th>\n",
       "      <td>Pennsylvania</td>\n",
       "      <td>37194</td>\n",
       "      <td>35182</td>\n",
       "      <td>2012</td>\n",
       "      <td>14</td>\n",
       "      <td>16427</td>\n",
       "      <td>17125</td>\n",
       "      <td>3333</td>\n",
       "      <td>37</td>\n",
       "      <td>114</td>\n",
       "      <td>0</td>\n",
       "      <td>0</td>\n",
       "      <td>0</td>\n",
       "      <td>158</td>\n",
       "      <td>PA</td>\n",
       "    </tr>\n",
       "    <tr>\n",
       "      <th>38</th>\n",
       "      <td>Rhode Island</td>\n",
       "      <td>2238</td>\n",
       "      <td>2115</td>\n",
       "      <td>123</td>\n",
       "      <td>0</td>\n",
       "      <td>887</td>\n",
       "      <td>643</td>\n",
       "      <td>614</td>\n",
       "      <td>21</td>\n",
       "      <td>30</td>\n",
       "      <td>0</td>\n",
       "      <td>0</td>\n",
       "      <td>39</td>\n",
       "      <td>4</td>\n",
       "      <td>RI</td>\n",
       "    </tr>\n",
       "    <tr>\n",
       "      <th>39</th>\n",
       "      <td>South Carolina</td>\n",
       "      <td>15759</td>\n",
       "      <td>14721</td>\n",
       "      <td>1038</td>\n",
       "      <td>1</td>\n",
       "      <td>5894</td>\n",
       "      <td>9285</td>\n",
       "      <td>427</td>\n",
       "      <td>25</td>\n",
       "      <td>22</td>\n",
       "      <td>0</td>\n",
       "      <td>0</td>\n",
       "      <td>104</td>\n",
       "      <td>2</td>\n",
       "      <td>SC</td>\n",
       "    </tr>\n",
       "    <tr>\n",
       "      <th>40</th>\n",
       "      <td>South Dakota</td>\n",
       "      <td>3353</td>\n",
       "      <td>2892</td>\n",
       "      <td>461</td>\n",
       "      <td>0</td>\n",
       "      <td>1730</td>\n",
       "      <td>262</td>\n",
       "      <td>134</td>\n",
       "      <td>1189</td>\n",
       "      <td>26</td>\n",
       "      <td>2</td>\n",
       "      <td>0</td>\n",
       "      <td>10</td>\n",
       "      <td>0</td>\n",
       "      <td>SD</td>\n",
       "    </tr>\n",
       "    <tr>\n",
       "      <th>41</th>\n",
       "      <td>Tennessee</td>\n",
       "      <td>21995</td>\n",
       "      <td>19903</td>\n",
       "      <td>2092</td>\n",
       "      <td>4</td>\n",
       "      <td>12047</td>\n",
       "      <td>9295</td>\n",
       "      <td>560</td>\n",
       "      <td>36</td>\n",
       "      <td>57</td>\n",
       "      <td>0</td>\n",
       "      <td>0</td>\n",
       "      <td>0</td>\n",
       "      <td>0</td>\n",
       "      <td>TN</td>\n",
       "    </tr>\n",
       "    <tr>\n",
       "      <th>42</th>\n",
       "      <td>Texas</td>\n",
       "      <td>133772</td>\n",
       "      <td>123263</td>\n",
       "      <td>10509</td>\n",
       "      <td>15</td>\n",
       "      <td>45229</td>\n",
       "      <td>43485</td>\n",
       "      <td>44284</td>\n",
       "      <td>63</td>\n",
       "      <td>522</td>\n",
       "      <td>0</td>\n",
       "      <td>0</td>\n",
       "      <td>189</td>\n",
       "      <td>0</td>\n",
       "      <td>TX</td>\n",
       "    </tr>\n",
       "    <tr>\n",
       "      <th>43</th>\n",
       "      <td>Utah</td>\n",
       "      <td>5907</td>\n",
       "      <td>5426</td>\n",
       "      <td>481</td>\n",
       "      <td>0</td>\n",
       "      <td>3487</td>\n",
       "      <td>450</td>\n",
       "      <td>1219</td>\n",
       "      <td>333</td>\n",
       "      <td>58</td>\n",
       "      <td>136</td>\n",
       "      <td>0</td>\n",
       "      <td>0</td>\n",
       "      <td>224</td>\n",
       "      <td>UT</td>\n",
       "    </tr>\n",
       "    <tr>\n",
       "      <th>44</th>\n",
       "      <td>Vermont</td>\n",
       "      <td>1287</td>\n",
       "      <td>1204</td>\n",
       "      <td>83</td>\n",
       "      <td>1</td>\n",
       "      <td>1104</td>\n",
       "      <td>124</td>\n",
       "      <td>0</td>\n",
       "      <td>25</td>\n",
       "      <td>8</td>\n",
       "      <td>2</td>\n",
       "      <td>0</td>\n",
       "      <td>9</td>\n",
       "      <td>15</td>\n",
       "      <td>VT</td>\n",
       "    </tr>\n",
       "    <tr>\n",
       "      <th>45</th>\n",
       "      <td>Virginia</td>\n",
       "      <td>30357</td>\n",
       "      <td>28119</td>\n",
       "      <td>2238</td>\n",
       "      <td>1</td>\n",
       "      <td>12863</td>\n",
       "      <td>16326</td>\n",
       "      <td>988</td>\n",
       "      <td>32</td>\n",
       "      <td>124</td>\n",
       "      <td>0</td>\n",
       "      <td>0</td>\n",
       "      <td>0</td>\n",
       "      <td>24</td>\n",
       "      <td>VA</td>\n",
       "    </tr>\n",
       "    <tr>\n",
       "      <th>46</th>\n",
       "      <td>Washington</td>\n",
       "      <td>13674</td>\n",
       "      <td>12888</td>\n",
       "      <td>786</td>\n",
       "      <td>4</td>\n",
       "      <td>7555</td>\n",
       "      <td>2419</td>\n",
       "      <td>2286</td>\n",
       "      <td>682</td>\n",
       "      <td>590</td>\n",
       "      <td>0</td>\n",
       "      <td>0</td>\n",
       "      <td>56</td>\n",
       "      <td>86</td>\n",
       "      <td>WA</td>\n",
       "    </tr>\n",
       "    <tr>\n",
       "      <th>47</th>\n",
       "      <td>West Virginia</td>\n",
       "      <td>5847</td>\n",
       "      <td>5227</td>\n",
       "      <td>620</td>\n",
       "      <td>0</td>\n",
       "      <td>4956</td>\n",
       "      <td>797</td>\n",
       "      <td>43</td>\n",
       "      <td>5</td>\n",
       "      <td>4</td>\n",
       "      <td>1</td>\n",
       "      <td>41</td>\n",
       "      <td>0</td>\n",
       "      <td>0</td>\n",
       "      <td>WV</td>\n",
       "    </tr>\n",
       "    <tr>\n",
       "      <th>48</th>\n",
       "      <td>Wisconsin</td>\n",
       "      <td>20202</td>\n",
       "      <td>18953</td>\n",
       "      <td>1249</td>\n",
       "      <td>0</td>\n",
       "      <td>8947</td>\n",
       "      <td>8200</td>\n",
       "      <td>1918</td>\n",
       "      <td>886</td>\n",
       "      <td>244</td>\n",
       "      <td>0</td>\n",
       "      <td>0</td>\n",
       "      <td>0</td>\n",
       "      <td>7</td>\n",
       "      <td>WI</td>\n",
       "    </tr>\n",
       "    <tr>\n",
       "      <th>49</th>\n",
       "      <td>Wyoming</td>\n",
       "      <td>2123</td>\n",
       "      <td>1858</td>\n",
       "      <td>265</td>\n",
       "      <td>0</td>\n",
       "      <td>1593</td>\n",
       "      <td>101</td>\n",
       "      <td>248</td>\n",
       "      <td>159</td>\n",
       "      <td>9</td>\n",
       "      <td>5</td>\n",
       "      <td>0</td>\n",
       "      <td>3</td>\n",
       "      <td>5</td>\n",
       "      <td>WY</td>\n",
       "    </tr>\n",
       "  </tbody>\n",
       "</table>\n",
       "</div>"
      ],
      "text/plain": [
       "             State  Total state prison population    Male  Female  Under 18  \\\n",
       "0          Alabama                          25032   22915    2117         0   \n",
       "1           Alaska                           4639    4197     442         0   \n",
       "2          Arizona                          33914   30794    3120        17   \n",
       "3         Arkansas                          17022   15592    1430         5   \n",
       "4       California                         101441   97525    3916         0   \n",
       "5         Colorado                          15865   14599    1266         0   \n",
       "6      Connecticut                           9889    9254     635        41   \n",
       "7         Delaware                           4810    4568     242         0   \n",
       "8          Florida                          80417   75404    5013        48   \n",
       "9          Georgia                          47010   43942    3068         0   \n",
       "10          Hawaii                           4102    3669     433         0   \n",
       "11           Idaho                           8907    7668    1239         0   \n",
       "12        Illinois                          28475   27165    1310         0   \n",
       "13         Indiana                          24716   22397    2319        11   \n",
       "14            Iowa                           8562    7859     703         9   \n",
       "15          Kansas                           8521    7793     728         0   \n",
       "16        Kentucky                          18560   16493    2067         0   \n",
       "17       Louisiana                          26074   24849    1225         7   \n",
       "18           Maine                           1577    1466     111         0   \n",
       "19        Maryland                          15134   14616     518         3   \n",
       "20   Massachusetts                           6148    5949     199         0   \n",
       "21        Michigan                          32186   30621    1565         5   \n",
       "22       Minnesota                           8003    7546     457         3   \n",
       "23     Mississippi                          17332   16116    1216        20   \n",
       "24        Missouri                          23422   21370    2052         2   \n",
       "25         Montana                           4313    3702     611         0   \n",
       "26        Nebraska                           5600    5200     400         8   \n",
       "27          Nevada                          10202    9418     784         0   \n",
       "28   New Hampshire                           2127    1979     148         0   \n",
       "29      New Jersey                          12506   12052     454         0   \n",
       "30      New Mexico                           5154    4635     519         0   \n",
       "31        New York                          30338   29233    1105         0   \n",
       "32  North Carolina                          28995   26871    2124        16   \n",
       "33    North Dakota                           1689    1489     200         0   \n",
       "34            Ohio                          45029   41443    3586        27   \n",
       "35        Oklahoma                          22391   20216    2175         8   \n",
       "36          Oregon                          13198   12252     946         0   \n",
       "37    Pennsylvania                          37194   35182    2012        14   \n",
       "38    Rhode Island                           2238    2115     123         0   \n",
       "39  South Carolina                          15759   14721    1038         1   \n",
       "40    South Dakota                           3353    2892     461         0   \n",
       "41       Tennessee                          21995   19903    2092         4   \n",
       "42           Texas                         133772  123263   10509        15   \n",
       "43            Utah                           5907    5426     481         0   \n",
       "44         Vermont                           1287    1204      83         1   \n",
       "45        Virginia                          30357   28119    2238         1   \n",
       "46      Washington                          13674   12888     786         4   \n",
       "47   West Virginia                           5847    5227     620         0   \n",
       "48       Wisconsin                          20202   18953    1249         0   \n",
       "49         Wyoming                           2123    1858     265         0   \n",
       "\n",
       "    White (non-Hispanic)  Black (non-Hispanic)  Hispanic  \\\n",
       "0                  11470                 13353         0   \n",
       "1                   1895                   465       125   \n",
       "2                  12960                  5087     13131   \n",
       "3                   9547                  6771       563   \n",
       "4                  20137                 28710     45999   \n",
       "5                   6520                  2769      4722   \n",
       "6                   2778                  4208      2824   \n",
       "7                   1551                  2952       299   \n",
       "8                  31599                 38266     10174   \n",
       "9                  17159                 27715      1945   \n",
       "10                   915                   185        98   \n",
       "11                  6419                   258      1288   \n",
       "12                  8849                 15204      3671   \n",
       "13                 14292                  7547       992   \n",
       "14                  5492                  2173       605   \n",
       "15                  4781                  2335      1118   \n",
       "16                 14102                  3879       296   \n",
       "17                  8863                 17097        66   \n",
       "18                  1261                   175         0   \n",
       "19                  3414                 10730       713   \n",
       "20                  2561                  1792      1567   \n",
       "21                 13746                 16278       632   \n",
       "22                  3732                  2834       471   \n",
       "23                  6419                 10649       181   \n",
       "24                 14606                  7843       494   \n",
       "25                  3000                   116       133   \n",
       "26                  2829                  1551       824   \n",
       "27                  3730                  3100      2764   \n",
       "28                  1752                   152       125   \n",
       "29                  2771                  7662      1941   \n",
       "30                  1385                   380      3194   \n",
       "31                  7056                 14930      7290   \n",
       "32                 11776                 14620      1725   \n",
       "33                   982                   181        99   \n",
       "34                 22368                 19305      1156   \n",
       "35                 11109                  6087      1871   \n",
       "36                  9566                  1236      1757   \n",
       "37                 16427                 17125      3333   \n",
       "38                   887                   643       614   \n",
       "39                  5894                  9285       427   \n",
       "40                  1730                   262       134   \n",
       "41                 12047                  9295       560   \n",
       "42                 45229                 43485     44284   \n",
       "43                  3487                   450      1219   \n",
       "44                  1104                   124         0   \n",
       "45                 12863                 16326       988   \n",
       "46                  7555                  2419      2286   \n",
       "47                  4956                   797        43   \n",
       "48                  8947                  8200      1918   \n",
       "49                  1593                   101       248   \n",
       "\n",
       "    American Indian/ Alaska Native (non-Hispanic)  Asian (non-Hispanic)  \\\n",
       "0                                               3                     4   \n",
       "1                                            1855                   158   \n",
       "2                                            1880                   157   \n",
       "3                                              49                    48   \n",
       "4                                            1161                  1162   \n",
       "5                                             542                   184   \n",
       "6                                              34                    43   \n",
       "7                                               1                     6   \n",
       "8                                              88                    18   \n",
       "9                                              22                   157   \n",
       "10                                             21                   699   \n",
       "11                                            329                    43   \n",
       "12                                             42                   104   \n",
       "13                                             50                    55   \n",
       "14                                            195                     0   \n",
       "15                                            201                    75   \n",
       "16                                             18                     0   \n",
       "17                                             21                    25   \n",
       "18                                             43                     7   \n",
       "19                                             76                    49   \n",
       "20                                             36                   102   \n",
       "21                                            287                    94   \n",
       "22                                            756                   197   \n",
       "23                                             35                    39   \n",
       "24                                             97                    61   \n",
       "25                                           1049                     0   \n",
       "26                                            287                    44   \n",
       "27                                            233                   206   \n",
       "28                                             11                     6   \n",
       "29                                             13                    97   \n",
       "30                                            455                    12   \n",
       "31                                            289                   190   \n",
       "32                                            576                    94   \n",
       "33                                            418                     6   \n",
       "34                                             83                    72   \n",
       "35                                           2099                    88   \n",
       "36                                            411                   183   \n",
       "37                                             37                   114   \n",
       "38                                             21                    30   \n",
       "39                                             25                    22   \n",
       "40                                           1189                    26   \n",
       "41                                             36                    57   \n",
       "42                                             63                   522   \n",
       "43                                            333                    58   \n",
       "44                                             25                     8   \n",
       "45                                             32                   124   \n",
       "46                                            682                   590   \n",
       "47                                              5                     4   \n",
       "48                                            886                   244   \n",
       "49                                            159                     9   \n",
       "\n",
       "    Native Hawaiian/ Pacific Islander (non-Hispanic)  \\\n",
       "0                                                  0   \n",
       "1                                                 95   \n",
       "2                                                  0   \n",
       "3                                                 19   \n",
       "4                                                321   \n",
       "5                                                 10   \n",
       "6                                                  0   \n",
       "7                                                  0   \n",
       "8                                                  7   \n",
       "9                                                  0   \n",
       "10                                              1800   \n",
       "11                                                 0   \n",
       "12                                                 0   \n",
       "13                                                 9   \n",
       "14                                                 0   \n",
       "15                                                 0   \n",
       "16                                                 0   \n",
       "17                                                 0   \n",
       "18                                                 1   \n",
       "19                                                16   \n",
       "20                                                 0   \n",
       "21                                                 7   \n",
       "22                                                 0   \n",
       "23                                                 0   \n",
       "24                                                 0   \n",
       "25                                                 0   \n",
       "26                                                 4   \n",
       "27                                               113   \n",
       "28                                                 1   \n",
       "29                                                 0   \n",
       "30                                                22   \n",
       "31                                                 0   \n",
       "32                                                 0   \n",
       "33                                                 3   \n",
       "34                                                 0   \n",
       "35                                                31   \n",
       "36                                                36   \n",
       "37                                                 0   \n",
       "38                                                 0   \n",
       "39                                                 0   \n",
       "40                                                 2   \n",
       "41                                                 0   \n",
       "42                                                 0   \n",
       "43                                               136   \n",
       "44                                                 2   \n",
       "45                                                 0   \n",
       "46                                                 0   \n",
       "47                                                 1   \n",
       "48                                                 0   \n",
       "49                                                 5   \n",
       "\n",
       "    2 or more races (non-Hispanic)  Some other race (non-Hispanic)  \\\n",
       "0                                0                             202   \n",
       "1                                0                               0   \n",
       "2                                0                             612   \n",
       "3                                0                              23   \n",
       "4                                0                            3951   \n",
       "5                                0                            1025   \n",
       "6                                0                               0   \n",
       "7                                0                               0   \n",
       "8                                0                             262   \n",
       "9                                0                               0   \n",
       "10                             145                               0   \n",
       "11                               0                             107   \n",
       "12                              55                               0   \n",
       "13                             153                               0   \n",
       "14                               0                              96   \n",
       "15                               0                               5   \n",
       "16                             220                              30   \n",
       "17                               0                               2   \n",
       "18                              29                               0   \n",
       "19                               0                             114   \n",
       "20                               0                               0   \n",
       "21                            1104                               0   \n",
       "22                               0                               0   \n",
       "23                               0                               0   \n",
       "24                               0                               0   \n",
       "25                               0                              15   \n",
       "26                               0                              58   \n",
       "27                               0                               0   \n",
       "28                               0                              45   \n",
       "29                               0                               0   \n",
       "30                               0                               0   \n",
       "31                               0                             435   \n",
       "32                               0                               0   \n",
       "33                               0                               0   \n",
       "34                               0                             446   \n",
       "35                               0                              50   \n",
       "36                               0                               0   \n",
       "37                               0                               0   \n",
       "38                               0                              39   \n",
       "39                               0                             104   \n",
       "40                               0                              10   \n",
       "41                               0                               0   \n",
       "42                               0                             189   \n",
       "43                               0                               0   \n",
       "44                               0                               9   \n",
       "45                               0                               0   \n",
       "46                               0                              56   \n",
       "47                              41                               0   \n",
       "48                               0                               0   \n",
       "49                               0                               3   \n",
       "\n",
       "    Unknown or not reported state_code  \n",
       "0                         0         AL  \n",
       "1                        46         AK  \n",
       "2                        87         AZ  \n",
       "3                         2         AR  \n",
       "4                         0         CA  \n",
       "5                        93         CO  \n",
       "6                         2         CT  \n",
       "7                         1         DE  \n",
       "8                         3         FL  \n",
       "9                        12         GA  \n",
       "10                      239         HI  \n",
       "11                      463         ID  \n",
       "12                      550         IL  \n",
       "13                     1618         IN  \n",
       "14                        1         IA  \n",
       "15                        6         KS  \n",
       "16                       15         KY  \n",
       "17                        0         LA  \n",
       "18                       61         ME  \n",
       "19                       22         MD  \n",
       "20                       90         MA  \n",
       "21                       38         MI  \n",
       "22                       13         MN  \n",
       "23                        9         MP  \n",
       "24                      321         MO  \n",
       "25                        0         MT  \n",
       "26                        3         NE  \n",
       "27                       56         NV  \n",
       "28                       35         NH  \n",
       "29                       22         NJ  \n",
       "30                       49         NM  \n",
       "31                      148         NY  \n",
       "32                      204         NC  \n",
       "33                        0         ND  \n",
       "34                     1599         OH  \n",
       "35                     1056         OK  \n",
       "36                        9         OR  \n",
       "37                      158         PA  \n",
       "38                        4         RI  \n",
       "39                        2         SC  \n",
       "40                        0         SD  \n",
       "41                        0         TN  \n",
       "42                        0         TX  \n",
       "43                      224         UT  \n",
       "44                       15         VT  \n",
       "45                       24         VA  \n",
       "46                       86         WA  \n",
       "47                        0         WV  \n",
       "48                        7         WI  \n",
       "49                        5         WY  "
      ]
     },
     "execution_count": 96,
     "metadata": {},
     "output_type": "execute_result"
    }
   ],
   "source": [
    "prisonsorted"
   ]
  },
  {
   "cell_type": "code",
   "execution_count": 112,
   "metadata": {},
   "outputs": [],
   "source": [
    "state_pop = pd.read_csv('state_tot_pop.csv')"
   ]
  },
  {
   "cell_type": "code",
   "execution_count": 113,
   "metadata": {},
   "outputs": [],
   "source": [
    "state_pop.drop(columns= 'State', inplace=True)"
   ]
  },
  {
   "cell_type": "code",
   "execution_count": 114,
   "metadata": {},
   "outputs": [
    {
     "data": {
      "text/html": [
       "<div>\n",
       "<style scoped>\n",
       "    .dataframe tbody tr th:only-of-type {\n",
       "        vertical-align: middle;\n",
       "    }\n",
       "\n",
       "    .dataframe tbody tr th {\n",
       "        vertical-align: top;\n",
       "    }\n",
       "\n",
       "    .dataframe thead th {\n",
       "        text-align: right;\n",
       "    }\n",
       "</style>\n",
       "<table border=\"1\" class=\"dataframe\">\n",
       "  <thead>\n",
       "    <tr style=\"text-align: right;\">\n",
       "      <th></th>\n",
       "      <th>tot_pop</th>\n",
       "      <th>State</th>\n",
       "      <th>Total state prison population</th>\n",
       "      <th>Male</th>\n",
       "      <th>Female</th>\n",
       "      <th>Under 18</th>\n",
       "      <th>White (non-Hispanic)</th>\n",
       "      <th>Black (non-Hispanic)</th>\n",
       "      <th>Hispanic</th>\n",
       "      <th>American Indian/ Alaska Native (non-Hispanic)</th>\n",
       "      <th>Asian (non-Hispanic)</th>\n",
       "      <th>Native Hawaiian/ Pacific Islander (non-Hispanic)</th>\n",
       "      <th>2 or more races (non-Hispanic)</th>\n",
       "      <th>Some other race (non-Hispanic)</th>\n",
       "      <th>Unknown or not reported</th>\n",
       "      <th>state_code</th>\n",
       "    </tr>\n",
       "  </thead>\n",
       "  <tbody>\n",
       "    <tr>\n",
       "      <th>0</th>\n",
       "      <td>5074296</td>\n",
       "      <td>Alabama</td>\n",
       "      <td>25032</td>\n",
       "      <td>22915</td>\n",
       "      <td>2117</td>\n",
       "      <td>0</td>\n",
       "      <td>11470</td>\n",
       "      <td>13353</td>\n",
       "      <td>0</td>\n",
       "      <td>3</td>\n",
       "      <td>4</td>\n",
       "      <td>0</td>\n",
       "      <td>0</td>\n",
       "      <td>202</td>\n",
       "      <td>0</td>\n",
       "      <td>AL</td>\n",
       "    </tr>\n",
       "    <tr>\n",
       "      <th>1</th>\n",
       "      <td>733583</td>\n",
       "      <td>Alaska</td>\n",
       "      <td>4639</td>\n",
       "      <td>4197</td>\n",
       "      <td>442</td>\n",
       "      <td>0</td>\n",
       "      <td>1895</td>\n",
       "      <td>465</td>\n",
       "      <td>125</td>\n",
       "      <td>1855</td>\n",
       "      <td>158</td>\n",
       "      <td>95</td>\n",
       "      <td>0</td>\n",
       "      <td>0</td>\n",
       "      <td>46</td>\n",
       "      <td>AK</td>\n",
       "    </tr>\n",
       "    <tr>\n",
       "      <th>2</th>\n",
       "      <td>7359197</td>\n",
       "      <td>Arizona</td>\n",
       "      <td>33914</td>\n",
       "      <td>30794</td>\n",
       "      <td>3120</td>\n",
       "      <td>17</td>\n",
       "      <td>12960</td>\n",
       "      <td>5087</td>\n",
       "      <td>13131</td>\n",
       "      <td>1880</td>\n",
       "      <td>157</td>\n",
       "      <td>0</td>\n",
       "      <td>0</td>\n",
       "      <td>612</td>\n",
       "      <td>87</td>\n",
       "      <td>AZ</td>\n",
       "    </tr>\n",
       "    <tr>\n",
       "      <th>3</th>\n",
       "      <td>3045637</td>\n",
       "      <td>Arkansas</td>\n",
       "      <td>17022</td>\n",
       "      <td>15592</td>\n",
       "      <td>1430</td>\n",
       "      <td>5</td>\n",
       "      <td>9547</td>\n",
       "      <td>6771</td>\n",
       "      <td>563</td>\n",
       "      <td>49</td>\n",
       "      <td>48</td>\n",
       "      <td>19</td>\n",
       "      <td>0</td>\n",
       "      <td>23</td>\n",
       "      <td>2</td>\n",
       "      <td>AR</td>\n",
       "    </tr>\n",
       "    <tr>\n",
       "      <th>4</th>\n",
       "      <td>39029342</td>\n",
       "      <td>California</td>\n",
       "      <td>101441</td>\n",
       "      <td>97525</td>\n",
       "      <td>3916</td>\n",
       "      <td>0</td>\n",
       "      <td>20137</td>\n",
       "      <td>28710</td>\n",
       "      <td>45999</td>\n",
       "      <td>1161</td>\n",
       "      <td>1162</td>\n",
       "      <td>321</td>\n",
       "      <td>0</td>\n",
       "      <td>3951</td>\n",
       "      <td>0</td>\n",
       "      <td>CA</td>\n",
       "    </tr>\n",
       "    <tr>\n",
       "      <th>5</th>\n",
       "      <td>5839926</td>\n",
       "      <td>Colorado</td>\n",
       "      <td>15865</td>\n",
       "      <td>14599</td>\n",
       "      <td>1266</td>\n",
       "      <td>0</td>\n",
       "      <td>6520</td>\n",
       "      <td>2769</td>\n",
       "      <td>4722</td>\n",
       "      <td>542</td>\n",
       "      <td>184</td>\n",
       "      <td>10</td>\n",
       "      <td>0</td>\n",
       "      <td>1025</td>\n",
       "      <td>93</td>\n",
       "      <td>CO</td>\n",
       "    </tr>\n",
       "    <tr>\n",
       "      <th>6</th>\n",
       "      <td>3626205</td>\n",
       "      <td>Connecticut</td>\n",
       "      <td>9889</td>\n",
       "      <td>9254</td>\n",
       "      <td>635</td>\n",
       "      <td>41</td>\n",
       "      <td>2778</td>\n",
       "      <td>4208</td>\n",
       "      <td>2824</td>\n",
       "      <td>34</td>\n",
       "      <td>43</td>\n",
       "      <td>0</td>\n",
       "      <td>0</td>\n",
       "      <td>0</td>\n",
       "      <td>2</td>\n",
       "      <td>CT</td>\n",
       "    </tr>\n",
       "    <tr>\n",
       "      <th>7</th>\n",
       "      <td>1018396</td>\n",
       "      <td>Delaware</td>\n",
       "      <td>4810</td>\n",
       "      <td>4568</td>\n",
       "      <td>242</td>\n",
       "      <td>0</td>\n",
       "      <td>1551</td>\n",
       "      <td>2952</td>\n",
       "      <td>299</td>\n",
       "      <td>1</td>\n",
       "      <td>6</td>\n",
       "      <td>0</td>\n",
       "      <td>0</td>\n",
       "      <td>0</td>\n",
       "      <td>1</td>\n",
       "      <td>DE</td>\n",
       "    </tr>\n",
       "    <tr>\n",
       "      <th>8</th>\n",
       "      <td>22244823</td>\n",
       "      <td>Florida</td>\n",
       "      <td>80417</td>\n",
       "      <td>75404</td>\n",
       "      <td>5013</td>\n",
       "      <td>48</td>\n",
       "      <td>31599</td>\n",
       "      <td>38266</td>\n",
       "      <td>10174</td>\n",
       "      <td>88</td>\n",
       "      <td>18</td>\n",
       "      <td>7</td>\n",
       "      <td>0</td>\n",
       "      <td>262</td>\n",
       "      <td>3</td>\n",
       "      <td>FL</td>\n",
       "    </tr>\n",
       "    <tr>\n",
       "      <th>9</th>\n",
       "      <td>10912876</td>\n",
       "      <td>Georgia</td>\n",
       "      <td>47010</td>\n",
       "      <td>43942</td>\n",
       "      <td>3068</td>\n",
       "      <td>0</td>\n",
       "      <td>17159</td>\n",
       "      <td>27715</td>\n",
       "      <td>1945</td>\n",
       "      <td>22</td>\n",
       "      <td>157</td>\n",
       "      <td>0</td>\n",
       "      <td>0</td>\n",
       "      <td>0</td>\n",
       "      <td>12</td>\n",
       "      <td>GA</td>\n",
       "    </tr>\n",
       "    <tr>\n",
       "      <th>10</th>\n",
       "      <td>1440196</td>\n",
       "      <td>Hawaii</td>\n",
       "      <td>4102</td>\n",
       "      <td>3669</td>\n",
       "      <td>433</td>\n",
       "      <td>0</td>\n",
       "      <td>915</td>\n",
       "      <td>185</td>\n",
       "      <td>98</td>\n",
       "      <td>21</td>\n",
       "      <td>699</td>\n",
       "      <td>1800</td>\n",
       "      <td>145</td>\n",
       "      <td>0</td>\n",
       "      <td>239</td>\n",
       "      <td>HI</td>\n",
       "    </tr>\n",
       "    <tr>\n",
       "      <th>11</th>\n",
       "      <td>1939033</td>\n",
       "      <td>Idaho</td>\n",
       "      <td>8907</td>\n",
       "      <td>7668</td>\n",
       "      <td>1239</td>\n",
       "      <td>0</td>\n",
       "      <td>6419</td>\n",
       "      <td>258</td>\n",
       "      <td>1288</td>\n",
       "      <td>329</td>\n",
       "      <td>43</td>\n",
       "      <td>0</td>\n",
       "      <td>0</td>\n",
       "      <td>107</td>\n",
       "      <td>463</td>\n",
       "      <td>ID</td>\n",
       "    </tr>\n",
       "    <tr>\n",
       "      <th>12</th>\n",
       "      <td>12582032</td>\n",
       "      <td>Illinois</td>\n",
       "      <td>28475</td>\n",
       "      <td>27165</td>\n",
       "      <td>1310</td>\n",
       "      <td>0</td>\n",
       "      <td>8849</td>\n",
       "      <td>15204</td>\n",
       "      <td>3671</td>\n",
       "      <td>42</td>\n",
       "      <td>104</td>\n",
       "      <td>0</td>\n",
       "      <td>55</td>\n",
       "      <td>0</td>\n",
       "      <td>550</td>\n",
       "      <td>IL</td>\n",
       "    </tr>\n",
       "    <tr>\n",
       "      <th>13</th>\n",
       "      <td>6833037</td>\n",
       "      <td>Indiana</td>\n",
       "      <td>24716</td>\n",
       "      <td>22397</td>\n",
       "      <td>2319</td>\n",
       "      <td>11</td>\n",
       "      <td>14292</td>\n",
       "      <td>7547</td>\n",
       "      <td>992</td>\n",
       "      <td>50</td>\n",
       "      <td>55</td>\n",
       "      <td>9</td>\n",
       "      <td>153</td>\n",
       "      <td>0</td>\n",
       "      <td>1618</td>\n",
       "      <td>IN</td>\n",
       "    </tr>\n",
       "    <tr>\n",
       "      <th>14</th>\n",
       "      <td>3200517</td>\n",
       "      <td>Iowa</td>\n",
       "      <td>8562</td>\n",
       "      <td>7859</td>\n",
       "      <td>703</td>\n",
       "      <td>9</td>\n",
       "      <td>5492</td>\n",
       "      <td>2173</td>\n",
       "      <td>605</td>\n",
       "      <td>195</td>\n",
       "      <td>0</td>\n",
       "      <td>0</td>\n",
       "      <td>0</td>\n",
       "      <td>96</td>\n",
       "      <td>1</td>\n",
       "      <td>IA</td>\n",
       "    </tr>\n",
       "    <tr>\n",
       "      <th>15</th>\n",
       "      <td>2937150</td>\n",
       "      <td>Kansas</td>\n",
       "      <td>8521</td>\n",
       "      <td>7793</td>\n",
       "      <td>728</td>\n",
       "      <td>0</td>\n",
       "      <td>4781</td>\n",
       "      <td>2335</td>\n",
       "      <td>1118</td>\n",
       "      <td>201</td>\n",
       "      <td>75</td>\n",
       "      <td>0</td>\n",
       "      <td>0</td>\n",
       "      <td>5</td>\n",
       "      <td>6</td>\n",
       "      <td>KS</td>\n",
       "    </tr>\n",
       "    <tr>\n",
       "      <th>16</th>\n",
       "      <td>4512310</td>\n",
       "      <td>Kentucky</td>\n",
       "      <td>18560</td>\n",
       "      <td>16493</td>\n",
       "      <td>2067</td>\n",
       "      <td>0</td>\n",
       "      <td>14102</td>\n",
       "      <td>3879</td>\n",
       "      <td>296</td>\n",
       "      <td>18</td>\n",
       "      <td>0</td>\n",
       "      <td>0</td>\n",
       "      <td>220</td>\n",
       "      <td>30</td>\n",
       "      <td>15</td>\n",
       "      <td>KY</td>\n",
       "    </tr>\n",
       "    <tr>\n",
       "      <th>17</th>\n",
       "      <td>4590241</td>\n",
       "      <td>Louisiana</td>\n",
       "      <td>26074</td>\n",
       "      <td>24849</td>\n",
       "      <td>1225</td>\n",
       "      <td>7</td>\n",
       "      <td>8863</td>\n",
       "      <td>17097</td>\n",
       "      <td>66</td>\n",
       "      <td>21</td>\n",
       "      <td>25</td>\n",
       "      <td>0</td>\n",
       "      <td>0</td>\n",
       "      <td>2</td>\n",
       "      <td>0</td>\n",
       "      <td>LA</td>\n",
       "    </tr>\n",
       "    <tr>\n",
       "      <th>18</th>\n",
       "      <td>1385340</td>\n",
       "      <td>Maine</td>\n",
       "      <td>1577</td>\n",
       "      <td>1466</td>\n",
       "      <td>111</td>\n",
       "      <td>0</td>\n",
       "      <td>1261</td>\n",
       "      <td>175</td>\n",
       "      <td>0</td>\n",
       "      <td>43</td>\n",
       "      <td>7</td>\n",
       "      <td>1</td>\n",
       "      <td>29</td>\n",
       "      <td>0</td>\n",
       "      <td>61</td>\n",
       "      <td>ME</td>\n",
       "    </tr>\n",
       "    <tr>\n",
       "      <th>19</th>\n",
       "      <td>6164660</td>\n",
       "      <td>Maryland</td>\n",
       "      <td>15134</td>\n",
       "      <td>14616</td>\n",
       "      <td>518</td>\n",
       "      <td>3</td>\n",
       "      <td>3414</td>\n",
       "      <td>10730</td>\n",
       "      <td>713</td>\n",
       "      <td>76</td>\n",
       "      <td>49</td>\n",
       "      <td>16</td>\n",
       "      <td>0</td>\n",
       "      <td>114</td>\n",
       "      <td>22</td>\n",
       "      <td>MD</td>\n",
       "    </tr>\n",
       "    <tr>\n",
       "      <th>20</th>\n",
       "      <td>6981974</td>\n",
       "      <td>Massachusetts</td>\n",
       "      <td>6148</td>\n",
       "      <td>5949</td>\n",
       "      <td>199</td>\n",
       "      <td>0</td>\n",
       "      <td>2561</td>\n",
       "      <td>1792</td>\n",
       "      <td>1567</td>\n",
       "      <td>36</td>\n",
       "      <td>102</td>\n",
       "      <td>0</td>\n",
       "      <td>0</td>\n",
       "      <td>0</td>\n",
       "      <td>90</td>\n",
       "      <td>MA</td>\n",
       "    </tr>\n",
       "    <tr>\n",
       "      <th>21</th>\n",
       "      <td>10034113</td>\n",
       "      <td>Michigan</td>\n",
       "      <td>32186</td>\n",
       "      <td>30621</td>\n",
       "      <td>1565</td>\n",
       "      <td>5</td>\n",
       "      <td>13746</td>\n",
       "      <td>16278</td>\n",
       "      <td>632</td>\n",
       "      <td>287</td>\n",
       "      <td>94</td>\n",
       "      <td>7</td>\n",
       "      <td>1104</td>\n",
       "      <td>0</td>\n",
       "      <td>38</td>\n",
       "      <td>MI</td>\n",
       "    </tr>\n",
       "    <tr>\n",
       "      <th>22</th>\n",
       "      <td>5717184</td>\n",
       "      <td>Minnesota</td>\n",
       "      <td>8003</td>\n",
       "      <td>7546</td>\n",
       "      <td>457</td>\n",
       "      <td>3</td>\n",
       "      <td>3732</td>\n",
       "      <td>2834</td>\n",
       "      <td>471</td>\n",
       "      <td>756</td>\n",
       "      <td>197</td>\n",
       "      <td>0</td>\n",
       "      <td>0</td>\n",
       "      <td>0</td>\n",
       "      <td>13</td>\n",
       "      <td>MN</td>\n",
       "    </tr>\n",
       "    <tr>\n",
       "      <th>23</th>\n",
       "      <td>2940057</td>\n",
       "      <td>Mississippi</td>\n",
       "      <td>17332</td>\n",
       "      <td>16116</td>\n",
       "      <td>1216</td>\n",
       "      <td>20</td>\n",
       "      <td>6419</td>\n",
       "      <td>10649</td>\n",
       "      <td>181</td>\n",
       "      <td>35</td>\n",
       "      <td>39</td>\n",
       "      <td>0</td>\n",
       "      <td>0</td>\n",
       "      <td>0</td>\n",
       "      <td>9</td>\n",
       "      <td>MP</td>\n",
       "    </tr>\n",
       "    <tr>\n",
       "      <th>24</th>\n",
       "      <td>6177957</td>\n",
       "      <td>Missouri</td>\n",
       "      <td>23422</td>\n",
       "      <td>21370</td>\n",
       "      <td>2052</td>\n",
       "      <td>2</td>\n",
       "      <td>14606</td>\n",
       "      <td>7843</td>\n",
       "      <td>494</td>\n",
       "      <td>97</td>\n",
       "      <td>61</td>\n",
       "      <td>0</td>\n",
       "      <td>0</td>\n",
       "      <td>0</td>\n",
       "      <td>321</td>\n",
       "      <td>MO</td>\n",
       "    </tr>\n",
       "    <tr>\n",
       "      <th>25</th>\n",
       "      <td>1122867</td>\n",
       "      <td>Montana</td>\n",
       "      <td>4313</td>\n",
       "      <td>3702</td>\n",
       "      <td>611</td>\n",
       "      <td>0</td>\n",
       "      <td>3000</td>\n",
       "      <td>116</td>\n",
       "      <td>133</td>\n",
       "      <td>1049</td>\n",
       "      <td>0</td>\n",
       "      <td>0</td>\n",
       "      <td>0</td>\n",
       "      <td>15</td>\n",
       "      <td>0</td>\n",
       "      <td>MT</td>\n",
       "    </tr>\n",
       "    <tr>\n",
       "      <th>26</th>\n",
       "      <td>1967923</td>\n",
       "      <td>Nebraska</td>\n",
       "      <td>5600</td>\n",
       "      <td>5200</td>\n",
       "      <td>400</td>\n",
       "      <td>8</td>\n",
       "      <td>2829</td>\n",
       "      <td>1551</td>\n",
       "      <td>824</td>\n",
       "      <td>287</td>\n",
       "      <td>44</td>\n",
       "      <td>4</td>\n",
       "      <td>0</td>\n",
       "      <td>58</td>\n",
       "      <td>3</td>\n",
       "      <td>NE</td>\n",
       "    </tr>\n",
       "    <tr>\n",
       "      <th>27</th>\n",
       "      <td>3177772</td>\n",
       "      <td>Nevada</td>\n",
       "      <td>10202</td>\n",
       "      <td>9418</td>\n",
       "      <td>784</td>\n",
       "      <td>0</td>\n",
       "      <td>3730</td>\n",
       "      <td>3100</td>\n",
       "      <td>2764</td>\n",
       "      <td>233</td>\n",
       "      <td>206</td>\n",
       "      <td>113</td>\n",
       "      <td>0</td>\n",
       "      <td>0</td>\n",
       "      <td>56</td>\n",
       "      <td>NV</td>\n",
       "    </tr>\n",
       "    <tr>\n",
       "      <th>28</th>\n",
       "      <td>1395231</td>\n",
       "      <td>New Hampshire</td>\n",
       "      <td>2127</td>\n",
       "      <td>1979</td>\n",
       "      <td>148</td>\n",
       "      <td>0</td>\n",
       "      <td>1752</td>\n",
       "      <td>152</td>\n",
       "      <td>125</td>\n",
       "      <td>11</td>\n",
       "      <td>6</td>\n",
       "      <td>1</td>\n",
       "      <td>0</td>\n",
       "      <td>45</td>\n",
       "      <td>35</td>\n",
       "      <td>NH</td>\n",
       "    </tr>\n",
       "    <tr>\n",
       "      <th>29</th>\n",
       "      <td>9261699</td>\n",
       "      <td>New Jersey</td>\n",
       "      <td>12506</td>\n",
       "      <td>12052</td>\n",
       "      <td>454</td>\n",
       "      <td>0</td>\n",
       "      <td>2771</td>\n",
       "      <td>7662</td>\n",
       "      <td>1941</td>\n",
       "      <td>13</td>\n",
       "      <td>97</td>\n",
       "      <td>0</td>\n",
       "      <td>0</td>\n",
       "      <td>0</td>\n",
       "      <td>22</td>\n",
       "      <td>NJ</td>\n",
       "    </tr>\n",
       "    <tr>\n",
       "      <th>30</th>\n",
       "      <td>2113344</td>\n",
       "      <td>New Mexico</td>\n",
       "      <td>5154</td>\n",
       "      <td>4635</td>\n",
       "      <td>519</td>\n",
       "      <td>0</td>\n",
       "      <td>1385</td>\n",
       "      <td>380</td>\n",
       "      <td>3194</td>\n",
       "      <td>455</td>\n",
       "      <td>12</td>\n",
       "      <td>22</td>\n",
       "      <td>0</td>\n",
       "      <td>0</td>\n",
       "      <td>49</td>\n",
       "      <td>NM</td>\n",
       "    </tr>\n",
       "    <tr>\n",
       "      <th>31</th>\n",
       "      <td>19677151</td>\n",
       "      <td>New York</td>\n",
       "      <td>30338</td>\n",
       "      <td>29233</td>\n",
       "      <td>1105</td>\n",
       "      <td>0</td>\n",
       "      <td>7056</td>\n",
       "      <td>14930</td>\n",
       "      <td>7290</td>\n",
       "      <td>289</td>\n",
       "      <td>190</td>\n",
       "      <td>0</td>\n",
       "      <td>0</td>\n",
       "      <td>435</td>\n",
       "      <td>148</td>\n",
       "      <td>NY</td>\n",
       "    </tr>\n",
       "    <tr>\n",
       "      <th>32</th>\n",
       "      <td>10698973</td>\n",
       "      <td>North Carolina</td>\n",
       "      <td>28995</td>\n",
       "      <td>26871</td>\n",
       "      <td>2124</td>\n",
       "      <td>16</td>\n",
       "      <td>11776</td>\n",
       "      <td>14620</td>\n",
       "      <td>1725</td>\n",
       "      <td>576</td>\n",
       "      <td>94</td>\n",
       "      <td>0</td>\n",
       "      <td>0</td>\n",
       "      <td>0</td>\n",
       "      <td>204</td>\n",
       "      <td>NC</td>\n",
       "    </tr>\n",
       "    <tr>\n",
       "      <th>33</th>\n",
       "      <td>779261</td>\n",
       "      <td>North Dakota</td>\n",
       "      <td>1689</td>\n",
       "      <td>1489</td>\n",
       "      <td>200</td>\n",
       "      <td>0</td>\n",
       "      <td>982</td>\n",
       "      <td>181</td>\n",
       "      <td>99</td>\n",
       "      <td>418</td>\n",
       "      <td>6</td>\n",
       "      <td>3</td>\n",
       "      <td>0</td>\n",
       "      <td>0</td>\n",
       "      <td>0</td>\n",
       "      <td>ND</td>\n",
       "    </tr>\n",
       "    <tr>\n",
       "      <th>34</th>\n",
       "      <td>11756058</td>\n",
       "      <td>Ohio</td>\n",
       "      <td>45029</td>\n",
       "      <td>41443</td>\n",
       "      <td>3586</td>\n",
       "      <td>27</td>\n",
       "      <td>22368</td>\n",
       "      <td>19305</td>\n",
       "      <td>1156</td>\n",
       "      <td>83</td>\n",
       "      <td>72</td>\n",
       "      <td>0</td>\n",
       "      <td>0</td>\n",
       "      <td>446</td>\n",
       "      <td>1599</td>\n",
       "      <td>OH</td>\n",
       "    </tr>\n",
       "    <tr>\n",
       "      <th>35</th>\n",
       "      <td>4019800</td>\n",
       "      <td>Oklahoma</td>\n",
       "      <td>22391</td>\n",
       "      <td>20216</td>\n",
       "      <td>2175</td>\n",
       "      <td>8</td>\n",
       "      <td>11109</td>\n",
       "      <td>6087</td>\n",
       "      <td>1871</td>\n",
       "      <td>2099</td>\n",
       "      <td>88</td>\n",
       "      <td>31</td>\n",
       "      <td>0</td>\n",
       "      <td>50</td>\n",
       "      <td>1056</td>\n",
       "      <td>OK</td>\n",
       "    </tr>\n",
       "    <tr>\n",
       "      <th>36</th>\n",
       "      <td>4240137</td>\n",
       "      <td>Oregon</td>\n",
       "      <td>13198</td>\n",
       "      <td>12252</td>\n",
       "      <td>946</td>\n",
       "      <td>0</td>\n",
       "      <td>9566</td>\n",
       "      <td>1236</td>\n",
       "      <td>1757</td>\n",
       "      <td>411</td>\n",
       "      <td>183</td>\n",
       "      <td>36</td>\n",
       "      <td>0</td>\n",
       "      <td>0</td>\n",
       "      <td>9</td>\n",
       "      <td>OR</td>\n",
       "    </tr>\n",
       "    <tr>\n",
       "      <th>37</th>\n",
       "      <td>12972008</td>\n",
       "      <td>Pennsylvania</td>\n",
       "      <td>37194</td>\n",
       "      <td>35182</td>\n",
       "      <td>2012</td>\n",
       "      <td>14</td>\n",
       "      <td>16427</td>\n",
       "      <td>17125</td>\n",
       "      <td>3333</td>\n",
       "      <td>37</td>\n",
       "      <td>114</td>\n",
       "      <td>0</td>\n",
       "      <td>0</td>\n",
       "      <td>0</td>\n",
       "      <td>158</td>\n",
       "      <td>PA</td>\n",
       "    </tr>\n",
       "    <tr>\n",
       "      <th>38</th>\n",
       "      <td>1093734</td>\n",
       "      <td>Rhode Island</td>\n",
       "      <td>2238</td>\n",
       "      <td>2115</td>\n",
       "      <td>123</td>\n",
       "      <td>0</td>\n",
       "      <td>887</td>\n",
       "      <td>643</td>\n",
       "      <td>614</td>\n",
       "      <td>21</td>\n",
       "      <td>30</td>\n",
       "      <td>0</td>\n",
       "      <td>0</td>\n",
       "      <td>39</td>\n",
       "      <td>4</td>\n",
       "      <td>RI</td>\n",
       "    </tr>\n",
       "    <tr>\n",
       "      <th>39</th>\n",
       "      <td>5282634</td>\n",
       "      <td>South Carolina</td>\n",
       "      <td>15759</td>\n",
       "      <td>14721</td>\n",
       "      <td>1038</td>\n",
       "      <td>1</td>\n",
       "      <td>5894</td>\n",
       "      <td>9285</td>\n",
       "      <td>427</td>\n",
       "      <td>25</td>\n",
       "      <td>22</td>\n",
       "      <td>0</td>\n",
       "      <td>0</td>\n",
       "      <td>104</td>\n",
       "      <td>2</td>\n",
       "      <td>SC</td>\n",
       "    </tr>\n",
       "    <tr>\n",
       "      <th>40</th>\n",
       "      <td>909824</td>\n",
       "      <td>South Dakota</td>\n",
       "      <td>3353</td>\n",
       "      <td>2892</td>\n",
       "      <td>461</td>\n",
       "      <td>0</td>\n",
       "      <td>1730</td>\n",
       "      <td>262</td>\n",
       "      <td>134</td>\n",
       "      <td>1189</td>\n",
       "      <td>26</td>\n",
       "      <td>2</td>\n",
       "      <td>0</td>\n",
       "      <td>10</td>\n",
       "      <td>0</td>\n",
       "      <td>SD</td>\n",
       "    </tr>\n",
       "    <tr>\n",
       "      <th>41</th>\n",
       "      <td>7051339</td>\n",
       "      <td>Tennessee</td>\n",
       "      <td>21995</td>\n",
       "      <td>19903</td>\n",
       "      <td>2092</td>\n",
       "      <td>4</td>\n",
       "      <td>12047</td>\n",
       "      <td>9295</td>\n",
       "      <td>560</td>\n",
       "      <td>36</td>\n",
       "      <td>57</td>\n",
       "      <td>0</td>\n",
       "      <td>0</td>\n",
       "      <td>0</td>\n",
       "      <td>0</td>\n",
       "      <td>TN</td>\n",
       "    </tr>\n",
       "    <tr>\n",
       "      <th>42</th>\n",
       "      <td>30029572</td>\n",
       "      <td>Texas</td>\n",
       "      <td>133772</td>\n",
       "      <td>123263</td>\n",
       "      <td>10509</td>\n",
       "      <td>15</td>\n",
       "      <td>45229</td>\n",
       "      <td>43485</td>\n",
       "      <td>44284</td>\n",
       "      <td>63</td>\n",
       "      <td>522</td>\n",
       "      <td>0</td>\n",
       "      <td>0</td>\n",
       "      <td>189</td>\n",
       "      <td>0</td>\n",
       "      <td>TX</td>\n",
       "    </tr>\n",
       "    <tr>\n",
       "      <th>43</th>\n",
       "      <td>3380800</td>\n",
       "      <td>Utah</td>\n",
       "      <td>5907</td>\n",
       "      <td>5426</td>\n",
       "      <td>481</td>\n",
       "      <td>0</td>\n",
       "      <td>3487</td>\n",
       "      <td>450</td>\n",
       "      <td>1219</td>\n",
       "      <td>333</td>\n",
       "      <td>58</td>\n",
       "      <td>136</td>\n",
       "      <td>0</td>\n",
       "      <td>0</td>\n",
       "      <td>224</td>\n",
       "      <td>UT</td>\n",
       "    </tr>\n",
       "    <tr>\n",
       "      <th>44</th>\n",
       "      <td>647064</td>\n",
       "      <td>Vermont</td>\n",
       "      <td>1287</td>\n",
       "      <td>1204</td>\n",
       "      <td>83</td>\n",
       "      <td>1</td>\n",
       "      <td>1104</td>\n",
       "      <td>124</td>\n",
       "      <td>0</td>\n",
       "      <td>25</td>\n",
       "      <td>8</td>\n",
       "      <td>2</td>\n",
       "      <td>0</td>\n",
       "      <td>9</td>\n",
       "      <td>15</td>\n",
       "      <td>VT</td>\n",
       "    </tr>\n",
       "    <tr>\n",
       "      <th>45</th>\n",
       "      <td>8683619</td>\n",
       "      <td>Virginia</td>\n",
       "      <td>30357</td>\n",
       "      <td>28119</td>\n",
       "      <td>2238</td>\n",
       "      <td>1</td>\n",
       "      <td>12863</td>\n",
       "      <td>16326</td>\n",
       "      <td>988</td>\n",
       "      <td>32</td>\n",
       "      <td>124</td>\n",
       "      <td>0</td>\n",
       "      <td>0</td>\n",
       "      <td>0</td>\n",
       "      <td>24</td>\n",
       "      <td>VA</td>\n",
       "    </tr>\n",
       "    <tr>\n",
       "      <th>46</th>\n",
       "      <td>7785786</td>\n",
       "      <td>Washington</td>\n",
       "      <td>13674</td>\n",
       "      <td>12888</td>\n",
       "      <td>786</td>\n",
       "      <td>4</td>\n",
       "      <td>7555</td>\n",
       "      <td>2419</td>\n",
       "      <td>2286</td>\n",
       "      <td>682</td>\n",
       "      <td>590</td>\n",
       "      <td>0</td>\n",
       "      <td>0</td>\n",
       "      <td>56</td>\n",
       "      <td>86</td>\n",
       "      <td>WA</td>\n",
       "    </tr>\n",
       "    <tr>\n",
       "      <th>47</th>\n",
       "      <td>1775156</td>\n",
       "      <td>West Virginia</td>\n",
       "      <td>5847</td>\n",
       "      <td>5227</td>\n",
       "      <td>620</td>\n",
       "      <td>0</td>\n",
       "      <td>4956</td>\n",
       "      <td>797</td>\n",
       "      <td>43</td>\n",
       "      <td>5</td>\n",
       "      <td>4</td>\n",
       "      <td>1</td>\n",
       "      <td>41</td>\n",
       "      <td>0</td>\n",
       "      <td>0</td>\n",
       "      <td>WV</td>\n",
       "    </tr>\n",
       "    <tr>\n",
       "      <th>48</th>\n",
       "      <td>5892539</td>\n",
       "      <td>Wisconsin</td>\n",
       "      <td>20202</td>\n",
       "      <td>18953</td>\n",
       "      <td>1249</td>\n",
       "      <td>0</td>\n",
       "      <td>8947</td>\n",
       "      <td>8200</td>\n",
       "      <td>1918</td>\n",
       "      <td>886</td>\n",
       "      <td>244</td>\n",
       "      <td>0</td>\n",
       "      <td>0</td>\n",
       "      <td>0</td>\n",
       "      <td>7</td>\n",
       "      <td>WI</td>\n",
       "    </tr>\n",
       "    <tr>\n",
       "      <th>49</th>\n",
       "      <td>581381</td>\n",
       "      <td>Wyoming</td>\n",
       "      <td>2123</td>\n",
       "      <td>1858</td>\n",
       "      <td>265</td>\n",
       "      <td>0</td>\n",
       "      <td>1593</td>\n",
       "      <td>101</td>\n",
       "      <td>248</td>\n",
       "      <td>159</td>\n",
       "      <td>9</td>\n",
       "      <td>5</td>\n",
       "      <td>0</td>\n",
       "      <td>3</td>\n",
       "      <td>5</td>\n",
       "      <td>WY</td>\n",
       "    </tr>\n",
       "  </tbody>\n",
       "</table>\n",
       "</div>"
      ],
      "text/plain": [
       "     tot_pop           State  Total state prison population    Male  Female  \\\n",
       "0    5074296         Alabama                          25032   22915    2117   \n",
       "1     733583          Alaska                           4639    4197     442   \n",
       "2    7359197         Arizona                          33914   30794    3120   \n",
       "3    3045637        Arkansas                          17022   15592    1430   \n",
       "4   39029342      California                         101441   97525    3916   \n",
       "5    5839926        Colorado                          15865   14599    1266   \n",
       "6    3626205     Connecticut                           9889    9254     635   \n",
       "7    1018396        Delaware                           4810    4568     242   \n",
       "8   22244823         Florida                          80417   75404    5013   \n",
       "9   10912876         Georgia                          47010   43942    3068   \n",
       "10   1440196          Hawaii                           4102    3669     433   \n",
       "11   1939033           Idaho                           8907    7668    1239   \n",
       "12  12582032        Illinois                          28475   27165    1310   \n",
       "13   6833037         Indiana                          24716   22397    2319   \n",
       "14   3200517            Iowa                           8562    7859     703   \n",
       "15   2937150          Kansas                           8521    7793     728   \n",
       "16   4512310        Kentucky                          18560   16493    2067   \n",
       "17   4590241       Louisiana                          26074   24849    1225   \n",
       "18   1385340           Maine                           1577    1466     111   \n",
       "19   6164660        Maryland                          15134   14616     518   \n",
       "20   6981974   Massachusetts                           6148    5949     199   \n",
       "21  10034113        Michigan                          32186   30621    1565   \n",
       "22   5717184       Minnesota                           8003    7546     457   \n",
       "23   2940057     Mississippi                          17332   16116    1216   \n",
       "24   6177957        Missouri                          23422   21370    2052   \n",
       "25   1122867         Montana                           4313    3702     611   \n",
       "26   1967923        Nebraska                           5600    5200     400   \n",
       "27   3177772          Nevada                          10202    9418     784   \n",
       "28   1395231   New Hampshire                           2127    1979     148   \n",
       "29   9261699      New Jersey                          12506   12052     454   \n",
       "30   2113344      New Mexico                           5154    4635     519   \n",
       "31  19677151        New York                          30338   29233    1105   \n",
       "32  10698973  North Carolina                          28995   26871    2124   \n",
       "33    779261    North Dakota                           1689    1489     200   \n",
       "34  11756058            Ohio                          45029   41443    3586   \n",
       "35   4019800        Oklahoma                          22391   20216    2175   \n",
       "36   4240137          Oregon                          13198   12252     946   \n",
       "37  12972008    Pennsylvania                          37194   35182    2012   \n",
       "38   1093734    Rhode Island                           2238    2115     123   \n",
       "39   5282634  South Carolina                          15759   14721    1038   \n",
       "40    909824    South Dakota                           3353    2892     461   \n",
       "41   7051339       Tennessee                          21995   19903    2092   \n",
       "42  30029572           Texas                         133772  123263   10509   \n",
       "43   3380800            Utah                           5907    5426     481   \n",
       "44    647064         Vermont                           1287    1204      83   \n",
       "45   8683619        Virginia                          30357   28119    2238   \n",
       "46   7785786      Washington                          13674   12888     786   \n",
       "47   1775156   West Virginia                           5847    5227     620   \n",
       "48   5892539       Wisconsin                          20202   18953    1249   \n",
       "49    581381         Wyoming                           2123    1858     265   \n",
       "\n",
       "    Under 18  White (non-Hispanic)  Black (non-Hispanic)  Hispanic  \\\n",
       "0          0                 11470                 13353         0   \n",
       "1          0                  1895                   465       125   \n",
       "2         17                 12960                  5087     13131   \n",
       "3          5                  9547                  6771       563   \n",
       "4          0                 20137                 28710     45999   \n",
       "5          0                  6520                  2769      4722   \n",
       "6         41                  2778                  4208      2824   \n",
       "7          0                  1551                  2952       299   \n",
       "8         48                 31599                 38266     10174   \n",
       "9          0                 17159                 27715      1945   \n",
       "10         0                   915                   185        98   \n",
       "11         0                  6419                   258      1288   \n",
       "12         0                  8849                 15204      3671   \n",
       "13        11                 14292                  7547       992   \n",
       "14         9                  5492                  2173       605   \n",
       "15         0                  4781                  2335      1118   \n",
       "16         0                 14102                  3879       296   \n",
       "17         7                  8863                 17097        66   \n",
       "18         0                  1261                   175         0   \n",
       "19         3                  3414                 10730       713   \n",
       "20         0                  2561                  1792      1567   \n",
       "21         5                 13746                 16278       632   \n",
       "22         3                  3732                  2834       471   \n",
       "23        20                  6419                 10649       181   \n",
       "24         2                 14606                  7843       494   \n",
       "25         0                  3000                   116       133   \n",
       "26         8                  2829                  1551       824   \n",
       "27         0                  3730                  3100      2764   \n",
       "28         0                  1752                   152       125   \n",
       "29         0                  2771                  7662      1941   \n",
       "30         0                  1385                   380      3194   \n",
       "31         0                  7056                 14930      7290   \n",
       "32        16                 11776                 14620      1725   \n",
       "33         0                   982                   181        99   \n",
       "34        27                 22368                 19305      1156   \n",
       "35         8                 11109                  6087      1871   \n",
       "36         0                  9566                  1236      1757   \n",
       "37        14                 16427                 17125      3333   \n",
       "38         0                   887                   643       614   \n",
       "39         1                  5894                  9285       427   \n",
       "40         0                  1730                   262       134   \n",
       "41         4                 12047                  9295       560   \n",
       "42        15                 45229                 43485     44284   \n",
       "43         0                  3487                   450      1219   \n",
       "44         1                  1104                   124         0   \n",
       "45         1                 12863                 16326       988   \n",
       "46         4                  7555                  2419      2286   \n",
       "47         0                  4956                   797        43   \n",
       "48         0                  8947                  8200      1918   \n",
       "49         0                  1593                   101       248   \n",
       "\n",
       "    American Indian/ Alaska Native (non-Hispanic)  Asian (non-Hispanic)  \\\n",
       "0                                               3                     4   \n",
       "1                                            1855                   158   \n",
       "2                                            1880                   157   \n",
       "3                                              49                    48   \n",
       "4                                            1161                  1162   \n",
       "5                                             542                   184   \n",
       "6                                              34                    43   \n",
       "7                                               1                     6   \n",
       "8                                              88                    18   \n",
       "9                                              22                   157   \n",
       "10                                             21                   699   \n",
       "11                                            329                    43   \n",
       "12                                             42                   104   \n",
       "13                                             50                    55   \n",
       "14                                            195                     0   \n",
       "15                                            201                    75   \n",
       "16                                             18                     0   \n",
       "17                                             21                    25   \n",
       "18                                             43                     7   \n",
       "19                                             76                    49   \n",
       "20                                             36                   102   \n",
       "21                                            287                    94   \n",
       "22                                            756                   197   \n",
       "23                                             35                    39   \n",
       "24                                             97                    61   \n",
       "25                                           1049                     0   \n",
       "26                                            287                    44   \n",
       "27                                            233                   206   \n",
       "28                                             11                     6   \n",
       "29                                             13                    97   \n",
       "30                                            455                    12   \n",
       "31                                            289                   190   \n",
       "32                                            576                    94   \n",
       "33                                            418                     6   \n",
       "34                                             83                    72   \n",
       "35                                           2099                    88   \n",
       "36                                            411                   183   \n",
       "37                                             37                   114   \n",
       "38                                             21                    30   \n",
       "39                                             25                    22   \n",
       "40                                           1189                    26   \n",
       "41                                             36                    57   \n",
       "42                                             63                   522   \n",
       "43                                            333                    58   \n",
       "44                                             25                     8   \n",
       "45                                             32                   124   \n",
       "46                                            682                   590   \n",
       "47                                              5                     4   \n",
       "48                                            886                   244   \n",
       "49                                            159                     9   \n",
       "\n",
       "    Native Hawaiian/ Pacific Islander (non-Hispanic)  \\\n",
       "0                                                  0   \n",
       "1                                                 95   \n",
       "2                                                  0   \n",
       "3                                                 19   \n",
       "4                                                321   \n",
       "5                                                 10   \n",
       "6                                                  0   \n",
       "7                                                  0   \n",
       "8                                                  7   \n",
       "9                                                  0   \n",
       "10                                              1800   \n",
       "11                                                 0   \n",
       "12                                                 0   \n",
       "13                                                 9   \n",
       "14                                                 0   \n",
       "15                                                 0   \n",
       "16                                                 0   \n",
       "17                                                 0   \n",
       "18                                                 1   \n",
       "19                                                16   \n",
       "20                                                 0   \n",
       "21                                                 7   \n",
       "22                                                 0   \n",
       "23                                                 0   \n",
       "24                                                 0   \n",
       "25                                                 0   \n",
       "26                                                 4   \n",
       "27                                               113   \n",
       "28                                                 1   \n",
       "29                                                 0   \n",
       "30                                                22   \n",
       "31                                                 0   \n",
       "32                                                 0   \n",
       "33                                                 3   \n",
       "34                                                 0   \n",
       "35                                                31   \n",
       "36                                                36   \n",
       "37                                                 0   \n",
       "38                                                 0   \n",
       "39                                                 0   \n",
       "40                                                 2   \n",
       "41                                                 0   \n",
       "42                                                 0   \n",
       "43                                               136   \n",
       "44                                                 2   \n",
       "45                                                 0   \n",
       "46                                                 0   \n",
       "47                                                 1   \n",
       "48                                                 0   \n",
       "49                                                 5   \n",
       "\n",
       "    2 or more races (non-Hispanic)  Some other race (non-Hispanic)  \\\n",
       "0                                0                             202   \n",
       "1                                0                               0   \n",
       "2                                0                             612   \n",
       "3                                0                              23   \n",
       "4                                0                            3951   \n",
       "5                                0                            1025   \n",
       "6                                0                               0   \n",
       "7                                0                               0   \n",
       "8                                0                             262   \n",
       "9                                0                               0   \n",
       "10                             145                               0   \n",
       "11                               0                             107   \n",
       "12                              55                               0   \n",
       "13                             153                               0   \n",
       "14                               0                              96   \n",
       "15                               0                               5   \n",
       "16                             220                              30   \n",
       "17                               0                               2   \n",
       "18                              29                               0   \n",
       "19                               0                             114   \n",
       "20                               0                               0   \n",
       "21                            1104                               0   \n",
       "22                               0                               0   \n",
       "23                               0                               0   \n",
       "24                               0                               0   \n",
       "25                               0                              15   \n",
       "26                               0                              58   \n",
       "27                               0                               0   \n",
       "28                               0                              45   \n",
       "29                               0                               0   \n",
       "30                               0                               0   \n",
       "31                               0                             435   \n",
       "32                               0                               0   \n",
       "33                               0                               0   \n",
       "34                               0                             446   \n",
       "35                               0                              50   \n",
       "36                               0                               0   \n",
       "37                               0                               0   \n",
       "38                               0                              39   \n",
       "39                               0                             104   \n",
       "40                               0                              10   \n",
       "41                               0                               0   \n",
       "42                               0                             189   \n",
       "43                               0                               0   \n",
       "44                               0                               9   \n",
       "45                               0                               0   \n",
       "46                               0                              56   \n",
       "47                              41                               0   \n",
       "48                               0                               0   \n",
       "49                               0                               3   \n",
       "\n",
       "    Unknown or not reported state_code  \n",
       "0                         0         AL  \n",
       "1                        46         AK  \n",
       "2                        87         AZ  \n",
       "3                         2         AR  \n",
       "4                         0         CA  \n",
       "5                        93         CO  \n",
       "6                         2         CT  \n",
       "7                         1         DE  \n",
       "8                         3         FL  \n",
       "9                        12         GA  \n",
       "10                      239         HI  \n",
       "11                      463         ID  \n",
       "12                      550         IL  \n",
       "13                     1618         IN  \n",
       "14                        1         IA  \n",
       "15                        6         KS  \n",
       "16                       15         KY  \n",
       "17                        0         LA  \n",
       "18                       61         ME  \n",
       "19                       22         MD  \n",
       "20                       90         MA  \n",
       "21                       38         MI  \n",
       "22                       13         MN  \n",
       "23                        9         MP  \n",
       "24                      321         MO  \n",
       "25                        0         MT  \n",
       "26                        3         NE  \n",
       "27                       56         NV  \n",
       "28                       35         NH  \n",
       "29                       22         NJ  \n",
       "30                       49         NM  \n",
       "31                      148         NY  \n",
       "32                      204         NC  \n",
       "33                        0         ND  \n",
       "34                     1599         OH  \n",
       "35                     1056         OK  \n",
       "36                        9         OR  \n",
       "37                      158         PA  \n",
       "38                        4         RI  \n",
       "39                        2         SC  \n",
       "40                        0         SD  \n",
       "41                        0         TN  \n",
       "42                        0         TX  \n",
       "43                      224         UT  \n",
       "44                       15         VT  \n",
       "45                       24         VA  \n",
       "46                       86         WA  \n",
       "47                        0         WV  \n",
       "48                        7         WI  \n",
       "49                        5         WY  "
      ]
     },
     "execution_count": 114,
     "metadata": {},
     "output_type": "execute_result"
    }
   ],
   "source": [
    "population_data = pd.concat([state_pop,prisonsorted], axis = 1 )\n",
    "population_data"
   ]
  },
  {
   "cell_type": "code",
   "execution_count": 116,
   "metadata": {},
   "outputs": [],
   "source": [
    "population_data['per100k'] = (population_data['Total state prison population']/population_data['tot_pop'])*100_000"
   ]
  },
  {
   "cell_type": "code",
   "execution_count": 117,
   "metadata": {},
   "outputs": [
    {
     "data": {
      "text/html": [
       "<div>\n",
       "<style scoped>\n",
       "    .dataframe tbody tr th:only-of-type {\n",
       "        vertical-align: middle;\n",
       "    }\n",
       "\n",
       "    .dataframe tbody tr th {\n",
       "        vertical-align: top;\n",
       "    }\n",
       "\n",
       "    .dataframe thead th {\n",
       "        text-align: right;\n",
       "    }\n",
       "</style>\n",
       "<table border=\"1\" class=\"dataframe\">\n",
       "  <thead>\n",
       "    <tr style=\"text-align: right;\">\n",
       "      <th></th>\n",
       "      <th>tot_pop</th>\n",
       "      <th>State</th>\n",
       "      <th>Total state prison population</th>\n",
       "      <th>Male</th>\n",
       "      <th>Female</th>\n",
       "      <th>Under 18</th>\n",
       "      <th>White (non-Hispanic)</th>\n",
       "      <th>Black (non-Hispanic)</th>\n",
       "      <th>Hispanic</th>\n",
       "      <th>American Indian/ Alaska Native (non-Hispanic)</th>\n",
       "      <th>Asian (non-Hispanic)</th>\n",
       "      <th>Native Hawaiian/ Pacific Islander (non-Hispanic)</th>\n",
       "      <th>2 or more races (non-Hispanic)</th>\n",
       "      <th>Some other race (non-Hispanic)</th>\n",
       "      <th>Unknown or not reported</th>\n",
       "      <th>state_code</th>\n",
       "      <th>per100k</th>\n",
       "    </tr>\n",
       "  </thead>\n",
       "  <tbody>\n",
       "    <tr>\n",
       "      <th>0</th>\n",
       "      <td>5074296</td>\n",
       "      <td>Alabama</td>\n",
       "      <td>25032</td>\n",
       "      <td>22915</td>\n",
       "      <td>2117</td>\n",
       "      <td>0</td>\n",
       "      <td>11470</td>\n",
       "      <td>13353</td>\n",
       "      <td>0</td>\n",
       "      <td>3</td>\n",
       "      <td>4</td>\n",
       "      <td>0</td>\n",
       "      <td>0</td>\n",
       "      <td>202</td>\n",
       "      <td>0</td>\n",
       "      <td>AL</td>\n",
       "      <td>493.309811</td>\n",
       "    </tr>\n",
       "    <tr>\n",
       "      <th>1</th>\n",
       "      <td>733583</td>\n",
       "      <td>Alaska</td>\n",
       "      <td>4639</td>\n",
       "      <td>4197</td>\n",
       "      <td>442</td>\n",
       "      <td>0</td>\n",
       "      <td>1895</td>\n",
       "      <td>465</td>\n",
       "      <td>125</td>\n",
       "      <td>1855</td>\n",
       "      <td>158</td>\n",
       "      <td>95</td>\n",
       "      <td>0</td>\n",
       "      <td>0</td>\n",
       "      <td>46</td>\n",
       "      <td>AK</td>\n",
       "      <td>632.375614</td>\n",
       "    </tr>\n",
       "    <tr>\n",
       "      <th>2</th>\n",
       "      <td>7359197</td>\n",
       "      <td>Arizona</td>\n",
       "      <td>33914</td>\n",
       "      <td>30794</td>\n",
       "      <td>3120</td>\n",
       "      <td>17</td>\n",
       "      <td>12960</td>\n",
       "      <td>5087</td>\n",
       "      <td>13131</td>\n",
       "      <td>1880</td>\n",
       "      <td>157</td>\n",
       "      <td>0</td>\n",
       "      <td>0</td>\n",
       "      <td>612</td>\n",
       "      <td>87</td>\n",
       "      <td>AZ</td>\n",
       "      <td>460.838322</td>\n",
       "    </tr>\n",
       "    <tr>\n",
       "      <th>3</th>\n",
       "      <td>3045637</td>\n",
       "      <td>Arkansas</td>\n",
       "      <td>17022</td>\n",
       "      <td>15592</td>\n",
       "      <td>1430</td>\n",
       "      <td>5</td>\n",
       "      <td>9547</td>\n",
       "      <td>6771</td>\n",
       "      <td>563</td>\n",
       "      <td>49</td>\n",
       "      <td>48</td>\n",
       "      <td>19</td>\n",
       "      <td>0</td>\n",
       "      <td>23</td>\n",
       "      <td>2</td>\n",
       "      <td>AR</td>\n",
       "      <td>558.897859</td>\n",
       "    </tr>\n",
       "    <tr>\n",
       "      <th>4</th>\n",
       "      <td>39029342</td>\n",
       "      <td>California</td>\n",
       "      <td>101441</td>\n",
       "      <td>97525</td>\n",
       "      <td>3916</td>\n",
       "      <td>0</td>\n",
       "      <td>20137</td>\n",
       "      <td>28710</td>\n",
       "      <td>45999</td>\n",
       "      <td>1161</td>\n",
       "      <td>1162</td>\n",
       "      <td>321</td>\n",
       "      <td>0</td>\n",
       "      <td>3951</td>\n",
       "      <td>0</td>\n",
       "      <td>CA</td>\n",
       "      <td>259.909583</td>\n",
       "    </tr>\n",
       "    <tr>\n",
       "      <th>5</th>\n",
       "      <td>5839926</td>\n",
       "      <td>Colorado</td>\n",
       "      <td>15865</td>\n",
       "      <td>14599</td>\n",
       "      <td>1266</td>\n",
       "      <td>0</td>\n",
       "      <td>6520</td>\n",
       "      <td>2769</td>\n",
       "      <td>4722</td>\n",
       "      <td>542</td>\n",
       "      <td>184</td>\n",
       "      <td>10</td>\n",
       "      <td>0</td>\n",
       "      <td>1025</td>\n",
       "      <td>93</td>\n",
       "      <td>CO</td>\n",
       "      <td>271.664401</td>\n",
       "    </tr>\n",
       "    <tr>\n",
       "      <th>6</th>\n",
       "      <td>3626205</td>\n",
       "      <td>Connecticut</td>\n",
       "      <td>9889</td>\n",
       "      <td>9254</td>\n",
       "      <td>635</td>\n",
       "      <td>41</td>\n",
       "      <td>2778</td>\n",
       "      <td>4208</td>\n",
       "      <td>2824</td>\n",
       "      <td>34</td>\n",
       "      <td>43</td>\n",
       "      <td>0</td>\n",
       "      <td>0</td>\n",
       "      <td>0</td>\n",
       "      <td>2</td>\n",
       "      <td>CT</td>\n",
       "      <td>272.709348</td>\n",
       "    </tr>\n",
       "    <tr>\n",
       "      <th>7</th>\n",
       "      <td>1018396</td>\n",
       "      <td>Delaware</td>\n",
       "      <td>4810</td>\n",
       "      <td>4568</td>\n",
       "      <td>242</td>\n",
       "      <td>0</td>\n",
       "      <td>1551</td>\n",
       "      <td>2952</td>\n",
       "      <td>299</td>\n",
       "      <td>1</td>\n",
       "      <td>6</td>\n",
       "      <td>0</td>\n",
       "      <td>0</td>\n",
       "      <td>0</td>\n",
       "      <td>1</td>\n",
       "      <td>DE</td>\n",
       "      <td>472.311360</td>\n",
       "    </tr>\n",
       "    <tr>\n",
       "      <th>8</th>\n",
       "      <td>22244823</td>\n",
       "      <td>Florida</td>\n",
       "      <td>80417</td>\n",
       "      <td>75404</td>\n",
       "      <td>5013</td>\n",
       "      <td>48</td>\n",
       "      <td>31599</td>\n",
       "      <td>38266</td>\n",
       "      <td>10174</td>\n",
       "      <td>88</td>\n",
       "      <td>18</td>\n",
       "      <td>7</td>\n",
       "      <td>0</td>\n",
       "      <td>262</td>\n",
       "      <td>3</td>\n",
       "      <td>FL</td>\n",
       "      <td>361.508833</td>\n",
       "    </tr>\n",
       "    <tr>\n",
       "      <th>9</th>\n",
       "      <td>10912876</td>\n",
       "      <td>Georgia</td>\n",
       "      <td>47010</td>\n",
       "      <td>43942</td>\n",
       "      <td>3068</td>\n",
       "      <td>0</td>\n",
       "      <td>17159</td>\n",
       "      <td>27715</td>\n",
       "      <td>1945</td>\n",
       "      <td>22</td>\n",
       "      <td>157</td>\n",
       "      <td>0</td>\n",
       "      <td>0</td>\n",
       "      <td>0</td>\n",
       "      <td>12</td>\n",
       "      <td>GA</td>\n",
       "      <td>430.775535</td>\n",
       "    </tr>\n",
       "    <tr>\n",
       "      <th>10</th>\n",
       "      <td>1440196</td>\n",
       "      <td>Hawaii</td>\n",
       "      <td>4102</td>\n",
       "      <td>3669</td>\n",
       "      <td>433</td>\n",
       "      <td>0</td>\n",
       "      <td>915</td>\n",
       "      <td>185</td>\n",
       "      <td>98</td>\n",
       "      <td>21</td>\n",
       "      <td>699</td>\n",
       "      <td>1800</td>\n",
       "      <td>145</td>\n",
       "      <td>0</td>\n",
       "      <td>239</td>\n",
       "      <td>HI</td>\n",
       "      <td>284.822344</td>\n",
       "    </tr>\n",
       "    <tr>\n",
       "      <th>11</th>\n",
       "      <td>1939033</td>\n",
       "      <td>Idaho</td>\n",
       "      <td>8907</td>\n",
       "      <td>7668</td>\n",
       "      <td>1239</td>\n",
       "      <td>0</td>\n",
       "      <td>6419</td>\n",
       "      <td>258</td>\n",
       "      <td>1288</td>\n",
       "      <td>329</td>\n",
       "      <td>43</td>\n",
       "      <td>0</td>\n",
       "      <td>0</td>\n",
       "      <td>107</td>\n",
       "      <td>463</td>\n",
       "      <td>ID</td>\n",
       "      <td>459.352677</td>\n",
       "    </tr>\n",
       "    <tr>\n",
       "      <th>12</th>\n",
       "      <td>12582032</td>\n",
       "      <td>Illinois</td>\n",
       "      <td>28475</td>\n",
       "      <td>27165</td>\n",
       "      <td>1310</td>\n",
       "      <td>0</td>\n",
       "      <td>8849</td>\n",
       "      <td>15204</td>\n",
       "      <td>3671</td>\n",
       "      <td>42</td>\n",
       "      <td>104</td>\n",
       "      <td>0</td>\n",
       "      <td>55</td>\n",
       "      <td>0</td>\n",
       "      <td>550</td>\n",
       "      <td>IL</td>\n",
       "      <td>226.314796</td>\n",
       "    </tr>\n",
       "    <tr>\n",
       "      <th>13</th>\n",
       "      <td>6833037</td>\n",
       "      <td>Indiana</td>\n",
       "      <td>24716</td>\n",
       "      <td>22397</td>\n",
       "      <td>2319</td>\n",
       "      <td>11</td>\n",
       "      <td>14292</td>\n",
       "      <td>7547</td>\n",
       "      <td>992</td>\n",
       "      <td>50</td>\n",
       "      <td>55</td>\n",
       "      <td>9</td>\n",
       "      <td>153</td>\n",
       "      <td>0</td>\n",
       "      <td>1618</td>\n",
       "      <td>IN</td>\n",
       "      <td>361.713247</td>\n",
       "    </tr>\n",
       "    <tr>\n",
       "      <th>14</th>\n",
       "      <td>3200517</td>\n",
       "      <td>Iowa</td>\n",
       "      <td>8562</td>\n",
       "      <td>7859</td>\n",
       "      <td>703</td>\n",
       "      <td>9</td>\n",
       "      <td>5492</td>\n",
       "      <td>2173</td>\n",
       "      <td>605</td>\n",
       "      <td>195</td>\n",
       "      <td>0</td>\n",
       "      <td>0</td>\n",
       "      <td>0</td>\n",
       "      <td>96</td>\n",
       "      <td>1</td>\n",
       "      <td>IA</td>\n",
       "      <td>267.519279</td>\n",
       "    </tr>\n",
       "    <tr>\n",
       "      <th>15</th>\n",
       "      <td>2937150</td>\n",
       "      <td>Kansas</td>\n",
       "      <td>8521</td>\n",
       "      <td>7793</td>\n",
       "      <td>728</td>\n",
       "      <td>0</td>\n",
       "      <td>4781</td>\n",
       "      <td>2335</td>\n",
       "      <td>1118</td>\n",
       "      <td>201</td>\n",
       "      <td>75</td>\n",
       "      <td>0</td>\n",
       "      <td>0</td>\n",
       "      <td>5</td>\n",
       "      <td>6</td>\n",
       "      <td>KS</td>\n",
       "      <td>290.111162</td>\n",
       "    </tr>\n",
       "    <tr>\n",
       "      <th>16</th>\n",
       "      <td>4512310</td>\n",
       "      <td>Kentucky</td>\n",
       "      <td>18560</td>\n",
       "      <td>16493</td>\n",
       "      <td>2067</td>\n",
       "      <td>0</td>\n",
       "      <td>14102</td>\n",
       "      <td>3879</td>\n",
       "      <td>296</td>\n",
       "      <td>18</td>\n",
       "      <td>0</td>\n",
       "      <td>0</td>\n",
       "      <td>220</td>\n",
       "      <td>30</td>\n",
       "      <td>15</td>\n",
       "      <td>KY</td>\n",
       "      <td>411.319258</td>\n",
       "    </tr>\n",
       "    <tr>\n",
       "      <th>17</th>\n",
       "      <td>4590241</td>\n",
       "      <td>Louisiana</td>\n",
       "      <td>26074</td>\n",
       "      <td>24849</td>\n",
       "      <td>1225</td>\n",
       "      <td>7</td>\n",
       "      <td>8863</td>\n",
       "      <td>17097</td>\n",
       "      <td>66</td>\n",
       "      <td>21</td>\n",
       "      <td>25</td>\n",
       "      <td>0</td>\n",
       "      <td>0</td>\n",
       "      <td>2</td>\n",
       "      <td>0</td>\n",
       "      <td>LA</td>\n",
       "      <td>568.031177</td>\n",
       "    </tr>\n",
       "    <tr>\n",
       "      <th>18</th>\n",
       "      <td>1385340</td>\n",
       "      <td>Maine</td>\n",
       "      <td>1577</td>\n",
       "      <td>1466</td>\n",
       "      <td>111</td>\n",
       "      <td>0</td>\n",
       "      <td>1261</td>\n",
       "      <td>175</td>\n",
       "      <td>0</td>\n",
       "      <td>43</td>\n",
       "      <td>7</td>\n",
       "      <td>1</td>\n",
       "      <td>29</td>\n",
       "      <td>0</td>\n",
       "      <td>61</td>\n",
       "      <td>ME</td>\n",
       "      <td>113.834871</td>\n",
       "    </tr>\n",
       "    <tr>\n",
       "      <th>19</th>\n",
       "      <td>6164660</td>\n",
       "      <td>Maryland</td>\n",
       "      <td>15134</td>\n",
       "      <td>14616</td>\n",
       "      <td>518</td>\n",
       "      <td>3</td>\n",
       "      <td>3414</td>\n",
       "      <td>10730</td>\n",
       "      <td>713</td>\n",
       "      <td>76</td>\n",
       "      <td>49</td>\n",
       "      <td>16</td>\n",
       "      <td>0</td>\n",
       "      <td>114</td>\n",
       "      <td>22</td>\n",
       "      <td>MD</td>\n",
       "      <td>245.496102</td>\n",
       "    </tr>\n",
       "    <tr>\n",
       "      <th>20</th>\n",
       "      <td>6981974</td>\n",
       "      <td>Massachusetts</td>\n",
       "      <td>6148</td>\n",
       "      <td>5949</td>\n",
       "      <td>199</td>\n",
       "      <td>0</td>\n",
       "      <td>2561</td>\n",
       "      <td>1792</td>\n",
       "      <td>1567</td>\n",
       "      <td>36</td>\n",
       "      <td>102</td>\n",
       "      <td>0</td>\n",
       "      <td>0</td>\n",
       "      <td>0</td>\n",
       "      <td>90</td>\n",
       "      <td>MA</td>\n",
       "      <td>88.055326</td>\n",
       "    </tr>\n",
       "    <tr>\n",
       "      <th>21</th>\n",
       "      <td>10034113</td>\n",
       "      <td>Michigan</td>\n",
       "      <td>32186</td>\n",
       "      <td>30621</td>\n",
       "      <td>1565</td>\n",
       "      <td>5</td>\n",
       "      <td>13746</td>\n",
       "      <td>16278</td>\n",
       "      <td>632</td>\n",
       "      <td>287</td>\n",
       "      <td>94</td>\n",
       "      <td>7</td>\n",
       "      <td>1104</td>\n",
       "      <td>0</td>\n",
       "      <td>38</td>\n",
       "      <td>MI</td>\n",
       "      <td>320.765772</td>\n",
       "    </tr>\n",
       "    <tr>\n",
       "      <th>22</th>\n",
       "      <td>5717184</td>\n",
       "      <td>Minnesota</td>\n",
       "      <td>8003</td>\n",
       "      <td>7546</td>\n",
       "      <td>457</td>\n",
       "      <td>3</td>\n",
       "      <td>3732</td>\n",
       "      <td>2834</td>\n",
       "      <td>471</td>\n",
       "      <td>756</td>\n",
       "      <td>197</td>\n",
       "      <td>0</td>\n",
       "      <td>0</td>\n",
       "      <td>0</td>\n",
       "      <td>13</td>\n",
       "      <td>MN</td>\n",
       "      <td>139.981501</td>\n",
       "    </tr>\n",
       "    <tr>\n",
       "      <th>23</th>\n",
       "      <td>2940057</td>\n",
       "      <td>Mississippi</td>\n",
       "      <td>17332</td>\n",
       "      <td>16116</td>\n",
       "      <td>1216</td>\n",
       "      <td>20</td>\n",
       "      <td>6419</td>\n",
       "      <td>10649</td>\n",
       "      <td>181</td>\n",
       "      <td>35</td>\n",
       "      <td>39</td>\n",
       "      <td>0</td>\n",
       "      <td>0</td>\n",
       "      <td>0</td>\n",
       "      <td>9</td>\n",
       "      <td>MP</td>\n",
       "      <td>589.512380</td>\n",
       "    </tr>\n",
       "    <tr>\n",
       "      <th>24</th>\n",
       "      <td>6177957</td>\n",
       "      <td>Missouri</td>\n",
       "      <td>23422</td>\n",
       "      <td>21370</td>\n",
       "      <td>2052</td>\n",
       "      <td>2</td>\n",
       "      <td>14606</td>\n",
       "      <td>7843</td>\n",
       "      <td>494</td>\n",
       "      <td>97</td>\n",
       "      <td>61</td>\n",
       "      <td>0</td>\n",
       "      <td>0</td>\n",
       "      <td>0</td>\n",
       "      <td>321</td>\n",
       "      <td>MO</td>\n",
       "      <td>379.122095</td>\n",
       "    </tr>\n",
       "    <tr>\n",
       "      <th>25</th>\n",
       "      <td>1122867</td>\n",
       "      <td>Montana</td>\n",
       "      <td>4313</td>\n",
       "      <td>3702</td>\n",
       "      <td>611</td>\n",
       "      <td>0</td>\n",
       "      <td>3000</td>\n",
       "      <td>116</td>\n",
       "      <td>133</td>\n",
       "      <td>1049</td>\n",
       "      <td>0</td>\n",
       "      <td>0</td>\n",
       "      <td>0</td>\n",
       "      <td>15</td>\n",
       "      <td>0</td>\n",
       "      <td>MT</td>\n",
       "      <td>384.106043</td>\n",
       "    </tr>\n",
       "    <tr>\n",
       "      <th>26</th>\n",
       "      <td>1967923</td>\n",
       "      <td>Nebraska</td>\n",
       "      <td>5600</td>\n",
       "      <td>5200</td>\n",
       "      <td>400</td>\n",
       "      <td>8</td>\n",
       "      <td>2829</td>\n",
       "      <td>1551</td>\n",
       "      <td>824</td>\n",
       "      <td>287</td>\n",
       "      <td>44</td>\n",
       "      <td>4</td>\n",
       "      <td>0</td>\n",
       "      <td>58</td>\n",
       "      <td>3</td>\n",
       "      <td>NE</td>\n",
       "      <td>284.563979</td>\n",
       "    </tr>\n",
       "    <tr>\n",
       "      <th>27</th>\n",
       "      <td>3177772</td>\n",
       "      <td>Nevada</td>\n",
       "      <td>10202</td>\n",
       "      <td>9418</td>\n",
       "      <td>784</td>\n",
       "      <td>0</td>\n",
       "      <td>3730</td>\n",
       "      <td>3100</td>\n",
       "      <td>2764</td>\n",
       "      <td>233</td>\n",
       "      <td>206</td>\n",
       "      <td>113</td>\n",
       "      <td>0</td>\n",
       "      <td>0</td>\n",
       "      <td>56</td>\n",
       "      <td>NV</td>\n",
       "      <td>321.042542</td>\n",
       "    </tr>\n",
       "    <tr>\n",
       "      <th>28</th>\n",
       "      <td>1395231</td>\n",
       "      <td>New Hampshire</td>\n",
       "      <td>2127</td>\n",
       "      <td>1979</td>\n",
       "      <td>148</td>\n",
       "      <td>0</td>\n",
       "      <td>1752</td>\n",
       "      <td>152</td>\n",
       "      <td>125</td>\n",
       "      <td>11</td>\n",
       "      <td>6</td>\n",
       "      <td>1</td>\n",
       "      <td>0</td>\n",
       "      <td>45</td>\n",
       "      <td>35</td>\n",
       "      <td>NH</td>\n",
       "      <td>152.447874</td>\n",
       "    </tr>\n",
       "    <tr>\n",
       "      <th>29</th>\n",
       "      <td>9261699</td>\n",
       "      <td>New Jersey</td>\n",
       "      <td>12506</td>\n",
       "      <td>12052</td>\n",
       "      <td>454</td>\n",
       "      <td>0</td>\n",
       "      <td>2771</td>\n",
       "      <td>7662</td>\n",
       "      <td>1941</td>\n",
       "      <td>13</td>\n",
       "      <td>97</td>\n",
       "      <td>0</td>\n",
       "      <td>0</td>\n",
       "      <td>0</td>\n",
       "      <td>22</td>\n",
       "      <td>NJ</td>\n",
       "      <td>135.029221</td>\n",
       "    </tr>\n",
       "    <tr>\n",
       "      <th>30</th>\n",
       "      <td>2113344</td>\n",
       "      <td>New Mexico</td>\n",
       "      <td>5154</td>\n",
       "      <td>4635</td>\n",
       "      <td>519</td>\n",
       "      <td>0</td>\n",
       "      <td>1385</td>\n",
       "      <td>380</td>\n",
       "      <td>3194</td>\n",
       "      <td>455</td>\n",
       "      <td>12</td>\n",
       "      <td>22</td>\n",
       "      <td>0</td>\n",
       "      <td>0</td>\n",
       "      <td>49</td>\n",
       "      <td>NM</td>\n",
       "      <td>243.878895</td>\n",
       "    </tr>\n",
       "    <tr>\n",
       "      <th>31</th>\n",
       "      <td>19677151</td>\n",
       "      <td>New York</td>\n",
       "      <td>30338</td>\n",
       "      <td>29233</td>\n",
       "      <td>1105</td>\n",
       "      <td>0</td>\n",
       "      <td>7056</td>\n",
       "      <td>14930</td>\n",
       "      <td>7290</td>\n",
       "      <td>289</td>\n",
       "      <td>190</td>\n",
       "      <td>0</td>\n",
       "      <td>0</td>\n",
       "      <td>435</td>\n",
       "      <td>148</td>\n",
       "      <td>NY</td>\n",
       "      <td>154.178824</td>\n",
       "    </tr>\n",
       "    <tr>\n",
       "      <th>32</th>\n",
       "      <td>10698973</td>\n",
       "      <td>North Carolina</td>\n",
       "      <td>28995</td>\n",
       "      <td>26871</td>\n",
       "      <td>2124</td>\n",
       "      <td>16</td>\n",
       "      <td>11776</td>\n",
       "      <td>14620</td>\n",
       "      <td>1725</td>\n",
       "      <td>576</td>\n",
       "      <td>94</td>\n",
       "      <td>0</td>\n",
       "      <td>0</td>\n",
       "      <td>0</td>\n",
       "      <td>204</td>\n",
       "      <td>NC</td>\n",
       "      <td>271.007320</td>\n",
       "    </tr>\n",
       "    <tr>\n",
       "      <th>33</th>\n",
       "      <td>779261</td>\n",
       "      <td>North Dakota</td>\n",
       "      <td>1689</td>\n",
       "      <td>1489</td>\n",
       "      <td>200</td>\n",
       "      <td>0</td>\n",
       "      <td>982</td>\n",
       "      <td>181</td>\n",
       "      <td>99</td>\n",
       "      <td>418</td>\n",
       "      <td>6</td>\n",
       "      <td>3</td>\n",
       "      <td>0</td>\n",
       "      <td>0</td>\n",
       "      <td>0</td>\n",
       "      <td>ND</td>\n",
       "      <td>216.743812</td>\n",
       "    </tr>\n",
       "    <tr>\n",
       "      <th>34</th>\n",
       "      <td>11756058</td>\n",
       "      <td>Ohio</td>\n",
       "      <td>45029</td>\n",
       "      <td>41443</td>\n",
       "      <td>3586</td>\n",
       "      <td>27</td>\n",
       "      <td>22368</td>\n",
       "      <td>19305</td>\n",
       "      <td>1156</td>\n",
       "      <td>83</td>\n",
       "      <td>72</td>\n",
       "      <td>0</td>\n",
       "      <td>0</td>\n",
       "      <td>446</td>\n",
       "      <td>1599</td>\n",
       "      <td>OH</td>\n",
       "      <td>383.028052</td>\n",
       "    </tr>\n",
       "    <tr>\n",
       "      <th>35</th>\n",
       "      <td>4019800</td>\n",
       "      <td>Oklahoma</td>\n",
       "      <td>22391</td>\n",
       "      <td>20216</td>\n",
       "      <td>2175</td>\n",
       "      <td>8</td>\n",
       "      <td>11109</td>\n",
       "      <td>6087</td>\n",
       "      <td>1871</td>\n",
       "      <td>2099</td>\n",
       "      <td>88</td>\n",
       "      <td>31</td>\n",
       "      <td>0</td>\n",
       "      <td>50</td>\n",
       "      <td>1056</td>\n",
       "      <td>OK</td>\n",
       "      <td>557.017762</td>\n",
       "    </tr>\n",
       "    <tr>\n",
       "      <th>36</th>\n",
       "      <td>4240137</td>\n",
       "      <td>Oregon</td>\n",
       "      <td>13198</td>\n",
       "      <td>12252</td>\n",
       "      <td>946</td>\n",
       "      <td>0</td>\n",
       "      <td>9566</td>\n",
       "      <td>1236</td>\n",
       "      <td>1757</td>\n",
       "      <td>411</td>\n",
       "      <td>183</td>\n",
       "      <td>36</td>\n",
       "      <td>0</td>\n",
       "      <td>0</td>\n",
       "      <td>9</td>\n",
       "      <td>OR</td>\n",
       "      <td>311.263528</td>\n",
       "    </tr>\n",
       "    <tr>\n",
       "      <th>37</th>\n",
       "      <td>12972008</td>\n",
       "      <td>Pennsylvania</td>\n",
       "      <td>37194</td>\n",
       "      <td>35182</td>\n",
       "      <td>2012</td>\n",
       "      <td>14</td>\n",
       "      <td>16427</td>\n",
       "      <td>17125</td>\n",
       "      <td>3333</td>\n",
       "      <td>37</td>\n",
       "      <td>114</td>\n",
       "      <td>0</td>\n",
       "      <td>0</td>\n",
       "      <td>0</td>\n",
       "      <td>158</td>\n",
       "      <td>PA</td>\n",
       "      <td>286.725078</td>\n",
       "    </tr>\n",
       "    <tr>\n",
       "      <th>38</th>\n",
       "      <td>1093734</td>\n",
       "      <td>Rhode Island</td>\n",
       "      <td>2238</td>\n",
       "      <td>2115</td>\n",
       "      <td>123</td>\n",
       "      <td>0</td>\n",
       "      <td>887</td>\n",
       "      <td>643</td>\n",
       "      <td>614</td>\n",
       "      <td>21</td>\n",
       "      <td>30</td>\n",
       "      <td>0</td>\n",
       "      <td>0</td>\n",
       "      <td>39</td>\n",
       "      <td>4</td>\n",
       "      <td>RI</td>\n",
       "      <td>204.620136</td>\n",
       "    </tr>\n",
       "    <tr>\n",
       "      <th>39</th>\n",
       "      <td>5282634</td>\n",
       "      <td>South Carolina</td>\n",
       "      <td>15759</td>\n",
       "      <td>14721</td>\n",
       "      <td>1038</td>\n",
       "      <td>1</td>\n",
       "      <td>5894</td>\n",
       "      <td>9285</td>\n",
       "      <td>427</td>\n",
       "      <td>25</td>\n",
       "      <td>22</td>\n",
       "      <td>0</td>\n",
       "      <td>0</td>\n",
       "      <td>104</td>\n",
       "      <td>2</td>\n",
       "      <td>SC</td>\n",
       "      <td>298.317090</td>\n",
       "    </tr>\n",
       "    <tr>\n",
       "      <th>40</th>\n",
       "      <td>909824</td>\n",
       "      <td>South Dakota</td>\n",
       "      <td>3353</td>\n",
       "      <td>2892</td>\n",
       "      <td>461</td>\n",
       "      <td>0</td>\n",
       "      <td>1730</td>\n",
       "      <td>262</td>\n",
       "      <td>134</td>\n",
       "      <td>1189</td>\n",
       "      <td>26</td>\n",
       "      <td>2</td>\n",
       "      <td>0</td>\n",
       "      <td>10</td>\n",
       "      <td>0</td>\n",
       "      <td>SD</td>\n",
       "      <td>368.532815</td>\n",
       "    </tr>\n",
       "    <tr>\n",
       "      <th>41</th>\n",
       "      <td>7051339</td>\n",
       "      <td>Tennessee</td>\n",
       "      <td>21995</td>\n",
       "      <td>19903</td>\n",
       "      <td>2092</td>\n",
       "      <td>4</td>\n",
       "      <td>12047</td>\n",
       "      <td>9295</td>\n",
       "      <td>560</td>\n",
       "      <td>36</td>\n",
       "      <td>57</td>\n",
       "      <td>0</td>\n",
       "      <td>0</td>\n",
       "      <td>0</td>\n",
       "      <td>0</td>\n",
       "      <td>TN</td>\n",
       "      <td>311.926572</td>\n",
       "    </tr>\n",
       "    <tr>\n",
       "      <th>42</th>\n",
       "      <td>30029572</td>\n",
       "      <td>Texas</td>\n",
       "      <td>133772</td>\n",
       "      <td>123263</td>\n",
       "      <td>10509</td>\n",
       "      <td>15</td>\n",
       "      <td>45229</td>\n",
       "      <td>43485</td>\n",
       "      <td>44284</td>\n",
       "      <td>63</td>\n",
       "      <td>522</td>\n",
       "      <td>0</td>\n",
       "      <td>0</td>\n",
       "      <td>189</td>\n",
       "      <td>0</td>\n",
       "      <td>TX</td>\n",
       "      <td>445.467554</td>\n",
       "    </tr>\n",
       "    <tr>\n",
       "      <th>43</th>\n",
       "      <td>3380800</td>\n",
       "      <td>Utah</td>\n",
       "      <td>5907</td>\n",
       "      <td>5426</td>\n",
       "      <td>481</td>\n",
       "      <td>0</td>\n",
       "      <td>3487</td>\n",
       "      <td>450</td>\n",
       "      <td>1219</td>\n",
       "      <td>333</td>\n",
       "      <td>58</td>\n",
       "      <td>136</td>\n",
       "      <td>0</td>\n",
       "      <td>0</td>\n",
       "      <td>224</td>\n",
       "      <td>UT</td>\n",
       "      <td>174.721959</td>\n",
       "    </tr>\n",
       "    <tr>\n",
       "      <th>44</th>\n",
       "      <td>647064</td>\n",
       "      <td>Vermont</td>\n",
       "      <td>1287</td>\n",
       "      <td>1204</td>\n",
       "      <td>83</td>\n",
       "      <td>1</td>\n",
       "      <td>1104</td>\n",
       "      <td>124</td>\n",
       "      <td>0</td>\n",
       "      <td>25</td>\n",
       "      <td>8</td>\n",
       "      <td>2</td>\n",
       "      <td>0</td>\n",
       "      <td>9</td>\n",
       "      <td>15</td>\n",
       "      <td>VT</td>\n",
       "      <td>198.898409</td>\n",
       "    </tr>\n",
       "    <tr>\n",
       "      <th>45</th>\n",
       "      <td>8683619</td>\n",
       "      <td>Virginia</td>\n",
       "      <td>30357</td>\n",
       "      <td>28119</td>\n",
       "      <td>2238</td>\n",
       "      <td>1</td>\n",
       "      <td>12863</td>\n",
       "      <td>16326</td>\n",
       "      <td>988</td>\n",
       "      <td>32</td>\n",
       "      <td>124</td>\n",
       "      <td>0</td>\n",
       "      <td>0</td>\n",
       "      <td>0</td>\n",
       "      <td>24</td>\n",
       "      <td>VA</td>\n",
       "      <td>349.589267</td>\n",
       "    </tr>\n",
       "    <tr>\n",
       "      <th>46</th>\n",
       "      <td>7785786</td>\n",
       "      <td>Washington</td>\n",
       "      <td>13674</td>\n",
       "      <td>12888</td>\n",
       "      <td>786</td>\n",
       "      <td>4</td>\n",
       "      <td>7555</td>\n",
       "      <td>2419</td>\n",
       "      <td>2286</td>\n",
       "      <td>682</td>\n",
       "      <td>590</td>\n",
       "      <td>0</td>\n",
       "      <td>0</td>\n",
       "      <td>56</td>\n",
       "      <td>86</td>\n",
       "      <td>WA</td>\n",
       "      <td>175.627740</td>\n",
       "    </tr>\n",
       "    <tr>\n",
       "      <th>47</th>\n",
       "      <td>1775156</td>\n",
       "      <td>West Virginia</td>\n",
       "      <td>5847</td>\n",
       "      <td>5227</td>\n",
       "      <td>620</td>\n",
       "      <td>0</td>\n",
       "      <td>4956</td>\n",
       "      <td>797</td>\n",
       "      <td>43</td>\n",
       "      <td>5</td>\n",
       "      <td>4</td>\n",
       "      <td>1</td>\n",
       "      <td>41</td>\n",
       "      <td>0</td>\n",
       "      <td>0</td>\n",
       "      <td>WV</td>\n",
       "      <td>329.379502</td>\n",
       "    </tr>\n",
       "    <tr>\n",
       "      <th>48</th>\n",
       "      <td>5892539</td>\n",
       "      <td>Wisconsin</td>\n",
       "      <td>20202</td>\n",
       "      <td>18953</td>\n",
       "      <td>1249</td>\n",
       "      <td>0</td>\n",
       "      <td>8947</td>\n",
       "      <td>8200</td>\n",
       "      <td>1918</td>\n",
       "      <td>886</td>\n",
       "      <td>244</td>\n",
       "      <td>0</td>\n",
       "      <td>0</td>\n",
       "      <td>0</td>\n",
       "      <td>7</td>\n",
       "      <td>WI</td>\n",
       "      <td>342.840327</td>\n",
       "    </tr>\n",
       "    <tr>\n",
       "      <th>49</th>\n",
       "      <td>581381</td>\n",
       "      <td>Wyoming</td>\n",
       "      <td>2123</td>\n",
       "      <td>1858</td>\n",
       "      <td>265</td>\n",
       "      <td>0</td>\n",
       "      <td>1593</td>\n",
       "      <td>101</td>\n",
       "      <td>248</td>\n",
       "      <td>159</td>\n",
       "      <td>9</td>\n",
       "      <td>5</td>\n",
       "      <td>0</td>\n",
       "      <td>3</td>\n",
       "      <td>5</td>\n",
       "      <td>WY</td>\n",
       "      <td>365.165012</td>\n",
       "    </tr>\n",
       "  </tbody>\n",
       "</table>\n",
       "</div>"
      ],
      "text/plain": [
       "     tot_pop           State  Total state prison population    Male  Female  \\\n",
       "0    5074296         Alabama                          25032   22915    2117   \n",
       "1     733583          Alaska                           4639    4197     442   \n",
       "2    7359197         Arizona                          33914   30794    3120   \n",
       "3    3045637        Arkansas                          17022   15592    1430   \n",
       "4   39029342      California                         101441   97525    3916   \n",
       "5    5839926        Colorado                          15865   14599    1266   \n",
       "6    3626205     Connecticut                           9889    9254     635   \n",
       "7    1018396        Delaware                           4810    4568     242   \n",
       "8   22244823         Florida                          80417   75404    5013   \n",
       "9   10912876         Georgia                          47010   43942    3068   \n",
       "10   1440196          Hawaii                           4102    3669     433   \n",
       "11   1939033           Idaho                           8907    7668    1239   \n",
       "12  12582032        Illinois                          28475   27165    1310   \n",
       "13   6833037         Indiana                          24716   22397    2319   \n",
       "14   3200517            Iowa                           8562    7859     703   \n",
       "15   2937150          Kansas                           8521    7793     728   \n",
       "16   4512310        Kentucky                          18560   16493    2067   \n",
       "17   4590241       Louisiana                          26074   24849    1225   \n",
       "18   1385340           Maine                           1577    1466     111   \n",
       "19   6164660        Maryland                          15134   14616     518   \n",
       "20   6981974   Massachusetts                           6148    5949     199   \n",
       "21  10034113        Michigan                          32186   30621    1565   \n",
       "22   5717184       Minnesota                           8003    7546     457   \n",
       "23   2940057     Mississippi                          17332   16116    1216   \n",
       "24   6177957        Missouri                          23422   21370    2052   \n",
       "25   1122867         Montana                           4313    3702     611   \n",
       "26   1967923        Nebraska                           5600    5200     400   \n",
       "27   3177772          Nevada                          10202    9418     784   \n",
       "28   1395231   New Hampshire                           2127    1979     148   \n",
       "29   9261699      New Jersey                          12506   12052     454   \n",
       "30   2113344      New Mexico                           5154    4635     519   \n",
       "31  19677151        New York                          30338   29233    1105   \n",
       "32  10698973  North Carolina                          28995   26871    2124   \n",
       "33    779261    North Dakota                           1689    1489     200   \n",
       "34  11756058            Ohio                          45029   41443    3586   \n",
       "35   4019800        Oklahoma                          22391   20216    2175   \n",
       "36   4240137          Oregon                          13198   12252     946   \n",
       "37  12972008    Pennsylvania                          37194   35182    2012   \n",
       "38   1093734    Rhode Island                           2238    2115     123   \n",
       "39   5282634  South Carolina                          15759   14721    1038   \n",
       "40    909824    South Dakota                           3353    2892     461   \n",
       "41   7051339       Tennessee                          21995   19903    2092   \n",
       "42  30029572           Texas                         133772  123263   10509   \n",
       "43   3380800            Utah                           5907    5426     481   \n",
       "44    647064         Vermont                           1287    1204      83   \n",
       "45   8683619        Virginia                          30357   28119    2238   \n",
       "46   7785786      Washington                          13674   12888     786   \n",
       "47   1775156   West Virginia                           5847    5227     620   \n",
       "48   5892539       Wisconsin                          20202   18953    1249   \n",
       "49    581381         Wyoming                           2123    1858     265   \n",
       "\n",
       "    Under 18  White (non-Hispanic)  Black (non-Hispanic)  Hispanic  \\\n",
       "0          0                 11470                 13353         0   \n",
       "1          0                  1895                   465       125   \n",
       "2         17                 12960                  5087     13131   \n",
       "3          5                  9547                  6771       563   \n",
       "4          0                 20137                 28710     45999   \n",
       "5          0                  6520                  2769      4722   \n",
       "6         41                  2778                  4208      2824   \n",
       "7          0                  1551                  2952       299   \n",
       "8         48                 31599                 38266     10174   \n",
       "9          0                 17159                 27715      1945   \n",
       "10         0                   915                   185        98   \n",
       "11         0                  6419                   258      1288   \n",
       "12         0                  8849                 15204      3671   \n",
       "13        11                 14292                  7547       992   \n",
       "14         9                  5492                  2173       605   \n",
       "15         0                  4781                  2335      1118   \n",
       "16         0                 14102                  3879       296   \n",
       "17         7                  8863                 17097        66   \n",
       "18         0                  1261                   175         0   \n",
       "19         3                  3414                 10730       713   \n",
       "20         0                  2561                  1792      1567   \n",
       "21         5                 13746                 16278       632   \n",
       "22         3                  3732                  2834       471   \n",
       "23        20                  6419                 10649       181   \n",
       "24         2                 14606                  7843       494   \n",
       "25         0                  3000                   116       133   \n",
       "26         8                  2829                  1551       824   \n",
       "27         0                  3730                  3100      2764   \n",
       "28         0                  1752                   152       125   \n",
       "29         0                  2771                  7662      1941   \n",
       "30         0                  1385                   380      3194   \n",
       "31         0                  7056                 14930      7290   \n",
       "32        16                 11776                 14620      1725   \n",
       "33         0                   982                   181        99   \n",
       "34        27                 22368                 19305      1156   \n",
       "35         8                 11109                  6087      1871   \n",
       "36         0                  9566                  1236      1757   \n",
       "37        14                 16427                 17125      3333   \n",
       "38         0                   887                   643       614   \n",
       "39         1                  5894                  9285       427   \n",
       "40         0                  1730                   262       134   \n",
       "41         4                 12047                  9295       560   \n",
       "42        15                 45229                 43485     44284   \n",
       "43         0                  3487                   450      1219   \n",
       "44         1                  1104                   124         0   \n",
       "45         1                 12863                 16326       988   \n",
       "46         4                  7555                  2419      2286   \n",
       "47         0                  4956                   797        43   \n",
       "48         0                  8947                  8200      1918   \n",
       "49         0                  1593                   101       248   \n",
       "\n",
       "    American Indian/ Alaska Native (non-Hispanic)  Asian (non-Hispanic)  \\\n",
       "0                                               3                     4   \n",
       "1                                            1855                   158   \n",
       "2                                            1880                   157   \n",
       "3                                              49                    48   \n",
       "4                                            1161                  1162   \n",
       "5                                             542                   184   \n",
       "6                                              34                    43   \n",
       "7                                               1                     6   \n",
       "8                                              88                    18   \n",
       "9                                              22                   157   \n",
       "10                                             21                   699   \n",
       "11                                            329                    43   \n",
       "12                                             42                   104   \n",
       "13                                             50                    55   \n",
       "14                                            195                     0   \n",
       "15                                            201                    75   \n",
       "16                                             18                     0   \n",
       "17                                             21                    25   \n",
       "18                                             43                     7   \n",
       "19                                             76                    49   \n",
       "20                                             36                   102   \n",
       "21                                            287                    94   \n",
       "22                                            756                   197   \n",
       "23                                             35                    39   \n",
       "24                                             97                    61   \n",
       "25                                           1049                     0   \n",
       "26                                            287                    44   \n",
       "27                                            233                   206   \n",
       "28                                             11                     6   \n",
       "29                                             13                    97   \n",
       "30                                            455                    12   \n",
       "31                                            289                   190   \n",
       "32                                            576                    94   \n",
       "33                                            418                     6   \n",
       "34                                             83                    72   \n",
       "35                                           2099                    88   \n",
       "36                                            411                   183   \n",
       "37                                             37                   114   \n",
       "38                                             21                    30   \n",
       "39                                             25                    22   \n",
       "40                                           1189                    26   \n",
       "41                                             36                    57   \n",
       "42                                             63                   522   \n",
       "43                                            333                    58   \n",
       "44                                             25                     8   \n",
       "45                                             32                   124   \n",
       "46                                            682                   590   \n",
       "47                                              5                     4   \n",
       "48                                            886                   244   \n",
       "49                                            159                     9   \n",
       "\n",
       "    Native Hawaiian/ Pacific Islander (non-Hispanic)  \\\n",
       "0                                                  0   \n",
       "1                                                 95   \n",
       "2                                                  0   \n",
       "3                                                 19   \n",
       "4                                                321   \n",
       "5                                                 10   \n",
       "6                                                  0   \n",
       "7                                                  0   \n",
       "8                                                  7   \n",
       "9                                                  0   \n",
       "10                                              1800   \n",
       "11                                                 0   \n",
       "12                                                 0   \n",
       "13                                                 9   \n",
       "14                                                 0   \n",
       "15                                                 0   \n",
       "16                                                 0   \n",
       "17                                                 0   \n",
       "18                                                 1   \n",
       "19                                                16   \n",
       "20                                                 0   \n",
       "21                                                 7   \n",
       "22                                                 0   \n",
       "23                                                 0   \n",
       "24                                                 0   \n",
       "25                                                 0   \n",
       "26                                                 4   \n",
       "27                                               113   \n",
       "28                                                 1   \n",
       "29                                                 0   \n",
       "30                                                22   \n",
       "31                                                 0   \n",
       "32                                                 0   \n",
       "33                                                 3   \n",
       "34                                                 0   \n",
       "35                                                31   \n",
       "36                                                36   \n",
       "37                                                 0   \n",
       "38                                                 0   \n",
       "39                                                 0   \n",
       "40                                                 2   \n",
       "41                                                 0   \n",
       "42                                                 0   \n",
       "43                                               136   \n",
       "44                                                 2   \n",
       "45                                                 0   \n",
       "46                                                 0   \n",
       "47                                                 1   \n",
       "48                                                 0   \n",
       "49                                                 5   \n",
       "\n",
       "    2 or more races (non-Hispanic)  Some other race (non-Hispanic)  \\\n",
       "0                                0                             202   \n",
       "1                                0                               0   \n",
       "2                                0                             612   \n",
       "3                                0                              23   \n",
       "4                                0                            3951   \n",
       "5                                0                            1025   \n",
       "6                                0                               0   \n",
       "7                                0                               0   \n",
       "8                                0                             262   \n",
       "9                                0                               0   \n",
       "10                             145                               0   \n",
       "11                               0                             107   \n",
       "12                              55                               0   \n",
       "13                             153                               0   \n",
       "14                               0                              96   \n",
       "15                               0                               5   \n",
       "16                             220                              30   \n",
       "17                               0                               2   \n",
       "18                              29                               0   \n",
       "19                               0                             114   \n",
       "20                               0                               0   \n",
       "21                            1104                               0   \n",
       "22                               0                               0   \n",
       "23                               0                               0   \n",
       "24                               0                               0   \n",
       "25                               0                              15   \n",
       "26                               0                              58   \n",
       "27                               0                               0   \n",
       "28                               0                              45   \n",
       "29                               0                               0   \n",
       "30                               0                               0   \n",
       "31                               0                             435   \n",
       "32                               0                               0   \n",
       "33                               0                               0   \n",
       "34                               0                             446   \n",
       "35                               0                              50   \n",
       "36                               0                               0   \n",
       "37                               0                               0   \n",
       "38                               0                              39   \n",
       "39                               0                             104   \n",
       "40                               0                              10   \n",
       "41                               0                               0   \n",
       "42                               0                             189   \n",
       "43                               0                               0   \n",
       "44                               0                               9   \n",
       "45                               0                               0   \n",
       "46                               0                              56   \n",
       "47                              41                               0   \n",
       "48                               0                               0   \n",
       "49                               0                               3   \n",
       "\n",
       "    Unknown or not reported state_code     per100k  \n",
       "0                         0         AL  493.309811  \n",
       "1                        46         AK  632.375614  \n",
       "2                        87         AZ  460.838322  \n",
       "3                         2         AR  558.897859  \n",
       "4                         0         CA  259.909583  \n",
       "5                        93         CO  271.664401  \n",
       "6                         2         CT  272.709348  \n",
       "7                         1         DE  472.311360  \n",
       "8                         3         FL  361.508833  \n",
       "9                        12         GA  430.775535  \n",
       "10                      239         HI  284.822344  \n",
       "11                      463         ID  459.352677  \n",
       "12                      550         IL  226.314796  \n",
       "13                     1618         IN  361.713247  \n",
       "14                        1         IA  267.519279  \n",
       "15                        6         KS  290.111162  \n",
       "16                       15         KY  411.319258  \n",
       "17                        0         LA  568.031177  \n",
       "18                       61         ME  113.834871  \n",
       "19                       22         MD  245.496102  \n",
       "20                       90         MA   88.055326  \n",
       "21                       38         MI  320.765772  \n",
       "22                       13         MN  139.981501  \n",
       "23                        9         MP  589.512380  \n",
       "24                      321         MO  379.122095  \n",
       "25                        0         MT  384.106043  \n",
       "26                        3         NE  284.563979  \n",
       "27                       56         NV  321.042542  \n",
       "28                       35         NH  152.447874  \n",
       "29                       22         NJ  135.029221  \n",
       "30                       49         NM  243.878895  \n",
       "31                      148         NY  154.178824  \n",
       "32                      204         NC  271.007320  \n",
       "33                        0         ND  216.743812  \n",
       "34                     1599         OH  383.028052  \n",
       "35                     1056         OK  557.017762  \n",
       "36                        9         OR  311.263528  \n",
       "37                      158         PA  286.725078  \n",
       "38                        4         RI  204.620136  \n",
       "39                        2         SC  298.317090  \n",
       "40                        0         SD  368.532815  \n",
       "41                        0         TN  311.926572  \n",
       "42                        0         TX  445.467554  \n",
       "43                      224         UT  174.721959  \n",
       "44                       15         VT  198.898409  \n",
       "45                       24         VA  349.589267  \n",
       "46                       86         WA  175.627740  \n",
       "47                        0         WV  329.379502  \n",
       "48                        7         WI  342.840327  \n",
       "49                        5         WY  365.165012  "
      ]
     },
     "execution_count": 117,
     "metadata": {},
     "output_type": "execute_result"
    }
   ],
   "source": [
    "population_data"
   ]
  },
  {
   "cell_type": "code",
   "execution_count": 120,
   "metadata": {},
   "outputs": [],
   "source": [
    "state_preds = dtr.predict(np.array(population_data['per100k']).reshape(-1,1))"
   ]
  },
  {
   "cell_type": "code",
   "execution_count": 123,
   "metadata": {},
   "outputs": [
    {
     "data": {
      "text/plain": [
       "Text(0.5, 1.0, 'state predictions based per 100k')"
      ]
     },
     "execution_count": 123,
     "metadata": {},
     "output_type": "execute_result"
    },
    {
     "data": {
      "image/png": "[encoded data removed]",
      "text/plain": [
       "<Figure size 640x480 with 1 Axes>"
      ]
     },
     "metadata": {},
     "output_type": "display_data"
    }
   ],
   "source": [
    "plt.hist(state_preds)\n",
    "plt.title('state predictions based per 100k')"
   ]
  },
  {
   "cell_type": "code",
   "execution_count": 124,
   "metadata": {},
   "outputs": [],
   "source": [
    "population_data['prediction democracy index'] = state_preds"
   ]
  },
  {
   "cell_type": "code",
   "execution_count": 127,
   "metadata": {},
   "outputs": [
    {
     "data": {
      "text/html": [
       "<div>\n",
       "<style scoped>\n",
       "    .dataframe tbody tr th:only-of-type {\n",
       "        vertical-align: middle;\n",
       "    }\n",
       "\n",
       "    .dataframe tbody tr th {\n",
       "        vertical-align: top;\n",
       "    }\n",
       "\n",
       "    .dataframe thead th {\n",
       "        text-align: right;\n",
       "    }\n",
       "</style>\n",
       "<table border=\"1\" class=\"dataframe\">\n",
       "  <thead>\n",
       "    <tr style=\"text-align: right;\">\n",
       "      <th></th>\n",
       "      <th>State</th>\n",
       "      <th>prediction democracy index</th>\n",
       "    </tr>\n",
       "  </thead>\n",
       "  <tbody>\n",
       "    <tr>\n",
       "      <th>0</th>\n",
       "      <td>Alabama</td>\n",
       "      <td>2.650000</td>\n",
       "    </tr>\n",
       "    <tr>\n",
       "      <th>1</th>\n",
       "      <td>Alaska</td>\n",
       "      <td>7.850000</td>\n",
       "    </tr>\n",
       "    <tr>\n",
       "      <th>2</th>\n",
       "      <td>Arizona</td>\n",
       "      <td>6.670000</td>\n",
       "    </tr>\n",
       "    <tr>\n",
       "      <th>3</th>\n",
       "      <td>Arkansas</td>\n",
       "      <td>5.060000</td>\n",
       "    </tr>\n",
       "    <tr>\n",
       "      <th>4</th>\n",
       "      <td>California</td>\n",
       "      <td>5.920000</td>\n",
       "    </tr>\n",
       "    <tr>\n",
       "      <th>5</th>\n",
       "      <td>Colorado</td>\n",
       "      <td>5.550000</td>\n",
       "    </tr>\n",
       "    <tr>\n",
       "      <th>6</th>\n",
       "      <td>Connecticut</td>\n",
       "      <td>5.550000</td>\n",
       "    </tr>\n",
       "    <tr>\n",
       "      <th>7</th>\n",
       "      <td>Delaware</td>\n",
       "      <td>6.670000</td>\n",
       "    </tr>\n",
       "    <tr>\n",
       "      <th>8</th>\n",
       "      <td>Florida</td>\n",
       "      <td>4.350000</td>\n",
       "    </tr>\n",
       "    <tr>\n",
       "      <th>9</th>\n",
       "      <td>Georgia</td>\n",
       "      <td>6.910000</td>\n",
       "    </tr>\n",
       "    <tr>\n",
       "      <th>10</th>\n",
       "      <td>Hawaii</td>\n",
       "      <td>3.010000</td>\n",
       "    </tr>\n",
       "    <tr>\n",
       "      <th>11</th>\n",
       "      <td>Idaho</td>\n",
       "      <td>6.670000</td>\n",
       "    </tr>\n",
       "    <tr>\n",
       "      <th>12</th>\n",
       "      <td>Illinois</td>\n",
       "      <td>1.960000</td>\n",
       "    </tr>\n",
       "    <tr>\n",
       "      <th>13</th>\n",
       "      <td>Indiana</td>\n",
       "      <td>4.350000</td>\n",
       "    </tr>\n",
       "    <tr>\n",
       "      <th>14</th>\n",
       "      <td>Iowa</td>\n",
       "      <td>5.550000</td>\n",
       "    </tr>\n",
       "    <tr>\n",
       "      <th>15</th>\n",
       "      <td>Kansas</td>\n",
       "      <td>6.520000</td>\n",
       "    </tr>\n",
       "    <tr>\n",
       "      <th>16</th>\n",
       "      <td>Kentucky</td>\n",
       "      <td>6.910000</td>\n",
       "    </tr>\n",
       "    <tr>\n",
       "      <th>17</th>\n",
       "      <td>Louisiana</td>\n",
       "      <td>5.060000</td>\n",
       "    </tr>\n",
       "    <tr>\n",
       "      <th>18</th>\n",
       "      <td>Maine</td>\n",
       "      <td>6.083333</td>\n",
       "    </tr>\n",
       "    <tr>\n",
       "      <th>19</th>\n",
       "      <td>Maryland</td>\n",
       "      <td>6.850000</td>\n",
       "    </tr>\n",
       "    <tr>\n",
       "      <th>20</th>\n",
       "      <td>Massachusetts</td>\n",
       "      <td>3.960000</td>\n",
       "    </tr>\n",
       "    <tr>\n",
       "      <th>21</th>\n",
       "      <td>Michigan</td>\n",
       "      <td>2.280000</td>\n",
       "    </tr>\n",
       "    <tr>\n",
       "      <th>22</th>\n",
       "      <td>Minnesota</td>\n",
       "      <td>5.420000</td>\n",
       "    </tr>\n",
       "    <tr>\n",
       "      <th>23</th>\n",
       "      <td>Mississippi</td>\n",
       "      <td>3.100000</td>\n",
       "    </tr>\n",
       "    <tr>\n",
       "      <th>24</th>\n",
       "      <td>Missouri</td>\n",
       "      <td>6.780000</td>\n",
       "    </tr>\n",
       "    <tr>\n",
       "      <th>25</th>\n",
       "      <td>Montana</td>\n",
       "      <td>8.910000</td>\n",
       "    </tr>\n",
       "    <tr>\n",
       "      <th>26</th>\n",
       "      <td>Nebraska</td>\n",
       "      <td>3.010000</td>\n",
       "    </tr>\n",
       "    <tr>\n",
       "      <th>27</th>\n",
       "      <td>Nevada</td>\n",
       "      <td>2.280000</td>\n",
       "    </tr>\n",
       "    <tr>\n",
       "      <th>28</th>\n",
       "      <td>New Hampshire</td>\n",
       "      <td>3.660000</td>\n",
       "    </tr>\n",
       "    <tr>\n",
       "      <th>29</th>\n",
       "      <td>New Jersey</td>\n",
       "      <td>6.470000</td>\n",
       "    </tr>\n",
       "    <tr>\n",
       "      <th>30</th>\n",
       "      <td>New Mexico</td>\n",
       "      <td>6.850000</td>\n",
       "    </tr>\n",
       "    <tr>\n",
       "      <th>31</th>\n",
       "      <td>New York</td>\n",
       "      <td>6.330000</td>\n",
       "    </tr>\n",
       "    <tr>\n",
       "      <th>32</th>\n",
       "      <td>North Carolina</td>\n",
       "      <td>5.550000</td>\n",
       "    </tr>\n",
       "    <tr>\n",
       "      <th>33</th>\n",
       "      <td>North Dakota</td>\n",
       "      <td>8.990000</td>\n",
       "    </tr>\n",
       "    <tr>\n",
       "      <th>34</th>\n",
       "      <td>Ohio</td>\n",
       "      <td>8.910000</td>\n",
       "    </tr>\n",
       "    <tr>\n",
       "      <th>35</th>\n",
       "      <td>Oklahoma</td>\n",
       "      <td>5.060000</td>\n",
       "    </tr>\n",
       "    <tr>\n",
       "      <th>36</th>\n",
       "      <td>Oregon</td>\n",
       "      <td>8.290000</td>\n",
       "    </tr>\n",
       "    <tr>\n",
       "      <th>37</th>\n",
       "      <td>Pennsylvania</td>\n",
       "      <td>6.520000</td>\n",
       "    </tr>\n",
       "    <tr>\n",
       "      <th>38</th>\n",
       "      <td>Rhode Island</td>\n",
       "      <td>7.015000</td>\n",
       "    </tr>\n",
       "    <tr>\n",
       "      <th>39</th>\n",
       "      <td>South Carolina</td>\n",
       "      <td>8.290000</td>\n",
       "    </tr>\n",
       "    <tr>\n",
       "      <th>40</th>\n",
       "      <td>South Dakota</td>\n",
       "      <td>6.780000</td>\n",
       "    </tr>\n",
       "    <tr>\n",
       "      <th>41</th>\n",
       "      <td>Tennessee</td>\n",
       "      <td>8.290000</td>\n",
       "    </tr>\n",
       "    <tr>\n",
       "      <th>42</th>\n",
       "      <td>Texas</td>\n",
       "      <td>6.670000</td>\n",
       "    </tr>\n",
       "    <tr>\n",
       "      <th>43</th>\n",
       "      <td>Utah</td>\n",
       "      <td>3.170000</td>\n",
       "    </tr>\n",
       "    <tr>\n",
       "      <th>44</th>\n",
       "      <td>Vermont</td>\n",
       "      <td>5.510000</td>\n",
       "    </tr>\n",
       "    <tr>\n",
       "      <th>45</th>\n",
       "      <td>Virginia</td>\n",
       "      <td>4.350000</td>\n",
       "    </tr>\n",
       "    <tr>\n",
       "      <th>46</th>\n",
       "      <td>Washington</td>\n",
       "      <td>3.080000</td>\n",
       "    </tr>\n",
       "    <tr>\n",
       "      <th>47</th>\n",
       "      <td>West Virginia</td>\n",
       "      <td>2.500000</td>\n",
       "    </tr>\n",
       "    <tr>\n",
       "      <th>48</th>\n",
       "      <td>Wisconsin</td>\n",
       "      <td>1.990000</td>\n",
       "    </tr>\n",
       "    <tr>\n",
       "      <th>49</th>\n",
       "      <td>Wyoming</td>\n",
       "      <td>6.780000</td>\n",
       "    </tr>\n",
       "  </tbody>\n",
       "</table>\n",
       "</div>"
      ],
      "text/plain": [
       "             State  prediction democracy index\n",
       "0          Alabama                    2.650000\n",
       "1           Alaska                    7.850000\n",
       "2          Arizona                    6.670000\n",
       "3         Arkansas                    5.060000\n",
       "4       California                    5.920000\n",
       "5         Colorado                    5.550000\n",
       "6      Connecticut                    5.550000\n",
       "7         Delaware                    6.670000\n",
       "8          Florida                    4.350000\n",
       "9          Georgia                    6.910000\n",
       "10          Hawaii                    3.010000\n",
       "11           Idaho                    6.670000\n",
       "12        Illinois                    1.960000\n",
       "13         Indiana                    4.350000\n",
       "14            Iowa                    5.550000\n",
       "15          Kansas                    6.520000\n",
       "16        Kentucky                    6.910000\n",
       "17       Louisiana                    5.060000\n",
       "18           Maine                    6.083333\n",
       "19        Maryland                    6.850000\n",
       "20   Massachusetts                    3.960000\n",
       "21        Michigan                    2.280000\n",
       "22       Minnesota                    5.420000\n",
       "23     Mississippi                    3.100000\n",
       "24        Missouri                    6.780000\n",
       "25         Montana                    8.910000\n",
       "26        Nebraska                    3.010000\n",
       "27          Nevada                    2.280000\n",
       "28   New Hampshire                    3.660000\n",
       "29      New Jersey                    6.470000\n",
       "30      New Mexico                    6.850000\n",
       "31        New York                    6.330000\n",
       "32  North Carolina                    5.550000\n",
       "33    North Dakota                    8.990000\n",
       "34            Ohio                    8.910000\n",
       "35        Oklahoma                    5.060000\n",
       "36          Oregon                    8.290000\n",
       "37    Pennsylvania                    6.520000\n",
       "38    Rhode Island                    7.015000\n",
       "39  South Carolina                    8.290000\n",
       "40    South Dakota                    6.780000\n",
       "41       Tennessee                    8.290000\n",
       "42           Texas                    6.670000\n",
       "43            Utah                    3.170000\n",
       "44         Vermont                    5.510000\n",
       "45        Virginia                    4.350000\n",
       "46      Washington                    3.080000\n",
       "47   West Virginia                    2.500000\n",
       "48       Wisconsin                    1.990000\n",
       "49         Wyoming                    6.780000"
      ]
     },
     "execution_count": 127,
     "metadata": {},
     "output_type": "execute_result"
    }
   ],
   "source": [
    "map_data = population_data[['State', 'prediction democracy index']]\n",
    "map_data"
   ]
  },
  {
   "cell_type": "code",
   "execution_count": 130,
   "metadata": {},
   "outputs": [
    {
     "data": {
      "application/vnd.plotly.v1+json": {
       "config": {
        "plotlyServerURL": "https://plot.ly"
       },
       "data": [
        {
         "colorscale": [
          [
           0,
           "rgb(247,251,255)"
          ],
          [
           0.125,
           "rgb(222,235,247)"
          ],
          [
           0.25,
           "rgb(198,219,239)"
          ],
          [
           0.375,
           "rgb(158,202,225)"
          ],
          [
           0.5,
           "rgb(107,174,214)"
          ],
          [
           0.625,
           "rgb(66,146,198)"
          ],
          [
           0.75,
           "rgb(33,113,181)"
          ],
          [
           0.875,
           "rgb(8,81,156)"
          ],
          [
           1,
           "rgb(8,48,107)"
          ]
         ],
         "locationmode": "USA-states",
         "locations": [
          "AL",
          "AK",
          "AZ",
          "AR",
          "CA",
          "CO",
          "CT",
          "DE",
          "FL",
          "GA",
          "HI",
          "ID",
          "IL",
          "IN",
          "IA",
          "KS",
          "KY",
          "LA",
          "ME",
          "MD",
          "MA",
          "MI",
          "MN",
          "MP",
          "MO",
          "MT",
          "NE",
          "NV",
          "NH",
          "NJ",
          "NM",
          "NY",
          "NC",
          "ND",
          "OH",
          "OK",
          "OR",
          "PA",
          "RI",
          "SC",
          "SD",
          "TN",
          "TX",
          "UT",
          "VT",
          "VA",
          "WA",
          "WV",
          "WI",
          "WY"
         ],
         "type": "choropleth",
         "z": [
          2.65,
          7.85,
          6.67,
          5.06,
          5.92,
          5.55,
          5.55,
          6.67,
          4.35,
          6.91,
          3.01,
          6.67,
          1.96,
          4.35,
          5.55,
          6.52,
          6.91,
          5.06,
          6.083333333333333,
          6.85,
          3.96,
          2.28,
          5.42,
          3.1,
          6.78,
          8.91,
          3.01,
          2.28,
          3.66,
          6.47,
          6.85,
          6.33,
          5.55,
          8.99,
          8.91,
          5.06,
          8.29,
          6.52,
          7.015000000000001,
          8.29,
          6.78,
          8.29,
          6.67,
          3.17,
          5.51,
          4.35,
          3.08,
          2.5,
          1.99,
          6.78
         ]
        }
       ],
       "layout": {
        "geo": {
         "scope": "usa"
        },
        "template": {
         "data": {
          "bar": [
           {
            "error_x": {
             "color": "#2a3f5f"
            },
            "error_y": {
             "color": "#2a3f5f"
            },
            "marker": {
             "line": {
              "color": "#E5ECF6",
              "width": 0.5
             },
             "pattern": {
              "fillmode": "overlay",
              "size": 10,
              "solidity": 0.2
             }
            },
            "type": "bar"
           }
          ],
          "barpolar": [
           {
            "marker": {
             "line": {
              "color": "#E5ECF6",
              "width": 0.5
             },
             "pattern": {
              "fillmode": "overlay",
              "size": 10,
              "solidity": 0.2
             }
            },
            "type": "barpolar"
           }
          ],
          "carpet": [
           {
            "aaxis": {
             "endlinecolor": "#2a3f5f",
             "gridcolor": "white",
             "linecolor": "white",
             "minorgridcolor": "white",
             "startlinecolor": "#2a3f5f"
            },
            "baxis": {
             "endlinecolor": "#2a3f5f",
             "gridcolor": "white",
             "linecolor": "white",
             "minorgridcolor": "white",
             "startlinecolor": "#2a3f5f"
            },
            "type": "carpet"
           }
          ],
          "choropleth": [
           {
            "colorbar": {
             "outlinewidth": 0,
             "ticks": ""
            },
            "type": "choropleth"
           }
          ],
          "contour": [
           {
            "colorbar": {
             "outlinewidth": 0,
             "ticks": ""
            },
            "colorscale": [
             [
              0,
              "#0d0887"
             ],
             [
              0.1111111111111111,
              "#46039f"
             ],
             [
              0.2222222222222222,
              "#7201a8"
             ],
             [
              0.3333333333333333,
              "#9c179e"
             ],
             [
              0.4444444444444444,
              "#bd3786"
             ],
             [
              0.5555555555555556,
              "#d8576b"
             ],
             [
              0.6666666666666666,
              "#ed7953"
             ],
             [
              0.7777777777777778,
              "#fb9f3a"
             ],
             [
              0.8888888888888888,
              "#fdca26"
             ],
             [
              1,
              "#f0f921"
             ]
            ],
            "type": "contour"
           }
          ],
          "contourcarpet": [
           {
            "colorbar": {
             "outlinewidth": 0,
             "ticks": ""
            },
            "type": "contourcarpet"
           }
          ],
          "heatmap": [
           {
            "colorbar": {
             "outlinewidth": 0,
             "ticks": ""
            },
            "colorscale": [
             [
              0,
              "#0d0887"
             ],
             [
              0.1111111111111111,
              "#46039f"
             ],
             [
              0.2222222222222222,
              "#7201a8"
             ],
             [
              0.3333333333333333,
              "#9c179e"
             ],
             [
              0.4444444444444444,
              "#bd3786"
             ],
             [
              0.5555555555555556,
              "#d8576b"
             ],
             [
              0.6666666666666666,
              "#ed7953"
             ],
             [
              0.7777777777777778,
              "#fb9f3a"
             ],
             [
              0.8888888888888888,
              "#fdca26"
             ],
             [
              1,
              "#f0f921"
             ]
            ],
            "type": "heatmap"
           }
          ],
          "heatmapgl": [
           {
            "colorbar": {
             "outlinewidth": 0,
             "ticks": ""
            },
            "colorscale": [
             [
              0,
              "#0d0887"
             ],
             [
              0.1111111111111111,
              "#46039f"
             ],
             [
              0.2222222222222222,
              "#7201a8"
             ],
             [
              0.3333333333333333,
              "#9c179e"
             ],
             [
              0.4444444444444444,
              "#bd3786"
             ],
             [
              0.5555555555555556,
              "#d8576b"
             ],
             [
              0.6666666666666666,
              "#ed7953"
             ],
             [
              0.7777777777777778,
              "#fb9f3a"
             ],
             [
              0.8888888888888888,
              "#fdca26"
             ],
             [
              1,
              "#f0f921"
             ]
            ],
            "type": "heatmapgl"
           }
          ],
          "histogram": [
           {
            "marker": {
             "pattern": {
              "fillmode": "overlay",
              "size": 10,
              "solidity": 0.2
             }
            },
            "type": "histogram"
           }
          ],
          "histogram2d": [
           {
            "colorbar": {
             "outlinewidth": 0,
             "ticks": ""
            },
            "colorscale": [
             [
              0,
              "#0d0887"
             ],
             [
              0.1111111111111111,
              "#46039f"
             ],
             [
              0.2222222222222222,
              "#7201a8"
             ],
             [
              0.3333333333333333,
              "#9c179e"
             ],
             [
              0.4444444444444444,
              "#bd3786"
             ],
             [
              0.5555555555555556,
              "#d8576b"
             ],
             [
              0.6666666666666666,
              "#ed7953"
             ],
             [
              0.7777777777777778,
              "#fb9f3a"
             ],
             [
              0.8888888888888888,
              "#fdca26"
             ],
             [
              1,
              "#f0f921"
             ]
            ],
            "type": "histogram2d"
           }
          ],
          "histogram2dcontour": [
           {
            "colorbar": {
             "outlinewidth": 0,
             "ticks": ""
            },
            "colorscale": [
             [
              0,
              "#0d0887"
             ],
             [
              0.1111111111111111,
              "#46039f"
             ],
             [
              0.2222222222222222,
              "#7201a8"
             ],
             [
              0.3333333333333333,
              "#9c179e"
             ],
             [
              0.4444444444444444,
              "#bd3786"
             ],
             [
              0.5555555555555556,
              "#d8576b"
             ],
             [
              0.6666666666666666,
              "#ed7953"
             ],
             [
              0.7777777777777778,
              "#fb9f3a"
             ],
             [
              0.8888888888888888,
              "#fdca26"
             ],
             [
              1,
              "#f0f921"
             ]
            ],
            "type": "histogram2dcontour"
           }
          ],
          "mesh3d": [
           {
            "colorbar": {
             "outlinewidth": 0,
             "ticks": ""
            },
            "type": "mesh3d"
           }
          ],
          "parcoords": [
           {
            "line": {
             "colorbar": {
              "outlinewidth": 0,
              "ticks": ""
             }
            },
            "type": "parcoords"
           }
          ],
          "pie": [
           {
            "automargin": true,
            "type": "pie"
           }
          ],
          "scatter": [
           {
            "fillpattern": {
             "fillmode": "overlay",
             "size": 10,
             "solidity": 0.2
            },
            "type": "scatter"
           }
          ],
          "scatter3d": [
           {
            "line": {
             "colorbar": {
              "outlinewidth": 0,
              "ticks": ""
             }
            },
            "marker": {
             "colorbar": {
              "outlinewidth": 0,
              "ticks": ""
             }
            },
            "type": "scatter3d"
           }
          ],
          "scattercarpet": [
           {
            "marker": {
             "colorbar": {
              "outlinewidth": 0,
              "ticks": ""
             }
            },
            "type": "scattercarpet"
           }
          ],
          "scattergeo": [
           {
            "marker": {
             "colorbar": {
              "outlinewidth": 0,
              "ticks": ""
             }
            },
            "type": "scattergeo"
           }
          ],
          "scattergl": [
           {
            "marker": {
             "colorbar": {
              "outlinewidth": 0,
              "ticks": ""
             }
            },
            "type": "scattergl"
           }
          ],
          "scattermapbox": [
           {
            "marker": {
             "colorbar": {
              "outlinewidth": 0,
              "ticks": ""
             }
            },
            "type": "scattermapbox"
           }
          ],
          "scatterpolar": [
           {
            "marker": {
             "colorbar": {
              "outlinewidth": 0,
              "ticks": ""
             }
            },
            "type": "scatterpolar"
           }
          ],
          "scatterpolargl": [
           {
            "marker": {
             "colorbar": {
              "outlinewidth": 0,
              "ticks": ""
             }
            },
            "type": "scatterpolargl"
           }
          ],
          "scatterternary": [
           {
            "marker": {
             "colorbar": {
              "outlinewidth": 0,
              "ticks": ""
             }
            },
            "type": "scatterternary"
           }
          ],
          "surface": [
           {
            "colorbar": {
             "outlinewidth": 0,
             "ticks": ""
            },
            "colorscale": [
             [
              0,
              "#0d0887"
             ],
             [
              0.1111111111111111,
              "#46039f"
             ],
             [
              0.2222222222222222,
              "#7201a8"
             ],
             [
              0.3333333333333333,
              "#9c179e"
             ],
             [
              0.4444444444444444,
              "#bd3786"
             ],
             [
              0.5555555555555556,
              "#d8576b"
             ],
             [
              0.6666666666666666,
              "#ed7953"
             ],
             [
              0.7777777777777778,
              "#fb9f3a"
             ],
             [
              0.8888888888888888,
              "#fdca26"
             ],
             [
              1,
              "#f0f921"
             ]
            ],
            "type": "surface"
           }
          ],
          "table": [
           {
            "cells": {
             "fill": {
              "color": "#EBF0F8"
             },
             "line": {
              "color": "white"
             }
            },
            "header": {
             "fill": {
              "color": "#C8D4E3"
             },
             "line": {
              "color": "white"
             }
            },
            "type": "table"
           }
          ]
         },
         "layout": {
          "annotationdefaults": {
           "arrowcolor": "#2a3f5f",
           "arrowhead": 0,
           "arrowwidth": 1
          },
          "autotypenumbers": "strict",
          "coloraxis": {
           "colorbar": {
            "outlinewidth": 0,
            "ticks": ""
           }
          },
          "colorscale": {
           "diverging": [
            [
             0,
             "#8e0152"
            ],
            [
             0.1,
             "#c51b7d"
            ],
            [
             0.2,
             "#de77ae"
            ],
            [
             0.3,
             "#f1b6da"
            ],
            [
             0.4,
             "#fde0ef"
            ],
            [
             0.5,
             "#f7f7f7"
            ],
            [
             0.6,
             "#e6f5d0"
            ],
            [
             0.7,
             "#b8e186"
            ],
            [
             0.8,
             "#7fbc41"
            ],
            [
             0.9,
             "#4d9221"
            ],
            [
             1,
             "#276419"
            ]
           ],
           "sequential": [
            [
             0,
             "#0d0887"
            ],
            [
             0.1111111111111111,
             "#46039f"
            ],
            [
             0.2222222222222222,
             "#7201a8"
            ],
            [
             0.3333333333333333,
             "#9c179e"
            ],
            [
             0.4444444444444444,
             "#bd3786"
            ],
            [
             0.5555555555555556,
             "#d8576b"
            ],
            [
             0.6666666666666666,
             "#ed7953"
            ],
            [
             0.7777777777777778,
             "#fb9f3a"
            ],
            [
             0.8888888888888888,
             "#fdca26"
            ],
            [
             1,
             "#f0f921"
            ]
           ],
           "sequentialminus": [
            [
             0,
             "#0d0887"
            ],
            [
             0.1111111111111111,
             "#46039f"
            ],
            [
             0.2222222222222222,
             "#7201a8"
            ],
            [
             0.3333333333333333,
             "#9c179e"
            ],
            [
             0.4444444444444444,
             "#bd3786"
            ],
            [
             0.5555555555555556,
             "#d8576b"
            ],
            [
             0.6666666666666666,
             "#ed7953"
            ],
            [
             0.7777777777777778,
             "#fb9f3a"
            ],
            [
             0.8888888888888888,
             "#fdca26"
            ],
            [
             1,
             "#f0f921"
            ]
           ]
          },
          "colorway": [
           "#636efa",
           "#EF553B",
           "#00cc96",
           "#ab63fa",
           "#FFA15A",
           "#19d3f3",
           "#FF6692",
           "#B6E880",
           "#FF97FF",
           "#FECB52"
          ],
          "font": {
           "color": "#2a3f5f"
          },
          "geo": {
           "bgcolor": "white",
           "lakecolor": "white",
           "landcolor": "#E5ECF6",
           "showlakes": true,
           "showland": true,
           "subunitcolor": "white"
          },
          "hoverlabel": {
           "align": "left"
          },
          "hovermode": "closest",
          "mapbox": {
           "style": "light"
          },
          "paper_bgcolor": "white",
          "plot_bgcolor": "#E5ECF6",
          "polar": {
           "angularaxis": {
            "gridcolor": "white",
            "linecolor": "white",
            "ticks": ""
           },
           "bgcolor": "#E5ECF6",
           "radialaxis": {
            "gridcolor": "white",
            "linecolor": "white",
            "ticks": ""
           }
          },
          "scene": {
           "xaxis": {
            "backgroundcolor": "#E5ECF6",
            "gridcolor": "white",
            "gridwidth": 2,
            "linecolor": "white",
            "showbackground": true,
            "ticks": "",
            "zerolinecolor": "white"
           },
           "yaxis": {
            "backgroundcolor": "#E5ECF6",
            "gridcolor": "white",
            "gridwidth": 2,
            "linecolor": "white",
            "showbackground": true,
            "ticks": "",
            "zerolinecolor": "white"
           },
           "zaxis": {
            "backgroundcolor": "#E5ECF6",
            "gridcolor": "white",
            "gridwidth": 2,
            "linecolor": "white",
            "showbackground": true,
            "ticks": "",
            "zerolinecolor": "white"
           }
          },
          "shapedefaults": {
           "line": {
            "color": "#2a3f5f"
           }
          },
          "ternary": {
           "aaxis": {
            "gridcolor": "white",
            "linecolor": "white",
            "ticks": ""
           },
           "baxis": {
            "gridcolor": "white",
            "linecolor": "white",
            "ticks": ""
           },
           "bgcolor": "#E5ECF6",
           "caxis": {
            "gridcolor": "white",
            "linecolor": "white",
            "ticks": ""
           }
          },
          "title": {
           "x": 0.05
          },
          "xaxis": {
           "automargin": true,
           "gridcolor": "white",
           "linecolor": "white",
           "ticks": "",
           "title": {
            "standoff": 15
           },
           "zerolinecolor": "white",
           "zerolinewidth": 2
          },
          "yaxis": {
           "automargin": true,
           "gridcolor": "white",
           "linecolor": "white",
           "ticks": "",
           "title": {
            "standoff": 15
           },
           "zerolinecolor": "white",
           "zerolinewidth": 2
          }
         }
        },
        "title": {
         "text": "predicted democracy index base on prison pop per 100k"
        }
       }
      }
     },
     "metadata": {},
     "output_type": "display_data"
    }
   ],
   "source": [
    "fig = go.Figure(data=go.Choropleth(\n",
    "    locations=prisonsorted['state_code'], # Spatial coordinates\n",
    "    z = (map_data['prediction democracy index']), # Data to be color-coded\n",
    "    locationmode = 'USA-states', # set of locations match entries in `locations`\n",
    "    colorscale = 'Blues',\n",
    "\n",
    "))\n",
    "\n",
    "fig.update_layout(\n",
    "    title_text = 'predicted democracy index base on prison pop per 100k',\n",
    "    geo_scope='usa', # limite map scope to USA\n",
    ")\n",
    "fig.show()"
   ]
  },
  {
   "cell_type": "markdown",
   "metadata": {},
   "source": []
  }
 ],
 "metadata": {
  "kernelspec": {
   "display_name": "base",
   "language": "python",
   "name": "python3"
  },
  "language_info": {
   "codemirror_mode": {
    "name": "ipython",
    "version": 3
   },
   "file_extension": ".py",
   "mimetype": "text/x-python",
   "name": "python",
   "nbconvert_exporter": "python",
   "pygments_lexer": "ipython3",
   "version": "3.11.4"
  },
  "orig_nbformat": 4
 },
 "nbformat": 4,
 "nbformat_minor": 2
}
